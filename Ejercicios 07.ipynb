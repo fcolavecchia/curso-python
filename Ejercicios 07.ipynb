{
 "cells": [
  {
   "cell_type": "markdown",
   "metadata": {},
   "source": [
    "### Ejercicio\n",
    "\n",
    "Además de la clase, puede también que se hayan perdido algunos cuentos de Borges en el directorio. \n",
    "Sus objetivos son\n",
    "- Encontrar alguno de esos cuentos.\n",
    "- Leerlo, si no tuvo la chance alguna vez de hacerlo.\n",
    "- Reportar en el repositorio de GitHub que el nombre del cuento, el personaje principal, y cuál es su opinión sobre el mismo, a través de un _issue_. Para ello tendría que crearse una cuenta en GitHub, ir al buscar el repositorio `fcolavecchia/standard_library_python.git`, seleccionar **Issues** y luego crear un nuevo issue con el botón `New issue`. "
   ]
  },
  {
   "attachments": {},
   "cell_type": "markdown",
   "metadata": {},
   "source": [
    "## RegEx\n",
    "\n",
    "Una manera de representar un sudoku es a través de un `string` de exactamente 81 caracteres. Si el sudoku ha sido resuelto, ese string contendrá sólo los números que resuelven el sudoku. Sin embargo, si el sudoku no está resuelto, se representan los casilleros vacíos por el caracter `.`. Por ejemplo:\n",
    "\n",
    "```python\n",
    "sudoku_facil = \"....71............1346.......3.17....27.8..4.5..24.........3.7..4..2...1.61.58.3.\"\n",
    "```\n",
    "\n",
    "sería una representación válida de un sudoku.\n",
    "\n",
    "Usando expresiones regulares, encuentre los sudokus perdidos en el directorio de archivos corruptos usado antes."
   ]
  },
  {
   "attachments": {},
   "cell_type": "markdown",
   "metadata": {},
   "source": [
    "## Más RegEx\n",
    "\n",
    "Si todavía tiene ganas de seguir practicando regex, un ejercicio interesante es encontrar los coeficientes y las potencias de un polinomio que viene descripto como un string:\n",
    "\n",
    "```python\n",
    "polinomio = \"5x^4 + 3x^2 - 2x + 7\"\n",
    "```\n",
    "\n",
    "Este no es un ejercicio fácil, y además, para extraer la información requerida, es necesario poder capturar [grupos de expresiones regulares](https://regexone.com/lesson/capturing_groups)."
   ]
  }
 ],
 "metadata": {
  "kernelspec": {
   "display_name": "Python 3",
   "language": "python",
   "name": "python3"
  },
  "language_info": {
   "name": "python",
   "version": "3.11.0"
  },
  "orig_nbformat": 4,
  "vscode": {
   "interpreter": {
    "hash": "1a1af0ee75eeea9e2e1ee996c87e7a2b11a0bebd85af04bb136d915cefc0abce"
   }
  }
 },
 "nbformat": 4,
 "nbformat_minor": 2
}
