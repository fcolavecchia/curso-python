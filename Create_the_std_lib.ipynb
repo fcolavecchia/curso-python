{
 "cells": [
  {
   "attachments": {},
   "cell_type": "markdown",
   "metadata": {},
   "source": [
    "## Archivo para la preparación de la clase sobre `os` "
   ]
  },
  {
   "cell_type": "code",
   "execution_count": 1,
   "metadata": {},
   "outputs": [],
   "source": [
    "import os\n",
    "import random\n",
    "import string"
   ]
  },
  {
   "cell_type": "code",
   "execution_count": 3,
   "metadata": {},
   "outputs": [
    {
     "name": "stdout",
     "output_type": "stream",
     "text": [
      "/Users/flavioc/Library/Mobile Documents/com~apple~CloudDocs/Documents/cursos/curso-python\n"
     ]
    }
   ],
   "source": [
    "print(os.getcwd()) \n",
    "init_dir = os.getcwd()"
   ]
  },
  {
   "cell_type": "code",
   "execution_count": 4,
   "metadata": {},
   "outputs": [
    {
     "name": "stdout",
     "output_type": "stream",
     "text": [
      "/Users/flavioc/Codes/Languages/Python/standard_library_python/data\n"
     ]
    }
   ],
   "source": [
    "standard_library_data_dir = '/Users/flavioc/Codes/Languages/Python/standard_library_python/data'\n",
    "\n",
    "os.chdir(standard_library_data_dir)\n",
    "print(os.getcwd())"
   ]
  },
  {
   "cell_type": "code",
   "execution_count": null,
   "metadata": {},
   "outputs": [],
   "source": [
    "def fill_in_file(file_name):\n",
    "    fileSizeInBytes = random.randrange(256,1024)\n",
    "    with open(file_name, 'wb') as fout:\n",
    "        data = os.urandom(fileSizeInBytes)\n",
    "        fout.write(data)"
   ]
  },
  {
   "cell_type": "code",
   "execution_count": null,
   "metadata": {},
   "outputs": [],
   "source": [
    "help(os.urandom)\n"
   ]
  },
  {
   "cell_type": "markdown",
   "metadata": {},
   "source": [
    "Llenamos con ascii random en lugar de binario para que sea más facil"
   ]
  },
  {
   "cell_type": "code",
   "execution_count": null,
   "metadata": {},
   "outputs": [],
   "source": [
    "def get_random_string(length):\n",
    "    letters = string.ascii_letters + string.digits + string.printable\n",
    "    result_str = ''.join(random.choice(letters) for i in range(length))\n",
    "    return result_str\n",
    "    # print(\"Random string of length\", length, \"is:\", result_str)"
   ]
  },
  {
   "cell_type": "code",
   "execution_count": null,
   "metadata": {},
   "outputs": [],
   "source": [
    "q = get_random_string(100)\n",
    "print(q,type(q))"
   ]
  },
  {
   "cell_type": "code",
   "execution_count": null,
   "metadata": {},
   "outputs": [],
   "source": [
    "def fill_in_file_ascii(file_name):\n",
    "    fileSizeInBytes = random.randrange(256,1024)\n",
    "    data = get_random_string(fileSizeInBytes)\n",
    "    with open(file_name, 'w') as fout:\n",
    "        # print(data)\n",
    "        fout.write(data)\n"
   ]
  },
  {
   "cell_type": "markdown",
   "metadata": {},
   "source": [
    "Primer intento, mostramos todos los directorios y los archivos:"
   ]
  },
  {
   "cell_type": "code",
   "execution_count": null,
   "metadata": {},
   "outputs": [],
   "source": [
    "\n",
    "for root, dirs, files in os.walk('./'):\n",
    "    print(root,dirs,files)"
   ]
  },
  {
   "cell_type": "markdown",
   "metadata": {},
   "source": [
    "Segundo intento, imprimo sólo los archivos:"
   ]
  },
  {
   "cell_type": "code",
   "execution_count": null,
   "metadata": {},
   "outputs": [],
   "source": [
    "for root, dirs, files in os.walk('./'):\n",
    "    for file in files: \n",
    "        file = root + \"/\" + file\n",
    "        print(file)"
   ]
  },
  {
   "cell_type": "markdown",
   "metadata": {},
   "source": [
    "Aparecen mal concatenados los directorios y los archivos, falta el `/` correspondiente. Para eso usamos `os.path.join`. "
   ]
  },
  {
   "cell_type": "code",
   "execution_count": null,
   "metadata": {},
   "outputs": [],
   "source": [
    "for root, dirs, files in os.walk('./'):\n",
    "    for file in files: \n",
    "        file = os.path.join(root, file)\n",
    "        print(file)"
   ]
  },
  {
   "cell_type": "markdown",
   "metadata": {},
   "source": [
    "Ahora podemos definir entonces la lista de archivos."
   ]
  },
  {
   "cell_type": "code",
   "execution_count": 5,
   "metadata": {},
   "outputs": [],
   "source": [
    "def file_list(directory):\n",
    "    l = []\n",
    "    for root, dirs, files in os.walk('./'):\n",
    "        for file in files: \n",
    "            file = os.path.join(root, file)\n",
    "            l.append(file)\n",
    "    return l"
   ]
  },
  {
   "cell_type": "code",
   "execution_count": 23,
   "metadata": {},
   "outputs": [
    {
     "name": "stdout",
     "output_type": "stream",
     "text": [
      "9573\n"
     ]
    }
   ],
   "source": [
    "files = file_list('./')\n",
    "print(len(files))"
   ]
  },
  {
   "cell_type": "markdown",
   "metadata": {},
   "source": [
    "Ahora lleno los archivos con ascii random:"
   ]
  },
  {
   "cell_type": "code",
   "execution_count": null,
   "metadata": {},
   "outputs": [],
   "source": [
    "for f in files:\n",
    "    # print(\"Writing: \",f)\n",
    "\n",
    "    if (os.path.basename(f)!='.DS_Store' or os.path.basename(f)!='README.md'):\n",
    "        fill_in_file_ascii(f)"
   ]
  },
  {
   "attachments": {},
   "cell_type": "markdown",
   "metadata": {},
   "source": [
    "Copio el archivo de la clase en el siguiente file. Para esto usamos `shutil`"
   ]
  },
  {
   "cell_type": "code",
   "execution_count": 9,
   "metadata": {},
   "outputs": [],
   "source": [
    "import shutil"
   ]
  },
  {
   "cell_type": "code",
   "execution_count": null,
   "metadata": {},
   "outputs": [],
   "source": [
    "help(shutil.copy)"
   ]
  },
  {
   "cell_type": "code",
   "execution_count": 10,
   "metadata": {},
   "outputs": [
    {
     "data": {
      "text/plain": [
       "'./5YBIAM/G3WD10/IDRYW/RRF7781YU/9AASL'"
      ]
     },
     "execution_count": 10,
     "metadata": {},
     "output_type": "execute_result"
    }
   ],
   "source": [
    "files[2022]"
   ]
  },
  {
   "cell_type": "code",
   "execution_count": 44,
   "metadata": {},
   "outputs": [
    {
     "name": "stdout",
     "output_type": "stream",
     "text": [
      "./5YBIAM/G3WD10/IDRYW/RRF7781YU/9AASL\n",
      "./5YBIAM/G3WD10/QNJAL4/KY1GQ3QD0K/B1YWQEB2O\n",
      "./AU5KNW/VK5RHENI/JMLVPGH/28Q6J1C8H\n",
      "./P02HY7D1D/6X6SZVEK\n",
      "./3G5ERV5V4D/N3NLF/VH03PB/IJQHQT/BTVDRH\n"
     ]
    }
   ],
   "source": [
    "print(shutil.copy(os.path.join(init_dir,\"07_modulos_biblioteca.ipynb\"),'./5YBIAM/G3WD10/IDRYW/RRF7781YU/9AASL'))\n",
    "print(shutil.copy(os.path.join(init_dir,\"Assets\",\"El Sur.txt\"),files[1949]))\n",
    "print(shutil.copy(os.path.join(init_dir,\"Assets\",\"Funes el memorioso.txt\"),files[2911]))\n",
    "print(shutil.copy(os.path.join(init_dir,\"Assets\",\"El inmortal.txt\"),files[4400]))\n",
    "print(shutil.copy(os.path.join(init_dir,\"Assets\",\"El Evangelio segun marcos.txt\"),files[8400]))"
   ]
  },
  {
   "cell_type": "code",
   "execution_count": null,
   "metadata": {},
   "outputs": [],
   "source": [
    "files"
   ]
  },
  {
   "cell_type": "code",
   "execution_count": 19,
   "metadata": {},
   "outputs": [],
   "source": [
    "import glob"
   ]
  },
  {
   "cell_type": "code",
   "execution_count": 20,
   "metadata": {},
   "outputs": [
    {
     "data": {
      "text/plain": [
       "[]"
      ]
     },
     "execution_count": 20,
     "metadata": {},
     "output_type": "execute_result"
    }
   ],
   "source": [
    "glob.glob(\".DS_Store\")"
   ]
  },
  {
   "cell_type": "code",
   "execution_count": 13,
   "metadata": {},
   "outputs": [],
   "source": [
    "def find_text_in_file(text,file_name):\n",
    "    with open(file_name, 'r') as fin:\n",
    "        file_content = fin.read()\n",
    "        return (text in file_content)\n"
   ]
  },
  {
   "cell_type": "code",
   "execution_count": 14,
   "metadata": {},
   "outputs": [
    {
     "data": {
      "text/plain": [
       "True"
      ]
     },
     "execution_count": 14,
     "metadata": {},
     "output_type": "execute_result"
    }
   ],
   "source": [
    "clave = \"nbformat\"\n",
    "find_text_in_file(clave,files[102])\n",
    "find_text_in_file(clave,files[2022])"
   ]
  },
  {
   "cell_type": "code",
   "execution_count": 30,
   "metadata": {},
   "outputs": [
    {
     "name": "stdout",
     "output_type": "stream",
     "text": [
      "./5YBIAM/G3WD10/IDRYW/RRF7781YU/9AASL\n"
     ]
    }
   ],
   "source": [
    "for f in files:\n",
    "    if (find_text_in_file(clave,f)):\n",
    "        print(f)"
   ]
  },
  {
   "cell_type": "code",
   "execution_count": 41,
   "metadata": {},
   "outputs": [
    {
     "name": "stdout",
     "output_type": "stream",
     "text": [
      "./5YBIAM/G3WD10/QNJAL4/KY1GQ3QD0K/B1YWQEB2O\n",
      "./AU5KNW/VK5RHENI/JMLVPGH/28Q6J1C8H\n",
      "./P02HY7D1D/6X6SZVEK\n",
      "./3G5ERV5V4D/N3NLF/VH03PB/IJQHQT/SJA1TGXE\n",
      "./3G5ERV5V4D/N3NLF/VH03PB/IJQHQT/BTVDRH\n"
     ]
    }
   ],
   "source": [
    "for f in files:\n",
    "    if (find_text_in_file(\"Jorge\",f)):\n",
    "        print(f)"
   ]
  },
  {
   "cell_type": "markdown",
   "metadata": {},
   "source": [
    "### Módulo `glob`\n",
    "\n",
    "El módulo `glob` encuentra nombres de archivos (o directorios) utilizando patrones similares a los de la consola. La función más utilizada es `glob.glob()`\n",
    "Veamos algunos ejemplos de uso:"
   ]
  },
  {
   "cell_type": "code",
   "execution_count": null,
   "metadata": {},
   "outputs": [],
   "source": [
    "import glob"
   ]
  },
  {
   "cell_type": "code",
   "execution_count": null,
   "metadata": {},
   "outputs": [],
   "source": [
    "help(glob)"
   ]
  },
  {
   "cell_type": "code",
   "execution_count": null,
   "metadata": {},
   "outputs": [],
   "source": [
    "nb_clase7= glob.glob('07*.ipynb')\n",
    "nb_clase7"
   ]
  },
  {
   "cell_type": "markdown",
   "metadata": {},
   "source": [
    "mmm, not recursive. Try recursive:"
   ]
  },
  {
   "cell_type": "code",
   "execution_count": null,
   "metadata": {},
   "outputs": [],
   "source": [
    "nb_clase7= glob.glob('07*.ipynb', recursive=True)\n",
    "nb_clase7"
   ]
  },
  {
   "cell_type": "markdown",
   "metadata": {},
   "source": [
    "Evidentemente el archivo no está con ese nombre. Entonces tendríamos que ver la manera de buscar algo de un archivo `.ipynb` en el directorio.\n",
    "\n",
    "Los notebooks son archivos de texto con una estructura **JSON**, para más detalles, veamos [el formato JSON del notebook](https://nbformat.readthedocs.io/en/latest/format_description.html#notebook-file-format).\n",
    "\n",
    "```json\n",
    "{\n",
    "  \"metadata\" : {\n",
    "    \"kernel_info\": {\n",
    "        # if kernel_info is defined, its name field is required.\n",
    "        \"name\" : \"the name of the kernel\"\n",
    "    },\n",
    "    \"language_info\": {\n",
    "        # if language_info is defined, its name field is required.\n",
    "        \"name\" : \"the programming language of the kernel\",\n",
    "        \"version\": \"the version of the language\",\n",
    "        \"codemirror_mode\": \"The name of the codemirror mode to use [optional]\"\n",
    "    }\n",
    "  },\n",
    "  \"nbformat\": 4,\n",
    "  \"nbformat_minor\": 0,\n",
    "  \"cells\" : [\n",
    "      # list of cell dictionaries, see below\n",
    "  ],\n",
    "}\n",
    "```"
   ]
  },
  {
   "cell_type": "markdown",
   "metadata": {},
   "source": [
    "Ok, entonces ahora tenemos que buscar algún archivo que contenga, por ejemplo, un _string_ típico de estos archivos, por ejemplo `nbformat`."
   ]
  },
  {
   "cell_type": "markdown",
   "metadata": {},
   "source": [
    "Nice. \n",
    "### TODO\n",
    "- Ahora hay que guardar la clase en algún archivo. \n",
    "- [El formato JSON del notebook](https://nbformat.readthedocs.io/en/latest/format_description.html#notebook-file-format).\n",
    "- Cómo buscar archivos (`glob`).\n",
    "- Cómo buscar el string en cada archivo.\n",
    "\n",
    "```python\n",
    "nombre_clase = \"07_modulos_biblioteca.ipynb\"\n",
    "```\n",
    "- renombrar el archivo y copiarlo al directorio de trabajo con `os.rename`.\n",
    "\n",
    "\n",
    "[Python dirname and basename](https://www.pythonpool.com/python-basename/).\n"
   ]
  },
  {
   "cell_type": "markdown",
   "metadata": {},
   "source": [
    "### Ejercicio\n",
    "\n",
    "Además de la clase, también se nos perdió la lista de emails de los alumnos del curso. Entonces, les pedimos que\n",
    "- Cada uno busque su email en los archivos corruptos e identifique el nombre de dicho archivo.\n",
    "- Creen un _issue_ en el repositorio de github donde indiquen el nombre del archivo donde está su email."
   ]
  },
  {
   "cell_type": "markdown",
   "metadata": {},
   "source": [
    "#### Misc"
   ]
  },
  {
   "cell_type": "code",
   "execution_count": null,
   "metadata": {},
   "outputs": [],
   "source": [
    "fill_in_file(\"./5TFRFB4GIU\")\n",
    "# fileSizeInBytes = 1024\n",
    "# fout = open('./5TFRFB4GIU', 'wb') \n",
    "# data = os.urandom(fileSizeInBytes)\n",
    "# fout.write(data)\n",
    "# fout.close()"
   ]
  },
  {
   "cell_type": "code",
   "execution_count": null,
   "metadata": {},
   "outputs": [],
   "source": [
    "%pwd"
   ]
  }
 ],
 "metadata": {
  "kernelspec": {
   "display_name": "base",
   "language": "python",
   "name": "python3"
  },
  "language_info": {
   "codemirror_mode": {
    "name": "ipython",
    "version": 3
   },
   "file_extension": ".py",
   "mimetype": "text/x-python",
   "name": "python",
   "nbconvert_exporter": "python",
   "pygments_lexer": "ipython3",
   "version": "3.9.5"
  },
  "orig_nbformat": 4,
  "vscode": {
   "interpreter": {
    "hash": "3d597f4c481aa0f25dceb95d2a0067e73c0966dcbd003d741d821a7208527ecf"
   }
  }
 },
 "nbformat": 4,
 "nbformat_minor": 2
}
