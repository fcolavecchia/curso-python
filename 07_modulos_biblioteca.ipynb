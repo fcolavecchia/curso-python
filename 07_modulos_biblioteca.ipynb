{
 "cells": [
  {
   "cell_type": "markdown",
   "metadata": {
    "ein.tags": "worksheet-0",
    "slideshow": {
     "slide_type": "-"
    }
   },
   "source": [
    "## Algunos módulos (biblioteca standard)  <a class=\"tocSkip\">"
   ]
  },
  {
   "cell_type": "markdown",
   "metadata": {
    "ein.tags": "worksheet-0",
    "slideshow": {
     "slide_type": "-"
    }
   },
   "source": [
    "Los módulos pueden pensarse como bibliotecas de objetos (funciones, datos, etc) que pueden usarse según la necesidad. Hay una biblioteca standard con rutinas para muchas operaciones comunes, y además existen muchos paquetes específicos para distintas tareas. Veamos algunos ejemplos:\n",
    "\n",
    "### Módulo sys\n",
    "\n",
    "Este módulo da acceso a variables que usa o mantiene el intérprete Python"
   ]
  },
  {
   "cell_type": "code",
   "execution_count": null,
   "metadata": {
    "autoscroll": false,
    "ein.hycell": false,
    "ein.tags": "worksheet-0",
    "slideshow": {
     "slide_type": "-"
    }
   },
   "outputs": [],
   "source": [
    "import sys"
   ]
  },
  {
   "cell_type": "code",
   "execution_count": null,
   "metadata": {
    "autoscroll": false,
    "ein.hycell": false,
    "ein.tags": "worksheet-0",
    "slideshow": {
     "slide_type": "-"
    }
   },
   "outputs": [],
   "source": [
    "sys.path"
   ]
  },
  {
   "cell_type": "code",
   "execution_count": null,
   "metadata": {
    "autoscroll": false,
    "ein.hycell": false,
    "ein.tags": "worksheet-0",
    "slideshow": {
     "slide_type": "-"
    }
   },
   "outputs": [],
   "source": [
    "sys.getfilesystemencoding()"
   ]
  },
  {
   "cell_type": "code",
   "execution_count": null,
   "metadata": {
    "autoscroll": false,
    "ein.hycell": false,
    "ein.tags": "worksheet-0",
    "slideshow": {
     "slide_type": "-"
    }
   },
   "outputs": [],
   "source": [
    "sys.getsizeof(1)"
   ]
  },
  {
   "cell_type": "code",
   "execution_count": null,
   "metadata": {
    "autoscroll": false,
    "ein.hycell": false,
    "ein.tags": "worksheet-0",
    "slideshow": {
     "slide_type": "-"
    }
   },
   "outputs": [],
   "source": [
    "help(sys.getsizeof)"
   ]
  },
  {
   "cell_type": "markdown",
   "metadata": {
    "ein.tags": "worksheet-0",
    "slideshow": {
     "slide_type": "-"
    }
   },
   "source": [
    "Vemos que para utilizar las variables (path) o funciones (getsizeof) debemos referirlo anteponiendo el módulo en el cuál está definido (sys) y separado por un punto.\n",
    "\n",
    "Cuando hacemos un programa, con definición de variables y funciones. Podemos utilizarlo como un módulo, de la misma manera que los que ya vienen definidos en la biblioteca standard o en los paquetes que instalamos."
   ]
  },
  {
   "cell_type": "markdown",
   "metadata": {
    "ein.tags": "worksheet-0",
    "slideshow": {
     "slide_type": "-"
    }
   },
   "source": [
    "### Módulo `os`\n",
    "\n",
    "El módulo `os` tiene utilidades para operar sobre nombres de archivos y directorios de manera segura y portable, de manera que pueda utilizarse en distintos sistemas operativos. Vamos a ver ejemplos de uso de algunas facilidades que brinda:"
   ]
  },
  {
   "cell_type": "code",
   "execution_count": 1,
   "metadata": {
    "autoscroll": false,
    "ein.hycell": false,
    "ein.tags": "worksheet-0",
    "slideshow": {
     "slide_type": "-"
    }
   },
   "outputs": [
    {
     "name": "stdout",
     "output_type": "stream",
     "text": [
      ".\n",
      "..\n",
      "/Users/flavioc/Library/Mobile Documents/com~apple~CloudDocs/Documents/cursos/curso-python\n"
     ]
    }
   ],
   "source": [
    "import os\n",
    "\n",
    "print(os.curdir)\n",
    "print(os.pardir)\n",
    "print (os.getcwd())"
   ]
  },
  {
   "cell_type": "code",
   "execution_count": 2,
   "metadata": {
    "autoscroll": false,
    "ein.hycell": false,
    "ein.tags": "worksheet-0",
    "slideshow": {
     "slide_type": "-"
    }
   },
   "outputs": [
    {
     "name": "stdout",
     "output_type": "stream",
     "text": [
      "/Users/flavioc/Library/Mobile Documents/com~apple~CloudDocs/Documents/cursos/curso-python\n",
      "/Users/flavioc/Library/Mobile Documents/com~apple~CloudDocs/Documents/cursos\n"
     ]
    }
   ],
   "source": [
    "cur = os.getcwd()\n",
    "par = os.path.abspath(\"..\")\n",
    "print(cur)\n",
    "print(par)\n"
   ]
  },
  {
   "cell_type": "code",
   "execution_count": 3,
   "metadata": {
    "autoscroll": false,
    "ein.hycell": false,
    "ein.tags": "worksheet-0",
    "slideshow": {
     "slide_type": "-"
    }
   },
   "outputs": [
    {
     "name": "stdout",
     "output_type": "stream",
     "text": [
      "/Users/flavioc/Library/Mobile Documents/com~apple~CloudDocs/Documents/cursos/curso-python\n",
      "/Users/flavioc/Library/Mobile Documents/com~apple~CloudDocs/Documents/cursos/curso-python\n"
     ]
    }
   ],
   "source": [
    "print(os.path.abspath(os.curdir))\n",
    "print(os.getcwd())"
   ]
  },
  {
   "cell_type": "code",
   "execution_count": 4,
   "metadata": {
    "autoscroll": false,
    "ein.hycell": false,
    "ein.tags": "worksheet-0",
    "slideshow": {
     "slide_type": "-"
    }
   },
   "outputs": [
    {
     "name": "stdout",
     "output_type": "stream",
     "text": [
      "curso-python\n",
      "('', '/Users/flavioc/Library/Mobile Documents/com~apple~CloudDocs/Documents/cursos/curso-python')\n"
     ]
    }
   ],
   "source": [
    "print(os.path.basename(cur))\n",
    "print(os.path.splitdrive(cur))"
   ]
  },
  {
   "cell_type": "code",
   "execution_count": 5,
   "metadata": {
    "autoscroll": false,
    "ein.hycell": false,
    "ein.tags": "worksheet-0",
    "slideshow": {
     "slide_type": "-"
    }
   },
   "outputs": [
    {
     "name": "stdout",
     "output_type": "stream",
     "text": [
      "/Users/flavioc/Library/Mobile Documents/com~apple~CloudDocs/Documents/cursos\n",
      "/Users/flavioc/Library/Mobile Documents/com~apple~CloudDocs/Documents/cursos/este/otro.dat\n",
      "('/Users/flavioc/Library/Mobile Documents/com~apple~CloudDocs/Documents/cursos/este', 'otro.dat')\n",
      "('/Users/flavioc/Library/Mobile Documents/com~apple~CloudDocs/Documents/cursos/este/otro', '.dat')\n",
      "False\n",
      "True\n"
     ]
    }
   ],
   "source": [
    "print(os.path.commonprefix((cur, par)))\n",
    "archivo = os.path.join(par,'este' , 'otro.dat')\n",
    "print (archivo)\n",
    "print (os.path.split(archivo))\n",
    "print (os.path.splitext(archivo))\n",
    "print (os.path.exists(archivo))\n",
    "print (os.path.exists(cur))\n"
   ]
  },
  {
   "cell_type": "markdown",
   "metadata": {
    "ein.tags": "worksheet-0",
    "slideshow": {
     "slide_type": "-"
    }
   },
   "source": [
    "Como es aparente de estos ejemplos, se puede acceder a todos los objetos (funciones, variables) de un módulo utilizando simplemente la línea `import <modulo>` pero puede ser tedioso escribir todo con prefijos (como `os.path.abspath`) por lo que existen dos alternativas que pueden ser más convenientes. La primera corresponde a importar todas las definiciones de un módulo en forma implícita:"
   ]
  },
  {
   "cell_type": "code",
   "execution_count": null,
   "metadata": {
    "autoscroll": false,
    "ein.hycell": false,
    "ein.tags": "worksheet-0",
    "slideshow": {
     "slide_type": "-"
    }
   },
   "outputs": [],
   "source": [
    "from os import *"
   ]
  },
  {
   "cell_type": "markdown",
   "metadata": {
    "ein.tags": "worksheet-0",
    "slideshow": {
     "slide_type": "-"
    }
   },
   "source": [
    "Después de esta declaración usamos los objetos de la misma manera que antes pero obviando la parte de `os.`"
   ]
  },
  {
   "cell_type": "code",
   "execution_count": null,
   "metadata": {
    "autoscroll": false,
    "ein.hycell": false,
    "ein.tags": "worksheet-0",
    "slideshow": {
     "slide_type": "-"
    }
   },
   "outputs": [],
   "source": [
    "path.abspath(curdir)"
   ]
  },
  {
   "cell_type": "markdown",
   "metadata": {
    "ein.tags": "worksheet-0",
    "slideshow": {
     "slide_type": "-"
    }
   },
   "source": [
    "Esto es conveniente en algunos casos pero no suele ser una buena idea en programas largos ya que distintos módulos pueden definir el mismo nombre, y se pierde información sobre su origen. Una alternativa que es conveniente y permite mantener mejor control es importar explícitamente lo que vamos a usar:"
   ]
  },
  {
   "cell_type": "code",
   "execution_count": null,
   "metadata": {
    "autoscroll": false,
    "ein.hycell": false,
    "ein.tags": "worksheet-0",
    "slideshow": {
     "slide_type": "-"
    }
   },
   "outputs": [],
   "source": [
    "from os import curdir, pardir, getcwd\n",
    "from os.path import abspath\n",
    "print(abspath(pardir))\n",
    "print(abspath(curdir))\n",
    "print(abspath(getcwd()))\n"
   ]
  },
  {
   "cell_type": "markdown",
   "metadata": {
    "ein.tags": "worksheet-0",
    "slideshow": {
     "slide_type": "-"
    }
   },
   "source": [
    "Además podemos darle un nombre diferente al importar módulos u objetos"
   ]
  },
  {
   "cell_type": "code",
   "execution_count": null,
   "metadata": {
    "autoscroll": false,
    "ein.hycell": false,
    "ein.tags": "worksheet-0",
    "slideshow": {
     "slide_type": "-"
    }
   },
   "outputs": [],
   "source": [
    "import os.path as path\n",
    "from os import getenv as ge\n"
   ]
  },
  {
   "cell_type": "code",
   "execution_count": null,
   "metadata": {
    "autoscroll": false,
    "ein.hycell": false,
    "ein.tags": "worksheet-0",
    "slideshow": {
     "slide_type": "-"
    }
   },
   "outputs": [],
   "source": [
    "help(ge)"
   ]
  },
  {
   "cell_type": "code",
   "execution_count": null,
   "metadata": {
    "autoscroll": false,
    "ein.hycell": false,
    "ein.tags": "worksheet-0",
    "slideshow": {
     "slide_type": "-"
    }
   },
   "outputs": [],
   "source": [
    "ge('HOME')"
   ]
  },
  {
   "cell_type": "code",
   "execution_count": null,
   "metadata": {
    "autoscroll": false,
    "ein.hycell": false,
    "ein.tags": "worksheet-0",
    "slideshow": {
     "slide_type": "-"
    }
   },
   "outputs": [],
   "source": [
    "path.realpath(curdir)"
   ]
  },
  {
   "cell_type": "markdown",
   "metadata": {
    "ein.tags": "worksheet-0",
    "slideshow": {
     "slide_type": "-"
    }
   },
   "source": [
    "Acá hemos importado el módulo `os.path` (es un sub-módulo) como `path` y la función `getenv` del módulo `os` y la hemos renombrado `ge`."
   ]
  },
  {
   "cell_type": "code",
   "execution_count": null,
   "metadata": {
    "autoscroll": false,
    "collapsed": true,
    "ein.hycell": false,
    "ein.tags": "worksheet-0",
    "slideshow": {
     "slide_type": "-"
    }
   },
   "outputs": [],
   "source": [
    "help(os.walk)"
   ]
  },
  {
   "cell_type": "code",
   "execution_count": 6,
   "metadata": {
    "autoscroll": false,
    "collapsed": true,
    "ein.hycell": false,
    "ein.tags": "worksheet-0",
    "slideshow": {
     "slide_type": "-"
    }
   },
   "outputs": [
    {
     "name": "stdout",
     "output_type": "stream",
     "text": [
      "./ consume 38087.0693359375 kbytes en  41 non-directory files\n",
      "./generala consume 827.03125 kbytes en  6 non-directory files\n",
      "./interfacing_F consume 230.353515625 kbytes en  12 non-directory files\n",
      "./interfacing_F/fib2.cpython-39-darwin.so.dSYM consume 0.0 kbytes en  0 non-directory files\n",
      "./interfacing_F/fib2.cpython-39-darwin.so.dSYM/Contents consume 0.638671875 kbytes en  1 non-directory files\n",
      "./interfacing_F/fib2.cpython-39-darwin.so.dSYM/Contents/Resources consume 0.0 kbytes en  0 non-directory files\n",
      "./interfacing_F/fib2.cpython-39-darwin.so.dSYM/Contents/Resources/DWARF consume 13.38671875 kbytes en  1 non-directory files\n",
      "./interfacing_F/fib3.cpython-39-darwin.so.dSYM consume 0.0 kbytes en  0 non-directory files\n",
      "./interfacing_F/fib3.cpython-39-darwin.so.dSYM/Contents consume 0.638671875 kbytes en  1 non-directory files\n",
      "./interfacing_F/fib3.cpython-39-darwin.so.dSYM/Contents/Resources consume 0.0 kbytes en  0 non-directory files\n",
      "./interfacing_F/fib3.cpython-39-darwin.so.dSYM/Contents/Resources/DWARF consume 13.4326171875 kbytes en  1 non-directory files\n",
      "./interfacing_F/.vscode consume 0.0576171875 kbytes en  1 non-directory files\n",
      "./ejercicios-python consume 41.923828125 kbytes en  7 non-directory files\n",
      "./ejercicios-python/generala consume 8.00390625 kbytes en  1 non-directory files\n",
      "./ejercicios-python/generala/Rinaldi consume 1627.8564453125 kbytes en  1 non-directory files\n",
      "./ejercicios-python/generala/Rinaldi/Final_Generala_Rinaldi consume 35.46484375 kbytes en  1 non-directory files\n",
      "./ejercicios-python/generala/Rinaldi/Final_Generala_Rinaldi/img consume 1766.6123046875 kbytes en  14 non-directory files\n",
      "./ejercicios-python/generala/Sheffield consume 366.8837890625 kbytes en  2 non-directory files\n",
      "./ejercicios-python/generala/Sheffield/Generala_Sheffield consume 421.5205078125 kbytes en  15 non-directory files\n",
      "./ejercicios-python/generala/Sandor consume 764.197265625 kbytes en  2 non-directory files\n",
      "./ejercicios-python/generala/Sandor/SANDOR_TRABAJO_FINAL consume 850.6962890625 kbytes en  8 non-directory files\n",
      "./ejercicios-python/generala/Estrada consume 1723.673828125 kbytes en  2 non-directory files\n",
      "./ejercicios-python/generala/Estrada/Generala_experimental consume 37.15625 kbytes en  4 non-directory files\n",
      "./ejercicios-python/generala/Estrada/Generala_experimental/__pycache__ consume 15.2255859375 kbytes en  5 non-directory files\n",
      "./ejercicios-python/generala/Estrada/Generala_experimental/data consume 1759.17578125 kbytes en  11 non-directory files\n",
      "./ejercicios-python/generala/Castro consume 859.50390625 kbytes en  2 non-directory files\n",
      "./ejercicios-python/generala/Castro/generala_Castro consume 958.0498046875 kbytes en  9 non-directory files\n",
      "./ejercicios-python/generala/Castro/generala_Castro/__pycache__ consume 2.9091796875 kbytes en  1 non-directory files\n",
      "./ejercicios-python/generala/Cuevas consume 874.9794921875 kbytes en  2 non-directory files\n",
      "./ejercicios-python/generala/Cuevas/Cuevas_Final consume 562.2890625 kbytes en  2 non-directory files\n",
      "./ejercicios-python/generala/Cuevas/Cuevas_Final/Dices consume 827.03125 kbytes en  6 non-directory files\n",
      "./ejercicios-python/doppler consume 8.00390625 kbytes en  1 non-directory files\n",
      "./ejercicios-python/doppler/Ramos Perez consume 1088.916015625 kbytes en  3 non-directory files\n",
      "./ejercicios-python/doppler/Fagiano consume 13.37109375 kbytes en  1 non-directory files\n",
      "./ejercicios-python/doppler/Romero consume 497.642578125 kbytes en  1 non-directory files\n",
      "./ejercicios-python/doppler/Clavijo consume 552.84375 kbytes en  2 non-directory files\n",
      "./ejercicios-python/doppler/Zagarra consume 7.900390625 kbytes en  1 non-directory files\n",
      "./ejercicios-python/doppler/Palacio Romeu consume 7.548828125 kbytes en  1 non-directory files\n",
      "./ejercicios-python/doppler/Llaurado consume 4.3955078125 kbytes en  1 non-directory files\n",
      "./ejercicios-python/doppler/Benoit consume 316.4912109375 kbytes en  1 non-directory files\n",
      "./ejercicios-python/doppler/Corzi consume 178.5458984375 kbytes en  3 non-directory files\n",
      "./ejercicios-python/doppler/Marin consume 391.2255859375 kbytes en  1 non-directory files\n",
      "./ejercicios-python/doppler/Fama consume 981.142578125 kbytes en  1 non-directory files\n",
      "./ejercicios-python/doppler/Caviglia consume 12.001953125 kbytes en  1 non-directory files\n",
      "./ejercicios-python/doppler/Gentile consume 9.5087890625 kbytes en  1 non-directory files\n",
      "./ejercicios-python/doppler/Coronel consume 9.2294921875 kbytes en  1 non-directory files\n",
      "./ejercicios-python/analisis consume 10.00390625 kbytes en  1 non-directory files\n",
      "./ejercicios-python/analisis/Aucar Boidi consume 23.958984375 kbytes en  2 non-directory files\n",
      "./ejercicios-python/analisis/Cordova consume 9.501953125 kbytes en  1 non-directory files\n",
      "./ejercicios-python/analisis/Carraro Haddad consume 26.75 kbytes en  2 non-directory files\n",
      "./ejercicios-python/analisis/Acerbo consume 35.9365234375 kbytes en  2 non-directory files\n",
      "./ejercicios-python/analisis/Rozan consume 64.7294921875 kbytes en  1 non-directory files\n",
      "./ejercicios-python/analisis/Zablotsky consume 14.9375 kbytes en  1 non-directory files\n",
      "./ejercicios-python/analisis/Morales consume 11.4931640625 kbytes en  1 non-directory files\n",
      "./ejercicios-python/analisis/Papuccio consume 17.197265625 kbytes en  1 non-directory files\n",
      "./ejercicios-python/analisis/Acosta Gonzalez consume 29.2734375 kbytes en  2 non-directory files\n",
      "./ejercicios-python/analisis/Saidman consume 17.34765625 kbytes en  1 non-directory files\n",
      "./ejercicios-python/analisis/Verea consume 6189.1787109375 kbytes en  1 non-directory files\n",
      "./ejercicios-python/analisis/Prieto consume 8.384765625 kbytes en  1 non-directory files\n",
      "./ejercicios-python/analisis/Lobato consume 8.6142578125 kbytes en  1 non-directory files\n",
      "./ejercicios-python/analisis/Almeida Serra consume 17.056640625 kbytes en  1 non-directory files\n",
      "./ejercicios-python/analisis/Sosa consume 943.1455078125 kbytes en  1 non-directory files\n",
      "./ejercicios-python/analisis/Oliva Trevisan consume 33.5361328125 kbytes en  1 non-directory files\n",
      "./ejercicios-python/analisis/Lopez Cabrera consume 22.5166015625 kbytes en  1 non-directory files\n",
      "./ejercicios-python/decaimiento consume 6.00390625 kbytes en  1 non-directory files\n",
      "./ejercicios-python/decaimiento/Gonzalez consume 17.8330078125 kbytes en  1 non-directory files\n",
      "./ejercicios-python/decaimiento/Rodriguez Lopez consume 7.09375 kbytes en  1 non-directory files\n",
      "./ejercicios-python/decaimiento/Ramos Villalobos consume 23.6474609375 kbytes en  3 non-directory files\n",
      "./old consume 1038.3349609375 kbytes en  1 non-directory files\n",
      "./interfacing_C consume 35.2900390625 kbytes en  2 non-directory files\n",
      "./.git consume 75.4189453125 kbytes en  11 non-directory files\n",
      "./.git/objects consume 0.0 kbytes en  0 non-directory files\n",
      "./.git/objects/61 consume 197.341796875 kbytes en  3 non-directory files\n",
      "./.git/objects/0d consume 1.4541015625 kbytes en  3 non-directory files\n",
      "./.git/objects/95 consume 191.4892578125 kbytes en  4 non-directory files\n",
      "./.git/objects/59 consume 377.669921875 kbytes en  4 non-directory files\n",
      "./.git/objects/92 consume 193.4775390625 kbytes en  1 non-directory files\n",
      "./.git/objects/0c consume 1.080078125 kbytes en  1 non-directory files\n",
      "./.git/objects/66 consume 366.572265625 kbytes en  3 non-directory files\n",
      "./.git/objects/3e consume 802.0458984375 kbytes en  6 non-directory files\n",
      "./.git/objects/50 consume 192.5888671875 kbytes en  3 non-directory files\n",
      "./.git/objects/68 consume 204.2373046875 kbytes en  4 non-directory files\n",
      "./.git/objects/57 consume 200.8671875 kbytes en  1 non-directory files\n",
      "./.git/objects/3b consume 581.869140625 kbytes en  3 non-directory files\n",
      "./.git/objects/6f consume 109.7861328125 kbytes en  3 non-directory files\n",
      "./.git/objects/03 consume 387.1787109375 kbytes en  4 non-directory files\n",
      "./.git/objects/9b consume 21.3388671875 kbytes en  4 non-directory files\n",
      "./.git/objects/9e consume 3150.3125 kbytes en  4 non-directory files\n",
      "./.git/objects/04 consume 602.087890625 kbytes en  3 non-directory files\n",
      "./.git/objects/6a consume 6386.93359375 kbytes en  3 non-directory files\n",
      "./.git/objects/35 consume 0.0703125 kbytes en  1 non-directory files\n",
      "./.git/objects/69 consume 343.9404296875 kbytes en  3 non-directory files\n",
      "./.git/objects/56 consume 2592.22265625 kbytes en  3 non-directory files\n",
      "./.git/objects/51 consume 196.3203125 kbytes en  1 non-directory files\n",
      "./.git/objects/3d consume 519.6611328125 kbytes en  6 non-directory files\n",
      "./.git/objects/58 consume 3254.6728515625 kbytes en  7 non-directory files\n",
      "./.git/objects/67 consume 391.884765625 kbytes en  2 non-directory files\n",
      "./.git/objects/0b consume 14.3662109375 kbytes en  4 non-directory files\n",
      "./.git/objects/94 consume 699.79296875 kbytes en  3 non-directory files\n",
      "./.git/objects/0e consume 193.91796875 kbytes en  1 non-directory files\n",
      "./.git/objects/60 consume 670.263671875 kbytes en  3 non-directory files\n",
      "./.git/objects/34 consume 680.4541015625 kbytes en  5 non-directory files\n",
      "./.git/objects/5a consume 3527.8271484375 kbytes en  5 non-directory files\n",
      "./.git/objects/5f consume 0.1923828125 kbytes en  1 non-directory files\n",
      "./.git/objects/33 consume 692.8212890625 kbytes en  4 non-directory files\n",
      "./.git/objects/05 consume 392.4296875 kbytes en  3 non-directory files\n",
      "./.git/objects/9d consume 7.0576171875 kbytes en  1 non-directory files\n",
      "./.git/objects/9c consume 690.03515625 kbytes en  8 non-directory files\n",
      "./.git/objects/02 consume 2778.349609375 kbytes en  4 non-directory files\n",
      "./.git/objects/a4 consume 1164.3876953125 kbytes en  6 non-directory files\n",
      "./.git/objects/a3 consume 194.24609375 kbytes en  3 non-directory files\n",
      "./.git/objects/b5 consume 388.078125 kbytes en  5 non-directory files\n",
      "./.git/objects/b2 consume 382.52734375 kbytes en  2 non-directory files\n",
      "./.git/objects/d9 consume 1658.46875 kbytes en  3 non-directory files\n",
      "./.git/objects/ac consume 189.3056640625 kbytes en  1 non-directory files\n",
      "./.git/objects/ad consume 3174.513671875 kbytes en  5 non-directory files\n",
      "./.git/objects/bb consume 588.033203125 kbytes en  3 non-directory files\n",
      "./.git/objects/d7 consume 593.3759765625 kbytes en  4 non-directory files\n",
      "./.git/objects/d0 consume 397.509765625 kbytes en  3 non-directory files\n",
      "./.git/objects/b3 consume 3463.115234375 kbytes en  2 non-directory files\n",
      "./.git/objects/df consume 391.396484375 kbytes en  3 non-directory files\n",
      "./.git/objects/b4 consume 349.7646484375 kbytes en  3 non-directory files\n",
      "./.git/objects/a2 consume 2792.94921875 kbytes en  2 non-directory files\n",
      "./.git/objects/a5 consume 784.6884765625 kbytes en  5 non-directory files\n",
      "./.git/objects/bd consume 1475.8935546875 kbytes en  5 non-directory files\n",
      "./.git/objects/d1 consume 1451.875 kbytes en  7 non-directory files\n",
      "./.git/objects/d6 consume 621.2978515625 kbytes en  4 non-directory files\n",
      "./.git/objects/bc consume 4072.15234375 kbytes en  3 non-directory files\n",
      "./.git/objects/ae consume 602.8017578125 kbytes en  5 non-directory files\n",
      "./.git/objects/d8 consume 2.2509765625 kbytes en  1 non-directory files\n",
      "./.git/objects/e5 consume 13205.23046875 kbytes en  8 non-directory files\n",
      "./.git/objects/e2 consume 42.1005859375 kbytes en  1 non-directory files\n",
      "./.git/objects/f4 consume 782.7666015625 kbytes en  3 non-directory files\n",
      "./.git/objects/f3 consume 2538.3681640625 kbytes en  4 non-directory files\n",
      "./.git/objects/eb consume 193.388671875 kbytes en  4 non-directory files\n",
      "./.git/objects/c7 consume 0.060546875 kbytes en  1 non-directory files\n",
      "./.git/objects/c0 consume 6708.8662109375 kbytes en  6 non-directory files\n",
      "./.git/objects/ee consume 632.556640625 kbytes en  7 non-directory files\n",
      "./.git/objects/c9 consume 220.802734375 kbytes en  3 non-directory files\n",
      "./.git/objects/fc consume 410.1171875 kbytes en  3 non-directory files\n",
      "./.git/objects/fd consume 5265.353515625 kbytes en  12 non-directory files\n",
      "./.git/objects/f2 consume 397.4638671875 kbytes en  3 non-directory files\n",
      "./.git/objects/f5 consume 194.2626953125 kbytes en  3 non-directory files\n",
      "./.git/objects/e3 consume 187.220703125 kbytes en  1 non-directory files\n",
      "./.git/objects/cf consume 578.103515625 kbytes en  3 non-directory files\n",
      "./.git/objects/ca consume 845.2568359375 kbytes en  5 non-directory files\n",
      "./.git/objects/e4 consume 346.7216796875 kbytes en  2 non-directory files\n",
      "./.git/objects/fe consume 294.337890625 kbytes en  3 non-directory files\n",
      "./.git/objects/c8 consume 584.5107421875 kbytes en  5 non-directory files\n",
      "./.git/objects/fb consume 5271.474609375 kbytes en  4 non-directory files\n",
      "./.git/objects/ed consume 535.380859375 kbytes en  4 non-directory files\n",
      "./.git/objects/c1 consume 110.14453125 kbytes en  4 non-directory files\n",
      "./.git/objects/c6 consume 464.400390625 kbytes en  2 non-directory files\n",
      "./.git/objects/ec consume 384.5234375 kbytes en  2 non-directory files\n",
      "./.git/objects/4e consume 3561.486328125 kbytes en  3 non-directory files\n",
      "./.git/objects/20 consume 388.626953125 kbytes en  3 non-directory files\n",
      "./.git/objects/18 consume 574.4853515625 kbytes en  4 non-directory files\n",
      "./.git/objects/4b consume 388.3310546875 kbytes en  2 non-directory files\n",
      "./.git/objects/pack consume 19138.6865234375 kbytes en  4 non-directory files\n",
      "./.git/objects/11 consume 579.6865234375 kbytes en  4 non-directory files\n",
      "./.git/objects/7d consume 1635.09375 kbytes en  4 non-directory files\n",
      "./.git/objects/29 consume 1079.2978515625 kbytes en  4 non-directory files\n",
      "./.git/objects/7c consume 2917.69140625 kbytes en  6 non-directory files\n",
      "./.git/objects/16 consume 203.455078125 kbytes en  4 non-directory files\n",
      "./.git/objects/42 consume 584.998046875 kbytes en  3 non-directory files\n",
      "./.git/objects/89 consume 1292.2451171875 kbytes en  4 non-directory files\n",
      "./.git/objects/45 consume 906.5712890625 kbytes en  5 non-directory files\n",
      "./.git/objects/1f consume 1170.099609375 kbytes en  2 non-directory files\n",
      "./.git/objects/73 consume 757.1845703125 kbytes en  5 non-directory files\n",
      "./.git/objects/87 consume 9.751953125 kbytes en  1 non-directory files\n",
      "./.git/objects/80 consume 523.841796875 kbytes en  4 non-directory files\n",
      "./.git/objects/74 consume 585.98046875 kbytes en  3 non-directory files\n",
      "./.git/objects/1a consume 558.5927734375 kbytes en  6 non-directory files\n",
      "./.git/objects/28 consume 6079.0029296875 kbytes en  8 non-directory files\n",
      "./.git/objects/17 consume 0.060546875 kbytes en  1 non-directory files\n",
      "./.git/objects/7b consume 3666.8681640625 kbytes en  3 non-directory files\n",
      "./.git/objects/8f consume 2708.02734375 kbytes en  4 non-directory files\n",
      "./.git/objects/8a consume 745.3505859375 kbytes en  6 non-directory files\n",
      "./.git/objects/7e consume 1051.564453125 kbytes en  3 non-directory files\n",
      "./.git/objects/10 consume 772.9609375 kbytes en  5 non-directory files\n",
      "./.git/objects/19 consume 0.60546875 kbytes en  3 non-directory files\n",
      "./.git/objects/4c consume 448.47265625 kbytes en  5 non-directory files\n",
      "./.git/objects/26 consume 491.095703125 kbytes en  3 non-directory files\n",
      "./.git/objects/21 consume 393.0068359375 kbytes en  3 non-directory files\n",
      "./.git/objects/4d consume 0.33203125 kbytes en  1 non-directory files\n",
      "./.git/objects/75 consume 136.5654296875 kbytes en  1 non-directory files\n",
      "./.git/objects/81 consume 96.912109375 kbytes en  1 non-directory files\n",
      "./.git/objects/86 consume 748.7509765625 kbytes en  4 non-directory files\n",
      "./.git/objects/72 consume 190.544921875 kbytes en  2 non-directory files\n",
      "./.git/objects/44 consume 790.1064453125 kbytes en  5 non-directory files\n",
      "./.git/objects/2a consume 592.5810546875 kbytes en  6 non-directory files\n",
      "./.git/objects/2f consume 190.5634765625 kbytes en  2 non-directory files\n",
      "./.git/objects/43 consume 1124.1748046875 kbytes en  7 non-directory files\n",
      "./.git/objects/88 consume 374.0185546875 kbytes en  2 non-directory files\n",
      "./.git/objects/9f consume 870.8955078125 kbytes en  3 non-directory files\n",
      "./.git/objects/6b consume 3421.59375 kbytes en  6 non-directory files\n",
      "./.git/objects/07 consume 6853.390625 kbytes en  6 non-directory files\n",
      "./.git/objects/38 consume 4175.4130859375 kbytes en  6 non-directory files\n",
      "./.git/objects/00 consume 7269.5986328125 kbytes en  8 non-directory files\n",
      "./.git/objects/6e consume 3265.962890625 kbytes en  6 non-directory files\n",
      "./.git/objects/9a consume 3621.2373046875 kbytes en  7 non-directory files\n",
      "./.git/objects/36 consume 589.4208984375 kbytes en  3 non-directory files\n",
      "./.git/objects/5c consume 7.9326171875 kbytes en  2 non-directory files\n",
      "./.git/objects/09 consume 7450.9794921875 kbytes en  4 non-directory files\n",
      "./.git/objects/5d consume 3399.4619140625 kbytes en  3 non-directory files\n",
      "./.git/objects/31 consume 2959.4560546875 kbytes en  2 non-directory files\n",
      "./.git/objects/info consume 0.0 kbytes en  0 non-directory files\n",
      "./.git/objects/91 consume 3420.9345703125 kbytes en  2 non-directory files\n",
      "./.git/objects/65 consume 768.5234375 kbytes en  4 non-directory files\n",
      "./.git/objects/62 consume 10892.1826171875 kbytes en  5 non-directory files\n",
      "./.git/objects/96 consume 580.2685546875 kbytes en  5 non-directory files\n",
      "./.git/objects/3a consume 392.1884765625 kbytes en  2 non-directory files\n",
      "./.git/objects/54 consume 598.3818359375 kbytes en  4 non-directory files\n",
      "./.git/objects/98 consume 7704.9208984375 kbytes en  4 non-directory files\n",
      "./.git/objects/53 consume 201.8115234375 kbytes en  3 non-directory files\n",
      "./.git/objects/3f consume 390.0498046875 kbytes en  4 non-directory files\n",
      "./.git/objects/30 consume 2975.0751953125 kbytes en  4 non-directory files\n",
      "./.git/objects/5e consume 0.1806640625 kbytes en  1 non-directory files\n",
      "./.git/objects/5b consume 1.4287109375 kbytes en  2 non-directory files\n",
      "./.git/objects/37 consume 3186.439453125 kbytes en  5 non-directory files\n",
      "./.git/objects/08 consume 514.9033203125 kbytes en  3 non-directory files\n",
      "./.git/objects/6d consume 4234.0556640625 kbytes en  5 non-directory files\n",
      "./.git/objects/01 consume 3537.828125 kbytes en  5 non-directory files\n",
      "./.git/objects/06 consume 1012.2841796875 kbytes en  4 non-directory files\n",
      "./.git/objects/6c consume 890.76953125 kbytes en  4 non-directory files\n",
      "./.git/objects/39 consume 2.1328125 kbytes en  2 non-directory files\n",
      "./.git/objects/99 consume 380.494140625 kbytes en  2 non-directory files\n",
      "./.git/objects/52 consume 584.28515625 kbytes en  4 non-directory files\n",
      "./.git/objects/55 consume 389.828125 kbytes en  3 non-directory files\n",
      "./.git/objects/97 consume 523.9599609375 kbytes en  6 non-directory files\n",
      "./.git/objects/63 consume 1198.591796875 kbytes en  4 non-directory files\n",
      "./.git/objects/0f consume 6046.6923828125 kbytes en  11 non-directory files\n",
      "./.git/objects/0a consume 1716.91796875 kbytes en  2 non-directory files\n",
      "./.git/objects/64 consume 3247.080078125 kbytes en  3 non-directory files\n",
      "./.git/objects/90 consume 45.060546875 kbytes en  2 non-directory files\n",
      "./.git/objects/bf consume 201.9716796875 kbytes en  3 non-directory files\n",
      "./.git/objects/d3 consume 5124.998046875 kbytes en  4 non-directory files\n",
      "./.git/objects/d4 consume 93.974609375 kbytes en  2 non-directory files\n",
      "./.git/objects/ba consume 191.6162109375 kbytes en  3 non-directory files\n",
      "./.git/objects/a7 consume 343.4033203125 kbytes en  4 non-directory files\n",
      "./.git/objects/b8 consume 203.0302734375 kbytes en  4 non-directory files\n",
      "./.git/objects/b1 consume 2.9619140625 kbytes en  3 non-directory files\n",
      "./.git/objects/dd consume 381.2822265625 kbytes en  2 non-directory files\n",
      "./.git/objects/dc consume 192.4755859375 kbytes en  2 non-directory files\n",
      "./.git/objects/b6 consume 13706.4267578125 kbytes en  6 non-directory files\n",
      "./.git/objects/a9 consume 429.044921875 kbytes en  8 non-directory files\n",
      "./.git/objects/d5 consume 665.9560546875 kbytes en  7 non-directory files\n",
      "./.git/objects/d2 consume 4289.6611328125 kbytes en  7 non-directory files\n",
      "./.git/objects/aa consume 0.12890625 kbytes en  1 non-directory files\n",
      "./.git/objects/af consume 385.2861328125 kbytes en  2 non-directory files\n",
      "./.git/objects/b7 consume 7099.41796875 kbytes en  5 non-directory files\n",
      "./.git/objects/db consume 386.369140625 kbytes en  2 non-directory files\n",
      "./.git/objects/a8 consume 1070.54296875 kbytes en  4 non-directory files\n",
      "./.git/objects/de consume 264.8251953125 kbytes en  4 non-directory files\n",
      "./.git/objects/b0 consume 201.375 kbytes en  1 non-directory files\n",
      "./.git/objects/b9 consume 187.5517578125 kbytes en  1 non-directory files\n",
      "./.git/objects/a1 consume 195.9970703125 kbytes en  4 non-directory files\n",
      "./.git/objects/ef consume 1186.41796875 kbytes en  3 non-directory files\n",
      "./.git/objects/c3 consume 6918.716796875 kbytes en  6 non-directory files\n",
      "./.git/objects/c4 consume 393.6279296875 kbytes en  4 non-directory files\n",
      "./.git/objects/ea consume 585.10546875 kbytes en  5 non-directory files\n",
      "./.git/objects/e1 consume 3499.12890625 kbytes en  6 non-directory files\n",
      "./.git/objects/cd consume 375.5087890625 kbytes en  3 non-directory files\n",
      "./.git/objects/cc consume 992.2041015625 kbytes en  6 non-directory files\n",
      "./.git/objects/e6 consume 3362.8779296875 kbytes en  8 non-directory files\n",
      "./.git/objects/f9 consume 3450.5908203125 kbytes en  5 non-directory files\n",
      "./.git/objects/f0 consume 249.654296875 kbytes en  3 non-directory files\n",
      "./.git/objects/f7 consume 9115.232421875 kbytes en  6 non-directory files\n",
      "./.git/objects/e8 consume 1909.78125 kbytes en  6 non-directory files\n",
      "./.git/objects/fa consume 5367.078125 kbytes en  2 non-directory files\n",
      "./.git/objects/ff consume 3923.337890625 kbytes en  3 non-directory files\n",
      "./.git/objects/c5 consume 990.572265625 kbytes en  7 non-directory files\n",
      "./.git/objects/c2 consume 221.15234375 kbytes en  3 non-directory files\n",
      "./.git/objects/f6 consume 3732.958984375 kbytes en  2 non-directory files\n",
      "./.git/objects/e9 consume 603.630859375 kbytes en  4 non-directory files\n",
      "./.git/objects/f1 consume 1060.876953125 kbytes en  5 non-directory files\n",
      "./.git/objects/e7 consume 3662.6943359375 kbytes en  3 non-directory files\n",
      "./.git/objects/cb consume 197.3017578125 kbytes en  3 non-directory files\n",
      "./.git/objects/f8 consume 5604.3203125 kbytes en  3 non-directory files\n",
      "./.git/objects/ce consume 201.80859375 kbytes en  4 non-directory files\n",
      "./.git/objects/e0 consume 773.9365234375 kbytes en  5 non-directory files\n",
      "./.git/objects/46 consume 5545.8798828125 kbytes en  8 non-directory files\n",
      "./.git/objects/2c consume 4510.6591796875 kbytes en  5 non-directory files\n",
      "./.git/objects/79 consume 3494.615234375 kbytes en  1 non-directory files\n",
      "./.git/objects/2d consume 67862.7275390625 kbytes en  4 non-directory files\n",
      "./.git/objects/41 consume 393.0615234375 kbytes en  4 non-directory files\n",
      "./.git/objects/83 consume 840.5517578125 kbytes en  6 non-directory files\n",
      "./.git/objects/1b consume 190.1162109375 kbytes en  1 non-directory files\n",
      "./.git/objects/77 consume 5563.791015625 kbytes en  4 non-directory files\n",
      "./.git/objects/48 consume 199.298828125 kbytes en  2 non-directory files\n",
      "./.git/objects/70 consume 1818.41015625 kbytes en  4 non-directory files\n",
      "./.git/objects/1e consume 653.0595703125 kbytes en  4 non-directory files\n",
      "./.git/objects/84 consume 3531.6162109375 kbytes en  6 non-directory files\n",
      "./.git/objects/4a consume 192.4912109375 kbytes en  1 non-directory files\n",
      "./.git/objects/24 consume 796.98046875 kbytes en  6 non-directory files\n",
      "./.git/objects/23 consume 3626.6103515625 kbytes en  1 non-directory files\n",
      "./.git/objects/4f consume 582.525390625 kbytes en  3 non-directory files\n",
      "./.git/objects/8d consume 469.2431640625 kbytes en  4 non-directory files\n",
      "./.git/objects/15 consume 410.62109375 kbytes en  5 non-directory files\n",
      "./.git/objects/12 consume 4.4501953125 kbytes en  2 non-directory files\n",
      "./.git/objects/8c consume 710.0439453125 kbytes en  1 non-directory files\n",
      "./.git/objects/85 consume 193.1533203125 kbytes en  4 non-directory files\n",
      "./.git/objects/1d consume 400.1181640625 kbytes en  4 non-directory files\n",
      "./.git/objects/71 consume 985.169921875 kbytes en  2 non-directory files\n",
      "./.git/objects/76 consume 1.69921875 kbytes en  1 non-directory files\n",
      "./.git/objects/1c consume 5383.193359375 kbytes en  6 non-directory files\n",
      "./.git/objects/82 consume 572.14453125 kbytes en  4 non-directory files\n",
      "./.git/objects/49 consume 2902.0166015625 kbytes en  3 non-directory files\n",
      "./.git/objects/2e consume 193.1650390625 kbytes en  1 non-directory files\n",
      "./.git/objects/2b consume 5.5625 kbytes en  1 non-directory files\n",
      "./.git/objects/47 consume 0.8076171875 kbytes en  2 non-directory files\n",
      "./.git/objects/78 consume 19918.7939453125 kbytes en  4 non-directory files\n",
      "./.git/objects/8b consume 194.681640625 kbytes en  2 non-directory files\n",
      "./.git/objects/13 consume 4818.1953125 kbytes en  5 non-directory files\n",
      "./.git/objects/7f consume 1541.7783203125 kbytes en  6 non-directory files\n",
      "./.git/objects/7a consume 391.9189453125 kbytes en  4 non-directory files\n",
      "./.git/objects/8e consume 193.818359375 kbytes en  3 non-directory files\n",
      "./.git/objects/22 consume 398.47265625 kbytes en  3 non-directory files\n",
      "./.git/objects/25 consume 221.08203125 kbytes en  2 non-directory files\n",
      "./.git/info consume 0.234375 kbytes en  1 non-directory files\n",
      "./.git/logs consume 3.1005859375 kbytes en  1 non-directory files\n",
      "./.git/logs/refs consume 0.189453125 kbytes en  1 non-directory files\n",
      "./.git/logs/refs/heads consume 2.939453125 kbytes en  1 non-directory files\n",
      "./.git/logs/refs/remotes consume 0.0 kbytes en  0 non-directory files\n",
      "./.git/logs/refs/remotes/origin consume 2.2578125 kbytes en  4 non-directory files\n",
      "./.git/hooks consume 22.892578125 kbytes en  13 non-directory files\n",
      "./.git/refs consume 0.0400390625 kbytes en  1 non-directory files\n",
      "./.git/refs/heads consume 0.0400390625 kbytes en  1 non-directory files\n",
      "./.git/refs/tags consume 0.0 kbytes en  0 non-directory files\n",
      "./.git/refs/remotes consume 0.0 kbytes en  0 non-directory files\n",
      "./.git/refs/remotes/origin consume 0.109375 kbytes en  3 non-directory files\n",
      "./.vscode consume 0.04296875 kbytes en  1 non-directory files\n",
      "./mypy_example consume 0.4228515625 kbytes en  1 non-directory files\n",
      "./mypy_example/.mypy_cache consume 0.21875 kbytes en  2 non-directory files\n",
      "./mypy_example/.mypy_cache/3.9 consume 4410.6953125 kbytes en  69 non-directory files\n",
      "./mypy_example/.mypy_cache/3.9/_typeshed consume 87.583984375 kbytes en  4 non-directory files\n",
      "./mypy_example/.mypy_cache/3.9/os consume 446.21875 kbytes en  8 non-directory files\n",
      "./mypy_example/.mypy_cache/3.9/importlib consume 234.3984375 kbytes en  12 non-directory files\n",
      "./mypy_example/.mypy_cache/3.9/collections consume 462.58203125 kbytes en  4 non-directory files\n",
      "./Assets consume 80327.87109375 kbytes en  37 non-directory files\n",
      "./Assets/misc consume 13701.185546875 kbytes en  39 non-directory files\n",
      "./Assets/Computer History Museum consume 238569.7998046875 kbytes en  56 non-directory files\n",
      "./Assets/Reverse a word consume 956.4287109375 kbytes en  6 non-directory files\n",
      "./Assets/Python Code consume 55.822265625 kbytes en  58 non-directory files\n",
      "./Ejercicios consume 118.384765625 kbytes en  13 non-directory files\n"
     ]
    }
   ],
   "source": [
    "import os\n",
    "from os.path import join, getsize\n",
    "for root, dirs, files in os.walk('./'):\n",
    "    print(root, \"consume \", end=\"\")\n",
    "    print(sum([getsize(join(root, name)) for name in files])/1024, end=\"\")\n",
    "    print(\" kbytes en \", len(files), \"non-directory files\")\n",
    "    if '.ipynb_checkpoints' in dirs:\n",
    "        dirs.remove('.ipynb_checkpoints')  # don't visit CVS directories"
   ]
  },
  {
   "cell_type": "markdown",
   "metadata": {
    "ein.tags": "worksheet-0",
    "slideshow": {
     "slide_type": "-"
    }
   },
   "source": [
    "### Módulo `glob`\n",
    "\n",
    "El módulo `glob` encuentra nombres de archivos (o directorios) utilizando patrones similares a los de la consola. La función más utilizada es `glob.glob()`\n",
    "Veamos algunos ejemplos de uso:"
   ]
  },
  {
   "cell_type": "code",
   "execution_count": null,
   "metadata": {
    "autoscroll": false,
    "ein.hycell": false,
    "ein.tags": "worksheet-0",
    "slideshow": {
     "slide_type": "-"
    }
   },
   "outputs": [],
   "source": [
    "import glob"
   ]
  },
  {
   "cell_type": "code",
   "execution_count": null,
   "metadata": {
    "autoscroll": false,
    "ein.hycell": false,
    "ein.tags": "worksheet-0",
    "slideshow": {
     "slide_type": "-"
    }
   },
   "outputs": [],
   "source": [
    "nb_clase4= glob.glob('04*.ipynb')"
   ]
  },
  {
   "cell_type": "code",
   "execution_count": null,
   "metadata": {
    "autoscroll": false,
    "ein.hycell": false,
    "ein.tags": "worksheet-0",
    "slideshow": {
     "slide_type": "-"
    }
   },
   "outputs": [],
   "source": [
    "nb_clase4"
   ]
  },
  {
   "cell_type": "code",
   "execution_count": null,
   "metadata": {
    "autoscroll": false,
    "ein.hycell": false,
    "ein.tags": "worksheet-0",
    "slideshow": {
     "slide_type": "-"
    }
   },
   "outputs": [],
   "source": [
    "nb_clase4.sort()"
   ]
  },
  {
   "cell_type": "code",
   "execution_count": null,
   "metadata": {
    "autoscroll": false,
    "ein.hycell": false,
    "ein.tags": "worksheet-0",
    "slideshow": {
     "slide_type": "-"
    }
   },
   "outputs": [],
   "source": [
    "nb_clase4"
   ]
  },
  {
   "cell_type": "code",
   "execution_count": null,
   "metadata": {
    "autoscroll": false,
    "ein.hycell": false,
    "ein.tags": "worksheet-0",
    "slideshow": {
     "slide_type": "-"
    }
   },
   "outputs": [],
   "source": [
    "nb_clases1a4 = glob.glob('0[0-4]*.ipynb')"
   ]
  },
  {
   "cell_type": "code",
   "execution_count": null,
   "metadata": {
    "autoscroll": false,
    "ein.hycell": false,
    "ein.tags": "worksheet-0",
    "slideshow": {
     "slide_type": "-"
    }
   },
   "outputs": [],
   "source": [
    "nb_clases1a4"
   ]
  },
  {
   "cell_type": "code",
   "execution_count": null,
   "metadata": {
    "autoscroll": false,
    "ein.hycell": false,
    "ein.tags": "worksheet-0",
    "slideshow": {
     "slide_type": "-"
    }
   },
   "outputs": [],
   "source": [
    "for f in sorted(nb_clases1a4):\n",
    "  print('Clase en archivo {}'.format(f))"
   ]
  },
  {
   "cell_type": "markdown",
   "metadata": {},
   "source": [
    "### Módulo pathlib\n",
    "\n",
    "El módulo pathlib es \"relativamente nuevo\" y tiene funcionalidades para trabajar con rutas de archivos y directorios con una tratamiento de programación orientada a objetos. Este módulo define un objeto `Path` que contiene mucha de la funcionalidad que usualmente se obtenía sólo de los módulos `os` y `glob`. Veamos algunos ejemplos simples de su uso\n"
   ]
  },
  {
   "cell_type": "code",
   "execution_count": null,
   "metadata": {},
   "outputs": [],
   "source": [
    "from pathlib import Path\n"
   ]
  },
  {
   "cell_type": "code",
   "execution_count": null,
   "metadata": {},
   "outputs": [],
   "source": [
    "direct = Path('.')\n",
    "print(direct)"
   ]
  },
  {
   "cell_type": "markdown",
   "metadata": {},
   "source": [
    "El objeto tiene un iterador que nos permite recorrer todo el directorio. Por ejemplo si queremos listar todos los subdirectorios:"
   ]
  },
  {
   "cell_type": "code",
   "execution_count": null,
   "metadata": {},
   "outputs": [],
   "source": [
    "[x for x in direct.iterdir() if x.is_dir()]"
   ]
  },
  {
   "cell_type": "markdown",
   "metadata": {},
   "source": [
    "Trabajo con rutas de archivos"
   ]
  },
  {
   "cell_type": "code",
   "execution_count": null,
   "metadata": {},
   "outputs": [],
   "source": [
    "print(direct.absolute())"
   ]
  },
  {
   "cell_type": "code",
   "execution_count": null,
   "metadata": {},
   "outputs": [],
   "source": [
    "p = direct / \"..\"\n",
    "print(p)\n",
    "print(p.resolve())"
   ]
  },
  {
   "cell_type": "markdown",
   "metadata": {},
   "source": [
    "Podemos reemplazar el módulo `glob` utilizando este objeto:"
   ]
  },
  {
   "cell_type": "code",
   "execution_count": null,
   "metadata": {},
   "outputs": [],
   "source": [
    "for fi in sorted(direct.glob(\"0[1-7]*.ipynb\") ):\n",
    "    print(fi)"
   ]
  },
  {
   "cell_type": "code",
   "execution_count": null,
   "metadata": {},
   "outputs": [],
   "source": [
    "fi = direct / \"programa_detalle.rst\"\n",
    "if fi.exists():\n",
    "    s= fi.read_text()\n",
    "print(s)"
   ]
  },
  {
   "cell_type": "markdown",
   "metadata": {
    "ein.tags": "worksheet-0",
    "slideshow": {
     "slide_type": "-"
    }
   },
   "source": [
    "### Módulo `Argparse`\n",
    "Este módulo tiene lo necesario para hacer rápidamente un programa para utilizar por línea de comandos, aceptando todo tipo de argumentos y dando información sobre su uso.\n"
   ]
  },
  {
   "cell_type": "markdown",
   "metadata": {
    "ein.tags": "worksheet-0",
    "slideshow": {
     "slide_type": "-"
    }
   },
   "source": [
    "```python\n",
    "import argparse\n",
    "VERSION = 1.0\n",
    "\n",
    "parser = argparse.ArgumentParser(\n",
    "      description='\"Mi programa que acepta argumentos por línea de comandos\"')\n",
    "\n",
    "parser.add_argument('-V', '--version', action='version',\n",
    "                      version='%(prog)s version {}'.format(VERSION))\n",
    "  \n",
    "parser.add_argument('-n', '--entero', action=store, dest='n', default=1)\n",
    "\n",
    "args = parser.parse_args()\n",
    "```"
   ]
  },
  {
   "cell_type": "markdown",
   "metadata": {
    "ein.tags": "worksheet-0",
    "slideshow": {
     "slide_type": "-"
    }
   },
   "source": [
    "Más información en la [biblioteca standard](https://docs.python.org/3.6/library/argparse.html) y en [Argparse en Python Module of the week ](https://pymotw.com/3/argparse/index.html)"
   ]
  },
  {
   "cell_type": "markdown",
   "metadata": {
    "ein.tags": "worksheet-0",
    "slideshow": {
     "slide_type": "-"
    }
   },
   "source": [
    "### Módulo `re`\n",
    "Este módulo provee la infraestructura para trabajar con *regular expressions*, es decir para encontrar expresiones que verifican \"cierta forma general\". Veamos algunos conceptos básicos y casos más comunes de uso."
   ]
  },
  {
   "cell_type": "markdown",
   "metadata": {
    "ein.tags": "worksheet-0",
    "slideshow": {
     "slide_type": "-"
    }
   },
   "source": [
    "#### Búsqueda de un patrón en un texto\n",
    "\n",
    "Empecemos con un ejemplo bastante común. Para encontrar un patrón en un texto podemos utilizar el método `search()`\n"
   ]
  },
  {
   "cell_type": "code",
   "execution_count": null,
   "metadata": {
    "autoscroll": false,
    "ein.hycell": false,
    "ein.tags": "worksheet-0",
    "slideshow": {
     "slide_type": "-"
    }
   },
   "outputs": [],
   "source": [
    "import re"
   ]
  },
  {
   "cell_type": "code",
   "execution_count": null,
   "metadata": {
    "autoscroll": false,
    "ein.hycell": false,
    "ein.tags": "worksheet-0",
    "slideshow": {
     "slide_type": "-"
    }
   },
   "outputs": [],
   "source": [
    "busca = 'un'\n",
    "texto = 'Otra vez vamos a usar \"Hola Mundo\"'\n",
    "\n",
    "match = re.search(busca, texto)\n",
    "\n",
    "print('Encontré \"{}\"\\nen:\\n  \"{}\"'.format(match.re.pattern, match.string))\n",
    "print('En las posiciones {} a {}'.format(match.start(), match.end()))"
   ]
  },
  {
   "cell_type": "markdown",
   "metadata": {
    "ein.tags": "worksheet-0",
    "slideshow": {
     "slide_type": "-"
    }
   },
   "source": [
    "Acá buscamos una expresión (el substring \"un\"). Esto es útil pero no muy diferente a utilizar los métodos de strings. Veamos como se definen los patrones."
   ]
  },
  {
   "cell_type": "markdown",
   "metadata": {
    "ein.tags": "worksheet-0",
    "slideshow": {
     "slide_type": "-"
    }
   },
   "source": [
    "#### Definición de expresiones\n",
    "\n",
    "Vamos a buscar un patrón en un texto. Veamos cómo se definen los patrones a buscar.\n",
    "\n",
    "- La mayoría de los caracteres se identifican consigo mismo (si quiero encontrar \"gato\", uso como patrón \"gato\")\n",
    "\n",
    "- Hay unos pocos caracteres especiales (metacaracteres) que tienen un significado especial, estos son:\n",
    "  ```\n",
    "  . ^ $ * + ? { } [ ] \\ | ( )\n",
    "  ```\n",
    "\n",
    "- Si queremos encontrar uno de los metacaracteres, tenemos que precederlos de `\\`. Por ejemplo si queremos encontrar un corchete usamos `\\[`\n",
    "\n",
    "- Los corchetes \"[\" y \"]\" se usan para definir una clase de caracteres, que es un conjunto de caracteres que uno quiere encontrar.\n",
    "\n",
    "  - Los caracteres a encontrar se pueden dar individualmente. Por ejemplo `[gato]` encontrará cualquiera de `g`, `a`, `t`, `o`.\n",
    "  - Un rango de caracteres se puede dar dando dos caracteres separados por un guión. Por ejemplo `[a-z]` dará cualquier letra entre \"a\" y \"z\". Similarmente `[0-5][0-9]` dará cualquier número entre \"00\" y \"59\".\n",
    "  - Los metacaracteres pierden su significado especial dentro de los corchetes. Por ejemplo `[.*)]` encontrará cualquiera de \".\", \"*\", \")\".\n",
    "\n",
    "- El punto `.` indica *cualquier caracter*\n",
    "\n",
    "- Los símbolos `*`, `+`, `?` indican repetición:\n",
    "\n",
    "  - `?`: Indica 0 o 1 aparición de lo anterior\n",
    "  - `*`: Indica 0 o más apariciones de lo anterior\n",
    "  - `+`: Indica 1 o más apariciones de lo anterior"
   ]
  },
  {
   "cell_type": "code",
   "execution_count": null,
   "metadata": {
    "autoscroll": false,
    "ein.hycell": false,
    "ein.tags": "worksheet-0",
    "slideshow": {
     "slide_type": "-"
    }
   },
   "outputs": [],
   "source": [
    "busca = \"[a-z]+@[a-z]+\\.[a-z]+\" # Un patrón para buscar direcciones de email\n",
    "texto = \"nombre@server.com, apellido@server1.com, nombre1995@server.com, UnNombreyApellido, nombre.apellido82@servidor.com.ar, Nombre.Apellido82@servidor.com.ar\".split(',')\n",
    "print(texto,'\\n')\n",
    "\n",
    "for direc in texto:\n",
    "  m= re.search(busca, direc)\n",
    "  print('Para la línea:', direc)\n",
    "  if m is None:\n",
    "    print('   No encontré dirección de correo!')\n",
    "  else:\n",
    "    print('   Encontré la dirección de correo:', m.string)\n",
    "\n"
   ]
  },
  {
   "cell_type": "markdown",
   "metadata": {
    "ein.tags": "worksheet-0",
    "slideshow": {
     "slide_type": "-"
    }
   },
   "source": [
    "- Acá la expresión `[a-z]` significa todos los caracteres en el rango \"a\" hasta \"z\".\n",
    "- `[a-z]+` significa cualquier secuencia de una letra o más.\n",
    "\n",
    "- Los corchetes también se pueden usar en la forma `[abc]` y entonces encuentra *cualquiera* de `a`, `b`, o `c`.\n",
    "\n",
    "Vemos que no encontró todas las direcciones posibles. Porque el patrón no está bien diseñado. Un poco mejor sería:"
   ]
  },
  {
   "cell_type": "code",
   "execution_count": null,
   "metadata": {
    "autoscroll": false,
    "ein.hycell": false,
    "ein.tags": "worksheet-0",
    "slideshow": {
     "slide_type": "-"
    }
   },
   "outputs": [],
   "source": [
    "busca = \"[a-zA-Z0-9.]+@[a-z.]+\" # Un patrón para buscar direcciones de email\n",
    "\n",
    "print(texto,'\\n')\n",
    "\n",
    "for direc in texto:\n",
    "  m= re.search(busca, direc)\n",
    "  print('Para la línea:', direc)\n",
    "  if m is None:\n",
    "    print('   No encontré dirección de correo:')\n",
    "  else:\n",
    "    print('   Encontré la dirección de correo:', m.group())\n",
    "\n"
   ]
  },
  {
   "cell_type": "markdown",
   "metadata": {
    "ein.tags": "worksheet-0",
    "slideshow": {
     "slide_type": "-"
    }
   },
   "source": [
    "Los metacaracteres no se activan dentro de clases (adentro de corchetes). En el ejemplo anterior el punto `.` actúa como un punto y no como un metacaracter. En este caso, la primera parte: `[a-zA-Z0-9.]+` significa: \"Encontrar cualquier letra minúscula, mayúscula, número o punto, una o más veces cualquiera de ellos\""
   ]
  },
  {
   "cell_type": "markdown",
   "metadata": {
    "ein.tags": "worksheet-0",
    "slideshow": {
     "slide_type": "-"
    }
   },
   "source": [
    "#### Repetición de un patrón\n",
    "\n",
    "Si queremos encontrar strings que presentan la secuencia una o más veces podemos usar `findall()` que devuelve todas las ocurrencias del patrón que no se superponen. Por ejemplo:"
   ]
  },
  {
   "cell_type": "code",
   "execution_count": null,
   "metadata": {
    "autoscroll": false,
    "ein.hycell": false,
    "ein.tags": "worksheet-0",
    "slideshow": {
     "slide_type": "-"
    }
   },
   "outputs": [],
   "source": [
    "texto = 'abbaaabbbbaaaaa'\n",
    "\n",
    "busca = 'ab'\n",
    "\n",
    "mm =  re.findall(busca, texto)\n",
    "print(mm)    \n",
    "print(type(mm[0]))\n",
    "for m in mm:\n",
    "    print('Encontré {}'.format(m))\n"
   ]
  },
  {
   "cell_type": "code",
   "execution_count": null,
   "metadata": {
    "autoscroll": false,
    "ein.hycell": false,
    "ein.tags": "worksheet-0",
    "slideshow": {
     "slide_type": "-"
    }
   },
   "outputs": [],
   "source": [
    "p = re.compile('abc*')\n",
    "m= p.findall('acholaboy')\n",
    "print(m)\n",
    "m= p.findall('acholabcoynd sabcccs slabc labdc abc')\n",
    "print(m)"
   ]
  },
  {
   "attachments": {},
   "cell_type": "markdown",
   "metadata": {
    "ein.tags": "worksheet-0",
    "slideshow": {
     "slide_type": "-"
    }
   },
   "source": [
    "Si va a utilizar expresiones regulares es recomendable que lea más información en la [biblioteca standard](https://docs.python.org/3.6/library/re.html), en [el HOWTO](https://docs.python.org/3.6/howto/regex.html) y en [Python Module of the week](https://pymotw.com/3/re/index.html). \n",
    "\n",
    "Para practicar RegEx, [ésta es una buena página](https://regexone.com/)."
   ]
  }
 ],
 "metadata": {
  "kernelspec": {
   "display_name": "base",
   "language": "python",
   "name": "python3"
  },
  "language_info": {
   "codemirror_mode": {
    "name": "ipython",
    "version": 3
   },
   "file_extension": ".py",
   "mimetype": "text/x-python",
   "name": "python",
   "nbconvert_exporter": "python",
   "pygments_lexer": "ipython3",
   "version": "3.9.5"
  },
  "name": "07_modulos_biblioteca.ipynb",
  "toc": {
   "base_numbering": 1,
   "nav_menu": {
    "height": "213.583px",
    "width": "252px"
   },
   "number_sections": false,
   "sideBar": true,
   "skip_h1_title": true,
   "title_cell": "Contenidos",
   "title_sidebar": "Contenidos",
   "toc_cell": false,
   "toc_position": {
    "height": "calc(100% - 180px)",
    "left": "10px",
    "top": "150px",
    "width": "227.667px"
   },
   "toc_section_display": true,
   "toc_window_display": false
  },
  "vscode": {
   "interpreter": {
    "hash": "3d597f4c481aa0f25dceb95d2a0067e73c0966dcbd003d741d821a7208527ecf"
   }
  }
 },
 "nbformat": 4,
 "nbformat_minor": 1
}
