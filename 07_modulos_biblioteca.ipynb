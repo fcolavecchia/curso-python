{
 "cells": [
  {
   "cell_type": "markdown",
   "metadata": {
    "ein.tags": "worksheet-0",
    "slideshow": {
     "slide_type": "-"
    }
   },
   "source": [
    "## Algunos módulos (biblioteca standard)  <a class=\"tocSkip\">"
   ]
  },
  {
   "cell_type": "markdown",
   "metadata": {
    "ein.tags": "worksheet-0",
    "slideshow": {
     "slide_type": "-"
    }
   },
   "source": [
    "Los módulos pueden pensarse como bibliotecas de objetos (funciones, datos, etc) que pueden usarse según la necesidad. Hay una biblioteca standard con rutinas para muchas operaciones comunes, y además existen muchos paquetes específicos para distintas tareas. Veamos algunos ejemplos:\n",
    "\n",
    "### Módulo sys\n",
    "\n",
    "Este módulo da acceso a variables que usa o mantiene el intérprete Python"
   ]
  },
  {
   "cell_type": "code",
   "execution_count": 17,
   "metadata": {
    "autoscroll": false,
    "ein.hycell": false,
    "ein.tags": "worksheet-0",
    "slideshow": {
     "slide_type": "-"
    }
   },
   "outputs": [],
   "source": [
    "import sys"
   ]
  },
  {
   "cell_type": "code",
   "execution_count": 18,
   "metadata": {
    "autoscroll": false,
    "ein.hycell": false,
    "ein.tags": "worksheet-0",
    "slideshow": {
     "slide_type": "-"
    }
   },
   "outputs": [
    {
     "data": {
      "text/plain": [
       "['/home/fiol/Clases/IntPython/clases-python/clases',\n",
       " '/usr/lib64/python310.zip',\n",
       " '/usr/lib64/python3.10',\n",
       " '/usr/lib64/python3.10/lib-dynload',\n",
       " '',\n",
       " '/home/fiol/.local/lib/python3.10/site-packages',\n",
       " '/usr/lib64/python3.10/site-packages',\n",
       " '/usr/lib/python3.10/site-packages',\n",
       " '/usr/lib/python3.10/site-packages/IPython/extensions',\n",
       " '/home/fiol/.ipython']"
      ]
     },
     "execution_count": 18,
     "metadata": {},
     "output_type": "execute_result"
    }
   ],
   "source": [
    "sys.path"
   ]
  },
  {
   "cell_type": "code",
   "execution_count": 19,
   "metadata": {
    "autoscroll": false,
    "ein.hycell": false,
    "ein.tags": "worksheet-0",
    "slideshow": {
     "slide_type": "-"
    }
   },
   "outputs": [
    {
     "data": {
      "text/plain": [
       "'utf-8'"
      ]
     },
     "execution_count": 19,
     "metadata": {},
     "output_type": "execute_result"
    }
   ],
   "source": [
    "sys.getfilesystemencoding()"
   ]
  },
  {
   "cell_type": "code",
   "execution_count": 20,
   "metadata": {
    "autoscroll": false,
    "ein.hycell": false,
    "ein.tags": "worksheet-0",
    "slideshow": {
     "slide_type": "-"
    }
   },
   "outputs": [
    {
     "data": {
      "text/plain": [
       "28"
      ]
     },
     "execution_count": 20,
     "metadata": {},
     "output_type": "execute_result"
    }
   ],
   "source": [
    "sys.getsizeof(1)"
   ]
  },
  {
   "cell_type": "code",
   "execution_count": 21,
   "metadata": {
    "autoscroll": false,
    "ein.hycell": false,
    "ein.tags": "worksheet-0",
    "slideshow": {
     "slide_type": "-"
    }
   },
   "outputs": [
    {
     "name": "stdout",
     "output_type": "stream",
     "text": [
      "Help on built-in function getsizeof in module sys:\n",
      "\n",
      "getsizeof(...)\n",
      "    getsizeof(object [, default]) -> int\n",
      "    \n",
      "    Return the size of object in bytes.\n",
      "\n"
     ]
    }
   ],
   "source": [
    "help(sys.getsizeof)"
   ]
  },
  {
   "cell_type": "markdown",
   "metadata": {
    "ein.tags": "worksheet-0",
    "slideshow": {
     "slide_type": "-"
    }
   },
   "source": [
    "Vemos que para utilizar las variables (path) o funciones (getsizeof) debemos referirlo anteponiendo el módulo en el cuál está definido (sys) y separado por un punto.\n",
    "\n",
    "Cuando hacemos un programa, con definición de variables y funciones. Podemos utilizarlo como un módulo, de la misma manera que los que ya vienen definidos en la biblioteca standard o en los paquetes que instalamos."
   ]
  },
  {
   "cell_type": "markdown",
   "metadata": {
    "ein.tags": "worksheet-0",
    "slideshow": {
     "slide_type": "-"
    }
   },
   "source": [
    "### Módulo `os`\n",
    "\n",
    "El módulo `os` tiene utilidades para operar sobre nombres de archivos y directorios de manera segura y portable, de manera que pueda utilizarse en distintos sistemas operativos. Vamos a ver ejemplos de uso de algunas facilidades que brinda:"
   ]
  },
  {
   "cell_type": "code",
   "execution_count": 22,
   "metadata": {
    "autoscroll": false,
    "ein.hycell": false,
    "ein.tags": "worksheet-0",
    "slideshow": {
     "slide_type": "-"
    }
   },
   "outputs": [
    {
     "name": "stdout",
     "output_type": "stream",
     "text": [
      ".\n",
      "..\n",
      "/home/fiol/Clases/IntPython/clases-python/clases\n"
     ]
    }
   ],
   "source": [
    "import os\n",
    "\n",
    "print(os.curdir)\n",
    "print(os.pardir)\n",
    "print (os.getcwd())"
   ]
  },
  {
   "cell_type": "code",
   "execution_count": 23,
   "metadata": {
    "autoscroll": false,
    "ein.hycell": false,
    "ein.tags": "worksheet-0",
    "slideshow": {
     "slide_type": "-"
    }
   },
   "outputs": [
    {
     "name": "stdout",
     "output_type": "stream",
     "text": [
      "/home/fiol/Clases/IntPython/clases-python/clases\n",
      "/home/fiol/Clases/IntPython/clases-python\n"
     ]
    }
   ],
   "source": [
    "cur = os.getcwd()\n",
    "par = os.path.abspath(\"..\")\n",
    "print(cur)\n",
    "print(par)\n"
   ]
  },
  {
   "cell_type": "code",
   "execution_count": 26,
   "metadata": {
    "autoscroll": false,
    "ein.hycell": false,
    "ein.tags": "worksheet-0",
    "slideshow": {
     "slide_type": "-"
    }
   },
   "outputs": [
    {
     "name": "stdout",
     "output_type": "stream",
     "text": [
      "/home/fiol/Clases/IntPython/clases-python/clases\n",
      "/home/fiol/Clases/IntPython/clases-python/clases\n"
     ]
    }
   ],
   "source": [
    "print(os.path.abspath(os.curdir))\n",
    "print(os.getcwd())"
   ]
  },
  {
   "cell_type": "code",
   "execution_count": 27,
   "metadata": {
    "autoscroll": false,
    "ein.hycell": false,
    "ein.tags": "worksheet-0",
    "slideshow": {
     "slide_type": "-"
    }
   },
   "outputs": [
    {
     "name": "stdout",
     "output_type": "stream",
     "text": [
      "clases\n",
      "('', '/home/fiol/Clases/IntPython/clases-python/clases')\n"
     ]
    }
   ],
   "source": [
    "print(os.path.basename(cur))\n",
    "print(os.path.splitdrive(cur))"
   ]
  },
  {
   "cell_type": "code",
   "execution_count": 28,
   "metadata": {
    "autoscroll": false,
    "ein.hycell": false,
    "ein.tags": "worksheet-0",
    "slideshow": {
     "slide_type": "-"
    }
   },
   "outputs": [
    {
     "name": "stdout",
     "output_type": "stream",
     "text": [
      "/home/fiol/Clases/IntPython/clases-python\n",
      "/home/fiol/Clases/IntPython/clases-python/este/otro.dat\n",
      "('/home/fiol/Clases/IntPython/clases-python/este', 'otro.dat')\n",
      "('/home/fiol/Clases/IntPython/clases-python/este/otro', '.dat')\n",
      "False\n",
      "True\n"
     ]
    }
   ],
   "source": [
    "print(os.path.commonprefix((cur, par)))\n",
    "archivo = os.path.join(par,'este' , 'otro.dat')\n",
    "print (archivo)\n",
    "print (os.path.split(archivo))\n",
    "print (os.path.splitext(archivo))\n",
    "print (os.path.exists(archivo))\n",
    "print (os.path.exists(cur))\n"
   ]
  },
  {
   "cell_type": "markdown",
   "metadata": {
    "ein.tags": "worksheet-0",
    "slideshow": {
     "slide_type": "-"
    }
   },
   "source": [
    "Como es aparente de estos ejemplos, se puede acceder a todos los objetos (funciones, variables) de un módulo utilizando simplemente la línea `import <modulo>` pero puede ser tedioso escribir todo con prefijos (como `os.path.abspath`) por lo que existen dos alternativas que pueden ser más convenientes. La primera corresponde a importar todas las definiciones de un módulo en forma implícita:"
   ]
  },
  {
   "cell_type": "code",
   "execution_count": 29,
   "metadata": {
    "autoscroll": false,
    "ein.hycell": false,
    "ein.tags": "worksheet-0",
    "slideshow": {
     "slide_type": "-"
    }
   },
   "outputs": [],
   "source": [
    "from os import *"
   ]
  },
  {
   "cell_type": "markdown",
   "metadata": {
    "ein.tags": "worksheet-0",
    "slideshow": {
     "slide_type": "-"
    }
   },
   "source": [
    "Después de esta declaración usamos los objetos de la misma manera que antes pero obviando la parte de `os.`"
   ]
  },
  {
   "cell_type": "code",
   "execution_count": 30,
   "metadata": {
    "autoscroll": false,
    "ein.hycell": false,
    "ein.tags": "worksheet-0",
    "slideshow": {
     "slide_type": "-"
    }
   },
   "outputs": [
    {
     "data": {
      "text/plain": [
       "'/home/fiol/Clases/IntPython/clases-python/clases'"
      ]
     },
     "execution_count": 30,
     "metadata": {},
     "output_type": "execute_result"
    }
   ],
   "source": [
    "path.abspath(curdir)"
   ]
  },
  {
   "cell_type": "markdown",
   "metadata": {
    "ein.tags": "worksheet-0",
    "slideshow": {
     "slide_type": "-"
    }
   },
   "source": [
    "Esto es conveniente en algunos casos pero no suele ser una buena idea en programas largos ya que distintos módulos pueden definir el mismo nombre, y se pierde información sobre su origen. Una alternativa que es conveniente y permite mantener mejor control es importar explícitamente lo que vamos a usar:"
   ]
  },
  {
   "cell_type": "code",
   "execution_count": 31,
   "metadata": {
    "autoscroll": false,
    "ein.hycell": false,
    "ein.tags": "worksheet-0",
    "slideshow": {
     "slide_type": "-"
    }
   },
   "outputs": [
    {
     "name": "stdout",
     "output_type": "stream",
     "text": [
      "/home/fiol/Clases/IntPython/clases-python\n",
      "/home/fiol/Clases/IntPython/clases-python/clases\n",
      "/home/fiol/Clases/IntPython/clases-python/clases\n"
     ]
    }
   ],
   "source": [
    "from os import curdir, pardir, getcwd\n",
    "from os.path import abspath\n",
    "print(abspath(pardir))\n",
    "print(abspath(curdir))\n",
    "print(abspath(getcwd()))\n"
   ]
  },
  {
   "cell_type": "markdown",
   "metadata": {
    "ein.tags": "worksheet-0",
    "slideshow": {
     "slide_type": "-"
    }
   },
   "source": [
    "Además podemos darle un nombre diferente al importar módulos u objetos"
   ]
  },
  {
   "cell_type": "code",
   "execution_count": 32,
   "metadata": {
    "autoscroll": false,
    "ein.hycell": false,
    "ein.tags": "worksheet-0",
    "slideshow": {
     "slide_type": "-"
    }
   },
   "outputs": [],
   "source": [
    "import os.path as path\n",
    "from os import getenv as ge\n"
   ]
  },
  {
   "cell_type": "code",
   "execution_count": 33,
   "metadata": {
    "autoscroll": false,
    "ein.hycell": false,
    "ein.tags": "worksheet-0",
    "slideshow": {
     "slide_type": "-"
    }
   },
   "outputs": [
    {
     "name": "stdout",
     "output_type": "stream",
     "text": [
      "Help on function getenv in module os:\n",
      "\n",
      "getenv(key, default=None)\n",
      "    Get an environment variable, return None if it doesn't exist.\n",
      "    The optional second argument can specify an alternate default.\n",
      "    key, default and the result are str.\n",
      "\n"
     ]
    }
   ],
   "source": [
    "help(ge)"
   ]
  },
  {
   "cell_type": "code",
   "execution_count": 34,
   "metadata": {
    "autoscroll": false,
    "ein.hycell": false,
    "ein.tags": "worksheet-0",
    "slideshow": {
     "slide_type": "-"
    }
   },
   "outputs": [
    {
     "data": {
      "text/plain": [
       "'/home/fiol'"
      ]
     },
     "execution_count": 34,
     "metadata": {},
     "output_type": "execute_result"
    }
   ],
   "source": [
    "ge('HOME')"
   ]
  },
  {
   "cell_type": "code",
   "execution_count": 35,
   "metadata": {
    "autoscroll": false,
    "ein.hycell": false,
    "ein.tags": "worksheet-0",
    "slideshow": {
     "slide_type": "-"
    }
   },
   "outputs": [
    {
     "data": {
      "text/plain": [
       "'/home/fiol/Clases/IntPython/clases-python/clases'"
      ]
     },
     "execution_count": 35,
     "metadata": {},
     "output_type": "execute_result"
    }
   ],
   "source": [
    "path.realpath(curdir)"
   ]
  },
  {
   "cell_type": "markdown",
   "metadata": {
    "ein.tags": "worksheet-0",
    "slideshow": {
     "slide_type": "-"
    }
   },
   "source": [
    "Acá hemos importado el módulo `os.path` (es un sub-módulo) como `path` y la función `getenv` del módulo `os` y la hemos renombrado `ge`."
   ]
  },
  {
   "cell_type": "code",
   "execution_count": 36,
   "metadata": {
    "autoscroll": false,
    "collapsed": true,
    "ein.hycell": false,
    "ein.tags": "worksheet-0",
    "slideshow": {
     "slide_type": "-"
    }
   },
   "outputs": [
    {
     "name": "stdout",
     "output_type": "stream",
     "text": [
      "Help on function walk in module os:\n",
      "\n",
      "walk(top, topdown=True, onerror=None, followlinks=False)\n",
      "    Directory tree generator.\n",
      "    \n",
      "    For each directory in the directory tree rooted at top (including top\n",
      "    itself, but excluding '.' and '..'), yields a 3-tuple\n",
      "    \n",
      "        dirpath, dirnames, filenames\n",
      "    \n",
      "    dirpath is a string, the path to the directory.  dirnames is a list of\n",
      "    the names of the subdirectories in dirpath (excluding '.' and '..').\n",
      "    filenames is a list of the names of the non-directory files in dirpath.\n",
      "    Note that the names in the lists are just names, with no path components.\n",
      "    To get a full path (which begins with top) to a file or directory in\n",
      "    dirpath, do os.path.join(dirpath, name).\n",
      "    \n",
      "    If optional arg 'topdown' is true or not specified, the triple for a\n",
      "    directory is generated before the triples for any of its subdirectories\n",
      "    (directories are generated top down).  If topdown is false, the triple\n",
      "    for a directory is generated after the triples for all of its\n",
      "    subdirectories (directories are generated bottom up).\n",
      "    \n",
      "    When topdown is true, the caller can modify the dirnames list in-place\n",
      "    (e.g., via del or slice assignment), and walk will only recurse into the\n",
      "    subdirectories whose names remain in dirnames; this can be used to prune the\n",
      "    search, or to impose a specific order of visiting.  Modifying dirnames when\n",
      "    topdown is false has no effect on the behavior of os.walk(), since the\n",
      "    directories in dirnames have already been generated by the time dirnames\n",
      "    itself is generated. No matter the value of topdown, the list of\n",
      "    subdirectories is retrieved before the tuples for the directory and its\n",
      "    subdirectories are generated.\n",
      "    \n",
      "    By default errors from the os.scandir() call are ignored.  If\n",
      "    optional arg 'onerror' is specified, it should be a function; it\n",
      "    will be called with one argument, an OSError instance.  It can\n",
      "    report the error to continue with the walk, or raise the exception\n",
      "    to abort the walk.  Note that the filename is available as the\n",
      "    filename attribute of the exception object.\n",
      "    \n",
      "    By default, os.walk does not follow symbolic links to subdirectories on\n",
      "    systems that support them.  In order to get this functionality, set the\n",
      "    optional argument 'followlinks' to true.\n",
      "    \n",
      "    Caution:  if you pass a relative pathname for top, don't change the\n",
      "    current working directory between resumptions of walk.  walk never\n",
      "    changes the current directory, and assumes that the client doesn't\n",
      "    either.\n",
      "    \n",
      "    Example:\n",
      "    \n",
      "    import os\n",
      "    from os.path import join, getsize\n",
      "    for root, dirs, files in os.walk('python/Lib/email'):\n",
      "        print(root, \"consumes\", end=\"\")\n",
      "        print(sum(getsize(join(root, name)) for name in files), end=\"\")\n",
      "        print(\"bytes in\", len(files), \"non-directory files\")\n",
      "        if 'CVS' in dirs:\n",
      "            dirs.remove('CVS')  # don't visit CVS directories\n",
      "\n"
     ]
    }
   ],
   "source": [
    "help(os.walk)"
   ]
  },
  {
   "cell_type": "code",
   "execution_count": 37,
   "metadata": {
    "autoscroll": false,
    "collapsed": true,
    "ein.hycell": false,
    "ein.tags": "worksheet-0",
    "slideshow": {
     "slide_type": "-"
    }
   },
   "outputs": [
    {
     "name": "stdout",
     "output_type": "stream",
     "text": [
      "./ consume 16900.9248046875 kbytes en  91 non-directory files\n",
      "./09_intro_visualizacion_files consume 340.0712890625 kbytes en  23 non-directory files\n",
      "./09_mas_numpy_matplotlib_files consume 87.013671875 kbytes en  5 non-directory files\n",
      "./10_entrada_salida_files consume 210.708984375 kbytes en  13 non-directory files\n",
      "./10_mas_numpy_files consume 120.490234375 kbytes en  6 non-directory files\n",
      "./11_intro_scipy_files consume 77.0185546875 kbytes en  4 non-directory files\n",
      "./12_fiteos_files consume 1325.1513671875 kbytes en  46 non-directory files\n",
      "./13_graficacion3d_files consume 818.3916015625 kbytes en  25 non-directory files\n",
      "./13_miscelaneas_files consume 414.314453125 kbytes en  10 non-directory files\n",
      "./14_fft_files consume 1186.970703125 kbytes en  27 non-directory files\n",
      "./14_interactivo_files consume 271.9951171875 kbytes en  6 non-directory files\n",
      "./explicacion_ejercicio_agujas_files consume 8.73828125 kbytes en  2 non-directory files\n",
      "./scripts consume 757.1904296875 kbytes en  52 non-directory files\n",
      "./scripts/animaciones consume 370.13671875 kbytes en  11 non-directory files\n",
      "./scripts/interfacing consume 1062.0107421875 kbytes en  22 non-directory files\n",
      "./scripts/interfacing/__pycache__ consume 1.69140625 kbytes en  2 non-directory files\n",
      "./version-control consume 55.796875 kbytes en  10 non-directory files\n",
      "./version-control/_images consume 200.9833984375 kbytes en  4 non-directory files\n",
      "./version-control/_sources consume 15.384765625 kbytes en  4 non-directory files\n",
      "./version-control/_static consume 827.212890625 kbytes en  25 non-directory files\n",
      "./version-control/_static/css consume 116.8828125 kbytes en  2 non-directory files\n",
      "./version-control/_static/fonts consume 4132.6220703125 kbytes en  13 non-directory files\n",
      "./version-control/_static/fonts/Lato consume 5672.4013671875 kbytes en  16 non-directory files\n",
      "./version-control/_static/fonts/RobotoSlab consume 786.3271484375 kbytes en  8 non-directory files\n",
      "./version-control/_static/js consume 19.341796875 kbytes en  2 non-directory files\n"
     ]
    }
   ],
   "source": [
    "import os\n",
    "from os.path import join, getsize\n",
    "for root, dirs, files in os.walk('./'):\n",
    "    print(root, \"consume \", end=\"\")\n",
    "    print(sum([getsize(join(root, name)) for name in files])/1024, end=\"\")\n",
    "    print(\" kbytes en \", len(files), \"non-directory files\")\n",
    "    if '.ipynb_checkpoints' in dirs:\n",
    "        dirs.remove('.ipynb_checkpoints')  # don't visit CVS directories"
   ]
  },
  {
   "cell_type": "markdown",
   "metadata": {
    "ein.tags": "worksheet-0",
    "slideshow": {
     "slide_type": "-"
    }
   },
   "source": [
    "### Módulo `subprocess`\n",
    "\n",
    "El módulo subprocess permite ejecutar nuevos procesos, proveerle de datos de entrada, y capturar su salida."
   ]
  },
  {
   "cell_type": "code",
   "execution_count": 38,
   "metadata": {
    "autoscroll": false,
    "ein.hycell": false,
    "ein.tags": "worksheet-0",
    "slideshow": {
     "slide_type": "-"
    }
   },
   "outputs": [],
   "source": [
    "import subprocess as sub"
   ]
  },
  {
   "cell_type": "code",
   "execution_count": 39,
   "metadata": {
    "autoscroll": false,
    "ein.hycell": false,
    "ein.tags": "worksheet-0",
    "slideshow": {
     "slide_type": "-"
    }
   },
   "outputs": [
    {
     "data": {
      "text/plain": [
       "CompletedProcess(args=['ls', '-l'], returncode=0)"
      ]
     },
     "execution_count": 39,
     "metadata": {},
     "output_type": "execute_result"
    }
   ],
   "source": [
    "sub.run([\"ls\", \"-l\"])"
   ]
  },
  {
   "cell_type": "markdown",
   "metadata": {
    "ein.tags": "worksheet-0",
    "slideshow": {
     "slide_type": "-"
    }
   },
   "source": [
    "En esta forma, la función `run` ejecuta el comando `ls` (listar) con el argumento `-l`, y **no** captura la salida.\n",
    "Si queremos guardar la salida, podemos usar el argumento `stdout`:"
   ]
  },
  {
   "cell_type": "code",
   "execution_count": 40,
   "metadata": {
    "autoscroll": false,
    "ein.hycell": false,
    "ein.tags": "worksheet-0",
    "slideshow": {
     "slide_type": "-"
    }
   },
   "outputs": [],
   "source": [
    "ll = sub.run([\"ls\", \"-l\"], stdout=sub.PIPE)"
   ]
  },
  {
   "cell_type": "markdown",
   "metadata": {
    "ein.tags": "worksheet-0",
    "slideshow": {
     "slide_type": "-"
    }
   },
   "source": [
    "La variable `ll` tiene el objeto retornado por `run`. y podemos acceder a la salida mediante `ll.stdout`"
   ]
  },
  {
   "cell_type": "code",
   "execution_count": 41,
   "metadata": {
    "autoscroll": false,
    "ein.hycell": false,
    "ein.tags": "worksheet-0",
    "slideshow": {
     "slide_type": "-"
    }
   },
   "outputs": [],
   "source": [
    "ff= ll.stdout.splitlines()"
   ]
  },
  {
   "cell_type": "code",
   "execution_count": 42,
   "metadata": {
    "autoscroll": false,
    "ein.hycell": false,
    "ein.tags": "worksheet-0",
    "slideshow": {
     "slide_type": "-"
    }
   },
   "outputs": [
    {
     "name": "stdout",
     "output_type": "stream",
     "text": [
      "-rw-r--r--. 1 fiol fiol   43425 feb 14 15:32 04_1_funciones.ipynb\n",
      "-rw-r--r--. 1 fiol fiol   34790 feb 14 16:42 04_2_func_args.ipynb\n"
     ]
    }
   ],
   "source": [
    "for f in ff:\n",
    "  if 'ipynb' in str(f) and '04_' in str(f):\n",
    "    print(f.decode('utf-8'))"
   ]
  },
  {
   "cell_type": "markdown",
   "metadata": {
    "ein.tags": "worksheet-0",
    "slideshow": {
     "slide_type": "-"
    }
   },
   "source": [
    "### Módulo `glob`\n",
    "\n",
    "El módulo `glob` encuentra nombres de archivos (o directorios) utilizando patrones similares a los de la consola. La función más utilizada es `glob.glob()`\n",
    "Veamos algunos ejemplos de uso:"
   ]
  },
  {
   "cell_type": "code",
   "execution_count": 44,
   "metadata": {
    "autoscroll": false,
    "ein.hycell": false,
    "ein.tags": "worksheet-0",
    "slideshow": {
     "slide_type": "-"
    }
   },
   "outputs": [],
   "source": [
    "import glob"
   ]
  },
  {
   "cell_type": "code",
   "execution_count": 45,
   "metadata": {
    "autoscroll": false,
    "ein.hycell": false,
    "ein.tags": "worksheet-0",
    "slideshow": {
     "slide_type": "-"
    }
   },
   "outputs": [],
   "source": [
    "nb_clase4= glob.glob('04*.ipynb')"
   ]
  },
  {
   "cell_type": "code",
   "execution_count": 46,
   "metadata": {
    "autoscroll": false,
    "ein.hycell": false,
    "ein.tags": "worksheet-0",
    "slideshow": {
     "slide_type": "-"
    }
   },
   "outputs": [
    {
     "data": {
      "text/plain": [
       "['04_1_funciones.ipynb', '04_2_func_args.ipynb']"
      ]
     },
     "execution_count": 46,
     "metadata": {},
     "output_type": "execute_result"
    }
   ],
   "source": [
    "nb_clase4"
   ]
  },
  {
   "cell_type": "code",
   "execution_count": 47,
   "metadata": {
    "autoscroll": false,
    "ein.hycell": false,
    "ein.tags": "worksheet-0",
    "slideshow": {
     "slide_type": "-"
    }
   },
   "outputs": [],
   "source": [
    "nb_clase4.sort()"
   ]
  },
  {
   "cell_type": "code",
   "execution_count": 48,
   "metadata": {
    "autoscroll": false,
    "ein.hycell": false,
    "ein.tags": "worksheet-0",
    "slideshow": {
     "slide_type": "-"
    }
   },
   "outputs": [
    {
     "data": {
      "text/plain": [
       "['04_1_funciones.ipynb', '04_2_func_args.ipynb']"
      ]
     },
     "execution_count": 48,
     "metadata": {},
     "output_type": "execute_result"
    }
   ],
   "source": [
    "nb_clase4"
   ]
  },
  {
   "cell_type": "code",
   "execution_count": 49,
   "metadata": {
    "autoscroll": false,
    "ein.hycell": false,
    "ein.tags": "worksheet-0",
    "slideshow": {
     "slide_type": "-"
    }
   },
   "outputs": [],
   "source": [
    "nb_clases1a4 = glob.glob('0[0-4]*.ipynb')"
   ]
  },
  {
   "cell_type": "code",
   "execution_count": 50,
   "metadata": {
    "autoscroll": false,
    "ein.hycell": false,
    "ein.tags": "worksheet-0",
    "slideshow": {
     "slide_type": "-"
    }
   },
   "outputs": [
    {
     "data": {
      "text/plain": [
       "['00_introd_y_excursion.ipynb',\n",
       " '02_2_listas.ipynb',\n",
       " '02_1_tipos_y_control.ipynb',\n",
       " '03_1_tipos_control.ipynb',\n",
       " '03_2_iteraciones_tipos.ipynb',\n",
       " '01_1_instala_y_uso.ipynb',\n",
       " '01_2_introd_python.ipynb',\n",
       " '04_1_funciones.ipynb',\n",
       " '04_2_func_args.ipynb']"
      ]
     },
     "execution_count": 50,
     "metadata": {},
     "output_type": "execute_result"
    }
   ],
   "source": [
    "nb_clases1a4"
   ]
  },
  {
   "cell_type": "code",
   "execution_count": 51,
   "metadata": {
    "autoscroll": false,
    "ein.hycell": false,
    "ein.tags": "worksheet-0",
    "slideshow": {
     "slide_type": "-"
    }
   },
   "outputs": [
    {
     "name": "stdout",
     "output_type": "stream",
     "text": [
      "Clase en archivo 00_introd_y_excursion.ipynb\n",
      "Clase en archivo 01_1_instala_y_uso.ipynb\n",
      "Clase en archivo 01_2_introd_python.ipynb\n",
      "Clase en archivo 02_1_tipos_y_control.ipynb\n",
      "Clase en archivo 02_2_listas.ipynb\n",
      "Clase en archivo 03_1_tipos_control.ipynb\n",
      "Clase en archivo 03_2_iteraciones_tipos.ipynb\n",
      "Clase en archivo 04_1_funciones.ipynb\n",
      "Clase en archivo 04_2_func_args.ipynb\n"
     ]
    }
   ],
   "source": [
    "for f in sorted(nb_clases1a4):\n",
    "  print('Clase en archivo {}'.format(f))"
   ]
  },
  {
   "cell_type": "markdown",
   "metadata": {},
   "source": [
    "### Módulo pathlib\n",
    "\n",
    "El módulo pathlib es \"relativamente nuevo\" y tiene funcionalidades para trabajar con rutas de archivos y directorios con una tratamiento de programación orientada a objetos. Este módulo define un objeto `Path` que contiene mucha de la funcionalidad que usualmente se obtenía sólo de los módulos `os` y `glob`. Veamos algunos ejemplos simples de su uso\n"
   ]
  },
  {
   "cell_type": "code",
   "execution_count": 52,
   "metadata": {},
   "outputs": [],
   "source": [
    "from pathlib import Path\n"
   ]
  },
  {
   "cell_type": "code",
   "execution_count": 53,
   "metadata": {},
   "outputs": [
    {
     "name": "stdout",
     "output_type": "stream",
     "text": [
      ".\n"
     ]
    }
   ],
   "source": [
    "direct = Path('.')\n",
    "print(direct)"
   ]
  },
  {
   "cell_type": "markdown",
   "metadata": {},
   "source": [
    "El objeto tiene un iterador que nos permite recorrer todo el directorio. Por ejemplo si queremos listar todos los subdirectorios:"
   ]
  },
  {
   "cell_type": "code",
   "execution_count": 54,
   "metadata": {},
   "outputs": [
    {
     "data": {
      "text/plain": [
       "[PosixPath('.ipynb_checkpoints'),\n",
       " PosixPath('09_intro_visualizacion_files'),\n",
       " PosixPath('09_mas_numpy_matplotlib_files'),\n",
       " PosixPath('10_entrada_salida_files'),\n",
       " PosixPath('10_mas_numpy_files'),\n",
       " PosixPath('11_intro_scipy_files'),\n",
       " PosixPath('12_fiteos_files'),\n",
       " PosixPath('13_graficacion3d_files'),\n",
       " PosixPath('13_miscelaneas_files'),\n",
       " PosixPath('14_fft_files'),\n",
       " PosixPath('14_interactivo_files'),\n",
       " PosixPath('explicacion_ejercicio_agujas_files'),\n",
       " PosixPath('scripts'),\n",
       " PosixPath('version-control'),\n",
       " PosixPath('figuras')]"
      ]
     },
     "execution_count": 54,
     "metadata": {},
     "output_type": "execute_result"
    }
   ],
   "source": [
    "[x for x in direct.iterdir() if x.is_dir()]"
   ]
  },
  {
   "cell_type": "markdown",
   "metadata": {},
   "source": [
    "Trabajo con rutas de archivos"
   ]
  },
  {
   "cell_type": "code",
   "execution_count": 55,
   "metadata": {},
   "outputs": [
    {
     "name": "stdout",
     "output_type": "stream",
     "text": [
      "/home/fiol/Clases/IntPython/clases-python/clases\n"
     ]
    }
   ],
   "source": [
    "print(direct.absolute())"
   ]
  },
  {
   "cell_type": "code",
   "execution_count": 57,
   "metadata": {},
   "outputs": [
    {
     "name": "stdout",
     "output_type": "stream",
     "text": [
      "..\n",
      "/home/fiol/Clases/IntPython/clases-python\n"
     ]
    }
   ],
   "source": [
    "p = direct / \"..\"\n",
    "print(p)\n",
    "print(p.resolve())"
   ]
  },
  {
   "cell_type": "markdown",
   "metadata": {},
   "source": [
    "Podemos reemplazar el módulo `glob` utilizando este objeto:"
   ]
  },
  {
   "cell_type": "code",
   "execution_count": 58,
   "metadata": {},
   "outputs": [
    {
     "name": "stdout",
     "output_type": "stream",
     "text": [
      "01_1_instala_y_uso.ipynb\n",
      "01_2_introd_python.ipynb\n",
      "02_1_tipos_y_control.ipynb\n",
      "02_2_listas.ipynb\n",
      "03_1_tipos_control.ipynb\n",
      "03_2_iteraciones_tipos.ipynb\n",
      "04_1_funciones.ipynb\n",
      "04_2_func_args.ipynb\n",
      "05_1_decoradores.ipynb\n",
      "05_2_excepciones.ipynb\n",
      "05_3_inout.ipynb\n",
      "06_1_objetos.ipynb\n",
      "06_2_objetos.ipynb\n",
      "07_ejemplo_oop.ipynb\n",
      "07_modulos_biblioteca.ipynb\n"
     ]
    }
   ],
   "source": [
    "for fi in sorted(direct.glob(\"0[1-7]*.ipynb\") ):\n",
    "    print(fi)"
   ]
  },
  {
   "cell_type": "code",
   "execution_count": 59,
   "metadata": {},
   "outputs": [
    {
     "name": "stdout",
     "output_type": "stream",
     "text": [
      "\n",
      ".. _prog-detalle:\n",
      "\n",
      "Programa Detallado\n",
      "==================\n",
      "\n",
      ":Autor: Juan Fiol\n",
      ":Version: Revision: 2022\n",
      ":Copyright: Libre\n",
      "\n",
      "\n"
     ]
    }
   ],
   "source": [
    "fi = direct / \"programa_detalle.rst\"\n",
    "if fi.exists():\n",
    "    s= fi.read_text()\n",
    "print(s)"
   ]
  },
  {
   "cell_type": "markdown",
   "metadata": {
    "ein.tags": "worksheet-0",
    "slideshow": {
     "slide_type": "-"
    }
   },
   "source": [
    "### Módulo `Argparse`\n",
    "Este módulo tiene lo necesario para hacer rápidamente un programa para utilizar por línea de comandos, aceptando todo tipo de argumentos y dando información sobre su uso.\n"
   ]
  },
  {
   "cell_type": "markdown",
   "metadata": {
    "ein.tags": "worksheet-0",
    "slideshow": {
     "slide_type": "-"
    }
   },
   "source": [
    "```python\n",
    "import argparse\n",
    "VERSION = 1.0\n",
    "\n",
    "parser = argparse.ArgumentParser(\n",
    "      description='\"Mi programa que acepta argumentos por línea de comandos\"')\n",
    "\n",
    "parser.add_argument('-V', '--version', action='version',\n",
    "                      version='%(prog)s version {}'.format(VERSION))\n",
    "  \n",
    "parser.add_argument('-n', '--entero', action=store, dest='n', default=1)\n",
    "\n",
    "args = parser.parse_args()\n",
    "```"
   ]
  },
  {
   "cell_type": "markdown",
   "metadata": {
    "ein.tags": "worksheet-0",
    "slideshow": {
     "slide_type": "-"
    }
   },
   "source": [
    "Más información en la [biblioteca standard](https://docs.python.org/3.6/library/argparse.html) y en [Argparse en Python Module of the week ](https://pymotw.com/3/argparse/index.html)"
   ]
  },
  {
   "cell_type": "markdown",
   "metadata": {
    "ein.tags": "worksheet-0",
    "slideshow": {
     "slide_type": "-"
    }
   },
   "source": [
    "### Módulo `re`\n",
    "Este módulo provee la infraestructura para trabajar con *regular expressions*, es decir para encontrar expresiones que verifican \"cierta forma general\". Veamos algunos conceptos básicos y casos más comunes de uso."
   ]
  },
  {
   "cell_type": "markdown",
   "metadata": {
    "ein.tags": "worksheet-0",
    "slideshow": {
     "slide_type": "-"
    }
   },
   "source": [
    "#### Búsqueda de un patrón en un texto\n",
    "\n",
    "Empecemos con un ejemplo bastante común. Para encontrar un patrón en un texto podemos utilizar el método `search()`\n"
   ]
  },
  {
   "cell_type": "code",
   "execution_count": 60,
   "metadata": {
    "autoscroll": false,
    "ein.hycell": false,
    "ein.tags": "worksheet-0",
    "slideshow": {
     "slide_type": "-"
    }
   },
   "outputs": [],
   "source": [
    "import re"
   ]
  },
  {
   "cell_type": "code",
   "execution_count": 61,
   "metadata": {
    "autoscroll": false,
    "ein.hycell": false,
    "ein.tags": "worksheet-0",
    "slideshow": {
     "slide_type": "-"
    }
   },
   "outputs": [
    {
     "name": "stdout",
     "output_type": "stream",
     "text": [
      "Encontré \"un\"\n",
      "en:\n",
      "  \"Otra vez vamos a usar \"Hola Mundo\"\"\n",
      "En las posiciones 29 a 31\n"
     ]
    }
   ],
   "source": [
    "busca = 'un'\n",
    "texto = 'Otra vez vamos a usar \"Hola Mundo\"'\n",
    "\n",
    "match = re.search(busca, texto)\n",
    "\n",
    "print('Encontré \"{}\"\\nen:\\n  \"{}\"'.format(match.re.pattern, match.string))\n",
    "print('En las posiciones {} a {}'.format(match.start(), match.end()))"
   ]
  },
  {
   "cell_type": "markdown",
   "metadata": {
    "ein.tags": "worksheet-0",
    "slideshow": {
     "slide_type": "-"
    }
   },
   "source": [
    "Acá buscamos una expresión (el substring \"un\"). Esto es útil pero no muy diferente a utilizar los métodos de strings. Veamos como se definen los patrones."
   ]
  },
  {
   "cell_type": "markdown",
   "metadata": {
    "ein.tags": "worksheet-0",
    "slideshow": {
     "slide_type": "-"
    }
   },
   "source": [
    "#### Definición de expresiones\n",
    "\n",
    "Vamos a buscar un patrón en un texto. Veamos cómo se definen los patrones a buscar.\n",
    "\n",
    "- La mayoría de los caracteres se identifican consigo mismo (si quiero encontrar \"gato\", uso como patrón \"gato\")\n",
    "\n",
    "- Hay unos pocos caracteres especiales (metacaracteres) que tienen un significado especial, estos son:\n",
    "  ```\n",
    "  . ^ $ * + ? { } [ ] \\ | ( )\n",
    "  ```\n",
    "\n",
    "- Si queremos encontrar uno de los metacaracteres, tenemos que precederlos de `\\`. Por ejemplo si queremos encontrar un corchete usamos `\\[`\n",
    "\n",
    "- Los corchetes \"[\" y \"]\" se usan para definir una clase de caracteres, que es un conjunto de caracteres que uno quiere encontrar.\n",
    "\n",
    "  - Los caracteres a encontrar se pueden dar individualmente. Por ejemplo `[gato]` encontrará cualquiera de `g`, `a`, `t`, `o`.\n",
    "  - Un rango de caracteres se puede dar dando dos caracteres separados por un guión. Por ejemplo `[a-z]` dará cualquier letra entre \"a\" y \"z\". Similarmente `[0-5][0-9]` dará cualquier número entre \"00\" y \"59\".\n",
    "  - Los metacaracteres pierden su significado especial dentro de los corchetes. Por ejemplo `[.*)]` encontrará cualquiera de \".\", \"*\", \")\".\n",
    "\n",
    "- El punto `.` indica *cualquier caracter*\n",
    "\n",
    "- Los símbolos `*`, `+`, `?` indican repetición:\n",
    "\n",
    "  - `?`: Indica 0 o 1 aparición de lo anterior\n",
    "  - `*`: Indica 0 o más apariciones de lo anterior\n",
    "  - `+`: Indica 1 o más apariciones de lo anterior"
   ]
  },
  {
   "cell_type": "code",
   "execution_count": 62,
   "metadata": {
    "autoscroll": false,
    "ein.hycell": false,
    "ein.tags": "worksheet-0",
    "slideshow": {
     "slide_type": "-"
    }
   },
   "outputs": [
    {
     "name": "stdout",
     "output_type": "stream",
     "text": [
      "['nombre@server.com', ' apellido@server1.com', ' nombre1995@server.com', ' UnNombreyApellido', ' nombre.apellido82@servidor.com.ar', ' Nombre.Apellido82@servidor.com.ar'] \n",
      "\n",
      "Para la línea: nombre@server.com\n",
      "   Encontré la dirección de correo: nombre@server.com\n",
      "Para la línea:  apellido@server1.com\n",
      "   No encontré dirección de correo!\n",
      "Para la línea:  nombre1995@server.com\n",
      "   No encontré dirección de correo!\n",
      "Para la línea:  UnNombreyApellido\n",
      "   No encontré dirección de correo!\n",
      "Para la línea:  nombre.apellido82@servidor.com.ar\n",
      "   No encontré dirección de correo!\n",
      "Para la línea:  Nombre.Apellido82@servidor.com.ar\n",
      "   No encontré dirección de correo!\n"
     ]
    }
   ],
   "source": [
    "busca = \"[a-z]+@[a-z]+\\.[a-z]+\" # Un patrón para buscar direcciones de email\n",
    "texto = \"nombre@server.com, apellido@server1.com, nombre1995@server.com, UnNombreyApellido, nombre.apellido82@servidor.com.ar, Nombre.Apellido82@servidor.com.ar\".split(',')\n",
    "print(texto,'\\n')\n",
    "\n",
    "for direc in texto:\n",
    "  m= re.search(busca, direc)\n",
    "  print('Para la línea:', direc)\n",
    "  if m is None:\n",
    "    print('   No encontré dirección de correo!')\n",
    "  else:\n",
    "    print('   Encontré la dirección de correo:', m.string)\n",
    "\n"
   ]
  },
  {
   "cell_type": "markdown",
   "metadata": {
    "ein.tags": "worksheet-0",
    "slideshow": {
     "slide_type": "-"
    }
   },
   "source": [
    "- Acá la expresión `[a-z]` significa todos los caracteres en el rango \"a\" hasta \"z\".\n",
    "- `[a-z]+` significa cualquier secuencia de una letra o más.\n",
    "\n",
    "- Los corchetes también se pueden usar en la forma `[abc]` y entonces encuentra *cualquiera* de `a`, `b`, o `c`.\n",
    "\n",
    "Vemos que no encontró todas las direcciones posibles. Porque el patrón no está bien diseñado. Un poco mejor sería:"
   ]
  },
  {
   "cell_type": "code",
   "execution_count": 63,
   "metadata": {
    "autoscroll": false,
    "ein.hycell": false,
    "ein.tags": "worksheet-0",
    "slideshow": {
     "slide_type": "-"
    }
   },
   "outputs": [
    {
     "name": "stdout",
     "output_type": "stream",
     "text": [
      "['nombre@server.com', ' apellido@server1.com', ' nombre1995@server.com', ' UnNombreyApellido', ' nombre.apellido82@servidor.com.ar', ' Nombre.Apellido82@servidor.com.ar'] \n",
      "\n",
      "Para la línea: nombre@server.com\n",
      "   Encontré la dirección de correo: nombre@server.com\n",
      "Para la línea:  apellido@server1.com\n",
      "   Encontré la dirección de correo: apellido@server\n",
      "Para la línea:  nombre1995@server.com\n",
      "   Encontré la dirección de correo: nombre1995@server.com\n",
      "Para la línea:  UnNombreyApellido\n",
      "   No encontré dirección de correo:\n",
      "Para la línea:  nombre.apellido82@servidor.com.ar\n",
      "   Encontré la dirección de correo: nombre.apellido82@servidor.com.ar\n",
      "Para la línea:  Nombre.Apellido82@servidor.com.ar\n",
      "   Encontré la dirección de correo: Nombre.Apellido82@servidor.com.ar\n"
     ]
    }
   ],
   "source": [
    "busca = \"[a-zA-Z0-9.]+@[a-z.]+\" # Un patrón para buscar direcciones de email\n",
    "\n",
    "print(texto,'\\n')\n",
    "\n",
    "for direc in texto:\n",
    "  m= re.search(busca, direc)\n",
    "  print('Para la línea:', direc)\n",
    "  if m is None:\n",
    "    print('   No encontré dirección de correo:')\n",
    "  else:\n",
    "    print('   Encontré la dirección de correo:', m.group())\n",
    "\n"
   ]
  },
  {
   "cell_type": "markdown",
   "metadata": {
    "ein.tags": "worksheet-0",
    "slideshow": {
     "slide_type": "-"
    }
   },
   "source": [
    "Los metacaracteres no se activan dentro de clases (adentro de corchetes). En el ejemplo anterior el punto `.` actúa como un punto y no como un metacaracter. En este caso, la primera parte: `[a-zA-Z0-9.]+` significa: \"Encontrar cualquier letra minúscula, mayúscula, número o punto, una o más veces cualquiera de ellos\""
   ]
  },
  {
   "cell_type": "markdown",
   "metadata": {
    "ein.tags": "worksheet-0",
    "slideshow": {
     "slide_type": "-"
    }
   },
   "source": [
    "#### Repetición de un patrón\n",
    "\n",
    "Si queremos encontrar strings que presentan la secuencia una o más veces podemos usar `findall()` que devuelve todas las ocurrencias del patrón que no se superponen. Por ejemplo:"
   ]
  },
  {
   "cell_type": "code",
   "execution_count": 66,
   "metadata": {
    "autoscroll": false,
    "ein.hycell": false,
    "ein.tags": "worksheet-0",
    "slideshow": {
     "slide_type": "-"
    }
   },
   "outputs": [
    {
     "name": "stdout",
     "output_type": "stream",
     "text": [
      "['ab', 'ab']\n",
      "<class 'str'>\n",
      "Encontré ab\n",
      "Encontré ab\n"
     ]
    }
   ],
   "source": [
    "texto = 'abbaaabbbbaaaaa'\n",
    "\n",
    "busca = 'ab'\n",
    "\n",
    "mm =  re.findall(busca, texto)\n",
    "print(mm)    \n",
    "print(type(mm[0]))\n",
    "for m in mm:\n",
    "    print('Encontré {}'.format(m))\n"
   ]
  },
  {
   "cell_type": "code",
   "execution_count": 67,
   "metadata": {
    "autoscroll": false,
    "ein.hycell": false,
    "ein.tags": "worksheet-0",
    "slideshow": {
     "slide_type": "-"
    }
   },
   "outputs": [
    {
     "name": "stdout",
     "output_type": "stream",
     "text": [
      "['ab']\n",
      "['abc', 'abccc', 'abc', 'ab', 'abc']\n"
     ]
    }
   ],
   "source": [
    "p = re.compile('abc*')\n",
    "m= p.findall('acholaboy')\n",
    "print(m)\n",
    "m= p.findall('acholabcoynd sabcccs slabc labdc abc')\n",
    "print(m)"
   ]
  },
  {
   "cell_type": "markdown",
   "metadata": {
    "ein.tags": "worksheet-0",
    "slideshow": {
     "slide_type": "-"
    }
   },
   "source": [
    "Si va a utilizar expresiones regulares es recomendable que lea más información en la [biblioteca standard](https://docs.python.org/3.6/library/re.html), en [el HOWTO](https://docs.python.org/3.6/howto/regex.html) y en [Python Module of the week](https://pymotw.com/3/re/index.html). "
   ]
  }
 ],
 "metadata": {
  "kernelspec": {
   "display_name": "Python 3",
   "language": "python",
   "name": "python3"
  },
  "language_info": {
   "codemirror_mode": {
    "name": "ipython",
    "version": 3
   },
   "file_extension": ".py",
   "mimetype": "text/x-python",
   "name": "python",
   "nbconvert_exporter": "python",
   "pygments_lexer": "ipython3",
   "version": "3.11.0"
  },
  "name": "07_modulos_biblioteca.ipynb",
  "toc": {
   "base_numbering": 1,
   "nav_menu": {
    "height": "213.583px",
    "width": "252px"
   },
   "number_sections": false,
   "sideBar": true,
   "skip_h1_title": true,
   "title_cell": "Contenidos",
   "title_sidebar": "Contenidos",
   "toc_cell": false,
   "toc_position": {
    "height": "calc(100% - 180px)",
    "left": "10px",
    "top": "150px",
    "width": "227.667px"
   },
   "toc_section_display": true,
   "toc_window_display": false
  },
  "vscode": {
   "interpreter": {
    "hash": "1a1af0ee75eeea9e2e1ee996c87e7a2b11a0bebd85af04bb136d915cefc0abce"
   }
  }
 },
 "nbformat": 4,
 "nbformat_minor": 1
}
