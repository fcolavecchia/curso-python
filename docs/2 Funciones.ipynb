{
 "cells": [
  {
   "cell_type": "markdown",
   "metadata": {},
   "source": [
    "\n",
    "\n",
    "\n",
    "# Funciones"
   ]
  },
  {
   "cell_type": "markdown",
   "metadata": {},
   "source": [
    "En la clase pasada vimos los fundamentos del lenguaje: palabras reservadas, tipos de variables y estructuras de control de flujo. Hoy vamos a ver un concepto fundamental en todo lenguaje de programación: las *funciones*. Las funciones permiten *estructurar* el código de un programa en unidades que se ocupan de una tarea particular.\n",
    "\n",
    "Ya vimos una función importante, que es la que me permite ver el resultado de un programa: la función `print`.\n",
    "\n",
    "Las funciones reciben una cierta cantidad de datos de entrada, denominados *argumentos de la función*, y pueden devolver (o no) uno o varios resultados.\n",
    "\n",
    "\n",
    "\n",
    "\n"
   ]
  },
  {
   "cell_type": "markdown",
   "metadata": {},
   "source": [
    "Para definir funciones, usamos la palabra reservada `def`. Empecemos definiendo una función parecida a `print`:"
   ]
  },
  {
   "cell_type": "code",
   "execution_count": 3,
   "metadata": {},
   "outputs": [],
   "source": [
    "# Definición (o declaración) de la función\n",
    "def saluda():\n",
    "    \n",
    "    print('Chau mundo!')\n",
    "    "
   ]
  },
  {
   "cell_type": "markdown",
   "metadata": {},
   "source": [
    "Hemos definido la función `saluda` que no recibe ningún argumento. La función tiene como nombre `saluda`, y no recibe ningún argumento, de allí los paréntesis vacíos `()`. Nótese también la *indentación*, que es obligatoria también en este caso, al igual que en las estructuras de control.\n",
    "\n",
    "¿Cómo se llama, es decir, se ejecuta, a la función?"
   ]
  },
  {
   "cell_type": "code",
   "execution_count": 4,
   "metadata": {},
   "outputs": [
    {
     "name": "stdout",
     "output_type": "stream",
     "text": [
      "Chau mundo!\n"
     ]
    }
   ],
   "source": [
    "# Ejecutamos la función saluda()\n",
    "saluda()"
   ]
  },
  {
   "cell_type": "code",
   "execution_count": 6,
   "metadata": {},
   "outputs": [
    {
     "name": "stdout",
     "output_type": "stream",
     "text": [
      "Hola mundo!\n"
     ]
    }
   ],
   "source": [
    "def saluda():\n",
    "    \n",
    "    print('Hola mundo!')\n",
    "    \n",
    "saluda()"
   ]
  },
  {
   "cell_type": "code",
   "execution_count": 8,
   "metadata": {},
   "outputs": [
    {
     "name": "stdout",
     "output_type": "stream",
     "text": [
      "Hello,  John  !\n",
      "Hello,  3  !\n"
     ]
    }
   ],
   "source": [
    "# Definimos la función\n",
    "def saluda_a(amigo):\n",
    "    \n",
    "    print('Hello, ', amigo,\" !\")\n",
    "\n",
    "# Ejecutamos la función    \n",
    "saluda_a(\"John\")\n",
    "saluda_a(3)"
   ]
  },
  {
   "cell_type": "code",
   "execution_count": 9,
   "metadata": {},
   "outputs": [
    {
     "name": "stdout",
     "output_type": "stream",
     "text": [
      "Hello,  Carlos  !\n"
     ]
    }
   ],
   "source": [
    "mi_amigo = \"Carlos\"\n",
    "saluda_a(mi_amigo)"
   ]
  },
  {
   "cell_type": "markdown",
   "metadata": {},
   "source": [
    "No puedo llamar a esta función con más argumentos:"
   ]
  },
  {
   "cell_type": "code",
   "execution_count": 10,
   "metadata": {},
   "outputs": [
    {
     "ename": "TypeError",
     "evalue": "saluda_a() takes 1 positional argument but 2 were given",
     "output_type": "error",
     "traceback": [
      "\u001b[1;31m---------------------------------------------------------------------------\u001b[0m",
      "\u001b[1;31mTypeError\u001b[0m                                 Traceback (most recent call last)",
      "Cell \u001b[1;32mIn[10], line 3\u001b[0m\n\u001b[0;32m      1\u001b[0m lennon \u001b[38;5;241m=\u001b[39m \u001b[38;5;124m\"\u001b[39m\u001b[38;5;124mJohn\u001b[39m\u001b[38;5;124m\"\u001b[39m\n\u001b[0;32m      2\u001b[0m mccartney \u001b[38;5;241m=\u001b[39m \u001b[38;5;124m\"\u001b[39m\u001b[38;5;124mPaul\u001b[39m\u001b[38;5;124m\"\u001b[39m\n\u001b[1;32m----> 3\u001b[0m saluda_a(lennon,mccartney)\n",
      "\u001b[1;31mTypeError\u001b[0m: saluda_a() takes 1 positional argument but 2 were given"
     ]
    }
   ],
   "source": [
    "lennon = \"John\"\n",
    "mccartney = \"Paul\"\n",
    "saluda_a(lennon,mccartney)\n"
   ]
  },
  {
   "cell_type": "markdown",
   "metadata": {},
   "source": [
    "Ni con menos:"
   ]
  },
  {
   "cell_type": "code",
   "execution_count": 11,
   "metadata": {},
   "outputs": [
    {
     "ename": "TypeError",
     "evalue": "saluda_a() missing 1 required positional argument: 'amigo'",
     "output_type": "error",
     "traceback": [
      "\u001b[1;31m---------------------------------------------------------------------------\u001b[0m",
      "\u001b[1;31mTypeError\u001b[0m                                 Traceback (most recent call last)",
      "Cell \u001b[1;32mIn[11], line 1\u001b[0m\n\u001b[1;32m----> 1\u001b[0m saluda_a()\n",
      "\u001b[1;31mTypeError\u001b[0m: saluda_a() missing 1 required positional argument: 'amigo'"
     ]
    }
   ],
   "source": [
    "saluda_a()\n"
   ]
  },
  {
   "cell_type": "markdown",
   "metadata": {},
   "source": [
    "Las funciones pueden retornar valores, se usa la palabra reservada `return`:"
   ]
  },
  {
   "cell_type": "code",
   "execution_count": 12,
   "metadata": {},
   "outputs": [],
   "source": [
    "# x es el argumento formal de la función\n",
    "def al_cuadrado(x): \n",
    "    \"\"\" Esta función eleva al cuadrado\n",
    "        el valor de entrada\"\"\"\n",
    "    z = 3 \n",
    "    print(\"z adentro de al_cuadrado:\", z)\n",
    "    y = x**2\n",
    "    # Valor de salida de la función \n",
    "    return y\n",
    "    "
   ]
  },
  {
   "cell_type": "code",
   "execution_count": 13,
   "metadata": {},
   "outputs": [
    {
     "name": "stdout",
     "output_type": "stream",
     "text": [
      "z adentro de al_cuadrado: 3\n",
      "2  al cuadrado es: 4\n",
      "y afuera de al_cuadrado: 5\n"
     ]
    },
    {
     "ename": "NameError",
     "evalue": "name 'z' is not defined",
     "output_type": "error",
     "traceback": [
      "\u001b[1;31m---------------------------------------------------------------------------\u001b[0m",
      "\u001b[1;31mNameError\u001b[0m                                 Traceback (most recent call last)",
      "Cell \u001b[1;32mIn[13], line 7\u001b[0m\n\u001b[0;32m      5\u001b[0m \u001b[38;5;28mprint\u001b[39m(a,\u001b[38;5;124m\"\u001b[39m\u001b[38;5;124m al cuadrado es:\u001b[39m\u001b[38;5;124m\"\u001b[39m, b)\n\u001b[0;32m      6\u001b[0m \u001b[38;5;28mprint\u001b[39m(\u001b[38;5;124m\"\u001b[39m\u001b[38;5;124my afuera de al_cuadrado:\u001b[39m\u001b[38;5;124m\"\u001b[39m, y)\n\u001b[1;32m----> 7\u001b[0m \u001b[38;5;28mprint\u001b[39m(\u001b[38;5;124m\"\u001b[39m\u001b[38;5;124mz afuera de al_cuadrado:\u001b[39m\u001b[38;5;124m\"\u001b[39m, z)\n",
      "\u001b[1;31mNameError\u001b[0m: name 'z' is not defined"
     ]
    }
   ],
   "source": [
    "    \n",
    "a = 2\n",
    "# a es el argumento real de la función\n",
    "b = al_cuadrado(a)\n",
    "y = 5\n",
    "print(a,\" al cuadrado es:\", b)\n",
    "print(\"y afuera de al_cuadrado:\", y)\n",
    "print(\"z afuera de al_cuadrado:\", z)"
   ]
  },
  {
   "cell_type": "code",
   "execution_count": 14,
   "metadata": {},
   "outputs": [
    {
     "name": "stdout",
     "output_type": "stream",
     "text": [
      "z adentro de al_cuadrado: 3\n",
      "81\n"
     ]
    }
   ],
   "source": [
    "c = 9\n",
    "d = al_cuadrado(c)\n",
    "print(d)"
   ]
  },
  {
   "cell_type": "markdown",
   "metadata": {},
   "source": [
    "Varias cosas importantes a notar\n",
    "\n",
    "- Puedo definir variables dentro de una función. De hecho, cualquier cosa que se pueda hacer en Python, se puede hacer dentro de una función\n",
    "- En la expresión `b = al_cuadrado(a)` *asignamos* el resultado de la función a la variable `b`.\n",
    "- `x` se denomina argumento `formal` de la función\n",
    "- `a` es el argumento `real` de la función, cuando la usamos en `b = al_cuadrado(a)`. Es decir, que cuando la función se ejecuta, el argumento formal `x` adopta el valor del argumento real `a`. Esto es exactamente lo mismo que cuando en matemática hacemos\n",
    "$$f(x) = x^2$$\n",
    "y dada $a=23$, queremos calcular $f(a)$. Simplemente reemplazamos el valor de $a$ en $x$ en la definición de la función. \n",
    "\n",
    "\n",
    "\n"
   ]
  },
  {
   "cell_type": "markdown",
   "metadata": {},
   "source": [
    "Hay que estar atento al tipo de argumento"
   ]
  },
  {
   "cell_type": "code",
   "execution_count": 15,
   "metadata": {},
   "outputs": [
    {
     "name": "stdout",
     "output_type": "stream",
     "text": [
      "z adentro de al_cuadrado: 3\n"
     ]
    },
    {
     "ename": "TypeError",
     "evalue": "unsupported operand type(s) for ** or pow(): 'str' and 'int'",
     "output_type": "error",
     "traceback": [
      "\u001b[1;31m---------------------------------------------------------------------------\u001b[0m",
      "\u001b[1;31mTypeError\u001b[0m                                 Traceback (most recent call last)",
      "Cell \u001b[1;32mIn[15], line 2\u001b[0m\n\u001b[0;32m      1\u001b[0m john \u001b[38;5;241m=\u001b[39m \u001b[38;5;124m\"\u001b[39m\u001b[38;5;124mLennon\u001b[39m\u001b[38;5;124m\"\u001b[39m\n\u001b[1;32m----> 2\u001b[0m al_cuadrado(john)\n",
      "Cell \u001b[1;32mIn[12], line 7\u001b[0m, in \u001b[0;36mal_cuadrado\u001b[1;34m(x)\u001b[0m\n\u001b[0;32m      5\u001b[0m z \u001b[38;5;241m=\u001b[39m \u001b[38;5;241m3\u001b[39m \n\u001b[0;32m      6\u001b[0m \u001b[38;5;28mprint\u001b[39m(\u001b[38;5;124m\"\u001b[39m\u001b[38;5;124mz adentro de al_cuadrado:\u001b[39m\u001b[38;5;124m\"\u001b[39m, z)\n\u001b[1;32m----> 7\u001b[0m y \u001b[38;5;241m=\u001b[39m x\u001b[38;5;241m*\u001b[39m\u001b[38;5;241m*\u001b[39m\u001b[38;5;241m2\u001b[39m\n\u001b[0;32m      8\u001b[0m \u001b[38;5;66;03m# Valor de salida de la función \u001b[39;00m\n\u001b[0;32m      9\u001b[0m \u001b[38;5;28;01mreturn\u001b[39;00m y\n",
      "\u001b[1;31mTypeError\u001b[0m: unsupported operand type(s) for ** or pow(): 'str' and 'int'"
     ]
    }
   ],
   "source": [
    "john = \"Lennon\"\n",
    "al_cuadrado(john)"
   ]
  },
  {
   "cell_type": "code",
   "execution_count": 16,
   "metadata": {},
   "outputs": [
    {
     "name": "stdout",
     "output_type": "stream",
     "text": [
      "27\n",
      "531441\n"
     ]
    }
   ],
   "source": [
    "def al_cubo(x):\n",
    "    \n",
    "    y = x*x*x\n",
    "    \n",
    "    return y\n",
    "\n",
    "def ala_cuarta(x):\n",
    "    \n",
    "    y = x**4\n",
    "    \n",
    "    return y\n",
    "\n",
    "b = al_cubo(3)\n",
    "print(b)\n",
    "b = ala_cuarta(b)\n",
    "print(b)\n"
   ]
  },
  {
   "cell_type": "code",
   "execution_count": 17,
   "metadata": {},
   "outputs": [
    {
     "name": "stdout",
     "output_type": "stream",
     "text": [
      "None\n"
     ]
    }
   ],
   "source": [
    "def al_cubo_no_devuelve_nada(x):\n",
    "    \n",
    "    y = x*x*x\n",
    "   \n",
    "    # acá falta un return y....\n",
    "    \n",
    "b = al_cubo_no_devuelve_nada(4)\n",
    "print(b)"
   ]
  },
  {
   "cell_type": "markdown",
   "metadata": {},
   "source": [
    "## Ejemplos"
   ]
  },
  {
   "cell_type": "markdown",
   "metadata": {},
   "source": [
    "### La secuencia de Fibonacci"
   ]
  },
  {
   "cell_type": "markdown",
   "metadata": {},
   "source": [
    "Una de las secuencias más importantes en matemática (y en el arte!) es la secuencia de Fibonacci:\n",
    "$$ f_0 = 0$$\n",
    "$$ f_1 = 1$$\n",
    "$$ f_n = f_{n-1} + f_{n-2}$$"
   ]
  },
  {
   "cell_type": "markdown",
   "metadata": {},
   "source": [
    "La secuencia de Fibonacci es responsable del *número de oro*:\n",
    "$$\\phi = \\lim_{n\\rightarrow \\infty} \\frac{f_n}{f_{n-1}} = \\frac{1 + \\sqrt{5}}{2}$$"
   ]
  },
  {
   "cell_type": "code",
   "execution_count": 18,
   "metadata": {},
   "outputs": [],
   "source": [
    "def fib(n):\n",
    "    \"\"\"Devuelve una lista con los términos\n",
    "    de la serie de Fibonacci hasta n.\"\"\"\n",
    "    \n",
    "    result = [0,1]\n",
    "    i = 2\n",
    "    \n",
    "    while i < n:\n",
    "        fn = result[i-1] + result[i-2]\n",
    "        result.append(fn)\n",
    "        print(\"iteración: \",i, \"sec: \",result)\n",
    "        i = i + 1\n",
    "        \n",
    "    return result\n"
   ]
  },
  {
   "cell_type": "code",
   "execution_count": 20,
   "metadata": {},
   "outputs": [
    {
     "name": "stdout",
     "output_type": "stream",
     "text": [
      "iteración:  2 sec:  [0, 1, 1]\n",
      "iteración:  3 sec:  [0, 1, 1, 2]\n",
      "iteración:  4 sec:  [0, 1, 1, 2, 3]\n",
      "iteración:  5 sec:  [0, 1, 1, 2, 3, 5]\n",
      "iteración:  6 sec:  [0, 1, 1, 2, 3, 5, 8]\n"
     ]
    },
    {
     "data": {
      "text/plain": [
       "[0, 1, 1, 2, 3, 5, 8]"
      ]
     },
     "execution_count": 20,
     "metadata": {},
     "output_type": "execute_result"
    }
   ],
   "source": [
    "#\n",
    "# Arreglar fib(n) para que fib(0) de como\n",
    "# resultado 0\n",
    "#\n",
    "\n",
    "fib(7)"
   ]
  },
  {
   "cell_type": "markdown",
   "metadata": {},
   "source": [
    "## Múltiples argumentos de entrada y salida"
   ]
  },
  {
   "cell_type": "code",
   "execution_count": 21,
   "metadata": {},
   "outputs": [
    {
     "name": "stdout",
     "output_type": "stream",
     "text": [
      "cociente:  None , result: Error: y vale 0\n",
      "cociente:  3.28 , result: Ok\n"
     ]
    }
   ],
   "source": [
    "def divide_seguro(x,y):\n",
    "    \"\"\" Calcula x/y, pero devuelve un\n",
    "        error si y es cero\"\"\"\n",
    "    if(y==0):\n",
    "        return None,\"Error: y vale 0\"\n",
    "    else:\n",
    "        return x/y, \"Ok\"\n",
    "\n",
    "a = 8.2\n",
    "b = 0\n",
    "    \n",
    "cociente, result = divide_seguro(a,b)\n",
    "print(\"cociente: \",cociente,\", result:\",result)\n",
    "\n",
    "c = 2.5\n",
    "cociente, result = divide_seguro(a,c)\n",
    "print(\"cociente: \",cociente,\", result:\",result)\n",
    "    "
   ]
  },
  {
   "cell_type": "markdown",
   "metadata": {},
   "source": [
    "#### Un poco de ayuda de mis amigos\n",
    "\n",
    "La función `help` nos da ayuda sobre las funciones, ya sean del lenguaje o las que programamos, si es que tienen el `docstring` adecuado."
   ]
  },
  {
   "cell_type": "code",
   "execution_count": 22,
   "metadata": {},
   "outputs": [
    {
     "name": "stdout",
     "output_type": "stream",
     "text": [
      "Help on built-in function print in module builtins:\n",
      "\n",
      "print(*args, sep=' ', end='\\n', file=None, flush=False)\n",
      "    Prints the values to a stream, or to sys.stdout by default.\n",
      "    \n",
      "    sep\n",
      "      string inserted between values, default a space.\n",
      "    end\n",
      "      string appended after the last value, default a newline.\n",
      "    file\n",
      "      a file-like object (stream); defaults to the current sys.stdout.\n",
      "    flush\n",
      "      whether to forcibly flush the stream.\n",
      "\n"
     ]
    }
   ],
   "source": [
    "help(print)"
   ]
  },
  {
   "cell_type": "code",
   "execution_count": 23,
   "metadata": {},
   "outputs": [
    {
     "name": "stdout",
     "output_type": "stream",
     "text": [
      "Help on function fib in module __main__:\n",
      "\n",
      "fib(n)\n",
      "    Devuelve una lista con los términos\n",
      "    de la serie de Fibonacci hasta n.\n",
      "\n"
     ]
    }
   ],
   "source": [
    "help(fib)"
   ]
  },
  {
   "cell_type": "code",
   "execution_count": 24,
   "metadata": {},
   "outputs": [
    {
     "name": "stdout",
     "output_type": "stream",
     "text": [
      "Help on function divide_seguro in module __main__:\n",
      "\n",
      "divide_seguro(x, y)\n",
      "    Calcula x/y, pero devuelve un\n",
      "    error si y es cero\n",
      "\n"
     ]
    }
   ],
   "source": [
    "help(divide_seguro)"
   ]
  },
  {
   "cell_type": "markdown",
   "metadata": {},
   "source": [
    ">>> Ahora vamos al TP2..."
   ]
  },
  {
   "cell_type": "markdown",
   "metadata": {},
   "source": [
    "## Argumentos opcionales"
   ]
  },
  {
   "cell_type": "code",
   "execution_count": 26,
   "metadata": {},
   "outputs": [],
   "source": [
    "def caida_libre(t, h0, v0 = 0., g=9.8):\n",
    "    \"\"\"\n",
    "    Devuelve la velocidad y la posición de una partícula en\n",
    "    caída libre para condiciones iniciales dadas\n",
    "    \n",
    "    \"\"\"\n",
    "    ##Fija gravedad \n",
    "    \n",
    "    v = v0 - g*t\n",
    "    h = h0 - v0*t - g*t**2/2.\n",
    "  \n",
    "    return v, h"
   ]
  },
  {
   "cell_type": "code",
   "execution_count": 27,
   "metadata": {},
   "outputs": [
    {
     "name": "stdout",
     "output_type": "stream",
     "text": [
      "-98.0\n",
      "509.99999999999994\n"
     ]
    }
   ],
   "source": [
    "v1, h1 = caida_libre(10, 1000)\n",
    "\n",
    "print(v1)\n",
    "print(h1)"
   ]
  },
  {
   "cell_type": "code",
   "execution_count": 28,
   "metadata": {},
   "outputs": [
    {
     "name": "stdout",
     "output_type": "stream",
     "text": [
      "-120.0\n",
      "400.0\n"
     ]
    }
   ],
   "source": [
    "v1, h1 = caida_libre(10, 1000, g = 12)\n",
    "\n",
    "print(v1)\n",
    "print(h1)"
   ]
  },
  {
   "cell_type": "markdown",
   "metadata": {},
   "source": [
    "## Ámbito de las variables"
   ]
  },
  {
   "cell_type": "code",
   "execution_count": 29,
   "metadata": {},
   "outputs": [],
   "source": [
    "def func1(x):\n",
    "    print('x entró a la función con el valor', x)\n",
    "    x = 2\n",
    "    print('El nuevo valor de x es', x)"
   ]
  },
  {
   "cell_type": "code",
   "execution_count": 30,
   "metadata": {},
   "outputs": [
    {
     "name": "stdout",
     "output_type": "stream",
     "text": [
      "Originalmente x vale 50\n",
      "x entró a la función con el valor 50\n",
      "El nuevo valor de x es 2\n",
      "Ahora x vale 50\n"
     ]
    }
   ],
   "source": [
    "y = 50\n",
    "print('Originalmente x vale',y)\n",
    "func1(y)\n",
    "print('Ahora x vale',y)  "
   ]
  },
  {
   "cell_type": "code",
   "execution_count": 31,
   "metadata": {},
   "outputs": [
    {
     "name": "stdout",
     "output_type": "stream",
     "text": [
      "Originalmente x vale [50]\n",
      "x entró a la función con el valor [50]\n",
      "El nuevo valor de x es [2]\n",
      "Ahora x vale [50]\n"
     ]
    }
   ],
   "source": [
    "x = [50]\n",
    "print('Originalmente x vale',x)\n",
    "\n",
    "def func2(x):\n",
    "    print('x entró a la función con el valor', x)\n",
    "    x = [2]\n",
    "    print('El nuevo valor de x es', x)\n",
    "\n",
    "func2(x)\n",
    "print('Ahora x vale',x) "
   ]
  },
  {
   "cell_type": "code",
   "execution_count": 32,
   "metadata": {},
   "outputs": [
    {
     "name": "stdout",
     "output_type": "stream",
     "text": [
      "Originalmente x vale [50]\n",
      "x entró a la función con el valor [50]\n",
      "El nuevo valor de x es [2]\n",
      "Ahora x vale [2]\n"
     ]
    }
   ],
   "source": [
    "x = [50]\n",
    "print('Originalmente x vale',x)\n",
    "\n",
    "def func3(x):\n",
    "    print('x entró a la función con el valor', x)\n",
    "    x[0] = 2 ## seria como al lugar de memoria\n",
    "    print('El nuevo valor de x es', x)\n",
    "\n",
    "func3(x)\n",
    "print('Ahora x vale',x)  "
   ]
  },
  {
   "cell_type": "code",
   "execution_count": 33,
   "metadata": {},
   "outputs": [
    {
     "name": "stdout",
     "output_type": "stream",
     "text": [
      "Originalmente x vale [50]\n",
      "x entró a la función con el valor [50]\n",
      "El nuevo valor de x es lala\n",
      "Ahora x vale [50]\n"
     ]
    }
   ],
   "source": [
    "x = [50]\n",
    "print('Originalmente x vale',x)\n",
    "\n",
    "def func3(x):\n",
    "    print('x entró a la función con el valor', x)\n",
    "    x = 'lala'\n",
    "    print('El nuevo valor de x es', x)\n",
    "\n",
    "func3(x)\n",
    "print('Ahora x vale',x)  "
   ]
  },
  {
   "cell_type": "code",
   "execution_count": 34,
   "metadata": {},
   "outputs": [
    {
     "name": "stdout",
     "output_type": "stream",
     "text": [
      "Originalmente x vale [1, 2, 3, 4, 5]\n",
      "x entró a la función con el valor [1, 2, 3, 4, 5]\n",
      "El nuevo valor de x es [1, 2, 108, 4, 5]\n",
      "Ahora x vale [1, 2, 108, 4, 5]\n"
     ]
    }
   ],
   "source": [
    "x = [1,2,3,4,5]\n",
    "print('Originalmente x vale',x)\n",
    "\n",
    "def func3(x):\n",
    "    print('x entró a la función con el valor', x)\n",
    "    x[2] = 108\n",
    "    print('El nuevo valor de x es', x)\n",
    "\n",
    "func3(x)\n",
    "print('Ahora x vale',x)  "
   ]
  },
  {
   "cell_type": "markdown",
   "metadata": {},
   "source": [
    "## Algo de I/O"
   ]
  },
  {
   "cell_type": "markdown",
   "metadata": {},
   "source": [
    "Con las siglas *I/O* se hace referencia usualmente a los procedimientos de entrada y salida (del inglés, Input/Output). Esto se refiere la mayor parte de las veces a leer o escribir datos, ya sea de pantalla, archivo, etc.\n",
    "\n",
    "Ya vimos la función `print` que escribe en la pantalla. Su contrapartida es la función `input`, que permite leer datos por pantalla:"
   ]
  },
  {
   "cell_type": "code",
   "execution_count": 36,
   "metadata": {},
   "outputs": [
    {
     "name": "stdout",
     "output_type": "stream",
     "text": [
      "Ingrese algo: 0\n",
      "0\n",
      "El tipo de dato ingresado es: <class 'str'>\n"
     ]
    }
   ],
   "source": [
    "algo_ingresado = input('Ingrese algo: ')\n",
    "\n",
    "print(algo_ingresado)\n",
    "print(\"El tipo de dato ingresado es:\",type(algo_ingresado))"
   ]
  },
  {
   "cell_type": "markdown",
   "metadata": {},
   "source": [
    "Al igual que la función `print`, que siempre escribe un tipo `string`, `input` siempre recibe el tipo `string`."
   ]
  },
  {
   "cell_type": "markdown",
   "metadata": {},
   "source": [
    "### Cargar y escribir archivos de texto\n",
    "\n",
    "Otra operación fundamental de I/O es la carga de datos desde archivos, y su escritura:"
   ]
  },
  {
   "cell_type": "code",
   "execution_count": 37,
   "metadata": {},
   "outputs": [
    {
     "name": "stdout",
     "output_type": "stream",
     "text": [
      "Help on function open in module io:\n",
      "\n",
      "open(file, mode='r', buffering=-1, encoding=None, errors=None, newline=None, closefd=True, opener=None)\n",
      "    Open file and return a stream.  Raise OSError upon failure.\n",
      "    \n",
      "    file is either a text or byte string giving the name (and the path\n",
      "    if the file isn't in the current working directory) of the file to\n",
      "    be opened or an integer file descriptor of the file to be\n",
      "    wrapped. (If a file descriptor is given, it is closed when the\n",
      "    returned I/O object is closed, unless closefd is set to False.)\n",
      "    \n",
      "    mode is an optional string that specifies the mode in which the file\n",
      "    is opened. It defaults to 'r' which means open for reading in text\n",
      "    mode.  Other common values are 'w' for writing (truncating the file if\n",
      "    it already exists), 'x' for creating and writing to a new file, and\n",
      "    'a' for appending (which on some Unix systems, means that all writes\n",
      "    append to the end of the file regardless of the current seek position).\n",
      "    In text mode, if encoding is not specified the encoding used is platform\n",
      "    dependent: locale.getencoding() is called to get the current locale encoding.\n",
      "    (For reading and writing raw bytes use binary mode and leave encoding\n",
      "    unspecified.) The available modes are:\n",
      "    \n",
      "    ========= ===============================================================\n",
      "    Character Meaning\n",
      "    --------- ---------------------------------------------------------------\n",
      "    'r'       open for reading (default)\n",
      "    'w'       open for writing, truncating the file first\n",
      "    'x'       create a new file and open it for writing\n",
      "    'a'       open for writing, appending to the end of the file if it exists\n",
      "    'b'       binary mode\n",
      "    't'       text mode (default)\n",
      "    '+'       open a disk file for updating (reading and writing)\n",
      "    ========= ===============================================================\n",
      "    \n",
      "    The default mode is 'rt' (open for reading text). For binary random\n",
      "    access, the mode 'w+b' opens and truncates the file to 0 bytes, while\n",
      "    'r+b' opens the file without truncation. The 'x' mode implies 'w' and\n",
      "    raises an `FileExistsError` if the file already exists.\n",
      "    \n",
      "    Python distinguishes between files opened in binary and text modes,\n",
      "    even when the underlying operating system doesn't. Files opened in\n",
      "    binary mode (appending 'b' to the mode argument) return contents as\n",
      "    bytes objects without any decoding. In text mode (the default, or when\n",
      "    't' is appended to the mode argument), the contents of the file are\n",
      "    returned as strings, the bytes having been first decoded using a\n",
      "    platform-dependent encoding or using the specified encoding if given.\n",
      "    \n",
      "    buffering is an optional integer used to set the buffering policy.\n",
      "    Pass 0 to switch buffering off (only allowed in binary mode), 1 to select\n",
      "    line buffering (only usable in text mode), and an integer > 1 to indicate\n",
      "    the size of a fixed-size chunk buffer.  When no buffering argument is\n",
      "    given, the default buffering policy works as follows:\n",
      "    \n",
      "    * Binary files are buffered in fixed-size chunks; the size of the buffer\n",
      "      is chosen using a heuristic trying to determine the underlying device's\n",
      "      \"block size\" and falling back on `io.DEFAULT_BUFFER_SIZE`.\n",
      "      On many systems, the buffer will typically be 4096 or 8192 bytes long.\n",
      "    \n",
      "    * \"Interactive\" text files (files for which isatty() returns True)\n",
      "      use line buffering.  Other text files use the policy described above\n",
      "      for binary files.\n",
      "    \n",
      "    encoding is the name of the encoding used to decode or encode the\n",
      "    file. This should only be used in text mode. The default encoding is\n",
      "    platform dependent, but any encoding supported by Python can be\n",
      "    passed.  See the codecs module for the list of supported encodings.\n",
      "    \n",
      "    errors is an optional string that specifies how encoding errors are to\n",
      "    be handled---this argument should not be used in binary mode. Pass\n",
      "    'strict' to raise a ValueError exception if there is an encoding error\n",
      "    (the default of None has the same effect), or pass 'ignore' to ignore\n",
      "    errors. (Note that ignoring encoding errors can lead to data loss.)\n",
      "    See the documentation for codecs.register or run 'help(codecs.Codec)'\n",
      "    for a list of the permitted encoding error strings.\n",
      "    \n",
      "    newline controls how universal newlines works (it only applies to text\n",
      "    mode). It can be None, '', '\\n', '\\r', and '\\r\\n'.  It works as\n",
      "    follows:\n",
      "    \n",
      "    * On input, if newline is None, universal newlines mode is\n",
      "      enabled. Lines in the input can end in '\\n', '\\r', or '\\r\\n', and\n",
      "      these are translated into '\\n' before being returned to the\n",
      "      caller. If it is '', universal newline mode is enabled, but line\n",
      "      endings are returned to the caller untranslated. If it has any of\n",
      "      the other legal values, input lines are only terminated by the given\n",
      "      string, and the line ending is returned to the caller untranslated.\n",
      "    \n",
      "    * On output, if newline is None, any '\\n' characters written are\n",
      "      translated to the system default line separator, os.linesep. If\n",
      "      newline is '' or '\\n', no translation takes place. If newline is any\n",
      "      of the other legal values, any '\\n' characters written are translated\n",
      "      to the given string.\n",
      "    \n",
      "    If closefd is False, the underlying file descriptor will be kept open\n",
      "    when the file is closed. This does not work when a file name is given\n",
      "    and must be True in that case.\n",
      "    \n",
      "    A custom opener can be used by passing a callable as *opener*. The\n",
      "    underlying file descriptor for the file object is then obtained by\n",
      "    calling *opener* with (*file*, *flags*). *opener* must return an open\n",
      "    file descriptor (passing os.open as *opener* results in functionality\n",
      "    similar to passing None).\n",
      "    \n",
      "    open() returns a file object whose type depends on the mode, and\n",
      "    through which the standard file operations such as reading and writing\n",
      "    are performed. When open() is used to open a file in a text mode ('w',\n",
      "    'r', 'wt', 'rt', etc.), it returns a TextIOWrapper. When used to open\n",
      "    a file in a binary mode, the returned class varies: in read binary\n",
      "    mode, it returns a BufferedReader; in write binary and append binary\n",
      "    modes, it returns a BufferedWriter, and in read/write mode, it returns\n",
      "    a BufferedRandom.\n",
      "    \n",
      "    It is also possible to use a string or bytearray as a file for both\n",
      "    reading and writing. For strings StringIO can be used like a file\n",
      "    opened in a text mode, and for bytes a BytesIO can be used like a file\n",
      "    opened in a binary mode.\n",
      "\n"
     ]
    }
   ],
   "source": [
    "help(open)"
   ]
  },
  {
   "cell_type": "code",
   "execution_count": 39,
   "metadata": {},
   "outputs": [],
   "source": [
    "writeme = open('ejemplo.txt','w',encoding = 'utf-8') # 'w' es write, es decir, escribir\n",
    "\n",
    "texto = 'Esta es la primer línea,\\nesta es la segunda\\ny esta es la tercera.'\n",
    "\n",
    "writeme.write(texto)\n",
    "\n",
    "writeme.close()"
   ]
  },
  {
   "cell_type": "markdown",
   "metadata": {},
   "source": [
    "Codificaciones de texto:\n",
    "ASCII\n",
    "UTF-8 \n",
    "etc. etc."
   ]
  },
  {
   "cell_type": "code",
   "execution_count": 40,
   "metadata": {},
   "outputs": [
    {
     "name": "stdout",
     "output_type": "stream",
     "text": [
      "Esta es la primer lÃ­nea,\n",
      "esta es la segunda\n",
      "y esta es la tercera.\n"
     ]
    }
   ],
   "source": [
    "readme = open('ejemplo.txt') \n",
    "\n",
    "texto_leido = readme.read()\n",
    "\n",
    "print(texto_leido)\n",
    "\n",
    "readme.close()"
   ]
  },
  {
   "cell_type": "code",
   "execution_count": 40,
   "metadata": {},
   "outputs": [
    {
     "name": "stdout",
     "output_type": "stream",
     "text": [
      "Esta es la prime\n",
      "r línea,\n",
      "esta es la segunda\n",
      "y esta es la tercera,\n",
      "y le agrego una cuarta línea.\n"
     ]
    }
   ],
   "source": [
    "readme = open('ejemplo.txt') \n",
    "\n",
    "texto_leido = readme.read(16)\n",
    "\n",
    "print(texto_leido)\n",
    "\n",
    "mas_texto_leido = readme.read()\n",
    "\n",
    "print(mas_texto_leido)\n",
    "\n",
    "readme.close()"
   ]
  },
  {
   "cell_type": "code",
   "execution_count": 47,
   "metadata": {},
   "outputs": [
    {
     "name": "stdout",
     "output_type": "stream",
     "text": [
      "<class '_io.TextIOWrapper'>\n",
      "Esta es la primer lÃ­nea,\n",
      "\n",
      "esta es la segunda\n",
      "\n",
      "y esta es la tercera.\n"
     ]
    }
   ],
   "source": [
    "readme = open('ejemplo.txt')\n",
    "print(type(readme))\n",
    "##texto='Soy pollo.'\n",
    "##readme.append(texto)\n",
    "for linea in readme:\n",
    "    print(linea)\n",
    "   \n",
    "    \n",
    "readme.close() "
   ]
  },
  {
   "cell_type": "code",
   "execution_count": 43,
   "metadata": {},
   "outputs": [
    {
     "name": "stdout",
     "output_type": "stream",
     "text": [
      "<class 'list'>\n",
      "4\n",
      "Esta es la primer línea,\n",
      "\n",
      "['Esta es la primer línea,\\n', 'esta es la segunda\\n', 'y esta es la tercera,\\n', 'y le agrego una cuarta línea.']\n"
     ]
    }
   ],
   "source": [
    "readme = open('ejemplo.txt')\n",
    "lineas = readme.readlines()\n",
    "\n",
    "print(type(lineas))\n",
    "print(len(lineas))\n",
    "print(lineas[0])\n",
    "print(lineas)"
   ]
  }
 ],
 "metadata": {
  "kernelspec": {
   "display_name": "Python 3 (ipykernel)",
   "language": "python",
   "name": "python3"
  },
  "language_info": {
   "codemirror_mode": {
    "name": "ipython",
    "version": 3
   },
   "file_extension": ".py",
   "mimetype": "text/x-python",
   "name": "python",
   "nbconvert_exporter": "python",
   "pygments_lexer": "ipython3",
   "version": "3.11.5"
  }
 },
 "nbformat": 4,
 "nbformat_minor": 2
}
