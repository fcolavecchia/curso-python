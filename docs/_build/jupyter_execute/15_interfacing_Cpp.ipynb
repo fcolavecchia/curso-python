{
 "cells": [
  {
   "attachments": {},
   "cell_type": "markdown",
   "metadata": {
    "ein.tags": "worksheet-0",
    "slideshow": {
     "slide_type": "-"
    }
   },
   "source": [
    "# Interfaces con otros lenguajes: C++ \n",
    "\n",
    "Existen varias formas de utilizar bibliotecas o códigos hechos en C desde Python. Nosotros veremos el uso de `Ctypes`, sin embargo existen otras alternativas como  [Cython](https://cython.org/), [CFFI](https://cffi.readthedocs.io/en/latest/), [pybind11](https://pybind11.readthedocs.io/en/stable/) y [Boost.Python](https://www.boost.org/doc/libs/1_70_0/libs/python/doc/html/index.html). \n",
    "\n",
    "\n",
    "## Ejemplo 1: Problema a resolver\n",
    "\n",
    "Supongamos que queremos resolver el problema de la rotación de vectores en el espacio usando los tres ángulos de Euler.\n",
    "\n"
   ]
  },
  {
   "cell_type": "code",
   "execution_count": 1,
   "metadata": {
    "autoscroll": false,
    "ein.tags": "worksheet-0",
    "slideshow": {
     "slide_type": "-"
    }
   },
   "outputs": [],
   "source": [
    "import numpy as np"
   ]
  },
  {
   "cell_type": "code",
   "execution_count": 2,
   "metadata": {
    "autoscroll": false,
    "ein.tags": "worksheet-0",
    "slideshow": {
     "slide_type": "-"
    }
   },
   "outputs": [
    {
     "data": {
      "text/plain": [
       "'/Users/flavioc/Library/Mobile Documents/com~apple~CloudDocs/Documents/cursos/curso-python/book'"
      ]
     },
     "execution_count": 2,
     "metadata": {},
     "output_type": "execute_result"
    }
   ],
   "source": [
    "pwd"
   ]
  },
  {
   "cell_type": "markdown",
   "metadata": {
    "ein.tags": "worksheet-0",
    "slideshow": {
     "slide_type": "-"
    }
   },
   "source": [
    "Si ya tenemos un módulo donde están programadas las funciones necesarias "
   ]
  },
  {
   "cell_type": "markdown",
   "metadata": {
    "ein.tags": "worksheet-0",
    "slideshow": {
     "slide_type": "-"
    }
   },
   "source": [
    "es fácil utilizarlas. Las importamos y utilizamos"
   ]
  },
  {
   "cell_type": "markdown",
   "metadata": {
    "ein.tags": "worksheet-0",
    "slideshow": {
     "slide_type": "-"
    }
   },
   "source": [
    "## Interfaces con C\n",
    "\n",
    "Veamos cómo trabajar si tenemos el código para realizar las rotaciones en C.\n",
    "\n",
    "### Primer ejemplo: Nuestro código\n",
    "\n",
    "El código en C que tenemos es:\n",
    "\n",
    "```c\n",
    " typedef struct {\n",
    "      float m[3][3];\n",
    "    } m3x3;\n",
    "\n",
    "    typedef struct {\n",
    "      float a[3];\n",
    "    } v3;\n",
    "    \n",
    "...\n",
    "\n",
    "float * rotate(float angles[3], float *v, int N){\n",
    "\n",
    "        m3x3 R = matrix_rotation(angles);\n",
    "        \n",
    "        float* y = (float*)malloc(3*N*sizeof(float));\n",
    "        v3 p;\n",
    "\n",
    "        printf(\"%p\\n\",y);\n",
    "        for(int i=0; i<N; i++){\n",
    "            // p = &y[i*3];\n",
    "            p = matmul3(R,&v[i*3]);\n",
    "            y[i*3+0] = p.a[0];\n",
    "            y[i*3+1] = p.a[1];\n",
    "            y[i*3+2] = p.a[2];\n",
    "            // printf(\"%6.3f %6.3f %6.3f \\n\",y[i*3+0],y[i*3+1],y[i*3+2]);\n",
    "        }\n",
    "        return y;\n",
    "\n",
    "\n",
    "  }\n",
    "\n",
    "```"
   ]
  },
  {
   "cell_type": "code",
   "execution_count": 3,
   "metadata": {},
   "outputs": [
    {
     "name": "stdout",
     "output_type": "stream",
     "text": [
      "[Errno 2] No such file or directory: 'interfacing_Cpp'\n",
      "/Users/flavioc/Library/Mobile Documents/com~apple~CloudDocs/Documents/cursos/curso-python/book\n"
     ]
    }
   ],
   "source": [
    "cd interfacing_Cpp"
   ]
  },
  {
   "cell_type": "code",
   "execution_count": 4,
   "metadata": {},
   "outputs": [
    {
     "name": "stdout",
     "output_type": "stream",
     "text": [
      "cat: test.cpp: No such file or directory\r\n"
     ]
    }
   ],
   "source": [
    "!cat test.cpp"
   ]
  },
  {
   "cell_type": "markdown",
   "metadata": {
    "ein.tags": "worksheet-0",
    "slideshow": {
     "slide_type": "-"
    }
   },
   "source": [
    "### CTypes\n",
    "\n",
    "No vamos a usar directamente `Ctypes`, sino a través de `NumPy`, que provee algunas funciones convenientes para acceder al código C."
   ]
  },
  {
   "cell_type": "markdown",
   "metadata": {
    "ein.tags": "worksheet-0",
    "slideshow": {
     "slide_type": "-"
    }
   },
   "source": [
    "El primer paso es compilar nuestro código y generar una biblioteca:\n",
    "```bash\n",
    "$ gcc -fpic -Wall -shared rotacion.c -o librotacion.so\n",
    "```\n",
    "\n",
    "Si uno trabaja en Windows, generará una dll\n",
    "\n",
    "```cmd\n",
    "cl.exe -c rotacion.c\n",
    "link.exe /DLL /OUT:rotacion.dll\n",
    "```\n"
   ]
  },
  {
   "cell_type": "code",
   "execution_count": 5,
   "metadata": {
    "autoscroll": false,
    "ein.tags": "worksheet-0",
    "slideshow": {
     "slide_type": "-"
    }
   },
   "outputs": [
    {
     "name": "stdout",
     "output_type": "stream",
     "text": [
      "clang: \u001b[0;1;31merror: \u001b[0m\u001b[1mno such file or directory: 'test.cpp'\u001b[0m\r\n",
      "clang: \u001b[0;1;31merror: \u001b[0m\u001b[1mno input files\u001b[0m\r\n"
     ]
    }
   ],
   "source": [
    "# !gcc -fpic -Wall -shared rotacion.c -o librotacion.so\n",
    "!g++ -shared test.cpp -o libtest.so\n",
    "\n"
   ]
  },
  {
   "cell_type": "code",
   "execution_count": 6,
   "metadata": {},
   "outputs": [
    {
     "name": "stdout",
     "output_type": "stream",
     "text": [
      "\u001b[31m0 Introducción a Jupyter Notebooks.ipynb\u001b[m\u001b[m\r\n",
      "07_modulos_biblioteca.ipynb\r\n",
      "1 El lenguaje Python.ipynb\r\n",
      "15_interfacing_C.ipynb\r\n",
      "15_interfacing_Cpp.ipynb\r\n",
      "15_interfacing_F.ipynb\r\n",
      "16_Python funcional 2.ipynb\r\n",
      "16_Python funcional.ipynb\r\n",
      "17_Processes.ipynb\r\n",
      "\u001b[31m2 Funciones.ipynb\u001b[m\u001b[m\r\n",
      "3 Más sobre funciones.ipynb\r\n",
      "\u001b[31m4 Módulos.ipynb\u001b[m\u001b[m\r\n",
      "5 Numpy - avanzado.ipynb\r\n",
      "5 Numpy.ipynb\r\n",
      "\u001b[31m6 Matplotlib.ipynb\u001b[m\u001b[m\r\n",
      "6 Plotly.ipynb\r\n",
      "7 Intermedio.ipynb\r\n",
      "\u001b[31m8 Interpolación.ipynb\u001b[m\u001b[m\r\n",
      "\u001b[31m9 Dicom.ipynb\u001b[m\u001b[m\r\n",
      "\u001b[31mA Dicom 3D.ipynb\u001b[m\u001b[m\r\n",
      "B Integrales.ipynb\r\n",
      "Borges y matplotlib resuelto.ipynb\r\n",
      "Borges y matplotlib.ipynb\r\n",
      "Clase.ipynb\r\n",
      "Create_the_std_lib.ipynb\r\n",
      "Ejercicios 07.ipynb\r\n",
      "Find_the_file.ipynb\r\n",
      "Generala.ipynb\r\n",
      "Jugando con strings solución.ipynb\r\n",
      "Jugando con strings.ipynb\r\n",
      "Pangram solucion.ipynb\r\n",
      "Pangrama Versiones.ipynb\r\n",
      "Pangrama.ipynb\r\n",
      "Sortea ejercicios.ipynb\r\n",
      "Untitled.ipynb\r\n",
      "\u001b[1m\u001b[36m_build\u001b[m\u001b[m\r\n",
      "_config.yml\r\n",
      "_toc.yml\r\n",
      "datos pdd.ipynb\r\n",
      "figura2.pdf\r\n",
      "figura2.png\r\n",
      "intro.md\r\n",
      "logo.png\r\n",
      "markdown-notebooks.md\r\n",
      "markdown.md\r\n",
      "notebooks.ipynb\r\n",
      "pandas.ipynb\r\n",
      "pandas_intro.ipynb\r\n",
      "references.bib\r\n",
      "requirements.txt\r\n",
      "scikit_image_filters.ipynb\r\n"
     ]
    }
   ],
   "source": [
    "!ls"
   ]
  },
  {
   "cell_type": "markdown",
   "metadata": {},
   "source": [
    "En segundo lugar, importamos el módulo `ctypeslib`"
   ]
  },
  {
   "cell_type": "code",
   "execution_count": 7,
   "metadata": {
    "autoscroll": false,
    "ein.tags": "worksheet-0",
    "slideshow": {
     "slide_type": "-"
    }
   },
   "outputs": [],
   "source": [
    "import numpy.ctypeslib as ctl\n",
    "import ctypes"
   ]
  },
  {
   "cell_type": "markdown",
   "metadata": {},
   "source": [
    "Este módulo nos provee de la función `load_library` para importar la biblioteca"
   ]
  },
  {
   "cell_type": "code",
   "execution_count": 8,
   "metadata": {},
   "outputs": [
    {
     "ename": "NameError",
     "evalue": "name 'mode' is not defined",
     "output_type": "error",
     "traceback": [
      "\u001b[0;31m---------------------------------------------------------------------------\u001b[0m",
      "\u001b[0;31mNameError\u001b[0m                                 Traceback (most recent call last)",
      "Cell \u001b[0;32mIn[8], line 1\u001b[0m\n\u001b[0;32m----> 1\u001b[0m lib \u001b[38;5;241m=\u001b[39m ctypes\u001b[38;5;241m.\u001b[39mCDLL(\u001b[38;5;124m'\u001b[39m\u001b[38;5;124m./libtest.dll\u001b[39m\u001b[38;5;124m'\u001b[39m, \u001b[38;5;241m*\u001b[39m\u001b[38;5;241m*\u001b[39m\u001b[43mmode\u001b[49m)\n\u001b[1;32m      4\u001b[0m \u001b[38;5;28;01mclass\u001b[39;00m \u001b[38;5;21;01mTest\u001b[39;00m(\u001b[38;5;28mobject\u001b[39m):\n\u001b[1;32m      5\u001b[0m     \u001b[38;5;28;01mdef\u001b[39;00m \u001b[38;5;21m__init__\u001b[39m(\u001b[38;5;28mself\u001b[39m, val: \u001b[38;5;28mint\u001b[39m):\n\u001b[1;32m      6\u001b[0m         \u001b[38;5;66;03m# Declare input and output types for each method you intend to use\u001b[39;00m\n",
      "\u001b[0;31mNameError\u001b[0m: name 'mode' is not defined"
     ]
    }
   ],
   "source": [
    "lib = ctypes.CDLL('./libtest.dll', **mode)\n",
    "\n",
    "\n",
    "class Test(object):\n",
    "    def __init__(self, val: int):\n",
    "        # Declare input and output types for each method you intend to use\n",
    "        lib.init.argtypes = [ctypes.c_int]\n",
    "        lib.init.restype = ctypes.c_void_p\n",
    "\n",
    "        lib.setInt.argtypes = [ctypes.c_void_p, ctypes.c_int]\n",
    "        lib.setInt.restype = ctypes.c_void_p\n",
    "\n",
    "        lib.getInt.argtypes = [ctypes.c_void_p]\n",
    "        lib.getInt.restype = ctypes.c_int\n",
    "\n",
    "        self.obj = lib.init(val)\n",
    "\n",
    "    def setInt(self, n):\n",
    "        lib.setInt(self.obj, n)\n",
    "    \n",
    "    def getInt(self):\n",
    "        return lib.getInt(self.obj)\n"
   ]
  },
  {
   "cell_type": "code",
   "execution_count": 8,
   "metadata": {},
   "outputs": [],
   "source": [
    "lib = ctl.load_library('libtest.so','.')"
   ]
  },
  {
   "cell_type": "code",
   "execution_count": 9,
   "metadata": {},
   "outputs": [],
   "source": [
    "class Test(object):\n",
    "    def __init__(self, val: int):\n",
    "        # Declare input and output types for each method you intend to use\n",
    "        lib.init.argtypes = [ctl.c_intp]\n",
    "        lib.init.restype = ctypes.c_void_p\n",
    "\n",
    "        lib.setInt.argtypes = [ctypes.c_void_p, ctl.c_intp]\n",
    "        lib.setInt.restype = ctypes.c_void_p\n",
    "\n",
    "        lib.getInt.argtypes = [ctypes.c_void_p]\n",
    "        lib.getInt.restype = ctl.c_intp\n",
    "\n",
    "        self.obj = lib.init(val)\n",
    "\n",
    "    def setInt(self, n):\n",
    "        lib.setInt(self.obj, n)\n",
    "    \n",
    "    def getInt(self):\n",
    "        return lib.getInt(self.obj)"
   ]
  },
  {
   "cell_type": "code",
   "execution_count": 10,
   "metadata": {},
   "outputs": [
    {
     "name": "stdout",
     "output_type": "stream",
     "text": [
      "12\n",
      "32\n"
     ]
    }
   ],
   "source": [
    "T1 = Test(12)\n",
    "print(T1.getInt())\n",
    "T1.setInt(32)\n",
    "print(T1.getInt())"
   ]
  }
 ],
 "metadata": {
  "kernelspec": {
   "display_name": "Python 3 (ipykernel)",
   "language": "python",
   "name": "python3"
  },
  "language_info": {
   "codemirror_mode": {
    "name": "ipython",
    "version": 3
   },
   "file_extension": ".py",
   "mimetype": "text/x-python",
   "name": "python",
   "nbconvert_exporter": "python",
   "pygments_lexer": "ipython3",
   "version": "3.9.16"
  },
  "name": "Untitled.ipynb",
  "toc": {
   "base_numbering": 1,
   "nav_menu": {},
   "number_sections": true,
   "sideBar": true,
   "skip_h1_title": false,
   "title_cell": "Contenidos",
   "title_sidebar": "Contenidos",
   "toc_cell": false,
   "toc_position": {},
   "toc_section_display": true,
   "toc_window_display": true
  }
 },
 "nbformat": 4,
 "nbformat_minor": 1
}