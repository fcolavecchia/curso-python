{
 "cells": [
  {
   "cell_type": "markdown",
   "metadata": {
    "ein.tags": "worksheet-0",
    "slideshow": {
     "slide_type": "-"
    }
   },
   "source": [
    "# Interfaces con otros lenguajes: C\n",
    "\n",
    "Existen varias formas de utilizar bibliotecas o códigos hechos en C desde Python. Nosotros veremos el uso de `Ctypes`, sin embargo existen otras alternativas como  [Cython](https://cython.org/), [CFFI](https://cffi.readthedocs.io/en/latest/), [pybind11](https://pybind11.readthedocs.io/en/stable/) y [Boost.Python](https://www.boost.org/doc/libs/1_70_0/libs/python/doc/html/index.html). \n",
    "\n",
    "\n",
    "## Ejemplo 1: Problema a resolver\n",
    "\n",
    "Supongamos que queremos resolver el problema de la rotación de vectores en el espacio usando los tres ángulos de Euler.\n",
    "\n"
   ]
  },
  {
   "cell_type": "code",
   "execution_count": 1,
   "metadata": {
    "autoscroll": false,
    "ein.tags": "worksheet-0",
    "slideshow": {
     "slide_type": "-"
    }
   },
   "outputs": [],
   "source": [
    "import numpy as np"
   ]
  },
  {
   "cell_type": "code",
   "execution_count": 2,
   "metadata": {
    "autoscroll": false,
    "ein.tags": "worksheet-0",
    "slideshow": {
     "slide_type": "-"
    }
   },
   "outputs": [
    {
     "data": {
      "text/plain": [
       "'/Users/flavioc/Library/Mobile Documents/com~apple~CloudDocs/Documents/cursos/curso-python/book'"
      ]
     },
     "execution_count": 2,
     "metadata": {},
     "output_type": "execute_result"
    }
   ],
   "source": [
    "pwd"
   ]
  },
  {
   "cell_type": "markdown",
   "metadata": {
    "ein.tags": "worksheet-0",
    "slideshow": {
     "slide_type": "-"
    }
   },
   "source": [
    "Si ya tenemos un módulo donde están programadas las funciones necesarias "
   ]
  },
  {
   "cell_type": "code",
   "execution_count": 3,
   "metadata": {
    "autoscroll": false,
    "ein.tags": "worksheet-0",
    "slideshow": {
     "slide_type": "-"
    }
   },
   "outputs": [],
   "source": [
    "# %load rotacion_p.py\n",
    "#! /usr/bin/ipython3\n",
    "import numpy as np\n",
    "\n",
    "\n",
    "def matrix_rotation(angles):\n",
    "  cx, cy, cz = np.cos(angles)\n",
    "  sx, sy, sz = np.sin(angles)\n",
    "  R = np.zeros((3, 3))\n",
    "  R[0, 0] = cx * cz - sx * cy * sz\n",
    "  R[0, 1] = cx * sz + sx * cy * cz\n",
    "  R[0, 2] = sx * sy\n",
    "\n",
    "  R[1, 0] = -sx * cz - cx * cy * sz\n",
    "  R[1, 1] = -sx * sz + cx * cy * cz\n",
    "  R[1, 2] = cx * sy\n",
    "\n",
    "  R[2, 0] = sy * sz\n",
    "  R[2, 1] = -sy * cz\n",
    "  R[2, 2] = cy\n",
    "  return R\n",
    "\n",
    "\n",
    "def rotate(angles, v):\n",
    "  return np.dot(matrix_rotation(angles), v)\n"
   ]
  },
  {
   "cell_type": "markdown",
   "metadata": {
    "ein.tags": "worksheet-0",
    "slideshow": {
     "slide_type": "-"
    }
   },
   "source": [
    "es fácil utilizarlas. Las importamos y utilizamos"
   ]
  },
  {
   "cell_type": "code",
   "execution_count": 4,
   "metadata": {
    "autoscroll": false,
    "ein.tags": "worksheet-0",
    "slideshow": {
     "slide_type": "-"
    }
   },
   "outputs": [],
   "source": [
    "# import rotacion_p as rotp\n",
    "N = 100\n",
    "# Ángulos de Euler\n",
    "angle = np.random.random(3)\n",
    "# Definimos N vectores tridimensionales\n",
    "v = np.random.random((3, N))"
   ]
  },
  {
   "cell_type": "code",
   "execution_count": 5,
   "metadata": {
    "autoscroll": false,
    "ein.tags": "worksheet-0",
    "slideshow": {
     "slide_type": "-"
    }
   },
   "outputs": [],
   "source": [
    "# y= rotp.rotate(angle, v)\n",
    "y = rotate(angle,v)"
   ]
  },
  {
   "cell_type": "code",
   "execution_count": 6,
   "metadata": {
    "autoscroll": false,
    "ein.tags": "worksheet-0",
    "slideshow": {
     "slide_type": "-"
    }
   },
   "outputs": [
    {
     "name": "stdout",
     "output_type": "stream",
     "text": [
      "[0.08451486 0.63252172 0.12394817]\n",
      "[[ 1.08413611  0.61259664 -0.16019923]\n",
      " [ 0.75739155  0.45507881  0.63089648]\n",
      " [ 0.17692908  0.76938835 -0.16256155]\n",
      " [ 0.29727707  0.78853316 -0.05654809]\n",
      " [ 0.30233948  0.41667723  0.07246774]]\n"
     ]
    }
   ],
   "source": [
    "print(angle)\n",
    "print(y[:,0:5].T)"
   ]
  },
  {
   "cell_type": "markdown",
   "metadata": {
    "ein.tags": "worksheet-0",
    "slideshow": {
     "slide_type": "-"
    }
   },
   "source": [
    "## Interfaces con C\n",
    "\n",
    "Veamos cómo trabajar si tenemos el código para realizar las rotaciones en C.\n",
    "\n",
    "### Primer ejemplo: Nuestro código\n",
    "\n",
    "El código en C que tenemos es:\n",
    "\n",
    "```c\n",
    " typedef struct {\n",
    "      float m[3][3];\n",
    "    } m3x3;\n",
    "\n",
    "    typedef struct {\n",
    "      float a[3];\n",
    "    } v3;\n",
    "    \n",
    "...\n",
    "\n",
    "float * rotate(float angles[3], float *v, int N){\n",
    "\n",
    "        m3x3 R = matrix_rotation(angles);\n",
    "        \n",
    "        float* y = (float*)malloc(3*N*sizeof(float));\n",
    "        v3 p;\n",
    "\n",
    "        printf(\"%p\\n\",y);\n",
    "        for(int i=0; i<N; i++){\n",
    "            // p = &y[i*3];\n",
    "            p = matmul3(R,&v[i*3]);\n",
    "            y[i*3+0] = p.a[0];\n",
    "            y[i*3+1] = p.a[1];\n",
    "            y[i*3+2] = p.a[2];\n",
    "            // printf(\"%6.3f %6.3f %6.3f \\n\",y[i*3+0],y[i*3+1],y[i*3+2]);\n",
    "        }\n",
    "        return y;\n",
    "\n",
    "\n",
    "  }\n",
    "\n",
    "```"
   ]
  },
  {
   "cell_type": "code",
   "execution_count": 7,
   "metadata": {},
   "outputs": [
    {
     "name": "stdout",
     "output_type": "stream",
     "text": [
      "[Errno 2] No such file or directory: 'interfacing_C'\n",
      "/Users/flavioc/Library/Mobile Documents/com~apple~CloudDocs/Documents/cursos/curso-python/book\n"
     ]
    }
   ],
   "source": [
    "cd interfacing_C"
   ]
  },
  {
   "cell_type": "code",
   "execution_count": 8,
   "metadata": {},
   "outputs": [
    {
     "name": "stdout",
     "output_type": "stream",
     "text": [
      "cat: rotacion.c: No such file or directory\r\n"
     ]
    }
   ],
   "source": [
    "!cat rotacion.c"
   ]
  },
  {
   "cell_type": "markdown",
   "metadata": {
    "ein.tags": "worksheet-0",
    "slideshow": {
     "slide_type": "-"
    }
   },
   "source": [
    "### CTypes\n",
    "\n",
    "No vamos a usar directamente `Ctypes`, sino a través de `NumPy`, que provee algunas funciones convenientes para acceder al código C."
   ]
  },
  {
   "cell_type": "markdown",
   "metadata": {
    "ein.tags": "worksheet-0",
    "slideshow": {
     "slide_type": "-"
    }
   },
   "source": [
    "El primer paso es compilar nuestro código y generar una biblioteca:\n",
    "```bash\n",
    "$ gcc -fpic -Wall -shared rotacion.c -o librotacion.so\n",
    "```\n",
    "\n",
    "Si uno trabaja en Windows, generará una dll\n",
    "\n",
    "```cmd\n",
    "cl.exe -c rotacion.c\n",
    "link.exe /DLL /OUT:rotacion.dll\n",
    "```\n"
   ]
  },
  {
   "cell_type": "code",
   "execution_count": 9,
   "metadata": {
    "autoscroll": false,
    "ein.tags": "worksheet-0",
    "slideshow": {
     "slide_type": "-"
    }
   },
   "outputs": [
    {
     "name": "stdout",
     "output_type": "stream",
     "text": [
      "clang: \u001b[0;1;31merror: \u001b[0m\u001b[1mno such file or directory: 'rotacion.c'\u001b[0m\r\n",
      "clang: \u001b[0;1;31merror: \u001b[0m\u001b[1mno input files\u001b[0m\r\n"
     ]
    }
   ],
   "source": [
    "!gcc -fpic -Wall -shared rotacion.c -o librotacion.so"
   ]
  },
  {
   "cell_type": "code",
   "execution_count": 10,
   "metadata": {},
   "outputs": [
    {
     "name": "stdout",
     "output_type": "stream",
     "text": [
      "\u001b[31m0 Introducción a Jupyter Notebooks.ipynb\u001b[m\u001b[m\r\n",
      "07_modulos_biblioteca.ipynb\r\n",
      "1 El lenguaje Python.ipynb\r\n",
      "15_interfacing_C.ipynb\r\n",
      "15_interfacing_Cpp.ipynb\r\n",
      "15_interfacing_F.ipynb\r\n",
      "16_Python funcional 2.ipynb\r\n",
      "16_Python funcional.ipynb\r\n",
      "17_Processes.ipynb\r\n",
      "\u001b[31m2 Funciones.ipynb\u001b[m\u001b[m\r\n",
      "3 Más sobre funciones.ipynb\r\n",
      "\u001b[31m4 Módulos.ipynb\u001b[m\u001b[m\r\n",
      "5 Numpy - avanzado.ipynb\r\n",
      "5 Numpy.ipynb\r\n",
      "\u001b[31m6 Matplotlib.ipynb\u001b[m\u001b[m\r\n",
      "6 Plotly.ipynb\r\n",
      "7 Intermedio.ipynb\r\n",
      "\u001b[31m8 Interpolación.ipynb\u001b[m\u001b[m\r\n",
      "\u001b[31m9 Dicom.ipynb\u001b[m\u001b[m\r\n",
      "\u001b[31mA Dicom 3D.ipynb\u001b[m\u001b[m\r\n",
      "B Integrales.ipynb\r\n",
      "Borges y matplotlib resuelto.ipynb\r\n",
      "Borges y matplotlib.ipynb\r\n",
      "Clase.ipynb\r\n",
      "Create_the_std_lib.ipynb\r\n",
      "Ejercicios 07.ipynb\r\n",
      "Find_the_file.ipynb\r\n",
      "Generala.ipynb\r\n",
      "Jugando con strings solución.ipynb\r\n",
      "Jugando con strings.ipynb\r\n",
      "Pangram solucion.ipynb\r\n",
      "Pangrama Versiones.ipynb\r\n",
      "Pangrama.ipynb\r\n",
      "Sortea ejercicios.ipynb\r\n",
      "Untitled.ipynb\r\n",
      "\u001b[1m\u001b[36m_build\u001b[m\u001b[m\r\n",
      "_config.yml\r\n",
      "_toc.yml\r\n",
      "datos pdd.ipynb\r\n",
      "figura2.pdf\r\n",
      "figura2.png\r\n",
      "intro.md\r\n",
      "logo.png\r\n",
      "markdown-notebooks.md\r\n",
      "markdown.md\r\n",
      "notebooks.ipynb\r\n",
      "pandas.ipynb\r\n",
      "pandas_intro.ipynb\r\n",
      "references.bib\r\n",
      "requirements.txt\r\n",
      "scikit_image_filters.ipynb\r\n"
     ]
    }
   ],
   "source": [
    "!ls"
   ]
  },
  {
   "cell_type": "markdown",
   "metadata": {},
   "source": [
    "En segundo lugar, importamos el módulo `ctypeslib`"
   ]
  },
  {
   "cell_type": "code",
   "execution_count": 11,
   "metadata": {
    "autoscroll": false,
    "ein.tags": "worksheet-0",
    "slideshow": {
     "slide_type": "-"
    }
   },
   "outputs": [],
   "source": [
    "import numpy.ctypeslib as ctl"
   ]
  },
  {
   "cell_type": "markdown",
   "metadata": {},
   "source": [
    "Este módulo nos provee de la función `load_library` para importar la biblioteca"
   ]
  },
  {
   "cell_type": "code",
   "execution_count": 12,
   "metadata": {},
   "outputs": [
    {
     "name": "stdout",
     "output_type": "stream",
     "text": [
      "Help on function load_library in module numpy.ctypeslib:\n",
      "\n",
      "load_library(libname, loader_path)\n",
      "    It is possible to load a library using\n",
      "    >>> lib = ctypes.cdll[<full_path_name>] # doctest: +SKIP\n",
      "    \n",
      "    But there are cross-platform considerations, such as library file extensions,\n",
      "    plus the fact Windows will just load the first library it finds with that name.\n",
      "    NumPy supplies the load_library function as a convenience.\n",
      "    \n",
      "    Parameters\n",
      "    ----------\n",
      "    libname : str\n",
      "        Name of the library, which can have 'lib' as a prefix,\n",
      "        but without an extension.\n",
      "    loader_path : str\n",
      "        Where the library can be found.\n",
      "    \n",
      "    Returns\n",
      "    -------\n",
      "    ctypes.cdll[libpath] : library object\n",
      "       A ctypes library object\n",
      "    \n",
      "    Raises\n",
      "    ------\n",
      "    OSError\n",
      "        If there is no library with the expected extension, or the\n",
      "        library is defective and cannot be loaded.\n",
      "\n"
     ]
    }
   ],
   "source": [
    "help(ctl.load_library)"
   ]
  },
  {
   "cell_type": "code",
   "execution_count": 13,
   "metadata": {},
   "outputs": [
    {
     "ename": "OSError",
     "evalue": "no file with expected extension",
     "output_type": "error",
     "traceback": [
      "\u001b[0;31m---------------------------------------------------------------------------\u001b[0m",
      "\u001b[0;31mOSError\u001b[0m                                   Traceback (most recent call last)",
      "Cell \u001b[0;32mIn[13], line 1\u001b[0m\n\u001b[0;32m----> 1\u001b[0m rotc \u001b[38;5;241m=\u001b[39m \u001b[43mctl\u001b[49m\u001b[38;5;241;43m.\u001b[39;49m\u001b[43mload_library\u001b[49m\u001b[43m(\u001b[49m\u001b[38;5;124;43m'\u001b[39;49m\u001b[38;5;124;43mlibrotacion.so\u001b[39;49m\u001b[38;5;124;43m'\u001b[39;49m\u001b[43m,\u001b[49m\u001b[38;5;124;43m'\u001b[39;49m\u001b[38;5;124;43m.\u001b[39;49m\u001b[38;5;124;43m'\u001b[39;49m\u001b[43m)\u001b[49m\n",
      "File \u001b[0;32m/opt/miniconda3/lib/python3.9/site-packages/numpy/ctypeslib.py:154\u001b[0m, in \u001b[0;36mload_library\u001b[0;34m(libname, loader_path)\u001b[0m\n\u001b[1;32m    152\u001b[0m             \u001b[38;5;28;01mraise\u001b[39;00m\n\u001b[1;32m    153\u001b[0m \u001b[38;5;66;03m## if no successful return in the libname_ext loop:\u001b[39;00m\n\u001b[0;32m--> 154\u001b[0m \u001b[38;5;28;01mraise\u001b[39;00m \u001b[38;5;167;01mOSError\u001b[39;00m(\u001b[38;5;124m\"\u001b[39m\u001b[38;5;124mno file with expected extension\u001b[39m\u001b[38;5;124m\"\u001b[39m)\n",
      "\u001b[0;31mOSError\u001b[0m: no file with expected extension"
     ]
    }
   ],
   "source": [
    "rotc = ctl.load_library('librotacion.so','.')"
   ]
  },
  {
   "cell_type": "markdown",
   "metadata": {},
   "source": [
    "Una vez cargada la biblioteca, tenemos que definir adecuadamente cómo pasar los argumentos a la función `rotate` de C:\n",
    "\n",
    "```C\n",
    "    float * rotate(float angles[3], float *v, int N)\n",
    "```\n",
    "\n",
    "Para eso se utiliza la función `argtypes` que recibe una lista de tipos. Notemos que los dos primeros argumentos son arreglos de C (o sea, punteros), mientras que el último es un entero."
   ]
  },
  {
   "cell_type": "code",
   "execution_count": 12,
   "metadata": {},
   "outputs": [],
   "source": [
    "npflags = ['C_CONTIGUOUS']   # Require a C contiguous array in memory\n",
    "\n",
    "float_1d_type = ctl.ndpointer(dtype=np.float32, ndim=1, flags=npflags) # Puntero a float, 1D\n",
    "float_2d_type = ctl.ndpointer(dtype=np.float32, ndim=2, flags=npflags) # Puntero a float, 2D"
   ]
  },
  {
   "cell_type": "code",
   "execution_count": 13,
   "metadata": {},
   "outputs": [
    {
     "data": {
      "text/plain": [
       "_ctypes.PyCSimpleType"
      ]
     },
     "execution_count": 13,
     "metadata": {},
     "output_type": "execute_result"
    }
   ],
   "source": [
    "type(float_1d_type)"
   ]
  },
  {
   "cell_type": "markdown",
   "metadata": {},
   "source": [
    "Con estos tipos de datos, defino los tipos de argumentos, que son tres en total. El último es un dato de tipo entero, para lo cual se usa directamente `c_intp`."
   ]
  },
  {
   "cell_type": "code",
   "execution_count": 29,
   "metadata": {},
   "outputs": [],
   "source": [
    "rotc.rotate.argtypes =  [float_1d_type, float_2d_type, ctl.c_intp]"
   ]
  },
  {
   "cell_type": "markdown",
   "metadata": {},
   "source": [
    "Hagamos un ejemplo sencillo con N=2"
   ]
  },
  {
   "cell_type": "code",
   "execution_count": 30,
   "metadata": {
    "autoscroll": false,
    "ein.tags": "worksheet-0",
    "slideshow": {
     "slide_type": "-"
    }
   },
   "outputs": [],
   "source": [
    "# import rotacion_p as rotp\n",
    "N = 2\n",
    "# Ángulos de Euler\n",
    "angle = np.random.random(3).astype(np.float32)\n",
    "# Definimos N vectores tridimensionales\n",
    "v = np.random.random((3, N)).astype(np.float32)"
   ]
  },
  {
   "cell_type": "markdown",
   "metadata": {},
   "source": [
    "Las funciones que dispongo en C reciben tipos `float`, es decir que me tengo que asegurar esto a través del método `astype`."
   ]
  },
  {
   "cell_type": "markdown",
   "metadata": {},
   "source": [
    "Ahora tenemos que definir el tipo de dato de salida, que retorna C a través de un puntero a float, `float*`. Para esto usamos el método `restype`. Como a priori no sé qué tipo de rango tiene mi arreglo de salida, tengo que definirlo explícitamente. "
   ]
  },
  {
   "cell_type": "code",
   "execution_count": 31,
   "metadata": {},
   "outputs": [],
   "source": [
    "rotc.rotate.restype = ctl.ndpointer(dtype=np.float32, shape=(N,3)) "
   ]
  },
  {
   "cell_type": "markdown",
   "metadata": {},
   "source": [
    "Hay que tener precaución con el manejo de arreglos, que es muy distinto en C y Python. En Python son objetos, de los cuales yo puedo tener distintas vistas, slices, etc. Hay que recordar que en principio estas son formas de acceder al mismo objeto, pero no se pueden traducir directamente a C, que necesita un arreglo contiguo de datos."
   ]
  },
  {
   "cell_type": "code",
   "execution_count": 32,
   "metadata": {},
   "outputs": [
    {
     "name": "stdout",
     "output_type": "stream",
     "text": [
      "(3, 2)\n",
      "(2, 3)\n"
     ]
    }
   ],
   "source": [
    "v = np.array([[1,0], [0,1], [0,0]]).astype(np.float32) \n",
    "vt = v.T.copy()\n",
    "\n",
    "print(np.shape(v))\n",
    "print(np.shape(v.T))"
   ]
  },
  {
   "cell_type": "markdown",
   "metadata": {},
   "source": [
    "Veamos, v es un arreglo de 3 filas y 2 columnas, que contiene *dos* vectores de tres dimensiones que se desean rotar, organizados como columnas. Esto *no* es lo que necesita mi arreglo en C, que es tiene los vectores organizados contiguamente en un solo arreglo unidimensional. Entonces, tengo que transformarlo. Para eso usamos el `.T`. Ojo que además, hay que crear un objeto nuevo con `copy()`, sino es una vista del mismo objeto `v`."
   ]
  },
  {
   "cell_type": "code",
   "execution_count": 33,
   "metadata": {},
   "outputs": [
    {
     "name": "stdout",
     "output_type": "stream",
     "text": [
      "[0.        0.        1.5707964]\n"
     ]
    }
   ],
   "source": [
    "angle90 = np.array([0,0,np.pi/2],dtype = np.float32)\n",
    "print(angle90)"
   ]
  },
  {
   "cell_type": "code",
   "execution_count": 34,
   "metadata": {
    "autoscroll": false,
    "ein.tags": "worksheet-0",
    "slideshow": {
     "slide_type": "-"
    }
   },
   "outputs": [],
   "source": [
    "yf = rotc.rotate(angle90,\n",
    "                      vt,\n",
    "                      N) \n",
    "y = rotate(angle90,v)"
   ]
  },
  {
   "cell_type": "code",
   "execution_count": 36,
   "metadata": {
    "autoscroll": false,
    "ein.tags": "worksheet-0",
    "slideshow": {
     "slide_type": "-"
    }
   },
   "outputs": [
    {
     "name": "stdout",
     "output_type": "stream",
     "text": [
      "[[-0.00000004  1.        ]\n",
      " [-1.         -0.00000004]\n",
      " [ 0.          0.        ]]\n",
      "[[-0.00000004  1.        ]\n",
      " [-1.         -0.00000004]\n",
      " [ 0.          0.        ]]\n"
     ]
    },
    {
     "data": {
      "text/plain": [
       "True"
      ]
     },
     "execution_count": 36,
     "metadata": {},
     "output_type": "execute_result"
    }
   ],
   "source": [
    "np.set_printoptions(suppress=True)\n",
    "\n",
    "print(y)\n",
    "print(yf.T)\n",
    "np.allclose(y,yf.T)"
   ]
  }
 ],
 "metadata": {
  "kernelspec": {
   "display_name": "Python 3 (ipykernel)",
   "language": "python",
   "name": "python3"
  },
  "language_info": {
   "codemirror_mode": {
    "name": "ipython",
    "version": 3
   },
   "file_extension": ".py",
   "mimetype": "text/x-python",
   "name": "python",
   "nbconvert_exporter": "python",
   "pygments_lexer": "ipython3",
   "version": "3.9.16"
  },
  "name": "Untitled.ipynb",
  "toc": {
   "base_numbering": 1,
   "nav_menu": {},
   "number_sections": true,
   "sideBar": true,
   "skip_h1_title": false,
   "title_cell": "Contenidos",
   "title_sidebar": "Contenidos",
   "toc_cell": false,
   "toc_position": {},
   "toc_section_display": true,
   "toc_window_display": true
  }
 },
 "nbformat": 4,
 "nbformat_minor": 1
}