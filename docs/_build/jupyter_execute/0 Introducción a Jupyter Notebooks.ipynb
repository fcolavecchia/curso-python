{
 "cells": [
  {
   "cell_type": "markdown",
   "metadata": {},
   "source": [
    "# Clase 0"
   ]
  },
  {
   "cell_type": "markdown",
   "metadata": {},
   "source": [
    "### Bases de **Jupyter Notebooks**"
   ]
  },
  {
   "cell_type": "markdown",
   "metadata": {},
   "source": [
    "**Jupyter Notebooks** funciona con dos modos: el modo `comando` al que se accede con la tecla `Esc`, y el modo edición, al que se accede presionando `Enter`. Noten que en el modo `edición`, aparece un ícono de un lapiz en el sector derecho del menú. "
   ]
  },
  {
   "cell_type": "markdown",
   "metadata": {},
   "source": [
    "**Jupyter Notebooks** funciona en base a _celdas_ que se van agregando o borrando de acuerdo a lo que uno quiera hacer. "
   ]
  },
  {
   "cell_type": "markdown",
   "metadata": {},
   "source": [
    "Las celdas se ejecutan con la combinación `Crtl` + `Enter`."
   ]
  },
  {
   "cell_type": "markdown",
   "metadata": {},
   "source": [
    "Para agregar una celda por debajo de la celda actual hay que seleccionar el modo comando (`Esc`) y luego la letra `B` (del inglés _below_). También se puede agregar yendo al menú, seleccionando `Insert` y luego `Insert Cell Below`."
   ]
  },
  {
   "cell_type": "markdown",
   "metadata": {},
   "source": [
    "Para agregar una celda por encima de la celda actual hay que seleccionar el modo comando (`Esc`) y luego la letra `A` (del inglés _above_). También se puede agregar yendo al menú, seleccionando `Insert` y luego `Insert Cell Above`."
   ]
  },
  {
   "cell_type": "markdown",
   "metadata": {},
   "source": [
    "Por defecto, las celdas esperan sentencias en Python (tal como se aclara en el menú a la derecha), sin embargo, también aceptan otros tipos de lenguajes que se utilizan para escribir documentación: **Markdown** y **LaTeX**. El primero se utiliza en la creación de contenidos Web, mientras que el último es el lenguaje para la escritura de documentos científicos."
   ]
  },
  {
   "cell_type": "markdown",
   "metadata": {},
   "source": [
    "En modo comando, con la tecla `M` pasamos a modo **Markdown**, mientras que con la tecla `Y` volvemos al modo Código."
   ]
  },
  {
   "cell_type": "markdown",
   "metadata": {},
   "source": [
    "**Markdown** es un lenguaje de edición muy simple, pero a la vez muy poderoso. Si desean más información, pueden buscarla acá, [en el manual de Jupyter](https://jupyter.brynmawr.edu/services/public/dblank/Jupyter%20Notebook%20Users%20Manual.ipynb)."
   ]
  },
  {
   "cell_type": "markdown",
   "metadata": {},
   "source": [
    ">>> No es obligatorio el uso de **Markdown** en el curso, pero dado que lo vamos a usar bastante, recomiendo ir aprendiéndolo a la par que aprendemos a programar."
   ]
  },
  {
   "cell_type": "markdown",
   "metadata": {},
   "source": [
    "Hay otro estilo de celda denominado `heading`, que es una forma rápida de crear un título en el notebook. Sin embargo, es posible hacerlo directamente en **Markdown** usando el símbolo `#`. Igual en las últimas versiones de **Jupyter** directamente sugiere usar `#`:"
   ]
  },
  {
   "cell_type": "markdown",
   "metadata": {},
   "source": [
    "# Título de nivel 1\n",
    "## Título de nivel 2\n",
    "### Título de nivel 3\n",
    "#### Título de nivel 4"
   ]
  },
  {
   "cell_type": "markdown",
   "metadata": {},
   "source": [
    "### Ejercicio"
   ]
  },
  {
   "cell_type": "markdown",
   "metadata": {},
   "source": [
    "El ejercicio que vamos a hacer ahora es crear un notebook nuevo, y agregar algunas cosas a modo de plantilla para futuros trabajos."
   ]
  }
 ],
 "metadata": {
  "kernelspec": {
   "display_name": "Python 3",
   "language": "python",
   "name": "python3"
  },
  "language_info": {
   "codemirror_mode": {
    "name": "ipython",
    "version": 3
   },
   "file_extension": ".py",
   "mimetype": "text/x-python",
   "name": "python",
   "nbconvert_exporter": "python",
   "pygments_lexer": "ipython3",
   "version": "3.7.10"
  }
 },
 "nbformat": 4,
 "nbformat_minor": 2
}