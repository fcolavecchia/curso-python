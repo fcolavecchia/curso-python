{
 "cells": [
  {
   "cell_type": "markdown",
   "metadata": {},
   "source": [
    "### Pangrama"
   ]
  },
  {
   "cell_type": "markdown",
   "metadata": {},
   "source": [
    "Un pangrama es una frase que contiene todas las letras del abecedario. Vamos a usar el inglés, así nos evitamos los acentos y otras cuestiones del castellano. Por ejemplo\n",
    "\n",
    ">>*the quick brown fox jumps over the lazy dog*\n",
    "\n",
    "es un pangrama muy usado en la creación de *fonts*, es decir, fuentes o tipos de letra, justamente porque contiene todas las letras del abecedario.\n",
    "\n",
    "El problema es escribir una función que determine si una frase es un pangrama o no."
   ]
  },
  {
   "cell_type": "code",
   "execution_count": 7,
   "metadata": {},
   "outputs": [
    {
     "name": "stdout",
     "output_type": "stream",
     "text": [
      "a\n",
      "b\n",
      "c\n",
      "d\n",
      "e\n",
      "f\n",
      "g\n",
      "h\n",
      "i\n",
      "j\n",
      "k\n",
      "l\n",
      "m\n",
      "n\n",
      "o\n",
      "p\n",
      "q\n",
      "r\n",
      "s\n",
      "t\n",
      "u\n",
      "v\n",
      "w\n",
      "x\n",
      "y\n",
      "z\n",
      "letra  a  está en  the quick brown fox jumps over the lazy dog\n"
     ]
    }
   ],
   "source": [
    "s = \"the quick brown fox jumps over the lazy dog\"\n",
    "\n",
    "abcd = 'abcdefghijklmnopqrstuvwxyz'\n",
    "\n",
    "\n",
    "\n",
    "\n",
    "def is_pangram(frase):\n",
    "   \n",
    "    for x in abcd:\n",
    "        letra = x\n",
    "    \n",
    "    letra = 'a'\n",
    "    \n",
    "    for c in frase:\n",
    "        if letra == c:\n",
    "            print('letra ', letra,' está en ',frase)\n",
    "#         else:\n",
    "#             print('letra ', letra,' no está.')\n",
    "#         print(c)\n",
    "        \n",
    "\n",
    "is_pangram(s)"
   ]
  },
  {
   "cell_type": "markdown",
   "metadata": {},
   "source": [
    "### Versión 1 con contador"
   ]
  },
  {
   "cell_type": "code",
   "execution_count": 28,
   "metadata": {},
   "outputs": [
    {
     "name": "stdout",
     "output_type": "stream",
     "text": [
      "cuenta_letras:  26\n",
      "True\n",
      "cuenta_letras:  8\n",
      "False\n",
      "cuenta_letras:  13\n",
      "False\n"
     ]
    }
   ],
   "source": [
    "s = \"the quick brown fox jumps over the lazy dog\"\n",
    "\n",
    "hola = \"hola mundo\"\n",
    "\n",
    "abcd = 'abcdefghijklmnopqrstuvwxyz'\n",
    "\n",
    "\n",
    "def is_pangram(frase):\n",
    "   \n",
    "    cuenta_letras = 0\n",
    "    # Loop en las letras del abecedario\n",
    "    for x in abcd:\n",
    "        letra = x\n",
    "    \n",
    "        # Loop en las letras de la frase\n",
    "        for c in frase:\n",
    "            if letra == c:\n",
    "                # print('letra ', letra,' está en ',frase)\n",
    "                cuenta_letras = cuenta_letras + 1\n",
    "                # print(letra)\n",
    "                break\n",
    "\n",
    "    print(\"cuenta_letras: \",cuenta_letras)\n",
    "    if(cuenta_letras == 26):\n",
    "        return True  \n",
    "    else:\n",
    "        return False\n",
    "\n",
    "\n",
    "\n",
    "print(is_pangram(s))\n",
    "print(is_pangram(hola))\n",
    "print(is_pangram(\"la bella y graciosa moza\"))"
   ]
  },
  {
   "cell_type": "markdown",
   "metadata": {},
   "source": [
    "### Versión 2 con `.append`"
   ]
  },
  {
   "cell_type": "code",
   "execution_count": 36,
   "metadata": {},
   "outputs": [
    {
     "name": "stdout",
     "output_type": "stream",
     "text": [
      "True\n",
      "False\n",
      "False\n"
     ]
    }
   ],
   "source": [
    "s = \"the quick brown fox jumps over the lazy dog\"\n",
    "\n",
    "hola = \"hola mundo\"\n",
    "\n",
    "abcd = 'abcdefghijklmnopqrstuvwxyz'\n",
    "\n",
    "\n",
    "def is_pangram(frase):\n",
    "   \n",
    "    resultado = []\n",
    "    # Loop en las letras del abecedario\n",
    "    for x in abcd:\n",
    "        letra = x\n",
    "    \n",
    "        # Loop en las letras de la frase\n",
    "        for c in frase:\n",
    "            if letra == c:\n",
    "                # print('letra ', letra,' está en ',frase)\n",
    "                resultado.append(letra)\n",
    "                # print(letra)\n",
    "                break\n",
    "    \n",
    "    if(len(resultado) == 26):\n",
    "        return True  \n",
    "    else:\n",
    "        return False\n",
    "\n",
    "\n",
    "print(is_pangram(s))\n",
    "print(is_pangram(hola))\n",
    "print(is_pangram(\"la bella y graciosa moza\"))"
   ]
  },
  {
   "cell_type": "markdown",
   "metadata": {},
   "source": [
    "### Versión 3 con `string.join`"
   ]
  },
  {
   "cell_type": "code",
   "execution_count": 37,
   "metadata": {},
   "outputs": [
    {
     "name": "stdout",
     "output_type": "stream",
     "text": [
      "nuevo_abcd:  abcdefghijklmnopqrstuvwxyz\n",
      "True\n",
      "nuevo_abcd:  adhlmnou\n",
      "False\n",
      "nuevo_abcd:  abcegilmorsyz\n",
      "False\n"
     ]
    }
   ],
   "source": [
    "s = \"the quick brown fox jumps over the lazy dog\"\n",
    "\n",
    "hola = \"hola mundo\"\n",
    "\n",
    "abcd = 'abcdefghijklmnopqrstuvwxyz'\n",
    "\n",
    "\n",
    "def is_pangram(frase):\n",
    "   \n",
    "    resultado = []\n",
    "    # Loop en las letras del abecedario\n",
    "    for x in abcd:\n",
    "        letra = x\n",
    "    \n",
    "        # Loop en las letras de la frase\n",
    "        for c in frase:\n",
    "            if letra == c:\n",
    "                # print('letra ', letra,' está en ',frase)\n",
    "                resultado.append(letra)\n",
    "                # print(letra)\n",
    "                break\n",
    "\n",
    "    nuevo_abcd = \"\"\n",
    "    nuevo_abcd = nuevo_abcd.join(resultado)\n",
    "    \n",
    "    print(\"nuevo_abcd: \",nuevo_abcd)\n",
    "\n",
    "    if(nuevo_abcd == abcd):\n",
    "        return True  \n",
    "    else:\n",
    "        return False\n",
    "\n",
    "\n",
    "\n",
    "print(is_pangram(s))\n",
    "print(is_pangram(hola))\n",
    "print(is_pangram(\"la bella y graciosa moza\"))"
   ]
  },
  {
   "cell_type": "markdown",
   "metadata": {},
   "source": [
    "### Versión 4 con `sets`\n",
    "\n",
    "Esta versión usa `sets`, que son conjuntos de elementos todos distintos entre sí, sin orden particular.\n",
    "\n",
    "*Para observar*: la función `len` aplicada a un `set` devuelve el cardinal del elemento."
   ]
  },
  {
   "cell_type": "code",
   "execution_count": 40,
   "metadata": {},
   "outputs": [
    {
     "name": "stdout",
     "output_type": "stream",
     "text": [
      "{'a', 'l', 'b', 'z', 't', 'g', 's', 'w', 'c', 'i', 'f', 'k', 'u', 'n', 'm', 'q', 'y', 'h', 'e', 'j', 'v', 'r', 'p', 'x', 'd', 'o'}\n",
      "True\n",
      "{'u', 'a', 'm', 'n', 'd', 'l', 'o', 'h'}\n",
      "False\n",
      "{'i', 'z', 'r', 'a', 'm', 'l', 'y', 'g', 's', 'o', 'e', 'b', 'c'}\n",
      "False\n"
     ]
    }
   ],
   "source": [
    "s = \"the quick brown fox jumps over the lazy dog\"\n",
    "\n",
    "hola = \"hola mundo\"\n",
    "\n",
    "# En esta versión ni siquiera hace falta la variable abcd\n",
    "# abcd = 'abcdefghijklmnopqrstuvwxyz'\n",
    "\n",
    "len_abcd = 26\n",
    "\n",
    "def is_pangram(frase):\n",
    "   \n",
    "    resultado = frase.replace(\" \",\"\") # Borra los espacios de la frase, para no contarlo dentro del set\n",
    "    resultado = set(resultado)        # Convierte la frase sin espacios (que es una lista) en un set, removiendo los\n",
    "                                      # elementos iguales.\n",
    "    print(resultado)\n",
    "\n",
    "    if(len(resultado) == len_abcd):\n",
    "        return True  \n",
    "    else:\n",
    "        return False\n",
    "\n",
    "\n",
    "\n",
    "print(is_pangram(s))\n",
    "print(is_pangram(hola))\n",
    "print(is_pangram(\"la bella y graciosa moza\"))"
   ]
  }
 ],
 "metadata": {
  "kernelspec": {
   "display_name": "Python 3",
   "language": "python",
   "name": "python3"
  },
  "language_info": {
   "codemirror_mode": {
    "name": "ipython",
    "version": 3
   },
   "file_extension": ".py",
   "mimetype": "text/x-python",
   "name": "python",
   "nbconvert_exporter": "python",
   "pygments_lexer": "ipython3",
   "version": "3.7.10"
  }
 },
 "nbformat": 4,
 "nbformat_minor": 2
}