{
 "cells": [
  {
   "cell_type": "markdown",
   "metadata": {
    "ein.tags": "worksheet-0",
    "slideshow": {
     "slide_type": "-"
    }
   },
   "source": [
    "# Interfaces con otros lenguajes: Fortran\n",
    "## Ejemplo 1: Problema a resolver\n",
    "\n",
    "Supongamos que queremos resolver el problema de la rotación de vectores en el espacio usando los tres ángulos de Euler.\n",
    "\n"
   ]
  },
  {
   "cell_type": "code",
   "execution_count": 1,
   "metadata": {
    "autoscroll": false,
    "ein.tags": "worksheet-0",
    "slideshow": {
     "slide_type": "-"
    }
   },
   "outputs": [],
   "source": [
    "import numpy as np"
   ]
  },
  {
   "cell_type": "code",
   "execution_count": 2,
   "metadata": {
    "autoscroll": false,
    "ein.tags": "worksheet-0",
    "slideshow": {
     "slide_type": "-"
    }
   },
   "outputs": [
    {
     "data": {
      "text/plain": [
       "'/Users/flavioc/Library/Mobile Documents/com~apple~CloudDocs/Documents/cursos/curso-python/book'"
      ]
     },
     "execution_count": 2,
     "metadata": {},
     "output_type": "execute_result"
    }
   ],
   "source": [
    "pwd"
   ]
  },
  {
   "cell_type": "markdown",
   "metadata": {
    "ein.tags": "worksheet-0",
    "slideshow": {
     "slide_type": "-"
    }
   },
   "source": [
    "Si ya tenemos un módulo donde están programadas las funciones necesarias "
   ]
  },
  {
   "cell_type": "code",
   "execution_count": 3,
   "metadata": {
    "autoscroll": false,
    "ein.tags": "worksheet-0",
    "slideshow": {
     "slide_type": "-"
    }
   },
   "outputs": [],
   "source": [
    "# %load rotacion_p.py\n",
    "#! /usr/bin/ipython3\n",
    "import numpy as np\n",
    "\n",
    "\n",
    "def matrix_rotation(angles):\n",
    "  cx, cy, cz = np.cos(angles)\n",
    "  sx, sy, sz = np.sin(angles)\n",
    "  R = np.zeros((3, 3))\n",
    "  R[0, 0] = cx * cz - sx * cy * sz\n",
    "  R[0, 1] = cx * sz + sx * cy * cz\n",
    "  R[0, 2] = sx * sy\n",
    "\n",
    "  R[1, 0] = -sx * cz - cx * cy * sz\n",
    "  R[1, 1] = -sx * sz + cx * cy * cz\n",
    "  R[1, 2] = cx * sy\n",
    "\n",
    "  R[2, 0] = sy * sz\n",
    "  R[2, 1] = -sy * cz\n",
    "  R[2, 2] = cy\n",
    "  return R\n",
    "\n",
    "\n",
    "def rotate(angles, v):\n",
    "  return np.dot(matrix_rotation(angles), v)\n"
   ]
  },
  {
   "cell_type": "markdown",
   "metadata": {
    "ein.tags": "worksheet-0",
    "slideshow": {
     "slide_type": "-"
    }
   },
   "source": [
    "es fácil utilizarlas. Las importamos y utilizamos"
   ]
  },
  {
   "cell_type": "code",
   "execution_count": 4,
   "metadata": {
    "autoscroll": false,
    "ein.tags": "worksheet-0",
    "slideshow": {
     "slide_type": "-"
    }
   },
   "outputs": [],
   "source": [
    "# import rotacion_p as rotp\n",
    "N = 100\n",
    "# Ángulos de Euler\n",
    "angle = np.random.random(3)\n",
    "# Definimos N vectores tridimensionales\n",
    "v = np.random.random((3, N))"
   ]
  },
  {
   "cell_type": "code",
   "execution_count": 5,
   "metadata": {
    "autoscroll": false,
    "ein.tags": "worksheet-0",
    "slideshow": {
     "slide_type": "-"
    }
   },
   "outputs": [],
   "source": [
    "# y= rotp.rotate(angle, v)\n",
    "y = rotate(angle,v)"
   ]
  },
  {
   "cell_type": "code",
   "execution_count": 6,
   "metadata": {
    "autoscroll": false,
    "ein.tags": "worksheet-0",
    "slideshow": {
     "slide_type": "-"
    }
   },
   "outputs": [
    {
     "name": "stdout",
     "output_type": "stream",
     "text": [
      "[0.6696921  0.8237775  0.12070519]\n",
      "[[ 1.36498285 -0.03853562 -0.28474258]\n",
      " [ 1.09202987 -0.07284859  0.56044512]\n",
      " [ 0.77784711  0.06940892  0.01427051]\n",
      " [ 0.60105196 -0.00217141 -0.32393209]\n",
      " [ 0.70354481 -0.62007963  0.05442661]]\n"
     ]
    }
   ],
   "source": [
    "print(angle)\n",
    "print(y[:,0:5].T)"
   ]
  },
  {
   "cell_type": "markdown",
   "metadata": {
    "ein.tags": "worksheet-0",
    "slideshow": {
     "slide_type": "-"
    }
   },
   "source": [
    "## Interfaces con Fortran\n",
    "\n",
    "Veamos cómo trabajar si tenemos el código para realizar las rotaciones en Fortran\n",
    "\n",
    "### Primer ejemplo: Nuestro código\n",
    "\n",
    "El código en Fortran que tenemos es:\n",
    "\n",
    "```fortran\n",
    "function rotate(theta, v, N) result(y)\n",
    "  implicit none\n",
    "  integer :: N\n",
    "  real(8), dimension(3), intent(IN) :: theta\n",
    "  real(8), dimension(3,N), intent(IN) :: v\n",
    "  real(8), dimension(3,N) :: y\n",
    "  real(8), dimension(3,3) :: R\n",
    "  real(8) :: cx, cy, cz, sx, sy, sz\n",
    "\n",
    "  ! Senos y Cosenos de los tres ángulos de Euler \n",
    "  cx = cos(theta(1)); cy = cos(theta(2)); cz = cos(theta(3))\n",
    "  sx = sin(theta(1)); sy = sin(theta(2)); sz = sin(theta(3))\n",
    "\n",
    "  ! Matriz de rotación\n",
    "  R(1,1) = cx*cz - sx*cy*sz\n",
    "  R(1,2) = cx*sz + sx*cy*cz\n",
    "  R(1,3) = sx*sy\n",
    "\n",
    "  R(2,1) = -sx*cz - cx*cy*sz\n",
    "  R(2,2) = -sx*sz + cx*cy*cz\n",
    "  R(2,3) = cx*sy\n",
    "\n",
    "  R(3,1) = sy*sz\n",
    "  R(3,2) = -sy*cz\n",
    "  R(3,3) = cy\n",
    "\n",
    "  ! Aplicamos la rotación\n",
    "  y = matmul(R, v)\n",
    "end function rotate\n",
    "```"
   ]
  },
  {
   "cell_type": "code",
   "execution_count": 7,
   "metadata": {},
   "outputs": [
    {
     "name": "stdout",
     "output_type": "stream",
     "text": [
      "[Errno 2] No such file or directory: 'interfacing_F'\n",
      "/Users/flavioc/Library/Mobile Documents/com~apple~CloudDocs/Documents/cursos/curso-python/book\n"
     ]
    }
   ],
   "source": [
    "cd interfacing_F"
   ]
  },
  {
   "cell_type": "code",
   "execution_count": 8,
   "metadata": {},
   "outputs": [
    {
     "ename": "SyntaxError",
     "evalue": "invalid syntax (129962905.py, line 1)",
     "output_type": "error",
     "traceback": [
      "\u001b[0;36m  Cell \u001b[0;32mIn[8], line 1\u001b[0;36m\u001b[0m\n\u001b[0;31m    cd interfacing_F\u001b[0m\n\u001b[0m       ^\u001b[0m\n\u001b[0;31mSyntaxError\u001b[0m\u001b[0;31m:\u001b[0m invalid syntax\n"
     ]
    }
   ],
   "source": [
    "cd interfacing_F\n",
    "!cat rotacion.f90"
   ]
  },
  {
   "cell_type": "markdown",
   "metadata": {
    "ein.tags": "worksheet-0",
    "slideshow": {
     "slide_type": "-"
    }
   },
   "source": [
    "### F2PY\n",
    "F2PY  -Fortran to Python interface generator- es una utilidad que permite generar una interface para utilizar funciones y datos definidos en Fortran desde Python.\n",
    "\n",
    "Información sobre la interfaz entre Fotran y Python, y en particular sobre F2PY, puede encontrarse en:\n",
    "\n",
    "- [Scipy cookbook](http://scipy-cookbook.readthedocs.io/items/idx_interfacing_with_other_languages.html)\n",
    "- [F2PY Users Guide and Reference Manual](https://docs.scipy.org/doc/numpy-dev/f2py/index.html)\n",
    "- [Fortran Best Practices](http://www.fortran90.org/src/best-practices.html#interfacing-with-python)\n",
    "- http://websrv.cs.umt.edu/isis/index.php/F2py_example"
   ]
  },
  {
   "cell_type": "markdown",
   "metadata": {
    "ein.tags": "worksheet-0",
    "slideshow": {
     "slide_type": "-"
    }
   },
   "source": [
    "El primer paso es utilizar esta utilidad:\n",
    "```bash\n",
    "$ f2py3 -c rotacion.f90 -m rotacion_f\n",
    "```"
   ]
  },
  {
   "cell_type": "code",
   "execution_count": 3,
   "metadata": {},
   "outputs": [
    {
     "name": "stdout",
     "output_type": "stream",
     "text": [
      "/Users/flavioc/Library/Mobile Documents/com~apple~CloudDocs/Documents/cursos/curso-python/interfacing_F\n"
     ]
    }
   ],
   "source": [
    "cd interfacing_F"
   ]
  },
  {
   "cell_type": "code",
   "execution_count": 4,
   "metadata": {
    "autoscroll": false,
    "ein.tags": "worksheet-0",
    "slideshow": {
     "slide_type": "-"
    }
   },
   "outputs": [
    {
     "name": "stdout",
     "output_type": "stream",
     "text": [
      "\u001b[39mrunning build\u001b[0m\n",
      "\u001b[39mrunning config_cc\u001b[0m\n",
      "\u001b[39munifing config_cc, config, build_clib, build_ext, build commands --compiler options\u001b[0m\n",
      "\u001b[39mrunning config_fc\u001b[0m\n",
      "\u001b[39munifing config_fc, config, build_clib, build_ext, build commands --fcompiler options\u001b[0m\n",
      "\u001b[39mrunning build_src\u001b[0m\n",
      "\u001b[39mbuild_src\u001b[0m\n",
      "\u001b[39mbuilding extension \"rotacion_f\" sources\u001b[0m\n",
      "\u001b[39mf2py options: []\u001b[0m\n",
      "\u001b[39mf2py:> /var/folders/18/8wj5kxln1dzbpqvfs_35mz000000gn/T/tmpxze79tof/src.macosx-10.9-x86_64-3.9/rotacion_fmodule.c\u001b[0m\n",
      "\u001b[39mcreating /var/folders/18/8wj5kxln1dzbpqvfs_35mz000000gn/T/tmpxze79tof/src.macosx-10.9-x86_64-3.9\u001b[0m\n",
      "Reading fortran codes...\n",
      "\tReading file 'rotacion.f90' (format:free)\n",
      "Post-processing...\n",
      "\tBlock: rotacion_f\n",
      "\t\t\tBlock: rotaciones\n",
      "\t\t\t\tBlock: matrix_rotation\n",
      "appenddecl: \"dimension\" not implemented.\n",
      "\t\t\t\tBlock: rotate\n",
      "appenddecl: \"dimension\" not implemented.\n",
      "\t\t\tBlock: test_rotation\n",
      "Post-processing (stage 2)...\n",
      "\tBlock: rotacion_f\n",
      "\t\tBlock: unknown_interface\n",
      "\t\t\tBlock: rotaciones\n",
      "\t\t\t\tBlock: matrix_rotation\n",
      "\t\t\t\tBlock: rotate\n",
      "\t\t\tBlock: test_rotation\n",
      "Building modules...\n",
      "\tBuilding module \"rotacion_f\"...\n",
      "\t\tConstructing F90 module support for \"rotaciones\"...\n",
      "\t\tCreating wrapper for Fortran function \"matrix_rotation\"(\"matrix_rotation\")...\n",
      "\t\t\tConstructing wrapper function \"rotaciones.matrix_rotation\"...\n",
      "\t\t\t  r = matrix_rotation(angles)\n",
      "\t\tCreating wrapper for Fortran function \"rotate\"(\"rotate\")...\n",
      "\t\t\tConstructing wrapper function \"rotaciones.rotate\"...\n",
      "\t\t\t  y = rotate(angles,v,[n])\n",
      "\tWrote C/API module \"rotacion_f\" to file \"/var/folders/18/8wj5kxln1dzbpqvfs_35mz000000gn/T/tmpxze79tof/src.macosx-10.9-x86_64-3.9/rotacion_fmodule.c\"\n",
      "\tFortran 90 wrappers are saved to \"/var/folders/18/8wj5kxln1dzbpqvfs_35mz000000gn/T/tmpxze79tof/src.macosx-10.9-x86_64-3.9/rotacion_f-f2pywrappers2.f90\"\n",
      "\u001b[39m  adding '/var/folders/18/8wj5kxln1dzbpqvfs_35mz000000gn/T/tmpxze79tof/src.macosx-10.9-x86_64-3.9/fortranobject.c' to sources.\u001b[0m\n",
      "\u001b[39m  adding '/var/folders/18/8wj5kxln1dzbpqvfs_35mz000000gn/T/tmpxze79tof/src.macosx-10.9-x86_64-3.9' to include_dirs.\u001b[0m\n",
      "\u001b[39mcopying /Users/flavioc/miniconda3/lib/python3.9/site-packages/numpy/f2py/src/fortranobject.c -> /var/folders/18/8wj5kxln1dzbpqvfs_35mz000000gn/T/tmpxze79tof/src.macosx-10.9-x86_64-3.9\u001b[0m\n",
      "\u001b[39mcopying /Users/flavioc/miniconda3/lib/python3.9/site-packages/numpy/f2py/src/fortranobject.h -> /var/folders/18/8wj5kxln1dzbpqvfs_35mz000000gn/T/tmpxze79tof/src.macosx-10.9-x86_64-3.9\u001b[0m\n",
      "\u001b[39m  adding '/var/folders/18/8wj5kxln1dzbpqvfs_35mz000000gn/T/tmpxze79tof/src.macosx-10.9-x86_64-3.9/rotacion_f-f2pywrappers2.f90' to sources.\u001b[0m\n",
      "\u001b[39mbuild_src: building npy-pkg config files\u001b[0m\n",
      "\u001b[39mrunning build_ext\u001b[0m\n",
      "\u001b[39mcustomize UnixCCompiler\u001b[0m\n",
      "\u001b[39mcustomize UnixCCompiler using build_ext\u001b[0m\n",
      "\u001b[39mget_default_fcompiler: matching types: '['gnu95', 'nag', 'absoft', 'ibm', 'intel', 'gnu', 'g95', 'pg']'\u001b[0m\n",
      "\u001b[39mcustomize Gnu95FCompiler\u001b[0m\n",
      "\u001b[39mFound executable /usr/local/bin/gfortran\u001b[0m\n",
      "\u001b[39mcustomize Gnu95FCompiler\u001b[0m\n",
      "\u001b[39mcustomize Gnu95FCompiler using build_ext\u001b[0m\n",
      "\u001b[39mbuilding 'rotacion_f' extension\u001b[0m\n",
      "\u001b[39mcompiling C sources\u001b[0m\n",
      "\u001b[39mC compiler: clang -Wno-unused-result -Wsign-compare -Wunreachable-code -DNDEBUG -fwrapv -O2 -Wall -fPIC -O2 -isystem /Users/flavioc/miniconda3/include -arch x86_64 -I/Users/flavioc/miniconda3/include -fPIC -O2 -isystem /Users/flavioc/miniconda3/include -arch x86_64\n",
      "\u001b[0m\n",
      "\u001b[39mcreating /var/folders/18/8wj5kxln1dzbpqvfs_35mz000000gn/T/tmpxze79tof/var\u001b[0m\n",
      "\u001b[39mcreating /var/folders/18/8wj5kxln1dzbpqvfs_35mz000000gn/T/tmpxze79tof/var/folders\u001b[0m\n",
      "\u001b[39mcreating /var/folders/18/8wj5kxln1dzbpqvfs_35mz000000gn/T/tmpxze79tof/var/folders/18\u001b[0m\n",
      "\u001b[39mcreating /var/folders/18/8wj5kxln1dzbpqvfs_35mz000000gn/T/tmpxze79tof/var/folders/18/8wj5kxln1dzbpqvfs_35mz000000gn\u001b[0m\n",
      "\u001b[39mcreating /var/folders/18/8wj5kxln1dzbpqvfs_35mz000000gn/T/tmpxze79tof/var/folders/18/8wj5kxln1dzbpqvfs_35mz000000gn/T\u001b[0m\n",
      "\u001b[39mcreating /var/folders/18/8wj5kxln1dzbpqvfs_35mz000000gn/T/tmpxze79tof/var/folders/18/8wj5kxln1dzbpqvfs_35mz000000gn/T/tmpxze79tof\u001b[0m\n",
      "\u001b[39mcreating /var/folders/18/8wj5kxln1dzbpqvfs_35mz000000gn/T/tmpxze79tof/var/folders/18/8wj5kxln1dzbpqvfs_35mz000000gn/T/tmpxze79tof/src.macosx-10.9-x86_64-3.9\u001b[0m\n",
      "\u001b[39mcompile options: '-DNPY_DISABLE_OPTIMIZATION=1 -I/var/folders/18/8wj5kxln1dzbpqvfs_35mz000000gn/T/tmpxze79tof/src.macosx-10.9-x86_64-3.9 -I/Users/flavioc/miniconda3/lib/python3.9/site-packages/numpy/core/include -I/Users/flavioc/miniconda3/include/python3.9 -c'\u001b[0m\n",
      "\u001b[39mclang: /var/folders/18/8wj5kxln1dzbpqvfs_35mz000000gn/T/tmpxze79tof/src.macosx-10.9-x86_64-3.9/rotacion_fmodule.c\u001b[0m\n",
      "\u001b[39mclang: /var/folders/18/8wj5kxln1dzbpqvfs_35mz000000gn/T/tmpxze79tof/src.macosx-10.9-x86_64-3.9/fortranobject.c\u001b[0m\n",
      "In file included from /var/folders/18/8wj5kxln1dzbpqvfs_35mz000000gn/T/tmpxze79tof/src.macosx-10.9-x86_64-3.9/rotacion_fmodule.c:16:\n",
      "In file included from /var/folders/18/8wj5kxln1dzbpqvfs_35mz000000gn/T/tmpxze79tof/src.macosx-10.9-x86_64-3.9/fortranobject.h:In file included from 13/var/folders/18/8wj5kxln1dzbpqvfs_35mz000000gn/T/tmpxze79tof/src.macosx-10.9-x86_64-3.9/fortranobject.c:\n",
      ":In file included from 2/Users/flavioc/miniconda3/lib/python3.9/site-packages/numpy/core/include/numpy/arrayobject.h:\n",
      ":In file included from 4/var/folders/18/8wj5kxln1dzbpqvfs_35mz000000gn/T/tmpxze79tof/src.macosx-10.9-x86_64-3.9/fortranobject.h:\n",
      ":In file included from 13/Users/flavioc/miniconda3/lib/python3.9/site-packages/numpy/core/include/numpy/ndarrayobject.h:\n",
      ":In file included from /Users/flavioc/miniconda3/lib/python3.9/site-packages/numpy/core/include/numpy/arrayobject.h12::\n",
      "4In file included from :\n",
      "/Users/flavioc/miniconda3/lib/python3.9/site-packages/numpy/core/include/numpy/ndarraytypes.hIn file included from :/Users/flavioc/miniconda3/lib/python3.9/site-packages/numpy/core/include/numpy/ndarrayobject.h1969::\n",
      "12:\n",
      "In file included from /Users/flavioc/miniconda3/lib/python3.9/site-packages/numpy/core/include/numpy/ndarraytypes.h:\u001b[1m1969/Users/flavioc/miniconda3/lib/python3.9/site-packages/numpy/core/include/numpy/npy_1_7_deprecated_api.h:17:\n",
      ":2: \u001b[1m\u001b[0m/Users/flavioc/miniconda3/lib/python3.9/site-packages/numpy/core/include/numpy/npy_1_7_deprecated_api.h\u001b[0;1;35m:warning: 17\u001b[0m:\u001b[1m2\"Using deprecated NumPy API, disable it with \"          \"#define NPY_NO_DEPRECATED_API NPY_1_7_API_VERSION\" [-W#warnings]:\u001b[0m \n",
      "\u001b[0m\u001b[0;1;35mwarning: \u001b[0m\u001b[1m\"Using deprecated NumPy API, disable it with \"          \"#define NPY_NO_DEPRECATED_API NPY_1_7_API_VERSION\" [-W#warnings]\u001b[0m\n",
      "#warning \"Using deprecated NumPy API, disable it with \" \\\n",
      "\u001b[0;1;32m ^\n",
      "\u001b[0m#warning \"Using deprecated NumPy API, disable it with \" \\\n",
      "\u001b[0;1;32m ^\n",
      "\u001b[0m\u001b[1m/var/folders/18/8wj5kxln1dzbpqvfs_35mz000000gn/T/tmpxze79tof/src.macosx-10.9-x86_64-3.9/rotacion_fmodule.c:109:12: \u001b[0m\u001b[0;1;35mwarning: \u001b[0m\u001b[1munused function 'f2py_size' [-Wunused-function]\u001b[0m\n",
      "static int f2py_size(PyArrayObject* var, ...)\n",
      "\u001b[0;1;32m           ^\n",
      "\u001b[0m2 warnings generated.\n",
      "1 warning generated.\n",
      "\u001b[39mcompiling Fortran 90 module sources\u001b[0m\n",
      "\u001b[39mFortran f77 compiler: /usr/local/bin/gfortran -Wall -g -ffixed-form -fno-second-underscore -arch x86_64 -fPIC -O3 -funroll-loops\n",
      "Fortran f90 compiler: /usr/local/bin/gfortran -Wall -g -fno-second-underscore -arch x86_64 -fPIC -O3 -funroll-loops\n",
      "Fortran fix compiler: /usr/local/bin/gfortran -Wall -g -ffixed-form -fno-second-underscore -Wall -g -fno-second-underscore -arch x86_64 -fPIC -O3 -funroll-loops\u001b[0m\n",
      "\u001b[39mcompile options: '-I/var/folders/18/8wj5kxln1dzbpqvfs_35mz000000gn/T/tmpxze79tof/src.macosx-10.9-x86_64-3.9 -I/Users/flavioc/miniconda3/lib/python3.9/site-packages/numpy/core/include -I/Users/flavioc/miniconda3/include/python3.9 -c'\n",
      "extra options: '-J/var/folders/18/8wj5kxln1dzbpqvfs_35mz000000gn/T/tmpxze79tof/ -I/var/folders/18/8wj5kxln1dzbpqvfs_35mz000000gn/T/tmpxze79tof/'\u001b[0m\n",
      "\u001b[39mgfortran:f90: rotacion.f90\u001b[0m\n",
      "\u001b[01m\u001b[Krotacion.f90:56:24:\u001b[m\u001b[K\n",
      "\n",
      "   56 |   integer :: n, Nloops,i,j\n",
      "      |                        \u001b[01;35m\u001b[K1\u001b[m\u001b[K\n",
      "\u001b[01;35m\u001b[KWarning:\u001b[m\u001b[K Unused variable '\u001b[01m\u001b[Ki\u001b[m\u001b[K' declared at \u001b[01;35m\u001b[K(1)\u001b[m\u001b[K [\u001b[01;35m\u001b[K\u001b]8;;https://gcc.gnu.org/onlinedocs/gcc/Warning-Options.html#index-Wunused-variable\u0007-Wunused-variable\u001b]8;;\u0007\u001b[m\u001b[K]\n",
      "\u001b[01m\u001b[Krotacion.f90:56:26:\u001b[m\u001b[K\n",
      "\n",
      "   56 |   integer :: n, Nloops,i,j\n",
      "      |                          \u001b[01;35m\u001b[K1\u001b[m\u001b[K\n",
      "\u001b[01;35m\u001b[KWarning:\u001b[m\u001b[K Unused variable '\u001b[01m\u001b[Kj\u001b[m\u001b[K' declared at \u001b[01;35m\u001b[K(1)\u001b[m\u001b[K [\u001b[01;35m\u001b[K\u001b]8;;https://gcc.gnu.org/onlinedocs/gcc/Warning-Options.html#index-Wunused-variable\u0007-Wunused-variable\u001b]8;;\u0007\u001b[m\u001b[K]\n",
      "\u001b[01m\u001b[Krotacion.f90:59:31:\u001b[m\u001b[K\n",
      "\n",
      "   59 |   real(8), dimension(3, 3) :: R\n",
      "      |                               \u001b[01;35m\u001b[K1\u001b[m\u001b[K\n",
      "\u001b[01;35m\u001b[KWarning:\u001b[m\u001b[K Unused variable '\u001b[01m\u001b[Kr\u001b[m\u001b[K' declared at \u001b[01;35m\u001b[K(1)\u001b[m\u001b[K [\u001b[01;35m\u001b[K\u001b]8;;https://gcc.gnu.org/onlinedocs/gcc/Warning-Options.html#index-Wunused-variable\u0007-Wunused-variable\u001b]8;;\u0007\u001b[m\u001b[K]\n",
      "\u001b[01m\u001b[Krotacion.f90:44:0:\u001b[m\u001b[K\n",
      "\n",
      "   44 |     y = matmul(matrix_rotation(angles), v)\n",
      "      | \n",
      "\u001b[01;35m\u001b[KWarning:\u001b[m\u001b[K '\u001b[01m\u001b[K__var_1_mma.offset\u001b[m\u001b[K' is used uninitialized in this function [\u001b[01;35m\u001b[K\u001b]8;;https://gcc.gnu.org/onlinedocs/gcc/Warning-Options.html#index-Wuninitialized\u0007-Wuninitialized\u001b]8;;\u0007\u001b[m\u001b[K]\n",
      "\u001b[01m\u001b[Krotacion.f90:44:0:\u001b[m\u001b[K \u001b[01;35m\u001b[KWarning:\u001b[m\u001b[K '\u001b[01m\u001b[K__var_1_mma.dim[0].lbound\u001b[m\u001b[K' is used uninitialized in this function [\u001b[01;35m\u001b[K\u001b]8;;https://gcc.gnu.org/onlinedocs/gcc/Warning-Options.html#index-Wuninitialized\u0007-Wuninitialized\u001b]8;;\u0007\u001b[m\u001b[K]\n",
      "\u001b[01m\u001b[Krotacion.f90:44:0:\u001b[m\u001b[K \u001b[01;35m\u001b[KWarning:\u001b[m\u001b[K '\u001b[01m\u001b[K__var_1_mma.dim[0].ubound\u001b[m\u001b[K' is used uninitialized in this function [\u001b[01;35m\u001b[K\u001b]8;;https://gcc.gnu.org/onlinedocs/gcc/Warning-Options.html#index-Wuninitialized\u0007-Wuninitialized\u001b]8;;\u0007\u001b[m\u001b[K]\n",
      "\u001b[01m\u001b[Krotacion.f90:44:0:\u001b[m\u001b[K \u001b[01;35m\u001b[KWarning:\u001b[m\u001b[K '\u001b[01m\u001b[K__var_1_mma.dim[1].lbound\u001b[m\u001b[K' is used uninitialized in this function [\u001b[01;35m\u001b[K\u001b]8;;https://gcc.gnu.org/onlinedocs/gcc/Warning-Options.html#index-Wuninitialized\u0007-Wuninitialized\u001b]8;;\u0007\u001b[m\u001b[K]\n",
      "\u001b[01m\u001b[Krotacion.f90:44:0:\u001b[m\u001b[K \u001b[01;35m\u001b[KWarning:\u001b[m\u001b[K '\u001b[01m\u001b[K__var_1_mma.dim[1].ubound\u001b[m\u001b[K' is used uninitialized in this function [\u001b[01;35m\u001b[K\u001b]8;;https://gcc.gnu.org/onlinedocs/gcc/Warning-Options.html#index-Wuninitialized\u0007-Wuninitialized\u001b]8;;\u0007\u001b[m\u001b[K]\n",
      "\u001b[39mcompiling Fortran sources\u001b[0m\n",
      "\u001b[39mFortran f77 compiler: /usr/local/bin/gfortran -Wall -g -ffixed-form -fno-second-underscore -arch x86_64 -fPIC -O3 -funroll-loops\n",
      "Fortran f90 compiler: /usr/local/bin/gfortran -Wall -g -fno-second-underscore -arch x86_64 -fPIC -O3 -funroll-loops\n",
      "Fortran fix compiler: /usr/local/bin/gfortran -Wall -g -ffixed-form -fno-second-underscore -Wall -g -fno-second-underscore -arch x86_64 -fPIC -O3 -funroll-loops\u001b[0m\n",
      "\u001b[39mcompile options: '-I/var/folders/18/8wj5kxln1dzbpqvfs_35mz000000gn/T/tmpxze79tof/src.macosx-10.9-x86_64-3.9 -I/Users/flavioc/miniconda3/lib/python3.9/site-packages/numpy/core/include -I/Users/flavioc/miniconda3/include/python3.9 -c'\n",
      "extra options: '-J/var/folders/18/8wj5kxln1dzbpqvfs_35mz000000gn/T/tmpxze79tof/ -I/var/folders/18/8wj5kxln1dzbpqvfs_35mz000000gn/T/tmpxze79tof/'\u001b[0m\n",
      "\u001b[39mgfortran:f90: /var/folders/18/8wj5kxln1dzbpqvfs_35mz000000gn/T/tmpxze79tof/src.macosx-10.9-x86_64-3.9/rotacion_f-f2pywrappers2.f90\u001b[0m\n",
      "\u001b[39m/usr/local/bin/gfortran -Wall -g -arch x86_64 -Wall -g -undefined dynamic_lookup -bundle /var/folders/18/8wj5kxln1dzbpqvfs_35mz000000gn/T/tmpxze79tof/var/folders/18/8wj5kxln1dzbpqvfs_35mz000000gn/T/tmpxze79tof/src.macosx-10.9-x86_64-3.9/rotacion_fmodule.o /var/folders/18/8wj5kxln1dzbpqvfs_35mz000000gn/T/tmpxze79tof/var/folders/18/8wj5kxln1dzbpqvfs_35mz000000gn/T/tmpxze79tof/src.macosx-10.9-x86_64-3.9/fortranobject.o /var/folders/18/8wj5kxln1dzbpqvfs_35mz000000gn/T/tmpxze79tof/rotacion.o /var/folders/18/8wj5kxln1dzbpqvfs_35mz000000gn/T/tmpxze79tof/var/folders/18/8wj5kxln1dzbpqvfs_35mz000000gn/T/tmpxze79tof/src.macosx-10.9-x86_64-3.9/rotacion_f-f2pywrappers2.o -L/usr/local/Cellar/gcc/10.2.0_4/lib/gcc/10/gcc/x86_64-apple-darwin20/10.2.0 -L/usr/local/Cellar/gcc/10.2.0_4/lib/gcc/10/gcc/x86_64-apple-darwin20/10.2.0/../../.. -L/usr/local/Cellar/gcc/10.2.0_4/lib/gcc/10/gcc/x86_64-apple-darwin20/10.2.0/../../.. -lgfortran -o ./rotacion_f.cpython-39-darwin.so\u001b[0m\n",
      "ld: warning: dylib (/usr/local/Cellar/gcc/10.2.0_4/lib/gcc/10/libgfortran.dylib) was built for newer macOS version (11.2) than being linked (10.9)\n",
      "ld: warning: dylib (/usr/local/Cellar/gcc/10.2.0_4/lib/gcc/10/libquadmath.dylib) was built for newer macOS version (11.2) than being linked (10.9)\n",
      "Removing build directory /var/folders/18/8wj5kxln1dzbpqvfs_35mz000000gn/T/tmpxze79tof\n"
     ]
    }
   ],
   "source": [
    "!f2py3 -c rotacion.f90 -m rotacion_f"
   ]
  },
  {
   "cell_type": "code",
   "execution_count": 5,
   "metadata": {
    "autoscroll": false,
    "ein.tags": "worksheet-0",
    "slideshow": {
     "slide_type": "-"
    }
   },
   "outputs": [],
   "source": [
    "from rotacion_f import rotaciones as rotf"
   ]
  },
  {
   "cell_type": "code",
   "execution_count": 13,
   "metadata": {
    "autoscroll": false,
    "ein.tags": "worksheet-0",
    "slideshow": {
     "slide_type": "-"
    }
   },
   "outputs": [
    {
     "name": "stdout",
     "output_type": "stream",
     "text": [
      "[[ 0.47376078 -0.24160762  0.02044082]\n",
      " [ 1.02959434 -0.26525449  0.09490861]\n",
      " [ 0.9099134  -0.58427485  0.04734065]\n",
      " [ 0.89056527 -0.06904614 -0.08929548]\n",
      " [ 1.09787601 -0.21072575  0.69077876]]\n",
      "[[ 0.47376078 -0.24160762  0.02044082]\n",
      " [ 1.02959434 -0.26525449  0.09490861]\n",
      " [ 0.9099134  -0.58427485  0.04734065]\n",
      " [ 0.89056527 -0.06904614 -0.08929548]\n",
      " [ 1.09787601 -0.21072575  0.69077876]]\n"
     ]
    }
   ],
   "source": [
    "yf = rotf.rotate(angle, v)\n",
    "print(y[:,0:5].T)\n",
    "print(yf[:,0:5].T)"
   ]
  },
  {
   "cell_type": "code",
   "execution_count": 14,
   "metadata": {
    "autoscroll": false,
    "ein.tags": "worksheet-0",
    "slideshow": {
     "slide_type": "-"
    }
   },
   "outputs": [
    {
     "data": {
      "text/plain": [
       "True"
      ]
     },
     "execution_count": 14,
     "metadata": {},
     "output_type": "execute_result"
    }
   ],
   "source": [
    "np.allclose(yf,y)"
   ]
  },
  {
   "cell_type": "markdown",
   "metadata": {
    "ein.tags": "worksheet-0",
    "slideshow": {
     "slide_type": "-"
    }
   },
   "source": [
    "Veamos qué es exactamente lo que importamos:"
   ]
  },
  {
   "cell_type": "code",
   "execution_count": 15,
   "metadata": {
    "autoscroll": false,
    "ein.tags": "worksheet-0",
    "slideshow": {
     "slide_type": "-"
    }
   },
   "outputs": [
    {
     "name": "stdout",
     "output_type": "stream",
     "text": [
      "y = rotate(angles,v,[n])\n",
      "\n",
      "Wrapper for ``rotate``.\n",
      "\n",
      "Parameters\n",
      "----------\n",
      "angles : input rank-1 array('d') with bounds (3)\n",
      "v : input rank-2 array('d') with bounds (3,n)\n",
      "\n",
      "Other Parameters\n",
      "----------------\n",
      "n : input int, optional\n",
      "    Default: shape(v,1)\n",
      "\n",
      "Returns\n",
      "-------\n",
      "y : rank-2 array('d') with bounds (3,n) and rotate storage\n"
     ]
    }
   ],
   "source": [
    "np.info(rotf.rotate)"
   ]
  },
  {
   "cell_type": "markdown",
   "metadata": {
    "ein.tags": "worksheet-0",
    "slideshow": {
     "slide_type": "-"
    }
   },
   "source": [
    "Como vemos, estamos usando la función `rotate` definida en Fortran. Notar que:\n",
    "* Tiene tres argumentos.\n",
    "   * Dos argumentos requeridos: `angles` y `v`\n",
    "   * Un argumento, correspondiente a la dimensión `n` que F2PY automáticamente detecta como opcional.\n",
    "\n",
    "             "
   ]
  },
  {
   "cell_type": "markdown",
   "metadata": {
    "ein.tags": "worksheet-0",
    "slideshow": {
     "slide_type": "-"
    }
   },
   "source": [
    "### Segundo Ejemplo: Código heredado\n",
    "\n",
    "La conversión que realizamos con f2py3 la podríamos haber realizado en dos pasos:\n",
    "\n",
    "```bash\n",
    "$ f2py3 rotacion.f90 -m rotacion_f -h rotacion.pyf\n",
    "$ f2py3 -c rotacion.pyf -m rotacion_f\n",
    "```\n",
    "En el primer paso se crea un archivo *signature* que después se utiliza para crear el módulo que llamaremos desde **Python**. Haciéndolo en dos pasos nos permite modificar el texto del archivo *.pyf* antes de ejecutar el segundo comando.\n",
    "\n",
    "Esto es útil cuando el código original no es lo suficientemente \"moderno\", no tiene toda la información necesaria sobre los argumentos o es un código que uno no quiere o puede editar. Veamos que forma tienen con un ejemplo más simple (tomado de la [guía de usuario](https://docs.scipy.org/doc/numpy-dev/f2py/getting-started.html)):\n",
    "\n",
    "```fortran\n",
    "      SUBROUTINE FIB(A,N)\n",
    "C\n",
    "C     CALCULATE FIRST N FIBONACCI NUMBERS\n",
    "C\n",
    "      INTEGER N\n",
    "      REAL*8 A(N)\n",
    "      DO I=1,N\n",
    "         IF (I.EQ.1) THEN\n",
    "            A(I) = 0.0D0\n",
    "         ELSEIF (I.EQ.2) THEN\n",
    "            A(I) = 1.0D0\n",
    "         ELSE \n",
    "            A(I) = A(I-1) + A(I-2)\n",
    "         ENDIF\n",
    "      ENDDO\n",
    "      END\n",
    "```"
   ]
  },
  {
   "cell_type": "code",
   "execution_count": 16,
   "metadata": {
    "autoscroll": false,
    "ein.tags": "worksheet-0",
    "slideshow": {
     "slide_type": "-"
    }
   },
   "outputs": [
    {
     "name": "stdout",
     "output_type": "stream",
     "text": [
      "Reading fortran codes...\n",
      "\tReading file 'fib1.f' (format:fix,strict)\n",
      "Post-processing...\n",
      "\tBlock: fib1\n",
      "\t\t\tBlock: fib\n",
      "Post-processing (stage 2)...\n",
      "Saving signatures to file \"./fib1.pyf\"\n"
     ]
    }
   ],
   "source": [
    "!f2py3 --overwrite-signature fib1.f -m fib1 -h fib1.pyf"
   ]
  },
  {
   "cell_type": "code",
   "execution_count": 17,
   "metadata": {},
   "outputs": [
    {
     "name": "stdout",
     "output_type": "stream",
     "text": [
      "!    -*- f90 -*-\n",
      "! Note: the context of this file is case sensitive.\n",
      "\n",
      "python module fib1 ! in \n",
      "    interface  ! in :fib1\n",
      "        subroutine fib(a,n) ! in :fib1:fib1.f\n",
      "            real*8 dimension(n) :: a\n",
      "            integer, optional,check(len(a)>=n),depend(a) :: n=len(a)\n",
      "        end subroutine fib\n",
      "    end interface \n",
      "end python module fib1\n",
      "\n",
      "! This file was auto-generated with f2py (version:1.21.2).\n",
      "! See http://cens.ioc.ee/projects/f2py2e/\n"
     ]
    }
   ],
   "source": [
    "!cat fib1.pyf"
   ]
  },
  {
   "attachments": {},
   "cell_type": "markdown",
   "metadata": {
    "ein.tags": "worksheet-0",
    "slideshow": {
     "slide_type": "-"
    }
   },
   "source": [
    "El contenido del archivo `fib1.pyf` es:\n",
    "\n",
    "```fortran90\n",
    "python module fib1 ! in \n",
    "    interface  ! in :fib1\n",
    "        subroutine fib(a,n) ! in :fib1:fib1.f\n",
    "            real*8 dimension(n) :: a\n",
    "            integer, optional,check(len(a)>=n),depend(a) :: n=len(a)\n",
    "        end subroutine fib\n",
    "    end interface \n",
    "end python module fib1\n",
    "```\n",
    "\n",
    "Este código indica que tenemos una subrutina que toma dos argumentos:\n",
    "- `a` es un array\n",
    "- `n` es un entero opcional, que tiene que ser mayor que `len(a)`"
   ]
  },
  {
   "cell_type": "code",
   "execution_count": 18,
   "metadata": {
    "autoscroll": false,
    "ein.tags": "worksheet-0",
    "slideshow": {
     "slide_type": "-"
    }
   },
   "outputs": [
    {
     "name": "stdout",
     "output_type": "stream",
     "text": [
      "In file included from In file included from /var/folders/18/8wj5kxln1dzbpqvfs_35mz000000gn/T/tmp64o5eiwk/src.macosx-10.9-x86_64-3.9/fib1module.c/var/folders/18/8wj5kxln1dzbpqvfs_35mz000000gn/T/tmp64o5eiwk/src.macosx-10.9-x86_64-3.9/fortranobject.c::162:\n",
      ":\n",
      "In file included from In file included from /var/folders/18/8wj5kxln1dzbpqvfs_35mz000000gn/T/tmp64o5eiwk/src.macosx-10.9-x86_64-3.9/fortranobject.h/var/folders/18/8wj5kxln1dzbpqvfs_35mz000000gn/T/tmp64o5eiwk/src.macosx-10.9-x86_64-3.9/fortranobject.h::1313:\n",
      ":\n",
      "In file included from In file included from /Users/flavioc/miniconda3/lib/python3.9/site-packages/numpy/core/include/numpy/arrayobject.h/Users/flavioc/miniconda3/lib/python3.9/site-packages/numpy/core/include/numpy/arrayobject.h::44:\n",
      ":\n",
      "In file included from In file included from /Users/flavioc/miniconda3/lib/python3.9/site-packages/numpy/core/include/numpy/ndarrayobject.h/Users/flavioc/miniconda3/lib/python3.9/site-packages/numpy/core/include/numpy/ndarrayobject.h::1212:\n",
      ":\n",
      "In file included from In file included from /Users/flavioc/miniconda3/lib/python3.9/site-packages/numpy/core/include/numpy/ndarraytypes.h:/Users/flavioc/miniconda3/lib/python3.9/site-packages/numpy/core/include/numpy/ndarraytypes.h:19691969:\n",
      ":\n",
      "\u001b[1m/Users/flavioc/miniconda3/lib/python3.9/site-packages/numpy/core/include/numpy/npy_1_7_deprecated_api.h:17\u001b[1m:/Users/flavioc/miniconda3/lib/python3.9/site-packages/numpy/core/include/numpy/npy_1_7_deprecated_api.h2::17 :\u001b[0m2\u001b[0;1;35m:warning:  \u001b[0m\u001b[0m\u001b[1m\u001b[0;1;35m\"Using deprecated NumPy API, disable it with \"          \"#define NPY_NO_DEPRECATED_API NPY_1_7_API_VERSION\" [-W#warnings]warning: \u001b[0m\u001b[0m\n",
      "\u001b[1m\"Using deprecated NumPy API, disable it with \"          \"#define NPY_NO_DEPRECATED_API NPY_1_7_API_VERSION\" [-W#warnings]\u001b[0m\n",
      "#warning \"Using deprecated NumPy API, disable it with \" \\\n",
      "\u001b[0;1;32m ^#warning \"Using deprecated NumPy API, disable it with \" \\\n",
      "\n",
      "\u001b[0m\u001b[0;1;32m ^\n",
      "\u001b[0m\u001b[1m/var/folders/18/8wj5kxln1dzbpqvfs_35mz000000gn/T/tmp64o5eiwk/src.macosx-10.9-x86_64-3.9/fib1module.c:109:12: \u001b[0m\u001b[0;1;35mwarning: \u001b[0m\u001b[1munused function 'f2py_size' [-Wunused-function]\u001b[0m\n",
      "static int f2py_size(PyArrayObject* var, ...)\n",
      "\u001b[0;1;32m           ^\n",
      "\u001b[0m2 warnings generated.\n",
      "1 warning generated.\n",
      "ld: warning: dylib (/usr/local/Cellar/gcc/10.2.0_4/lib/gcc/10/libgfortran.dylib) was built for newer macOS version (11.2) than being linked (10.9)\n",
      "ld: warning: dylib (/usr/local/Cellar/gcc/10.2.0_4/lib/gcc/10/libquadmath.dylib) was built for newer macOS version (11.2) than being linked (10.9)\n"
     ]
    }
   ],
   "source": [
    "!f2py3  -c fib1.pyf fib1.f > /dev/null"
   ]
  },
  {
   "cell_type": "code",
   "execution_count": 19,
   "metadata": {},
   "outputs": [
    {
     "name": "stdout",
     "output_type": "stream",
     "text": [
      "\u001b[31mfib1.cpython-39-darwin.so\u001b[m\u001b[m*       \u001b[34mfib3.cpython-39-darwin.so.dSYM\u001b[m\u001b[m/\n",
      "fib1.f                           fib3.f\n",
      "fib1.pyf                         rotacion.f90\n",
      "\u001b[31mfib2.cpython-39-darwin.so\u001b[m\u001b[m*       rotacion.pyf\n",
      "\u001b[34mfib2.cpython-39-darwin.so.dSYM\u001b[m\u001b[m/  \u001b[31mrotacion_f.cpython-39-darwin.so\u001b[m\u001b[m*\n",
      "fib2.pyf                         rotaciones.mod\n",
      "\u001b[31mfib3.cpython-39-darwin.so\u001b[m\u001b[m*\n"
     ]
    }
   ],
   "source": [
    "ls"
   ]
  },
  {
   "cell_type": "code",
   "execution_count": 20,
   "metadata": {
    "autoscroll": false,
    "ein.tags": "worksheet-0",
    "slideshow": {
     "slide_type": "-"
    }
   },
   "outputs": [],
   "source": [
    "import fib1"
   ]
  },
  {
   "cell_type": "code",
   "execution_count": 21,
   "metadata": {
    "autoscroll": false,
    "ein.tags": "worksheet-0",
    "slideshow": {
     "slide_type": "-"
    }
   },
   "outputs": [
    {
     "name": "stdout",
     "output_type": "stream",
     "text": [
      "fib(a,[n])\n",
      "\n",
      "Wrapper for ``fib``.\n",
      "\n",
      "Parameters\n",
      "----------\n",
      "a : input rank-1 array('d') with bounds (n)\n",
      "\n",
      "Other Parameters\n",
      "----------------\n",
      "n : input int, optional\n",
      "    Default: len(a)\n",
      "\n"
     ]
    }
   ],
   "source": [
    "print(fib1.fib.__doc__)"
   ]
  },
  {
   "cell_type": "code",
   "execution_count": 22,
   "metadata": {
    "autoscroll": false,
    "ein.tags": "worksheet-0",
    "slideshow": {
     "slide_type": "-"
    }
   },
   "outputs": [
    {
     "name": "stdout",
     "output_type": "stream",
     "text": [
      "[ 0.  1.  1.  2.  3.  5.  8. 13. 21. 34. 55. 89.]\n"
     ]
    }
   ],
   "source": [
    "a = np.zeros(12)\n",
    "fib1.fib(a)\n",
    "print(a)"
   ]
  },
  {
   "cell_type": "code",
   "execution_count": 23,
   "metadata": {
    "autoscroll": false,
    "ein.tags": "worksheet-0",
    "slideshow": {
     "slide_type": "-"
    }
   },
   "outputs": [
    {
     "name": "stdout",
     "output_type": "stream",
     "text": [
      "[ 0.  1.  1.  2.  3.  5.  8. 13.  0.  0.  0.  0.]\n"
     ]
    }
   ],
   "source": [
    "a = np.zeros(12)\n",
    "fib1.fib(a,8)\n",
    "print(a)"
   ]
  },
  {
   "cell_type": "code",
   "execution_count": 24,
   "metadata": {
    "autoscroll": false,
    "ein.tags": "worksheet-0",
    "slideshow": {
     "slide_type": "-"
    }
   },
   "outputs": [
    {
     "ename": "error",
     "evalue": "(len(a)>=n) failed for 1st keyword n: fib:n=18",
     "output_type": "error",
     "traceback": [
      "\u001b[0;31m---------------------------------------------------------------------------\u001b[0m",
      "\u001b[0;31merror\u001b[0m                                     Traceback (most recent call last)",
      "\u001b[1;32m/Users/flavioc/Library/Mobile Documents/com~apple~CloudDocs/Documents/cursos/curso-python/15_interfacing_F.ipynb Cell 33\u001b[0m in \u001b[0;36m<cell line: 2>\u001b[0;34m()\u001b[0m\n\u001b[1;32m      <a href='vscode-notebook-cell:/Users/flavioc/Library/Mobile%20Documents/com~apple~CloudDocs/Documents/cursos/curso-python/15_interfacing_F.ipynb#X44sZmlsZQ%3D%3D?line=0'>1</a>\u001b[0m a \u001b[39m=\u001b[39m np\u001b[39m.\u001b[39mzeros(\u001b[39m12\u001b[39m)\n\u001b[0;32m----> <a href='vscode-notebook-cell:/Users/flavioc/Library/Mobile%20Documents/com~apple~CloudDocs/Documents/cursos/curso-python/15_interfacing_F.ipynb#X44sZmlsZQ%3D%3D?line=1'>2</a>\u001b[0m fib1\u001b[39m.\u001b[39;49mfib(a,\u001b[39m18\u001b[39;49m)\n\u001b[1;32m      <a href='vscode-notebook-cell:/Users/flavioc/Library/Mobile%20Documents/com~apple~CloudDocs/Documents/cursos/curso-python/15_interfacing_F.ipynb#X44sZmlsZQ%3D%3D?line=2'>3</a>\u001b[0m \u001b[39mprint\u001b[39m(a)\n",
      "\u001b[0;31merror\u001b[0m: (len(a)>=n) failed for 1st keyword n: fib:n=18"
     ]
    }
   ],
   "source": [
    "a = np.zeros(12)\n",
    "fib1.fib(a,18)\n",
    "print(a)"
   ]
  },
  {
   "cell_type": "markdown",
   "metadata": {
    "ein.tags": "worksheet-0",
    "slideshow": {
     "slide_type": "-"
    }
   },
   "source": [
    "Esta es una de las características de F2PY: hace un chequeo básico de los argumentos. Hay otro error que no llega a atrapar: Si le pasamos un array que no es del tipo indicado, falla (sin avisar). Éste claramente no es el comportamiento deseado:"
   ]
  },
  {
   "cell_type": "code",
   "execution_count": 25,
   "metadata": {
    "autoscroll": false,
    "ein.tags": "worksheet-0",
    "slideshow": {
     "slide_type": "-"
    }
   },
   "outputs": [
    {
     "name": "stdout",
     "output_type": "stream",
     "text": [
      "[0 0 0 0 0 0 0 0 0 0 0 0]\n"
     ]
    }
   ],
   "source": [
    "a = np.zeros(12, dtype=int)\n",
    "fib1.fib(a)\n",
    "print(a)"
   ]
  },
  {
   "cell_type": "markdown",
   "metadata": {
    "ein.tags": "worksheet-0",
    "slideshow": {
     "slide_type": "-"
    }
   },
   "source": [
    "Vamos a modificar el archivo de *signature* para enseñarle dos cosas:\n",
    "\n",
    "- El entero es un argumento de entrada (requerido)\n",
    "- El *array* `a` es un archivo de salida **exclusivamente**. Entonces no debemos dárselo. La parte `dimension(n)` y `depend(n)` indica que debe crear un vector de ese tamaño.\n"
   ]
  },
  {
   "cell_type": "code",
   "execution_count": 26,
   "metadata": {},
   "outputs": [
    {
     "name": "stdout",
     "output_type": "stream",
     "text": [
      "!    -*- f90 -*-\r\n",
      "! Note: the context of this file is case sensitive.\r\n",
      "\r\n",
      "python module fib1 ! in \r\n",
      "    interface  ! in :fib1\r\n",
      "        subroutine fib(a,n) ! in :fib1:fib1.f\r\n",
      "            real*8 dimension(n) :: a\r\n",
      "            integer, optional,check(len(a)>=n),depend(a) :: n=len(a)\r\n",
      "        end subroutine fib\r\n",
      "    end interface \r\n",
      "end python module fib1\r\n",
      "\r\n",
      "! This file was auto-generated with f2py (version:1.21.2).\r\n",
      "! See http://cens.ioc.ee/projects/f2py2e/\r\n"
     ]
    }
   ],
   "source": [
    "!cat fib1.pyf "
   ]
  },
  {
   "cell_type": "code",
   "execution_count": 26,
   "metadata": {},
   "outputs": [
    {
     "name": "stdout",
     "output_type": "stream",
     "text": [
      "!    -*- f90 -*-\n",
      "! Note: the context of this file is case sensitive.\n",
      "\n",
      "python module fib2 \n",
      "    interface  \n",
      "        subroutine fib(a,n)\n",
      "            real*8 dimension(n), intent(out), depend(n) :: a\n",
      "            integer intent(in) :: n \n",
      "        end subroutine fib\n",
      "    end interface \n",
      "end python module fib2\n",
      "\n",
      "! This file was auto-generated with f2py (version:1.21.2).\n",
      "! See http://cens.ioc.ee/projects/f2py2e/\n"
     ]
    }
   ],
   "source": [
    "!cat fib2.pyf"
   ]
  },
  {
   "cell_type": "code",
   "execution_count": 27,
   "metadata": {
    "autoscroll": false,
    "ein.tags": "worksheet-0",
    "slideshow": {
     "slide_type": "-"
    }
   },
   "outputs": [
    {
     "name": "stdout",
     "output_type": "stream",
     "text": [
      "In file included from /var/folders/18/8wj5kxln1dzbpqvfs_35mz000000gn/T/tmpwwh98v44/src.macosx-10.9-x86_64-3.9/fib2module.c:16:\n",
      "In file included from /var/folders/18/8wj5kxln1dzbpqvfs_35mz000000gn/T/tmpwwh98v44/src.macosx-10.9-x86_64-3.9/fortranobject.h:13:\n",
      "In file included from /Users/flavioc/miniconda3/lib/python3.9/site-packages/numpy/core/include/numpy/arrayobject.h:4:\n",
      "In file included from /Users/flavioc/miniconda3/lib/python3.9/site-packages/numpy/core/include/numpy/ndarrayobject.h:12:\n",
      "In file included from /Users/flavioc/miniconda3/lib/python3.9/site-packages/numpy/core/include/numpy/ndarraytypes.h:1969:\n",
      "\u001b[1m/Users/flavioc/miniconda3/lib/python3.9/site-packages/numpy/core/include/numpy/npy_1_7_deprecated_api.h:17:2: \u001b[0m\u001b[0;1;35mwarning: \u001b[0m\u001b[1m\"Using deprecated NumPy API, disable it with \"          \"#define NPY_NO_DEPRECATED_API NPY_1_7_API_VERSION\" [-W#warnings]\u001b[0m\n",
      "#warning \"Using deprecated NumPy API, disable it with \" \\\n",
      "\u001b[0;1;32m ^\n",
      "\u001b[0mIn file included from /var/folders/18/8wj5kxln1dzbpqvfs_35mz000000gn/T/tmpwwh98v44/src.macosx-10.9-x86_64-3.9/fortranobject.c:2:\n",
      "In file included from /var/folders/18/8wj5kxln1dzbpqvfs_35mz000000gn/T/tmpwwh98v44/src.macosx-10.9-x86_64-3.9/fortranobject.h:13:\n",
      "In file included from /Users/flavioc/miniconda3/lib/python3.9/site-packages/numpy/core/include/numpy/arrayobject.h:4:\n",
      "In file included from /Users/flavioc/miniconda3/lib/python3.9/site-packages/numpy/core/include/numpy/ndarrayobject.h:12:\n",
      "In file included from /Users/flavioc/miniconda3/lib/python3.9/site-packages/numpy/core/include/numpy/ndarraytypes.h:1969:\n",
      "\u001b[1m/Users/flavioc/miniconda3/lib/python3.9/site-packages/numpy/core/include/numpy/npy_1_7_deprecated_api.h:17:2: \u001b[0m\u001b[0;1;35mwarning: \u001b[0m\u001b[1m\"Using deprecated NumPy API, disable it with \"          \"#define NPY_NO_DEPRECATED_API NPY_1_7_API_VERSION\" [-W#warnings]\u001b[0m\n",
      "#warning \"Using deprecated NumPy API, disable it with \" \\\n",
      "\u001b[0;1;32m ^\n",
      "\u001b[0m\u001b[1m/var/folders/18/8wj5kxln1dzbpqvfs_35mz000000gn/T/tmpwwh98v44/src.macosx-10.9-x86_64-3.9/fib2module.c:102:12: \u001b[0m\u001b[0;1;35mwarning: \u001b[0m\u001b[1munused function 'f2py_size' [-Wunused-function]\u001b[0m\n",
      "static int f2py_size(PyArrayObject* var, ...)\n",
      "\u001b[0;1;32m           ^\n",
      "\u001b[0m2 warnings generated.\n",
      "1 warning generated.\n",
      "ld: warning: dylib (/usr/local/Cellar/gcc/10.2.0_4/lib/gcc/10/libgfortran.dylib) was built for newer macOS version (11.2) than being linked (10.9)\n",
      "ld: warning: dylib (/usr/local/Cellar/gcc/10.2.0_4/lib/gcc/10/libquadmath.dylib) was built for newer macOS version (11.2) than being linked (10.9)\n"
     ]
    }
   ],
   "source": [
    "!f2py3  -c fib2.pyf fib1.f > /dev/null"
   ]
  },
  {
   "cell_type": "code",
   "execution_count": 28,
   "metadata": {
    "autoscroll": false,
    "ein.tags": "worksheet-0",
    "slideshow": {
     "slide_type": "-"
    }
   },
   "outputs": [
    {
     "name": "stdout",
     "output_type": "stream",
     "text": [
      "a = fib(n)\n",
      "\n",
      "Wrapper for ``fib``.\n",
      "\n",
      "Parameters\n",
      "----------\n",
      "n : input int\n",
      "\n",
      "Returns\n",
      "-------\n",
      "a : rank-1 array('d') with bounds (n)\n",
      "\n"
     ]
    }
   ],
   "source": [
    "import fib2\n",
    "print(fib2.fib.__doc__)"
   ]
  },
  {
   "cell_type": "code",
   "execution_count": 25,
   "metadata": {
    "autoscroll": false,
    "ein.tags": "worksheet-0",
    "slideshow": {
     "slide_type": "-"
    }
   },
   "outputs": [
    {
     "data": {
      "text/plain": [
       "array([ 0.,  1.,  1.,  2.,  3.,  5.,  8., 13., 21.])"
      ]
     },
     "execution_count": 25,
     "metadata": {},
     "output_type": "execute_result"
    }
   ],
   "source": [
    "fib2.fib(9)"
   ]
  },
  {
   "cell_type": "code",
   "execution_count": 26,
   "metadata": {
    "autoscroll": false,
    "ein.tags": "worksheet-0",
    "slideshow": {
     "slide_type": "-"
    }
   },
   "outputs": [
    {
     "name": "stdout",
     "output_type": "stream",
     "text": [
      "[  0.   1.   1.   2.   3.   5.   8.  13.  21.  34.  55.  89. 144. 233.]\n"
     ]
    }
   ],
   "source": [
    "print(fib2.fib(14))"
   ]
  },
  {
   "cell_type": "markdown",
   "metadata": {
    "ein.tags": "worksheet-0",
    "slideshow": {
     "slide_type": "-"
    }
   },
   "source": [
    "La segunda manera de arreglar este problema, en lugar de modificar el archivo de *signature* podría haber sido modificar el código (o hacer una rutina intermedia). Agregando comentarios de la forma `Cf2py` no influimos en la compilación `Fortran` pero F2PY los reconoce. En este caso le damos la información sobre la intención de los argumentos en el código:\n",
    "\n",
    "```fortran\n",
    "      SUBROUTINE FIB(A,N)\n",
    "C\n",
    "C     CALCULATE FIRST N FIBONACCI NUMBERS\n",
    "C\n",
    "      INTEGER N\n",
    "      REAL*8 A(N)\n",
    "Cf2py intent(in) n\n",
    "Cf2py intent(out) a\n",
    "Cf2py depend(n) a\n",
    "      DO I=1,N\n",
    "         IF (I.EQ.1) THEN\n",
    "            A(I) = 0.0D0\n",
    "         ELSEIF (I.EQ.2) THEN\n",
    "            A(I) = 1.0D0\n",
    "         ELSE \n",
    "            A(I) = A(I-1) + A(I-2)\n",
    "         ENDIF\n",
    "      ENDDO\n",
    "      END\n",
    "```"
   ]
  },
  {
   "cell_type": "code",
   "execution_count": 29,
   "metadata": {
    "autoscroll": false,
    "ein.tags": "worksheet-0",
    "slideshow": {
     "slide_type": "-"
    }
   },
   "outputs": [
    {
     "name": "stdout",
     "output_type": "stream",
     "text": [
      "In file included from /var/folders/18/8wj5kxln1dzbpqvfs_35mz000000gn/T/tmphb7qwnht/src.macosx-10.9-x86_64-3.9/fortranobject.c:2:\n",
      "In file included from /var/folders/18/8wj5kxln1dzbpqvfs_35mz000000gn/T/tmphb7qwnht/src.macosx-10.9-x86_64-3.9/fortranobject.h:13:\n",
      "In file included from /Users/flavioc/miniconda3/lib/python3.9/site-packages/numpy/core/include/numpy/arrayobject.h:4:\n",
      "In file included from /Users/flavioc/miniconda3/lib/python3.9/site-packages/numpy/core/include/numpy/ndarrayobject.h:12:\n",
      "In file included from /Users/flavioc/miniconda3/lib/python3.9/site-packages/numpy/core/include/numpy/ndarraytypes.h:1969:\n",
      "\u001b[1m/Users/flavioc/miniconda3/lib/python3.9/site-packages/numpy/core/include/numpy/npy_1_7_deprecated_api.h:17:2: \u001b[0m\u001b[0;1;35mwarning: \u001b[0m\u001b[1m\"Using deprecated NumPy API, disable it with \"          \"#define NPY_NO_DEPRECATED_API NPY_1_7_API_VERSION\" [-W#warnings]\u001b[0m\n",
      "#warning \"Using deprecated NumPy API, disable it with \" \\\n",
      "\u001b[0;1;32m ^\n",
      "\u001b[0mIn file included from /var/folders/18/8wj5kxln1dzbpqvfs_35mz000000gn/T/tmphb7qwnht/src.macosx-10.9-x86_64-3.9/fib3module.c:16:\n",
      "In file included from /var/folders/18/8wj5kxln1dzbpqvfs_35mz000000gn/T/tmphb7qwnht/src.macosx-10.9-x86_64-3.9/fortranobject.h:13:\n",
      "In file included from /Users/flavioc/miniconda3/lib/python3.9/site-packages/numpy/core/include/numpy/arrayobject.h:4:\n",
      "In file included from /Users/flavioc/miniconda3/lib/python3.9/site-packages/numpy/core/include/numpy/ndarrayobject.h:12:\n",
      "In file included from /Users/flavioc/miniconda3/lib/python3.9/site-packages/numpy/core/include/numpy/ndarraytypes.h:1969:\n",
      "\u001b[1m/Users/flavioc/miniconda3/lib/python3.9/site-packages/numpy/core/include/numpy/npy_1_7_deprecated_api.h:17:2: \u001b[0m\u001b[0;1;35mwarning: \u001b[0m\u001b[1m\"Using deprecated NumPy API, disable it with \"          \"#define NPY_NO_DEPRECATED_API NPY_1_7_API_VERSION\" [-W#warnings]\u001b[0m\n",
      "#warning \"Using deprecated NumPy API, disable it with \" \\\n",
      "\u001b[0;1;32m ^\n",
      "\u001b[0m\u001b[1m/var/folders/18/8wj5kxln1dzbpqvfs_35mz000000gn/T/tmphb7qwnht/src.macosx-10.9-x86_64-3.9/fib3module.c:102:12: \u001b[0m\u001b[0;1;35mwarning: \u001b[0m\u001b[1munused function 'f2py_size' [-Wunused-function]\u001b[0m\n",
      "static int f2py_size(PyArrayObject* var, ...)\n",
      "\u001b[0;1;32m           ^\n",
      "\u001b[0m2 warnings generated.\n",
      "1 warning generated.\n",
      "ld: warning: dylib (/usr/local/Cellar/gcc/10.2.0_4/lib/gcc/10/libgfortran.dylib) was built for newer macOS version (11.2) than being linked (10.9)\n",
      "ld: warning: dylib (/usr/local/Cellar/gcc/10.2.0_4/lib/gcc/10/libquadmath.dylib) was built for newer macOS version (11.2) than being linked (10.9)\n"
     ]
    }
   ],
   "source": [
    "!f2py3  -c fib3.f -m fib3 > /dev/null"
   ]
  },
  {
   "cell_type": "code",
   "execution_count": 30,
   "metadata": {
    "autoscroll": false,
    "ein.tags": "worksheet-0",
    "slideshow": {
     "slide_type": "-"
    }
   },
   "outputs": [
    {
     "name": "stdout",
     "output_type": "stream",
     "text": [
      "a = fib(n)\n",
      "\n",
      "Wrapper for ``fib``.\n",
      "\n",
      "Parameters\n",
      "----------\n",
      "n : input int\n",
      "\n",
      "Returns\n",
      "-------\n",
      "a : rank-1 array('d') with bounds (n)\n",
      "\n"
     ]
    }
   ],
   "source": [
    "import fib3\n",
    "print(fib3.fib.__doc__)"
   ]
  },
  {
   "cell_type": "code",
   "execution_count": 31,
   "metadata": {},
   "outputs": [
    {
     "name": "stdout",
     "output_type": "stream",
     "text": [
      "a = fib(n)\n",
      "\n",
      "Wrapper for ``fib``.\n",
      "\n",
      "Parameters\n",
      "----------\n",
      "n : input int\n",
      "\n",
      "Returns\n",
      "-------\n",
      "a : rank-1 array('d') with bounds (n)\n",
      "\n"
     ]
    }
   ],
   "source": [
    "print(fib2.fib.__doc__)"
   ]
  },
  {
   "cell_type": "markdown",
   "metadata": {
    "ein.tags": "worksheet-0",
    "slideshow": {
     "slide_type": "-"
    }
   },
   "source": [
    "como vemos, son exactamente iguales."
   ]
  },
  {
   "cell_type": "markdown",
   "metadata": {
    "ein.tags": "worksheet-0",
    "slideshow": {
     "slide_type": "-"
    }
   },
   "source": [
    "### F2PY para código en C\n",
    "\n",
    "Es posible usar F2PY para código escrito en C, pero en ese caso debemos escribir el *signature file* a mano.\n",
    "\n",
    "Para código en C es conveniente utilizar **Cython**. Cython es un lenguaje de programación pensado para hacer más fácil escribir extensiones a Python en C. Uno escribe el código en Cython, y luego es traducido a C, con optimizaciones.\n",
    "\n",
    "**Cython** también puede utilizarse con Fortran de una manera similar a cómo se usa con C. Para más información ver la [documentación oficial](http://docs.cython.org/en/latest/index.html)\n"
   ]
  }
 ],
 "metadata": {
  "kernelspec": {
   "display_name": "Python 3 (ipykernel)",
   "language": "python",
   "name": "python3"
  },
  "language_info": {
   "codemirror_mode": {
    "name": "ipython",
    "version": 3
   },
   "file_extension": ".py",
   "mimetype": "text/x-python",
   "name": "python",
   "nbconvert_exporter": "python",
   "pygments_lexer": "ipython3",
   "version": "3.9.16"
  },
  "name": "Untitled.ipynb",
  "toc": {
   "base_numbering": 1,
   "nav_menu": {},
   "number_sections": true,
   "sideBar": true,
   "skip_h1_title": false,
   "title_cell": "Contenidos",
   "title_sidebar": "Contenidos",
   "toc_cell": false,
   "toc_position": {},
   "toc_section_display": true,
   "toc_window_display": true
  }
 },
 "nbformat": 4,
 "nbformat_minor": 1
}