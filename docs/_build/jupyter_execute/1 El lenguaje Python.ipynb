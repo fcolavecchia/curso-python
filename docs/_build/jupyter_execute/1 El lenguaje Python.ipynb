{
 "cells": [
  {
   "cell_type": "markdown",
   "metadata": {},
   "source": [
    "# Introducción al Lenguaje Python"
   ]
  },
  {
   "cell_type": "markdown",
   "metadata": {
    "collapsed": true
   },
   "source": [
    "## Tipos de Datos\n",
    "\n",
    "Uno de los elementos más importantes para definir un lenguaje de programación es la definición de los tipos de datos que ese lenguaje va a utilizar. Esos tipos de datos pueden ser desde muy simples como números o caracteres hasta hasta datos mucho más complejos como gráficos, archivos y demás.\n",
    "\n",
    "A las variables hay que darles un nombre, y este es uno de los tres problemas más complejos de la informática:\n",
    "\n"
   ]
  },
  {
   "cell_type": "markdown",
   "metadata": {},
   "source": [
    ">>There are only two hard things in Computer Science: cache invalidation and naming things. *Phil Kartlon*\n"
   ]
  },
  {
   "cell_type": "markdown",
   "metadata": {},
   "source": [
    "De acuerdo a la [guía de estilo de Python](https://www.python.org/dev/peps/pep-0008/), el lenguaje adopta el estilo `snake_case`, es decir que se identifican los datos con nombres en minúscula, separados por el guión bajo `_`."
   ]
  },
  {
   "cell_type": "markdown",
   "metadata": {},
   "source": [
    "Por supuesto, está prohibido usar las palabras reservadas como nombres de datos:\n",
    "\n",
    "```and\tdel\tfor\tis\traise\tassert if\telse\telif\tfrom\tlambda\treturn break\tglobal\tnot\ttry\tclass\texcept or\twhile\tcontinue\texec\timport\tyield def\tfinally\tin\tprint```"
   ]
  },
  {
   "cell_type": "markdown",
   "metadata": {},
   "source": [
    "### Tipos numéricos, operaciones con tipos numéricos"
   ]
  },
  {
   "cell_type": "markdown",
   "metadata": {},
   "source": [
    "#### Números reales y enteros\n"
   ]
  },
  {
   "cell_type": "code",
   "execution_count": 1,
   "metadata": {},
   "outputs": [
    {
     "name": "stdout",
     "output_type": "stream",
     "text": [
      "7.584\n",
      "<class 'float'>\n",
      "8\n",
      "<class 'int'>\n",
      "(10+5j)\n",
      "<class 'complex'>\n"
     ]
    }
   ],
   "source": [
    "a = 7.584 # número real\n",
    "\n",
    "print(a)\n",
    "print(type(a))\n",
    "\n",
    "b = 8 # número entero\n",
    "\n",
    "print(b)\n",
    "print(type(b))\n",
    "\n",
    "c = 10 + 5j\n",
    "\n",
    "print(c)\n",
    "print(type(c))"
   ]
  },
  {
   "cell_type": "markdown",
   "metadata": {},
   "source": [
    "Cast"
   ]
  },
  {
   "cell_type": "code",
   "execution_count": 2,
   "metadata": {
    "scrolled": true
   },
   "outputs": [
    {
     "name": "stdout",
     "output_type": "stream",
     "text": [
      "8.0\n",
      "<class 'float'>\n",
      "7\n",
      "<class 'int'>\n",
      "(7.584+0j)\n",
      "<class 'complex'>\n",
      "7.584\n",
      "0.0\n"
     ]
    }
   ],
   "source": [
    "d = float(b) # cast a float\n",
    "\n",
    "print(d)\n",
    "print(type(d))\n",
    "\n",
    "e = int(a) # cast a int\n",
    "\n",
    "print(e)\n",
    "print(type(e))\n",
    "\n",
    "f = complex(a)\n",
    "\n",
    "print(f)\n",
    "print(type(f))\n",
    "\n",
    "print(f.real)\n",
    "print(f.imag)"
   ]
  },
  {
   "cell_type": "markdown",
   "metadata": {},
   "source": [
    "Python realiza un cast dinámico al realizar una operación. Por ejemplo, al sumar un `float` y un `int`, el `int` es promovido a `float` antes de sumar"
   ]
  },
  {
   "cell_type": "code",
   "execution_count": 3,
   "metadata": {},
   "outputs": [
    {
     "name": "stdout",
     "output_type": "stream",
     "text": [
      "15.584 <class 'float'>\n",
      "(-2.4160000000000004-5j) <class 'complex'>\n"
     ]
    }
   ],
   "source": [
    "d = a + b\n",
    "\n",
    "print(d, type(d))\n",
    "\n",
    "d = a - c\n",
    "\n",
    "print(d, type(d))"
   ]
  },
  {
   "cell_type": "code",
   "execution_count": 4,
   "metadata": {},
   "outputs": [
    {
     "name": "stdout",
     "output_type": "stream",
     "text": [
      "7.584 <class 'float'>\n",
      "8 <class 'int'>\n",
      "60.672 <class 'float'>\n"
     ]
    }
   ],
   "source": [
    "f = a*b\n",
    "\n",
    "print(a, type(a))\n",
    "print(b, type(b))\n",
    "print(f, type(f))"
   ]
  },
  {
   "cell_type": "markdown",
   "metadata": {},
   "source": [
    "En la división de dos enteros (usando /), se obtiene un float. Nota: esto no ocurria en Python 2.x, donde la división de dos enteros usando /, daba un entero. \n",
    "\n",
    "Para recuperar la división de enteros, uso //."
   ]
  },
  {
   "cell_type": "code",
   "execution_count": 5,
   "metadata": {},
   "outputs": [
    {
     "name": "stdout",
     "output_type": "stream",
     "text": [
      "1.5 <class 'float'>\n",
      "1 <class 'int'>\n"
     ]
    }
   ],
   "source": [
    "a = 3\n",
    "b = 2\n",
    "\n",
    "c = a/b # <---- en python 2.x, la división de enteros con / da un entero\n",
    "\n",
    "print(c, type(c))\n",
    "\n",
    "c2 = a//b\n",
    "\n",
    "print(c2, type(c2))"
   ]
  },
  {
   "cell_type": "markdown",
   "metadata": {},
   "source": [
    "Potencias:"
   ]
  },
  {
   "cell_type": "code",
   "execution_count": 6,
   "metadata": {},
   "outputs": [
    {
     "name": "stdout",
     "output_type": "stream",
     "text": [
      "9 <class 'int'>\n",
      "9.0 <class 'float'>\n",
      "9.0 <class 'float'>\n",
      "9.0 <class 'float'>\n"
     ]
    }
   ],
   "source": [
    "h = 3**2\n",
    "\n",
    "print(h, type(h))\n",
    "\n",
    "h1 = 3.0**2\n",
    "\n",
    "print(h1, type(h1))\n",
    "\n",
    "h2 = 3**2.0\n",
    "\n",
    "print(h2, type(h2))\n",
    "\n",
    "h3 = 3.0**2.0\n",
    "\n",
    "print(h3, type(h3))"
   ]
  },
  {
   "cell_type": "markdown",
   "metadata": {},
   "source": [
    "Modulo:"
   ]
  },
  {
   "cell_type": "code",
   "execution_count": 7,
   "metadata": {},
   "outputs": [
    {
     "name": "stdout",
     "output_type": "stream",
     "text": [
      "2 <class 'int'>\n",
      "1.79 <class 'float'>\n"
     ]
    }
   ],
   "source": [
    "a = 11\n",
    "b = 3\n",
    "\n",
    "c = a%b\n",
    "\n",
    "print(c, type(c))\n",
    "\n",
    "a = 11.42\n",
    "b = 3.21\n",
    "\n",
    "c = a%b\n",
    "\n",
    "print(c, type(c))"
   ]
  },
  {
   "cell_type": "markdown",
   "metadata": {},
   "source": [
    "Otras operaciones con números:"
   ]
  },
  {
   "cell_type": "code",
   "execution_count": 8,
   "metadata": {},
   "outputs": [
    {
     "name": "stdout",
     "output_type": "stream",
     "text": [
      "3.0\n",
      "27\n",
      "6.907755278982137\n",
      "1.0\n"
     ]
    }
   ],
   "source": [
    "from math import *\n",
    "\n",
    "c = sqrt(9)\n",
    "\n",
    "print(c)\n",
    "\n",
    "d = floor(27.25)\n",
    "\n",
    "print(d)\n",
    "\n",
    "f = log(1000)\n",
    "\n",
    "print(f)\n",
    "\n",
    "f = cos(0)\n",
    "\n",
    "print(f)"
   ]
  },
  {
   "cell_type": "markdown",
   "metadata": {},
   "source": [
    "Constantes:"
   ]
  },
  {
   "cell_type": "code",
   "execution_count": 9,
   "metadata": {},
   "outputs": [
    {
     "name": "stdout",
     "output_type": "stream",
     "text": [
      "3.141592653589793\n",
      "2.718281828459045\n"
     ]
    }
   ],
   "source": [
    "print(pi)\n",
    "print(e)"
   ]
  },
  {
   "cell_type": "code",
   "execution_count": 10,
   "metadata": {},
   "outputs": [
    {
     "ename": "NameError",
     "evalue": "name 'math' is not defined",
     "output_type": "error",
     "traceback": [
      "\u001b[0;31m---------------------------------------------------------------------------\u001b[0m",
      "\u001b[0;31mNameError\u001b[0m                                 Traceback (most recent call last)",
      "Cell \u001b[0;32mIn[10], line 1\u001b[0m\n\u001b[0;32m----> 1\u001b[0m \u001b[43mmath\u001b[49m\u001b[38;5;241m.\u001b[39msqrt(\u001b[38;5;241m-\u001b[39m\u001b[38;5;241m1\u001b[39m)\n",
      "\u001b[0;31mNameError\u001b[0m: name 'math' is not defined"
     ]
    }
   ],
   "source": [
    "math.sqrt(-1) # <--- no"
   ]
  },
  {
   "cell_type": "markdown",
   "metadata": {},
   "source": [
    "Existe un modulo aparte para operaciones con complejos"
   ]
  },
  {
   "cell_type": "code",
   "execution_count": null,
   "metadata": {},
   "outputs": [],
   "source": [
    "import cmath\n",
    "\n",
    "cmath.sqrt(-1)"
   ]
  },
  {
   "cell_type": "code",
   "execution_count": null,
   "metadata": {},
   "outputs": [],
   "source": [
    "z = 3.0 + 3.0j\n",
    "\n",
    "print(z.real)\n",
    "\n",
    "print(z.conjugate())"
   ]
  },
  {
   "cell_type": "code",
   "execution_count": null,
   "metadata": {},
   "outputs": [],
   "source": [
    "import math\n",
    "\n",
    "print(cmath.phase(z)) \n",
    "\n",
    "print(math.degrees(cmath.phase(z)))\n",
    "\n",
    "print(abs(z))\n",
    "\n",
    "print(cmath.polar(z))"
   ]
  },
  {
   "cell_type": "markdown",
   "metadata": {},
   "source": [
    "#### Tipos lógicos (bool)"
   ]
  },
  {
   "cell_type": "code",
   "execution_count": null,
   "metadata": {},
   "outputs": [],
   "source": [
    "T = True\n",
    "F = False\n",
    "\n",
    "print(F)\n",
    "print(type(F))"
   ]
  },
  {
   "cell_type": "code",
   "execution_count": null,
   "metadata": {},
   "outputs": [],
   "source": [
    "print(T*F)\n",
    "print(2*T)"
   ]
  },
  {
   "cell_type": "code",
   "execution_count": null,
   "metadata": {},
   "outputs": [],
   "source": [
    "print(\"Hola\", 23)"
   ]
  },
  {
   "cell_type": "code",
   "execution_count": null,
   "metadata": {},
   "outputs": [],
   "source": [
    "a = 28.2\n",
    "\n",
    "b = a\n",
    "\n",
    "print(b)\n",
    "\n",
    "# # print('mayor/menor a: ', a < b)\n",
    "c = 99.8\n",
    "a = c\n",
    "\n",
    "print(a)\n",
    "print(b)\n",
    "# print('igual a: ', a == b)\n",
    "# print('distinto a: ', a != b)\n",
    "\n",
    "# print('es: ', a is b)\n",
    "# print('no es: ', a is not b)"
   ]
  },
  {
   "cell_type": "markdown",
   "metadata": {},
   "source": [
    "### Strings\n",
    "\n",
    "Un string es una secuencia de caracteres de cualquier tipo (letras, números, símbolos,...) que se definen usando comillas (simple o dobles."
   ]
  },
  {
   "cell_type": "code",
   "execution_count": null,
   "metadata": {},
   "outputs": [],
   "source": [
    "a = \"Este es un ejemplo de un string\"\n",
    "\n",
    "print(a)\n",
    "print(type(a))\n",
    "a"
   ]
  },
  {
   "cell_type": "code",
   "execution_count": null,
   "metadata": {},
   "outputs": [],
   "source": [
    "print(a)"
   ]
  },
  {
   "cell_type": "code",
   "execution_count": null,
   "metadata": {},
   "outputs": [],
   "source": [
    "b = 'donde podemos usar comillas simples'\n",
    "c = \"o usar comillas dobles\"\n",
    "\n",
    "print(b, c)"
   ]
  },
  {
   "cell_type": "markdown",
   "metadata": {},
   "source": [
    "Podemos concatenar strings usando +"
   ]
  },
  {
   "cell_type": "code",
   "execution_count": null,
   "metadata": {},
   "outputs": [],
   "source": [
    "d = a + b + c + \"y que podemos concatenar usando el signo '+', por ejemplo\" \n",
    "\n",
    "print(d)"
   ]
  },
  {
   "cell_type": "code",
   "execution_count": null,
   "metadata": {},
   "outputs": [],
   "source": [
    "f = 'También podemos usar \"comillas dobles\" dentro de comillas simple'\n",
    "print(f)\n",
    "g = \"o 'al revés', como en este caso\"\n",
    "print(g)"
   ]
  },
  {
   "cell_type": "markdown",
   "metadata": {},
   "source": [
    "Podemos agregar caracteres de formato:"
   ]
  },
  {
   "cell_type": "code",
   "execution_count": null,
   "metadata": {},
   "outputs": [],
   "source": [
    "h = \"Siempre quise aprender\\ncomo poner caracteres de formato\\nen un string de Python.\\n\"\n",
    "\n",
    "print(h)\n",
    "\n",
    "j = \"Supongamos que queremos hacer una lista que contenga los elementos:\\n\\t * elemento 1\\n\\t * elemento 2\\n\\t * and so on...\"\n",
    "\n",
    "print(j)"
   ]
  },
  {
   "cell_type": "code",
   "execution_count": null,
   "metadata": {},
   "outputs": [],
   "source": [
    "print('%s' % h)\n",
    "print('%r' % h)"
   ]
  },
  {
   "cell_type": "markdown",
   "metadata": {},
   "source": [
    "Un ejemplo de docstring:"
   ]
  },
  {
   "cell_type": "code",
   "execution_count": null,
   "metadata": {},
   "outputs": [],
   "source": [
    "m = '''\n",
    "Acá puedo poner cuantas lineas \n",
    "quiera, sin preocuparme si son dos \n",
    "lineas, cuantro lineas, 6 lineas...\n",
    "¿habrá algún límite?\n",
    "'''\n",
    "\n",
    "\n",
    "\n",
    "print(m)"
   ]
  },
  {
   "cell_type": "markdown",
   "metadata": {},
   "source": [
    "#### Indexado (en strings)"
   ]
  },
  {
   "cell_type": "markdown",
   "metadata": {},
   "source": [
    "Un string es un ejemplo de 'contenedor' de elementos (en este caso, caracteres), a los cuales se puede acceder mediante el índice que indica su posición:"
   ]
  },
  {
   "cell_type": "code",
   "execution_count": null,
   "metadata": {},
   "outputs": [],
   "source": [
    "my_string = 'Hola mundo'\n",
    "\n",
    "print(my_string[0])\n",
    "print(my_string[4])\n",
    "print(my_string[5])"
   ]
  },
  {
   "cell_type": "code",
   "execution_count": null,
   "metadata": {},
   "outputs": [],
   "source": [
    "print(my_string[10]) # mi índice no puede ser mayor a la cantidad de elementos"
   ]
  },
  {
   "cell_type": "markdown",
   "metadata": {},
   "source": [
    "Se pueden utilizar índices negativos para acceder a los elementos, referidos al último. Es decir, el -1 es el último, el -2 es el penúltimo, y así por el estilo:"
   ]
  },
  {
   "cell_type": "code",
   "execution_count": null,
   "metadata": {},
   "outputs": [],
   "source": [
    "print(my_string[-1])\n",
    "print(my_string[-2])\n",
    "print(my_string[-10])"
   ]
  },
  {
   "cell_type": "markdown",
   "metadata": {},
   "source": [
    "####  Slicing"
   ]
  },
  {
   "cell_type": "markdown",
   "metadata": {},
   "source": [
    "Puedo acceder a un subconjunto de elementos, utilizando una técnica conocida como \"slicing\", donde, dado un string **a**, obtengo el subconjunto como **a[inicio:fin:paso]**, (donde todos los argumentos son opcionales):"
   ]
  },
  {
   "cell_type": "code",
   "execution_count": null,
   "metadata": {},
   "outputs": [],
   "source": [
    "print(my_string[1:6])\n",
    "\n",
    "sub_string = my_string[6:10]\n",
    "print(sub_string)\n",
    "\n",
    "print(my_string[0] + sub_string)"
   ]
  },
  {
   "cell_type": "code",
   "execution_count": null,
   "metadata": {},
   "outputs": [],
   "source": [
    "print(my_string[0:5])\n",
    "print(my_string[:5])\n",
    "\n",
    "print(my_string[5:10])\n",
    "print(my_string[5:])"
   ]
  },
  {
   "cell_type": "code",
   "execution_count": null,
   "metadata": {},
   "outputs": [],
   "source": [
    "print(my_string[::2])\n",
    "print(my_string[1::2])"
   ]
  },
  {
   "cell_type": "code",
   "execution_count": null,
   "metadata": {},
   "outputs": [],
   "source": [
    "print(my_string[::-2])"
   ]
  },
  {
   "cell_type": "markdown",
   "metadata": {},
   "source": [
    "#### Algunos métodos de strings"
   ]
  },
  {
   "cell_type": "code",
   "execution_count": null,
   "metadata": {},
   "outputs": [],
   "source": [
    "string_2 = \"se viene el estallido, de mi guitarra, y tu gobierno, también\"\n",
    "\n",
    "print(string_2)\n",
    "\n",
    "print(string_2.capitalize())\n",
    "\n",
    "print(string_2.upper())\n",
    "\n",
    "string_3 = string_2.upper()\n",
    "\n",
    "print(string_3.lower())"
   ]
  },
  {
   "cell_type": "code",
   "execution_count": null,
   "metadata": {},
   "outputs": [],
   "source": [
    "k = string_2.find('est')\n",
    "\n",
    "print(k)\n",
    "\n",
    "print(string_2[k:])\n",
    "\n",
    "N = string_2.count('i')\n",
    "\n",
    "print(N)\n",
    "\n",
    "N = string_2.count('ta')\n",
    "\n",
    "print(N)"
   ]
  },
  {
   "cell_type": "code",
   "execution_count": null,
   "metadata": {},
   "outputs": [],
   "source": [
    "string_separado = string_2.split(',')\n",
    "\n",
    "print(len(string_separado))\n",
    "\n",
    "string_4 = string_2.replace(', ', '\\n')\n",
    "\n",
    "print(string_4)\n",
    "\n",
    "string_separado_en_lineas = string_4.splitlines()\n",
    "\n",
    "print(string_separado_en_lineas)"
   ]
  },
  {
   "cell_type": "code",
   "execution_count": null,
   "metadata": {},
   "outputs": [],
   "source": [
    "string_de_numeros = '123456789asfdsfds'\n",
    "\n",
    "print(string_de_numeros.isnumeric())\n",
    "print(string_de_numeros.isalpha())\n",
    "print(string_de_numeros.isalnum())"
   ]
  },
  {
   "cell_type": "markdown",
   "metadata": {},
   "source": [
    "###  Listas"
   ]
  },
  {
   "cell_type": "code",
   "execution_count": 11,
   "metadata": {},
   "outputs": [],
   "source": [
    "my_list = [4, 8, 15, 16, 23, 42]"
   ]
  },
  {
   "cell_type": "code",
   "execution_count": 12,
   "metadata": {},
   "outputs": [
    {
     "name": "stdout",
     "output_type": "stream",
     "text": [
      "<class 'list'>\n",
      "[4, 8, 15, 16, 23, 42]\n"
     ]
    }
   ],
   "source": [
    "print(type(my_list))\n",
    "\n",
    "print(my_list)"
   ]
  },
  {
   "cell_type": "markdown",
   "metadata": {},
   "source": [
    "Las listas tambien son secuencias, por lo que el indexado y slicing funcionan como ya hemos visto con los strings"
   ]
  },
  {
   "cell_type": "code",
   "execution_count": 13,
   "metadata": {},
   "outputs": [
    {
     "data": {
      "text/plain": [
       "4"
      ]
     },
     "execution_count": 13,
     "metadata": {},
     "output_type": "execute_result"
    }
   ],
   "source": [
    "my_list[0]"
   ]
  },
  {
   "cell_type": "code",
   "execution_count": 14,
   "metadata": {},
   "outputs": [
    {
     "data": {
      "text/plain": [
       "[42, 23, 16, 15, 8, 4]"
      ]
     },
     "execution_count": 14,
     "metadata": {},
     "output_type": "execute_result"
    }
   ],
   "source": [
    "my_list[::-1]"
   ]
  },
  {
   "cell_type": "markdown",
   "metadata": {},
   "source": [
    "Y pueden contener cualquier tipo de objetos:"
   ]
  },
  {
   "cell_type": "code",
   "execution_count": 16,
   "metadata": {},
   "outputs": [],
   "source": [
    "nombre = 'Jack'\n",
    "\n",
    "lista_heterogenea = [108, 'Dharma', my_list, nombre]"
   ]
  },
  {
   "cell_type": "code",
   "execution_count": 17,
   "metadata": {},
   "outputs": [
    {
     "name": "stdout",
     "output_type": "stream",
     "text": [
      "[108, 'Dharma', [4, 8, 15, 16, 23, 42], 'Jack']\n",
      "4\n"
     ]
    }
   ],
   "source": [
    "print(lista_heterogenea)\n",
    "print(lista_heterogenea[2][0])"
   ]
  },
  {
   "cell_type": "markdown",
   "metadata": {},
   "source": [
    "Se pueden agregar elementos a una lista"
   ]
  },
  {
   "cell_type": "code",
   "execution_count": 21,
   "metadata": {},
   "outputs": [
    {
     "data": {
      "text/plain": [
       "[108, 323, [4, 8, 15, 16, 23, 42], 'Jack', 'Shepard', 'Shepard']"
      ]
     },
     "execution_count": 21,
     "metadata": {},
     "output_type": "execute_result"
    }
   ],
   "source": [
    "lista_heterogenea.append('Shepard')\n",
    "lista_heterogenea"
   ]
  },
  {
   "cell_type": "markdown",
   "metadata": {},
   "source": [
    "O se pueden reemplazar elementos"
   ]
  },
  {
   "cell_type": "code",
   "execution_count": 20,
   "metadata": {},
   "outputs": [
    {
     "data": {
      "text/plain": [
       "[108, 323, [4, 8, 15, 16, 23, 42], 'Jack', 'Shepard']"
      ]
     },
     "execution_count": 20,
     "metadata": {},
     "output_type": "execute_result"
    }
   ],
   "source": [
    "lista_heterogenea[1] = 323\n",
    "lista_heterogenea"
   ]
  },
  {
   "cell_type": "markdown",
   "metadata": {},
   "source": [
    "Incluso se pueden hacer asignaciones de secuencias sobres \"slices\""
   ]
  },
  {
   "cell_type": "code",
   "execution_count": null,
   "metadata": {},
   "outputs": [],
   "source": [
    "lista_heterogenea[0:2] = ['A', 'B', 'C', 'D']     # notar que no hace falta que el valor tenga el mismo tamaño que el slice\n",
    "lista_heterogenea"
   ]
  },
  {
   "cell_type": "markdown",
   "metadata": {},
   "source": [
    "Otras operaciones entre listas:"
   ]
  },
  {
   "cell_type": "code",
   "execution_count": null,
   "metadata": {},
   "outputs": [],
   "source": [
    "\n",
    "print(4 in my_list)\n",
    "print(4 not in my_list)\n",
    "\n",
    "L = my_list + lista_heterogenea\n",
    "\n",
    "print(L)\n",
    "\n",
    "L = 3*my_list\n",
    "\n",
    "print(L)\n",
    "\n",
    "print(sum(my_list))\n",
    "\n",
    "print(len(my_list))\n",
    "print(min(my_list))\n",
    "print(max(my_list))\n",
    "\n",
    "print(lista_heterogenea.index('B'))\n",
    "\n",
    "print(lista_heterogenea.count(42))"
   ]
  },
  {
   "cell_type": "code",
   "execution_count": null,
   "metadata": {},
   "outputs": [],
   "source": [
    "print(lista_heterogenea)\n",
    "print(lista_heterogenea.count([4, 8, 15, 16, 23, 42]))"
   ]
  },
  {
   "cell_type": "code",
   "execution_count": null,
   "metadata": {},
   "outputs": [],
   "source": [
    "my_list = [4,8,15,16,23,42]\n",
    "print(my_list)\n",
    "otra_lista = my_list[::-1]\n",
    "print(otra_lista)\n",
    "\n",
    "print(my_list)\n",
    "\n",
    "my_list.reverse()\n",
    "\n",
    "print(my_list)"
   ]
  },
  {
   "cell_type": "code",
   "execution_count": null,
   "metadata": {},
   "outputs": [],
   "source": [
    "del my_list[1:3]\n",
    "\n",
    "print(my_list)"
   ]
  },
  {
   "cell_type": "code",
   "execution_count": null,
   "metadata": {},
   "outputs": [],
   "source": [
    "list1 = [0,1,2]\n",
    "\n",
    "list2 = list1\n",
    "\n",
    "list2[0] = 8\n",
    "\n",
    "print(list1)\n",
    "print(list2)"
   ]
  },
  {
   "cell_type": "markdown",
   "metadata": {},
   "source": [
    "### Tuplas"
   ]
  },
  {
   "cell_type": "markdown",
   "metadata": {},
   "source": [
    "Las tuplas son iguales a las listas, con la diferencia es que las listas son mutables mientras las tuplas no."
   ]
  },
  {
   "cell_type": "code",
   "execution_count": null,
   "metadata": {},
   "outputs": [],
   "source": [
    "una_tupla = ('Benjamin', 108, my_list, ('Linus', my_list[0]))\n",
    "print(type(una_tupla))\n",
    "print(una_tupla[1:3])\n",
    "una_tupla"
   ]
  },
  {
   "cell_type": "code",
   "execution_count": null,
   "metadata": {},
   "outputs": [],
   "source": [
    "una_tupla.append('B')"
   ]
  },
  {
   "cell_type": "code",
   "execution_count": null,
   "metadata": {},
   "outputs": [],
   "source": [
    "una_tupla[-1] = 'osooo'"
   ]
  },
  {
   "cell_type": "code",
   "execution_count": null,
   "metadata": {},
   "outputs": [],
   "source": [
    "una_tupla.reverse()"
   ]
  },
  {
   "cell_type": "markdown",
   "metadata": {},
   "source": [
    "### Diccionarios"
   ]
  },
  {
   "cell_type": "markdown",
   "metadata": {},
   "source": [
    "La diccionarios son otro tipo de estructuras de alto nivel que ya vienen incorporados. A diferencia de las secuencias, los valores no están en una posición sino bajo una clave: son asociaciones clave:valor"
   ]
  },
  {
   "cell_type": "code",
   "execution_count": null,
   "metadata": {},
   "outputs": [],
   "source": [
    "stock = {'Manzanas': 1, 'Peras': 10, 'Bananas': 5, 'Frutillas': 'Fuera de temporada'} \n",
    "\n",
    "stock"
   ]
  },
  {
   "cell_type": "markdown",
   "metadata": {},
   "source": [
    "Accedemos al valor a traves de un clave"
   ]
  },
  {
   "cell_type": "code",
   "execution_count": null,
   "metadata": {},
   "outputs": [],
   "source": [
    "stock['Frutillas'] = 20\n",
    "\n",
    "stock"
   ]
  },
  {
   "cell_type": "code",
   "execution_count": null,
   "metadata": {},
   "outputs": [],
   "source": [
    "stock['Sandía'] = 1\n",
    "\n",
    "stock"
   ]
  },
  {
   "cell_type": "code",
   "execution_count": null,
   "metadata": {},
   "outputs": [],
   "source": [
    "del stock['Sandía']\n",
    "\n",
    "stock"
   ]
  },
  {
   "cell_type": "code",
   "execution_count": null,
   "metadata": {},
   "outputs": [],
   "source": [
    "list(stock.items())[1][0]"
   ]
  },
  {
   "cell_type": "code",
   "execution_count": null,
   "metadata": {},
   "outputs": [],
   "source": [
    "list(stock.items())"
   ]
  },
  {
   "cell_type": "code",
   "execution_count": null,
   "metadata": {},
   "outputs": [],
   "source": [
    "list(stock.keys())"
   ]
  },
  {
   "cell_type": "code",
   "execution_count": null,
   "metadata": {},
   "outputs": [],
   "source": [
    "stock.values()"
   ]
  },
  {
   "cell_type": "markdown",
   "metadata": {},
   "source": [
    "## Control de flujo\n",
    "\n",
    "Una de las herramientas fundamentales de la programación es poder controlar los efectos sobre el programa cuando se cumplen ciertas condiciones, o poder repetir en forma sencilla una cantidad de operaciones. Estas instrucciones se disponen en estructuras que permiten manejar el flujo de un programa, y están presentes en todos los lenguajes de programación. Las más fundamentales se llaman prácticamente igual en la mayoría de los lenguajes.\n",
    "\n",
    "Un aspecto importante que presentan las estructuras de flujo en Python es que requieren de **indentación**, esto es, dejar espacios de forma tal de que la estructura pueda quedar bien definida. Otra de las discusiones eternas de la computación es cuántos espacios se utilizan para indentar. La respuesta correcta en este curso es **4**."
   ]
  },
  {
   "cell_type": "markdown",
   "metadata": {},
   "source": [
    "### Condicionales"
   ]
  },
  {
   "cell_type": "code",
   "execution_count": null,
   "metadata": {},
   "outputs": [],
   "source": [
    "Nota = 7\n",
    "if Nota >= 8:\n",
    "    print (\"Aprobó cómodo, felicidades!\")\n",
    "elif 6 <= Nota < 8:\n",
    "    print (\"Bueno, al menos aprobó!\")\n",
    "elif 4 <= Nota < 6 :\n",
    "    print (\"Bastante bien, pero no le alcanzó\")\n",
    "else:\n",
    "    print(\"Lo esperamos después de las vacaciones!\")"
   ]
  },
  {
   "cell_type": "markdown",
   "metadata": {},
   "source": [
    "En un if, la conversión a tipo boolean es implícita. El tipo None (vacío), el 0, una secuencia (lista, tupla, string) (o conjunto o diccionario, que ya veremos) vacía siempre evalua a False. Cualquier otro objeto evalua a True."
   ]
  },
  {
   "cell_type": "code",
   "execution_count": null,
   "metadata": {},
   "outputs": [],
   "source": [
    "respuesta = 'lala'\n",
    "\n",
    "if respuesta:\n",
    "    print('respondió!')\n",
    "else:\n",
    "    print('no respondió!')"
   ]
  },
  {
   "cell_type": "markdown",
   "metadata": {},
   "source": [
    "### Iteraciones"
   ]
  },
  {
   "cell_type": "markdown",
   "metadata": {},
   "source": [
    "Loop for"
   ]
  },
  {
   "cell_type": "code",
   "execution_count": null,
   "metadata": {},
   "outputs": [],
   "source": [
    "for i in [0,1,2,3]:\n",
    "    print(i,i+1)"
   ]
  },
  {
   "cell_type": "code",
   "execution_count": null,
   "metadata": {},
   "outputs": [],
   "source": [
    "provincias_patagonicas = [\"Tierra del Fuego\", \"Santa Cruz\", \"Chubut\", \"Neuquén\", \"Río Negro\", \"La Pampa\"]\n",
    "\n",
    "for provincia in provincias_patagonicas:\n",
    "    print(provincia)"
   ]
  },
  {
   "cell_type": "code",
   "execution_count": null,
   "metadata": {},
   "outputs": [],
   "source": [
    "sumatoria = 0\n",
    "\n",
    "for elemento in [1, 2, 3.6]:\n",
    "    sumatoria += elemento\n",
    "    \n",
    "sumatoria"
   ]
  },
  {
   "cell_type": "markdown",
   "metadata": {},
   "source": [
    "### Iteradores"
   ]
  },
  {
   "cell_type": "markdown",
   "metadata": {},
   "source": [
    "Veremos un tipo nuevo, llamado `range`, que es un _iterador_. Se crea mediante cualquiera de los siguientes llamados:\n",
    "* `range(stop)`\n",
    "* `range(start, stop, step)`"
   ]
  },
  {
   "cell_type": "code",
   "execution_count": null,
   "metadata": {},
   "outputs": [],
   "source": [
    "r = range(10)\n",
    "\n",
    "print(r)\n",
    "print(type(r))"
   ]
  },
  {
   "cell_type": "code",
   "execution_count": null,
   "metadata": {},
   "outputs": [],
   "source": [
    "r = list(range(10))\n",
    "\n",
    "print(r)\n",
    "print(type(r))"
   ]
  },
  {
   "cell_type": "code",
   "execution_count": null,
   "metadata": {},
   "outputs": [],
   "source": [
    "p = list(range(2,12,2))\n",
    "\n",
    "print(p)"
   ]
  },
  {
   "cell_type": "code",
   "execution_count": null,
   "metadata": {},
   "outputs": [],
   "source": [
    "p = list(range(20,10,-2))\n",
    "\n",
    "print(p)"
   ]
  },
  {
   "cell_type": "code",
   "execution_count": null,
   "metadata": {},
   "outputs": [],
   "source": [
    "for elemento in range(10):\n",
    "    print(elemento)\n"
   ]
  },
  {
   "cell_type": "code",
   "execution_count": null,
   "metadata": {},
   "outputs": [],
   "source": [
    "for (posicion, valor) in enumerate([4, 3, 19]):\n",
    "    \n",
    "    print('El valor de la posicion', posicion, 'es', valor)"
   ]
  },
  {
   "cell_type": "code",
   "execution_count": null,
   "metadata": {},
   "outputs": [],
   "source": [
    "temp_min = [-3.2, -2, 0, -1, 4, -5, -2, 0, 4, 0]\n",
    "temp_max = [13.2, 12, 13, 7, 18, 5, 11, 14, 10 , 10]\n",
    "\n",
    "for t1, t2 in zip(temp_min, temp_max):\n",
    "  print('La temperatura mínima fue', t1, 'y la máxima fue', t2)"
   ]
  },
  {
   "cell_type": "markdown",
   "metadata": {},
   "source": [
    "### Control de flujo de loops\n",
    "Se puede salir del loop usando `break`"
   ]
  },
  {
   "cell_type": "code",
   "execution_count": null,
   "metadata": {},
   "outputs": [],
   "source": [
    "sumatoria = 0\n",
    "\n",
    "for elemento in range(1000):\n",
    "    \n",
    "    if elemento > 100:\n",
    "        break\n",
    "        \n",
    "    sumatoria = sumatoria + elemento\n",
    "    \n",
    "sumatoria, elemento"
   ]
  },
  {
   "cell_type": "code",
   "execution_count": null,
   "metadata": {},
   "outputs": [],
   "source": [
    "sumatoria = 0\n",
    "\n",
    "for elemento in range(101):\n",
    "    \n",
    "    sumatoria += elemento\n",
    "    \n",
    "sumatoria, elemento"
   ]
  },
  {
   "cell_type": "markdown",
   "metadata": {},
   "source": [
    "Se puede omitir un iteración usando `continue`"
   ]
  },
  {
   "cell_type": "code",
   "execution_count": null,
   "metadata": {},
   "outputs": [],
   "source": [
    "sumatoria = 0\n",
    "\n",
    "for elemento in range(20):\n",
    "    \n",
    "    if elemento % 2:\n",
    "        continue\n",
    "        \n",
    "    print(elemento, end=', ')\n",
    "    sumatoria = sumatoria + elemento\n",
    "    \n",
    "sumatoria"
   ]
  },
  {
   "cell_type": "markdown",
   "metadata": {},
   "source": [
    "Un ejemplo práctico, consiste en crear una lista a través de un loop:"
   ]
  },
  {
   "cell_type": "code",
   "execution_count": null,
   "metadata": {},
   "outputs": [],
   "source": [
    "cuadrados = []\n",
    "\n",
    "for i in range(-3,15,1):\n",
    "    cuadrados.append(i**2)\n",
    "    \n",
    "print(cuadrados)"
   ]
  },
  {
   "cell_type": "markdown",
   "metadata": {},
   "source": [
    "Loop while"
   ]
  },
  {
   "cell_type": "code",
   "execution_count": null,
   "metadata": {},
   "outputs": [],
   "source": [
    "a = 0\n",
    "while a < 10:\n",
    "    print(a)\n",
    "    a += 1"
   ]
  },
  {
   "cell_type": "code",
   "execution_count": null,
   "metadata": {},
   "outputs": [],
   "source": [
    "n = 1\n",
    "while True:\n",
    "    n = n + 1\n",
    "    print(n, 'elefantes se balanceaban sobre la tela de una araña')\n",
    "    continuar = input('Desea invitar a otro elefante?')\n",
    "    if continuar.lower() == 'no':\n",
    "        break"
   ]
  },
  {
   "cell_type": "markdown",
   "metadata": {},
   "source": [
    "## Imprimiendo con formato\n",
    "Si bien Python es bastante astuto al imprimir usando la instrucción `print`, se puede dar formato a aquello que uno quiere imprimir. Hay una variedad de maneras de obtener una impresión agradable. Veamos un par de casos."
   ]
  },
  {
   "cell_type": "markdown",
   "metadata": {},
   "source": [
    "### Usando `%` \n",
    "Se utiliza el símbolo `%` para definir el formato de cada variable. Veamos algunos ejemplos"
   ]
  },
  {
   "cell_type": "code",
   "execution_count": 31,
   "metadata": {},
   "outputs": [],
   "source": [
    "s = 42"
   ]
  },
  {
   "cell_type": "code",
   "execution_count": 38,
   "metadata": {},
   "outputs": [
    {
     "name": "stdout",
     "output_type": "stream",
     "text": [
      "s (decimal): 42\n",
      "s (decimal):        042\n",
      "s (octal)  : 52\n",
      "s (hexadecimal)  : 2a\n"
     ]
    }
   ],
   "source": [
    "print(\"s (decimal): %d\" % s)\n",
    "print(\"s (decimal): %10.3d\" % s)\n",
    "print(\"s (octal)  : %o\" % s)\n",
    "print(\"s (hexadecimal)  : %x\" % s)\n"
   ]
  },
  {
   "cell_type": "code",
   "execution_count": 23,
   "metadata": {},
   "outputs": [],
   "source": [
    "from math import *\n",
    "\n",
    "golden_ratio = (1 + sqrt(5))/2"
   ]
  },
  {
   "cell_type": "code",
   "execution_count": 30,
   "metadata": {},
   "outputs": [
    {
     "name": "stdout",
     "output_type": "stream",
     "text": [
      "1.618033988749895\n",
      "Golden Ratio =  1.62\n",
      "Golden Ratio = 1.618 Golden Ratio/100 = 1.618e-02\n"
     ]
    }
   ],
   "source": [
    "print(golden_ratio)\n",
    "print(\"Golden Ratio = %5.2f\" % golden_ratio) # un campo de 5 caracteres, con dos decimales\n",
    "print(\"Golden Ratio = %5.3f Golden Ratio/100 = %8.3e\" % (golden_ratio,golden_ratio/100)) # un campo de 5 caracteres, con tres decimales, notación exponencial\n"
   ]
  },
  {
   "cell_type": "markdown",
   "metadata": {},
   "source": [
    "### Usando `format`"
   ]
  },
  {
   "cell_type": "code",
   "execution_count": 48,
   "metadata": {},
   "outputs": [
    {
     "name": "stdout",
     "output_type": "stream",
     "text": [
      "s (decimal): 42\n",
      "s (decimal):         42\n",
      "s (octal)  : 52\n",
      "s (hexadecimal)  : 2a\n"
     ]
    }
   ],
   "source": [
    "print(\"s (decimal): {0:d}\" .format(s))\n",
    "print(\"s (decimal): {0:10d}\".format(s))\n",
    "print(\"s (octal)  : {0:o}\".format(s))\n",
    "print(\"s (hexadecimal)  : {0:x}\".format(s))\n"
   ]
  },
  {
   "cell_type": "code",
   "execution_count": 51,
   "metadata": {},
   "outputs": [
    {
     "name": "stdout",
     "output_type": "stream",
     "text": [
      "1.618033988749895\n",
      "Golden Ratio =  1.62\n",
      "Golden Ratio = 1.618 Golden Ratio/100 = 1.618e-02\n"
     ]
    }
   ],
   "source": [
    "print(golden_ratio)\n",
    "print(\"Golden Ratio = {0:5.2f}\" .format(golden_ratio)) # un campo de 5 caracteres, con dos decimales\n",
    "print(\"Golden Ratio = {0:5.3f} Golden Ratio/100 = {1:8.3e}\" .format(golden_ratio,golden_ratio/100)) # un campo de 5 caracteres, con tres decimales, notación exponencial\n"
   ]
  },
  {
   "cell_type": "markdown",
   "metadata": {},
   "source": [
    "El uso de `format` también se llama posicional"
   ]
  },
  {
   "cell_type": "code",
   "execution_count": 52,
   "metadata": {},
   "outputs": [
    {
     "name": "stdout",
     "output_type": "stream",
     "text": [
      "Golden Ratio = 0.016 Golden Ratio/100 = 1.618e+00\n"
     ]
    }
   ],
   "source": [
    "print(\"Golden Ratio = {1:5.3f} Golden Ratio/100 = {0:8.3e}\" .format(golden_ratio,golden_ratio/100)) # un campo de 5 caracteres, con tres decimales, notación exponencial\n",
    "# un campo de 5 caracteres, con tres decimales, notación exponencial"
   ]
  },
  {
   "cell_type": "code",
   "execution_count": null,
   "metadata": {},
   "outputs": [],
   "source": []
  }
 ],
 "metadata": {
  "kernelspec": {
   "display_name": "Python 3",
   "language": "python",
   "name": "python3"
  },
  "language_info": {
   "codemirror_mode": {
    "name": "ipython",
    "version": 3
   },
   "file_extension": ".py",
   "mimetype": "text/x-python",
   "name": "python",
   "nbconvert_exporter": "python",
   "pygments_lexer": "ipython3",
   "version": "3.9.16"
  }
 },
 "nbformat": 4,
 "nbformat_minor": 2
}