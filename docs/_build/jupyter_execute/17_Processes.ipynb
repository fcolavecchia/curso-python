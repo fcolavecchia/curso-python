{
 "cells": [
  {
   "cell_type": "markdown",
   "metadata": {},
   "source": [
    "### Módulo `subprocess`\n",
    "\n",
    "El módulo subprocess permite ejecutar nuevos procesos, proveerle de datos de entrada, y capturar su salida."
   ]
  },
  {
   "cell_type": "code",
   "execution_count": 1,
   "metadata": {},
   "outputs": [],
   "source": [
    "import subprocess as sub"
   ]
  },
  {
   "cell_type": "code",
   "execution_count": 2,
   "metadata": {},
   "outputs": [
    {
     "name": "stdout",
     "output_type": "stream",
     "text": [
      "total 12608\n",
      "-rwxr-xr-x  1 flavioc  staff     4063 Jul 19 11:08 \u001b[31m0 Introducción a Jupyter Notebooks.ipynb\u001b[m\u001b[m\n",
      "-rw-r--r--@ 1 flavioc  staff    60476 Jul 19 11:08 07_modulos_biblioteca.ipynb\n",
      "-rw-r--r--@ 1 flavioc  staff    34450 Jul 19 11:27 1 El lenguaje Python.ipynb\n",
      "-rw-r--r--@ 1 flavioc  staff    20892 Jul 19 11:08 15_interfacing_C.ipynb\n",
      "-rw-r--r--@ 1 flavioc  staff     9857 Jul 19 11:08 15_interfacing_Cpp.ipynb\n",
      "-rw-r--r--@ 1 flavioc  staff    56462 Jul 19 11:08 15_interfacing_F.ipynb\n",
      "-rw-r--r--@ 1 flavioc  staff    21520 Jul 19 11:08 16_Python funcional 2.ipynb\n",
      "-rw-r--r--@ 1 flavioc  staff    20863 Jul 19 11:08 16_Python funcional.ipynb\n",
      "-rw-r--r--  1 flavioc  staff     1936 Jul 19 11:08 17_Processes.ipynb\n",
      "-rwxr-xr-x@ 1 flavioc  staff    24704 Jul 19 11:28 \u001b[31m2 Funciones.ipynb\u001b[m\u001b[m\n",
      "-rw-r--r--  1 flavioc  staff    14375 Jul 19 11:28 3 Más sobre funciones.ipynb\n",
      "-rwxr-xr-x@ 1 flavioc  staff   232074 Jul 19 11:28 \u001b[31m4 Módulos.ipynb\u001b[m\u001b[m\n",
      "-rw-r--r--  1 flavioc  staff    19780 Jul 19 11:28 5 Numpy - avanzado.ipynb\n",
      "-rw-r--r--  1 flavioc  staff   173614 Jul 19 11:28 5 Numpy.ipynb\n",
      "-rwxr-xr-x@ 1 flavioc  staff  1140526 Jul 19 11:08 \u001b[31m6 Matplotlib.ipynb\u001b[m\u001b[m\n",
      "-rw-r--r--@ 1 flavioc  staff   311698 Jul 19 11:08 6 Plotly.ipynb\n",
      "-rw-r--r--  1 flavioc  staff   113549 Jul 19 11:28 7 Intermedio.ipynb\n",
      "-rwxr-xr-x  1 flavioc  staff   159666 Jul 19 11:28 \u001b[31m8 Interpolación.ipynb\u001b[m\u001b[m\n",
      "-rwxr-xr-x@ 1 flavioc  staff   881743 Jul 19 11:28 \u001b[31m9 Dicom.ipynb\u001b[m\u001b[m\n",
      "-rwxr-xr-x@ 1 flavioc  staff    14916 Jul 19 11:28 \u001b[31mA Dicom 3D.ipynb\u001b[m\u001b[m\n",
      "-rw-r--r--  1 flavioc  staff   206281 Jul 19 11:28 B Integrales.ipynb\n",
      "-rw-r--r--@ 1 flavioc  staff   426516 Jul 19 11:28 Borges y matplotlib resuelto.ipynb\n",
      "-rw-r--r--@ 1 flavioc  staff   149752 Jul 19 11:28 Borges y matplotlib.ipynb\n",
      "-rw-r--r--@ 1 flavioc  staff      375 Jul 19 11:08 Clase.ipynb\n",
      "-rw-r--r--@ 1 flavioc  staff    17862 Jul 19 11:08 Create_the_std_lib.ipynb\n",
      "-rw-r--r--@ 1 flavioc  staff     2512 Jul 19 11:08 Ejercicios 07.ipynb\n",
      "-rw-r--r--@ 1 flavioc  staff    11684 Jul 19 11:08 Find_the_file.ipynb\n",
      "-rw-r--r--@ 1 flavioc  staff     4278 Jul 19 11:08 Generala.ipynb\n",
      "-rw-r--r--@ 1 flavioc  staff     6520 Jul 19 11:08 Jugando con strings solución.ipynb\n",
      "-rw-r--r--@ 1 flavioc  staff     1267 Jul 19 11:08 Jugando con strings.ipynb\n",
      "-rw-r--r--  1 flavioc  staff     2059 Jul 19 11:08 Pangram solucion.ipynb\n",
      "-rw-r--r--  1 flavioc  staff     8534 Jul 19 11:08 Pangrama Versiones.ipynb\n",
      "-rw-r--r--  1 flavioc  staff     7644 Jul 19 11:08 Pangrama.ipynb\n",
      "-rw-r--r--  1 flavioc  staff     4287 Jul 19 11:08 Sortea ejercicios.ipynb\n",
      "-rw-r--r--@ 1 flavioc  staff     1944 Jul 19 11:08 Untitled.ipynb\n",
      "drwxr-xr-x@ 5 flavioc  staff      160 Jul 19 11:31 \u001b[1m\u001b[36m_build\u001b[m\u001b[m\n",
      "-rw-rw-r--  1 flavioc  staff      999 Jul 19 11:19 _config.yml\n",
      "-rw-rw-r--  1 flavioc  staff     1290 Jul 19 11:28 _toc.yml\n",
      "-rw-r--r--@ 1 flavioc  staff    91075 Jul 19 11:08 datos pdd.ipynb\n",
      "-rw-r--r--  1 flavioc  staff    19145 Jul 19 11:19 figura2.pdf\n",
      "-rw-r--r--  1 flavioc  staff   206327 Jul 19 11:19 figura2.png\n",
      "-rw-rw-r--  1 flavioc  staff      431 Mar 14 00:03 intro.md\n",
      "-rw-rw-r--  1 flavioc  staff     9854 Mar 14 00:03 logo.png\n",
      "-rw-rw-r--  1 flavioc  staff     1787 Mar 14 00:03 markdown-notebooks.md\n",
      "-rw-rw-r--  1 flavioc  staff     1898 Mar 14 00:03 markdown.md\n",
      "-rw-rw-r--  1 flavioc  staff     3378 Mar 14 00:03 notebooks.ipynb\n",
      "-rw-r--r--@ 1 flavioc  staff    48505 Jul 19 11:08 pandas.ipynb\n",
      "-rw-r--r--  1 flavioc  staff    33430 Jul 19 11:08 pandas_intro.ipynb\n",
      "-rw-rw-r--  1 flavioc  staff     5524 Mar 14 00:03 references.bib\n",
      "-rw-rw-r--  1 flavioc  staff       30 Mar 14 00:03 requirements.txt\n",
      "-rw-r--r--@ 1 flavioc  staff  1689765 Jul 19 11:08 scikit_image_filters.ipynb\n"
     ]
    },
    {
     "data": {
      "text/plain": [
       "CompletedProcess(args=['ls', '-l'], returncode=0)"
      ]
     },
     "execution_count": 2,
     "metadata": {},
     "output_type": "execute_result"
    }
   ],
   "source": [
    "sub.run([\"ls\", \"-l\"])"
   ]
  },
  {
   "cell_type": "markdown",
   "metadata": {},
   "source": [
    "En esta forma, la función `run` ejecuta el comando `ls` (listar) con el argumento `-l`, y **no** captura la salida.\n",
    "Si queremos guardar la salida, podemos usar el argumento `stdout`:"
   ]
  },
  {
   "cell_type": "code",
   "execution_count": 3,
   "metadata": {},
   "outputs": [],
   "source": [
    "ll = sub.run([\"ls\", \"-l\"], stdout=sub.PIPE)"
   ]
  },
  {
   "cell_type": "markdown",
   "metadata": {},
   "source": [
    "La variable `ll` tiene el objeto retornado por `run`. y podemos acceder a la salida mediante `ll.stdout`"
   ]
  },
  {
   "cell_type": "code",
   "execution_count": 4,
   "metadata": {},
   "outputs": [],
   "source": [
    "ff= ll.stdout.splitlines()"
   ]
  },
  {
   "cell_type": "code",
   "execution_count": 5,
   "metadata": {},
   "outputs": [],
   "source": [
    "for f in ff:\n",
    "  if 'ipynb' in str(f) and '04_' in str(f):\n",
    "    print(f.decode('utf-8'))"
   ]
  }
 ],
 "metadata": {
  "kernelspec": {
   "display_name": "Python 3",
   "language": "python",
   "name": "python3"
  },
  "language_info": {
   "codemirror_mode": {
    "name": "ipython",
    "version": 3
   },
   "file_extension": ".py",
   "mimetype": "text/x-python",
   "name": "python",
   "nbconvert_exporter": "python",
   "pygments_lexer": "ipython3",
   "version": "3.9.16"
  },
  "vscode": {
   "interpreter": {
    "hash": "1a1af0ee75eeea9e2e1ee996c87e7a2b11a0bebd85af04bb136d915cefc0abce"
   }
  }
 },
 "nbformat": 4,
 "nbformat_minor": 2
}