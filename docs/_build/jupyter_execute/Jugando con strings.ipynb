{
 "cells": [
  {
   "cell_type": "markdown",
   "id": "3bd1a596",
   "metadata": {},
   "source": [
    "### Jugando con strings"
   ]
  },
  {
   "cell_type": "markdown",
   "id": "66504ee2",
   "metadata": {},
   "source": [
    "Desarrollar un conjunto de funciones que nos permitan obtener la lista de las palabras que componen una determinada frase. Por ejemplo, si tenemos \n",
    "\n",
    ">>*Esta es la primera   línea, esta es la segunda y esta es la tercera.*\n",
    "\n",
    "el resultado sería\n",
    "\n",
    "`{'esta', 'es', 'tercera', 'línea', 'la', 'segunda', 'y', 'primera'}`\n"
   ]
  },
  {
   "cell_type": "code",
   "execution_count": 1,
   "id": "45b9451a",
   "metadata": {},
   "outputs": [],
   "source": [
    "texto = 'Esta es la primera   línea, esta es la segunda y esta es la tercera.'"
   ]
  }
 ],
 "metadata": {
  "kernelspec": {
   "display_name": "Python 3",
   "language": "python",
   "name": "python3"
  },
  "language_info": {
   "codemirror_mode": {
    "name": "ipython",
    "version": 3
   },
   "file_extension": ".py",
   "mimetype": "text/x-python",
   "name": "python",
   "nbconvert_exporter": "python",
   "pygments_lexer": "ipython3",
   "version": "3.9.16"
  }
 },
 "nbformat": 4,
 "nbformat_minor": 5
}