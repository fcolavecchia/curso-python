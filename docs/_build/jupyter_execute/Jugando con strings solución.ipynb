{
 "cells": [
  {
   "cell_type": "code",
   "execution_count": 1,
   "id": "45b9451a",
   "metadata": {},
   "outputs": [],
   "source": [
    "texto = 'Esta es la primer   línea,\\nesta es la segunda\\ny esta es la tercera.'"
   ]
  },
  {
   "cell_type": "code",
   "execution_count": 2,
   "id": "d0d02e17",
   "metadata": {},
   "outputs": [
    {
     "name": "stdout",
     "output_type": "stream",
     "text": [
      "['Esta', 'es', 'la', 'primer', '', '', 'línea,\\nesta', 'es', 'la', 'segunda\\ny', 'esta', 'es', 'la', 'tercera.']\n"
     ]
    }
   ],
   "source": [
    "lista_texto = texto.split(' ')\n",
    "print(lista_texto)"
   ]
  },
  {
   "cell_type": "markdown",
   "id": "30ead96d",
   "metadata": {},
   "source": [
    "El problema con la ,"
   ]
  },
  {
   "cell_type": "code",
   "execution_count": 3,
   "id": "9ad84e37",
   "metadata": {},
   "outputs": [
    {
     "name": "stdout",
     "output_type": "stream",
     "text": [
      "['Esta', 'es', 'la', 'primer', '', '', 'líneaesta', 'es', 'la', 'segunday', 'esta', 'es', 'la', 'tercera.']\n"
     ]
    }
   ],
   "source": [
    "nueva_lista_texto = []\n",
    "for palabra in lista_texto:\n",
    "    nueva_palabra = palabra.replace(',','')\n",
    "    nueva_palabra = nueva_palabra.replace('\\n','')\n",
    "    nueva_lista_texto.append(nueva_palabra)\n",
    "    \n",
    "    \n",
    "print(nueva_lista_texto)    "
   ]
  },
  {
   "cell_type": "markdown",
   "id": "b4fb451d",
   "metadata": {},
   "source": [
    "Lista de listas"
   ]
  },
  {
   "cell_type": "code",
   "execution_count": 4,
   "id": "9d855fa5",
   "metadata": {},
   "outputs": [
    {
     "name": "stdout",
     "output_type": "stream",
     "text": [
      "['Esta es la primer   línea,', 'esta es la segunda', 'y esta es la tercera.']\n",
      "[['Esta', 'es', 'la', 'primer', '', '', 'línea'], ['esta', 'es', 'la', 'segunda'], ['y', 'esta', 'es', 'la', 'tercera.']]\n"
     ]
    }
   ],
   "source": [
    "lista_texto = texto.split('\\n')\n",
    "print(lista_texto)\n",
    "nueva_lista_texto = []\n",
    "for linea in lista_texto:\n",
    "    nueva_linea = linea.replace(',','')\n",
    "    palabras = nueva_linea.split(' ')\n",
    "    nueva_lista_texto.append(palabras)\n",
    "        \n",
    "print(nueva_lista_texto)    \n",
    "\n",
    "\n"
   ]
  },
  {
   "cell_type": "markdown",
   "id": "2376c33e",
   "metadata": {},
   "source": [
    "Usando extend"
   ]
  },
  {
   "cell_type": "code",
   "execution_count": 5,
   "id": "a9581d38",
   "metadata": {},
   "outputs": [
    {
     "name": "stdout",
     "output_type": "stream",
     "text": [
      "['Esta es la primer   línea,', 'esta es la segunda', 'y esta es la tercera.']\n",
      "['Esta', 'es', 'la', 'primer', '', '', 'línea', 'esta', 'es', 'la', 'segunda', 'y', 'esta', 'es', 'la', 'tercera']\n"
     ]
    }
   ],
   "source": [
    "lista_texto = texto.split('\\n')\n",
    "print(lista_texto)\n",
    "nueva_lista_texto = []\n",
    "for linea in lista_texto:\n",
    "    nueva_linea = linea.replace(',','').replace('.','')\n",
    "    palabras = nueva_linea.split(' ')\n",
    "    nueva_lista_texto.extend(palabras)\n",
    "        \n",
    "print(nueva_lista_texto)  "
   ]
  },
  {
   "cell_type": "markdown",
   "id": "460fc01c",
   "metadata": {},
   "source": [
    "Unique"
   ]
  },
  {
   "cell_type": "code",
   "execution_count": 6,
   "id": "3ddd959e",
   "metadata": {},
   "outputs": [
    {
     "name": "stdout",
     "output_type": "stream",
     "text": [
      "['', 'primer', 'la', 'segunda', 'línea', 'es', 'Esta', 'y', 'tercera', 'esta']\n",
      "['primer', 'la', 'segunda', 'línea', 'es', 'Esta', 'y', 'tercera', 'esta']\n"
     ]
    }
   ],
   "source": [
    "lista_unica = list(set(nueva_lista_texto))\n",
    "print(lista_unica)\n",
    "lista_unica.remove('')\n",
    "print(lista_unica)"
   ]
  },
  {
   "cell_type": "markdown",
   "id": "14f2d020",
   "metadata": {},
   "source": [
    "Contando cuántas veces aparece una palabra en la lista"
   ]
  },
  {
   "cell_type": "code",
   "execution_count": 7,
   "id": "062cedd1",
   "metadata": {},
   "outputs": [
    {
     "name": "stdout",
     "output_type": "stream",
     "text": [
      "primer aparece  1 veces en el texto\n",
      "la aparece  3 veces en el texto\n",
      "segunda aparece  1 veces en el texto\n",
      "línea aparece  1 veces en el texto\n",
      "es aparece  3 veces en el texto\n",
      "Esta aparece  1 veces en el texto\n",
      "y aparece  1 veces en el texto\n",
      "tercera aparece  1 veces en el texto\n",
      "esta aparece  2 veces en el texto\n"
     ]
    }
   ],
   "source": [
    "for palabra in lista_unica:\n",
    "    count = nueva_lista_texto.count(palabra)\n",
    "    print(palabra, 'aparece ',count, 'veces en el texto')"
   ]
  },
  {
   "cell_type": "code",
   "execution_count": 8,
   "id": "5b242a8c",
   "metadata": {},
   "outputs": [
    {
     "name": "stdout",
     "output_type": "stream",
     "text": [
      "primer aparece  1 veces en el texto\n",
      "la aparece  3 veces en el texto\n",
      "segunda aparece  1 veces en el texto\n",
      "línea aparece  1 veces en el texto\n",
      "es aparece  3 veces en el texto\n",
      "Esta aparece  1 veces en el texto\n",
      "y aparece  1 veces en el texto\n",
      "tercera aparece  1 veces en el texto\n",
      "esta aparece  2 veces en el texto\n"
     ]
    }
   ],
   "source": [
    "dicc = {} # un diccionario\n",
    "for palabra in lista_unica:\n",
    "    count = nueva_lista_texto.count(palabra)\n",
    "    dicc.update({palabra:count})\n",
    "    print(palabra, 'aparece ',count, 'veces en el texto')"
   ]
  },
  {
   "cell_type": "code",
   "execution_count": 9,
   "id": "df834984",
   "metadata": {},
   "outputs": [
    {
     "name": "stdout",
     "output_type": "stream",
     "text": [
      "{'primer': 1, 'la': 3, 'segunda': 1, 'línea': 1, 'es': 3, 'Esta': 1, 'y': 1, 'tercera': 1, 'esta': 2}\n"
     ]
    }
   ],
   "source": [
    "print(dicc)"
   ]
  }
 ],
 "metadata": {
  "kernelspec": {
   "display_name": "Python 3",
   "language": "python",
   "name": "python3"
  },
  "language_info": {
   "codemirror_mode": {
    "name": "ipython",
    "version": 3
   },
   "file_extension": ".py",
   "mimetype": "text/x-python",
   "name": "python",
   "nbconvert_exporter": "python",
   "pygments_lexer": "ipython3",
   "version": "3.9.16"
  }
 },
 "nbformat": 4,
 "nbformat_minor": 5
}