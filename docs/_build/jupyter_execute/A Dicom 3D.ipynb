{
 "cells": [
  {
   "cell_type": "markdown",
   "metadata": {},
   "source": [
    "\n",
    "\n",
    "\n",
    "# Imágenes médicas - DICOM 3D"
   ]
  },
  {
   "cell_type": "code",
   "execution_count": 1,
   "metadata": {},
   "outputs": [],
   "source": [
    "import matplotlib.pyplot as plt\n",
    "import numpy as np\n",
    "import pydicom"
   ]
  },
  {
   "cell_type": "markdown",
   "metadata": {},
   "source": [
    "### Abrir un archivo DICOM"
   ]
  },
  {
   "cell_type": "code",
   "execution_count": 2,
   "metadata": {},
   "outputs": [
    {
     "ename": "FileNotFoundError",
     "evalue": "[Errno 2] No such file or directory: '../Assets/CT/IM-0001-0200-0001.dcm'",
     "output_type": "error",
     "traceback": [
      "\u001b[0;31m---------------------------------------------------------------------------\u001b[0m",
      "\u001b[0;31mFileNotFoundError\u001b[0m                         Traceback (most recent call last)",
      "Cell \u001b[0;32mIn[2], line 1\u001b[0m\n\u001b[0;32m----> 1\u001b[0m DCM \u001b[38;5;241m=\u001b[39m \u001b[43mpydicom\u001b[49m\u001b[38;5;241;43m.\u001b[39;49m\u001b[43mdcmread\u001b[49m\u001b[43m(\u001b[49m\u001b[38;5;124;43mr\u001b[39;49m\u001b[38;5;124;43m'\u001b[39;49m\u001b[38;5;124;43m../Assets/CT/IM-0001-0200-0001.dcm\u001b[39;49m\u001b[38;5;124;43m'\u001b[39;49m\u001b[43m)\u001b[49m\n",
      "File \u001b[0;32m/opt/miniconda3/lib/python3.9/site-packages/pydicom/filereader.py:993\u001b[0m, in \u001b[0;36mdcmread\u001b[0;34m(fp, defer_size, stop_before_pixels, force, specific_tags)\u001b[0m\n\u001b[1;32m    991\u001b[0m     caller_owns_file \u001b[38;5;241m=\u001b[39m \u001b[38;5;28;01mFalse\u001b[39;00m\n\u001b[1;32m    992\u001b[0m     logger\u001b[38;5;241m.\u001b[39mdebug(\u001b[38;5;124m\"\u001b[39m\u001b[38;5;124mReading file \u001b[39m\u001b[38;5;124m'\u001b[39m\u001b[38;5;132;01m{0}\u001b[39;00m\u001b[38;5;124m'\u001b[39m\u001b[38;5;124m\"\u001b[39m\u001b[38;5;241m.\u001b[39mformat(fp))\n\u001b[0;32m--> 993\u001b[0m     fp \u001b[38;5;241m=\u001b[39m \u001b[38;5;28;43mopen\u001b[39;49m\u001b[43m(\u001b[49m\u001b[43mfp\u001b[49m\u001b[43m,\u001b[49m\u001b[43m \u001b[49m\u001b[38;5;124;43m'\u001b[39;49m\u001b[38;5;124;43mrb\u001b[39;49m\u001b[38;5;124;43m'\u001b[39;49m\u001b[43m)\u001b[49m\n\u001b[1;32m    994\u001b[0m \u001b[38;5;28;01melif\u001b[39;00m fp \u001b[38;5;129;01mis\u001b[39;00m \u001b[38;5;28;01mNone\u001b[39;00m \u001b[38;5;129;01mor\u001b[39;00m \u001b[38;5;129;01mnot\u001b[39;00m \u001b[38;5;28mhasattr\u001b[39m(fp, \u001b[38;5;124m\"\u001b[39m\u001b[38;5;124mread\u001b[39m\u001b[38;5;124m\"\u001b[39m) \u001b[38;5;129;01mor\u001b[39;00m \u001b[38;5;129;01mnot\u001b[39;00m \u001b[38;5;28mhasattr\u001b[39m(fp, \u001b[38;5;124m\"\u001b[39m\u001b[38;5;124mseek\u001b[39m\u001b[38;5;124m\"\u001b[39m):\n\u001b[1;32m    995\u001b[0m     \u001b[38;5;28;01mraise\u001b[39;00m \u001b[38;5;167;01mTypeError\u001b[39;00m(\u001b[38;5;124m\"\u001b[39m\u001b[38;5;124mdcmread: Expected a file path or a file-like, \u001b[39m\u001b[38;5;124m\"\u001b[39m\n\u001b[1;32m    996\u001b[0m                     \u001b[38;5;124m\"\u001b[39m\u001b[38;5;124mbut got \u001b[39m\u001b[38;5;124m\"\u001b[39m \u001b[38;5;241m+\u001b[39m \u001b[38;5;28mtype\u001b[39m(fp)\u001b[38;5;241m.\u001b[39m\u001b[38;5;18m__name__\u001b[39m)\n",
      "\u001b[0;31mFileNotFoundError\u001b[0m: [Errno 2] No such file or directory: '../Assets/CT/IM-0001-0200-0001.dcm'"
     ]
    }
   ],
   "source": [
    "DCM = pydicom.dcmread(r'../Assets/CT/IM-0001-0200-0001.dcm')"
   ]
  },
  {
   "cell_type": "code",
   "execution_count": null,
   "metadata": {},
   "outputs": [],
   "source": [
    "type(DCM)"
   ]
  },
  {
   "cell_type": "code",
   "execution_count": null,
   "metadata": {},
   "outputs": [],
   "source": [
    "DCM"
   ]
  },
  {
   "cell_type": "markdown",
   "metadata": {},
   "source": [
    "Para acceder a cada uno de los atributos del archivo DICOM se utiliza el nombre del atributo"
   ]
  },
  {
   "cell_type": "code",
   "execution_count": null,
   "metadata": {},
   "outputs": [],
   "source": [
    "DCM.PatientName"
   ]
  },
  {
   "cell_type": "code",
   "execution_count": null,
   "metadata": {},
   "outputs": [],
   "source": [
    "DCM.StudyDescription"
   ]
  },
  {
   "cell_type": "code",
   "execution_count": null,
   "metadata": {},
   "outputs": [],
   "source": [
    "DCM.ProtocolName"
   ]
  },
  {
   "cell_type": "markdown",
   "metadata": {},
   "source": [
    "Pero también tengo la información desde el tag, usando el grupo y elemento en representación hexadecimal:"
   ]
  },
  {
   "cell_type": "code",
   "execution_count": null,
   "metadata": {},
   "outputs": [],
   "source": [
    "print(\"Tag  : \",DCM[0x0018,0x1030].tag)\n",
    "print(\"VR   : \",DCM[0x0018,0x1030].VR)\n",
    "print(\"valor: \",DCM[0x0018,0x1030].value)"
   ]
  },
  {
   "cell_type": "markdown",
   "metadata": {},
   "source": [
    "#### Ventanas de visualización típicas en CT\n",
    "\n",
    "- Cabeza y cuello\n",
    "    - cerebro w:80 c:40\n",
    "    - subdural w:130-300 c:50-100\n",
    "    - acv w:8 c:32 / w:40 c:40\n",
    "    - hueso w:2800 c:600\n",
    "    - Tejido blando: w:350–400 c:20–60\n",
    "    \n",
    "- Pecho\n",
    "    - Pulmones w:1500 c:-600\n",
    "    - Mediastino w:350 c:50\n",
    "    \n",
    "- Abdomen\n",
    "    - Tejido blando w:400 c:50\n",
    "    - Hígado w:150 c:30\n",
    "\n",
    "- Columna\n",
    "    - Tejido blando w:250 c:50\n",
    "    - Hueso w:1800 c:400\n"
   ]
  },
  {
   "cell_type": "markdown",
   "metadata": {},
   "source": [
    "## Reconstrucción multiplanar\n",
    "\n",
    "Las tomografías son un conjunto de imágenes (cortes, slices) que se adquieren en un mismo acto de diagnóstico. Es por ello que permiten realizar reconstrucciones, esto es, obtener una imagen en cualquier plano que intersecte el volumen tomográfico relevado. \n",
    "\n",
    "Usualmente se estila utilizar los cortes tranversales, coronales y sagitales para analizar la imagen.\n",
    "\n"
   ]
  },
  {
   "cell_type": "markdown",
   "metadata": {},
   "source": [
    "### 1 Cargar todos los cortes de la tomografía\n",
    "\n",
    "Para poder realizar una reconstrucción, es necesario contar con todos los cortes tomográficos. Para ellos vamos a usar el módulo `glob`, que permite acceder a la información completa de un directorio en nuestra computadora."
   ]
  },
  {
   "cell_type": "code",
   "execution_count": null,
   "metadata": {},
   "outputs": [],
   "source": [
    "import glob\n",
    "\n",
    "directorio = '../Assets/CT/*.dcm'\n",
    "\n",
    "archivos = glob.glob(directorio, recursive=False)\n",
    "\n",
    "print(type(archivos))\n",
    "print(archivos[0:10])\n",
    "print(len(archivos))\n"
   ]
  },
  {
   "cell_type": "markdown",
   "metadata": {},
   "source": [
    "Se puede ver que `glob.glob` devuelve en `archivos` una lista de los archivos en el directorio. Sin embargo, la lista de archivos está desordenada. Para ello, tenemos que hacer un paréntesis y analizar cómo ordenar la lista."
   ]
  },
  {
   "cell_type": "markdown",
   "metadata": {},
   "source": [
    "#### *Intermezzo*: sort y mutabilidad \n",
    "\n",
    "Python, por supuesto, nos brinda la función `sorted` que puede ordenar una lista. Pero también nos da el método `sort` que reordena una lista. ¿Cuál es la diferencia? Veamos: \n"
   ]
  },
  {
   "cell_type": "code",
   "execution_count": null,
   "metadata": {},
   "outputs": [],
   "source": [
    "a = [3,4,1,5]\n",
    "b = sorted(a,reverse = True)\n",
    "print(b)"
   ]
  },
  {
   "cell_type": "code",
   "execution_count": null,
   "metadata": {},
   "outputs": [],
   "source": [
    "c = ['monoambiente', 'casa', 'departamento']\n",
    "print(c)\n",
    "b = c.sort()\n",
    "print(b)\n",
    "print(c)"
   ]
  },
  {
   "cell_type": "code",
   "execution_count": null,
   "metadata": {},
   "outputs": [],
   "source": [
    "def largo(palabra):\n",
    "    \"\"\"\n",
    "        función de ordenamiento, recibe un sólo argumento\n",
    "        y retorna un solo valor, correspondiente al criterio \n",
    "        de ordenamiento de la lista\n",
    "    \"\"\"\n",
    "    return len(palabra)\n",
    "\n",
    "\n",
    "print(largo('hola'))\n",
    "\n",
    "c = ['monoambiente', 'casa', 'departamento','posada']\n",
    "print(c)\n",
    "b = sorted(c)\n",
    "print(\"c ordenado alfabéticamente: \",b)\n",
    "d = sorted(c,key=largo)\n",
    "print(\"c ordenado por largo de palabra: \",d)\n",
    "f = sorted(c,key=largo,reverse=True)\n",
    "print(\"c ordenado por largo de palabra, inverso: \",f)\n",
    "\n"
   ]
  },
  {
   "cell_type": "markdown",
   "metadata": {},
   "source": [
    "> Mientras que `sorted` devuelve una lista ordenada, `sort` reordena la lista en sí misma\n",
    "\n",
    "En este sentido, decimos que `sort` es una función que *muta* una variable en su mismo lugar (en inglés, *in place*). Por otro lado, `sorted` no cambia la variable de entrada de la función, y retorna una nueva variable.\n",
    "\n",
    "#### *Fin intermezzo*"
   ]
  },
  {
   "cell_type": "markdown",
   "metadata": {},
   "source": [
    "Volviendo a nuestro ejemplo con los archivos"
   ]
  },
  {
   "cell_type": "code",
   "execution_count": null,
   "metadata": {},
   "outputs": [],
   "source": [
    "archivos_ordenados = sorted(archivos)\n",
    "print(archivos_ordenados[0:10])"
   ]
  },
  {
   "cell_type": "code",
   "execution_count": null,
   "metadata": {},
   "outputs": [],
   "source": [
    "dicoms = []\n",
    "for fname in archivos_ordenados:\n",
    "    dicoms.append(pydicom.read_file(fname))\n",
    "\n",
    "print(\"Número de cortes tomográficos:\",len(dicoms))"
   ]
  },
  {
   "cell_type": "markdown",
   "metadata": {},
   "source": [
    "Ahora nuestra lista `dicom` contiene los datos DICOM de **todos** los cortes tomográficos. Veamos si es así:"
   ]
  },
  {
   "cell_type": "code",
   "execution_count": null,
   "metadata": {},
   "outputs": [],
   "source": [
    "n_cts = len(dicoms)\n",
    "\n",
    "for (i,dcm) in zip(range(0,n_cts),dicoms):\n",
    "    print(\"Paciente en el corte \",i, \":\", dcm.PatientName)"
   ]
  },
  {
   "cell_type": "markdown",
   "metadata": {},
   "source": [
    "Es claro que todos los cortes deben tener el mismo nombre de paciente. Hay otros datos dicom que cambian de acuerdo al corte tomográfico, por ejemplo:"
   ]
  },
  {
   "cell_type": "code",
   "execution_count": null,
   "metadata": {},
   "outputs": [],
   "source": [
    "for (i,dcm) in zip(range(0,n_cts),dicoms):\n",
    "    print(\"Posición del corte \",i, \":\", dcm.SliceLocation, \" mm\")"
   ]
  },
  {
   "cell_type": "markdown",
   "metadata": {},
   "source": [
    "#### 2 Construcción del volumen tomográfico\n",
    "\n",
    "Convencidos de que tenemos efectivamente la información DICOM en nuestra lista, ahora debemos recuperar la imagen de cada corte, y construir un volumen con ellas. Para eso vamos a usar un arreglo 3D de `numpy`.\n"
   ]
  },
  {
   "cell_type": "code",
   "execution_count": null,
   "metadata": {},
   "outputs": [],
   "source": [
    "slice0 = dicoms[0]   # Primer corte, lo uso para recuperar los datos comunes a todos los cortes\n",
    "vol_shape = list(slice0.pixel_array.shape) # Tamaño de la imagen 2D\n",
    "print(vol_shape)\n",
    "vol_shape.append(len(dicoms))   # Agregamos a la lista el tamaño de la imagen a lo largo de z\n",
    "# Si tenemos poca RAM, podemos fijar la cantidad de cortes en el eje z\n",
    "# vol_shape.append(100)   # Agregamos a la lista el tamaño de la imagen a lo largo de z\n",
    "\n",
    "print(vol_shape)\n",
    "\n",
    "matriz3D = np.zeros(vol_shape)\n",
    "print(matriz3D.shape)"
   ]
  },
  {
   "cell_type": "markdown",
   "metadata": {},
   "source": [
    "Ya tenemos nuestro volumen tomográfico listo para ser llenado con las imágenes:"
   ]
  },
  {
   "cell_type": "code",
   "execution_count": null,
   "metadata": {},
   "outputs": [],
   "source": [
    "# Si tenemos poca RAM, podemos leer sólo los cortes que queremos,acorde\n",
    "# a la cantidad de cortes que definimos antes\n",
    "# for i, slice in enumerate(dicoms[100:200]):\n",
    "\n",
    "for i, slice in enumerate(dicoms):\n",
    "\n",
    "    corte = slice.pixel_array * slice.RescaleSlope + slice.RescaleIntercept\n",
    "    matriz3D[:, :, i] = corte"
   ]
  },
  {
   "cell_type": "markdown",
   "metadata": {},
   "source": [
    "#### 3 Extracción de imágenes"
   ]
  },
  {
   "cell_type": "code",
   "execution_count": null,
   "metadata": {},
   "outputs": [],
   "source": [
    "#\n",
    "#   Window and level\n",
    "#\n",
    "c = 40\n",
    "w = 400\n",
    "ventmax = c + w/2\n",
    "ventmin = c - w/2\n",
    "\n",
    "\n",
    "fig_1 = plt.figure(1, figsize=(10,10))\n",
    "a1 = fig_1.add_subplot(111)\n",
    "a1.imshow(matriz3D[255, :, :].T, cmap='gray', vmin=ventmin, vmax=ventmax)\n",
    "plt.show()\n"
   ]
  },
  {
   "cell_type": "markdown",
   "metadata": {},
   "source": [
    "#### 4 Relación de aspecto\n",
    "\n",
    "Como puede verse,la imagen aparece 'aplastada' en la dirección longitudinal. Esto se debe a que **los vóxeles no son isotrópicos** en CT, es decir, no tienen las mismas dimensiones:"
   ]
  },
  {
   "cell_type": "code",
   "execution_count": null,
   "metadata": {},
   "outputs": [],
   "source": [
    "espaciadoX,espaciadoY = slice0.PixelSpacing\n",
    "espesor = slice0.SliceThickness\n",
    "print('El espesor de corte es de: {:.2f} mm'.format(espesor))\n",
    "print('La dimension en el plano X,Y es de {:.2f} mm x {:.2f} mm '.format(espaciadoX,espaciadoY))"
   ]
  },
  {
   "cell_type": "markdown",
   "metadata": {},
   "source": [
    "Con estos datos podemos definir la relación de aspecto entre el eje Z y el eje X (o Y):\n",
    "\n",
    "$$\n",
    "\\texttt{AspectRatio} = \\frac{\\texttt{PixelSpacing}}{\\texttt{SliceThickness}}\n",
    "$$"
   ]
  },
  {
   "cell_type": "code",
   "execution_count": null,
   "metadata": {
    "scrolled": true
   },
   "outputs": [],
   "source": [
    "aspecto = espesor/espaciadoX\n",
    "print(\"Relación de aspecto:\",aspecto)\n",
    "fig_1 = plt.figure(1, figsize=(15,15))\n",
    "a1 = fig_1.add_subplot(111)\n",
    "a1.imshow(matriz3D[280, :, :].T, cmap='gray', vmin=ventmin, vmax=ventmax)\n",
    "a1.set_aspect(aspecto)\n",
    "a1.set_title('MPR CORONAL')\n",
    "plt.show()"
   ]
  },
  {
   "cell_type": "markdown",
   "metadata": {},
   "source": [
    "\n",
    "### Una cosa más...\n",
    "\n",
    "> **No siempre el orden de los nombres de los archivos DICOM de una CT corresponde con el orden a lo largo del eje Z !!!**\n",
    "\n",
    "En efecto, bien podría ser que al ordenar los archivos por su nombre, como hicimos más arriba, los cortes tomográficos queden desordenados. \n",
    "\n",
    "Por suerte, como vimos antes, `sorted` viene al rescate."
   ]
  },
  {
   "cell_type": "code",
   "execution_count": null,
   "metadata": {},
   "outputs": [],
   "source": [
    "help(sorted)"
   ]
  },
  {
   "cell_type": "markdown",
   "metadata": {},
   "source": [
    "La función `sorted` puede recibir en forma opcional una función que se utilice para ordenar la lista, en el parámetro `key`.\n",
    "\n",
    "En nuestro caso, la función que necesitamos es aquella que nos devuelve el valor de `SliceLocation`, que efectivamente indica la posición del corte a lo largo del eje Z."
   ]
  },
  {
   "cell_type": "code",
   "execution_count": null,
   "metadata": {},
   "outputs": [],
   "source": [
    "def z_mm(archivo):\n",
    "    dcm = pydicom.read_file(archivo)\n",
    "    return dcm.SliceLocation\n",
    "\n",
    "z_mm('../Assets/CT/IM-0001-0145-0001.dcm')"
   ]
  },
  {
   "cell_type": "code",
   "execution_count": null,
   "metadata": {},
   "outputs": [],
   "source": [
    "print(archivos[0:10])"
   ]
  },
  {
   "cell_type": "code",
   "execution_count": null,
   "metadata": {
    "scrolled": true
   },
   "outputs": [],
   "source": [
    "archivos_reordenados = sorted(archivos,key = z_mm, reverse = True)\n",
    "print(archivos_reordenados[0:10])"
   ]
  },
  {
   "cell_type": "code",
   "execution_count": null,
   "metadata": {},
   "outputs": [],
   "source": [
    "dicoms = []\n",
    "for fname in archivos_reordenados:\n",
    "    dicoms.append(pydicom.read_file(fname))\n",
    "\n",
    "print(\"Número de cortes tomográficos:\",len(dicoms))"
   ]
  },
  {
   "cell_type": "code",
   "execution_count": null,
   "metadata": {},
   "outputs": [],
   "source": [
    "for i, slice in enumerate(dicoms):\n",
    "    corte = slice.pixel_array * slice.RescaleSlope + slice.RescaleIntercept\n",
    "    matriz3D[:, :, i] = corte"
   ]
  },
  {
   "cell_type": "code",
   "execution_count": null,
   "metadata": {
    "scrolled": false
   },
   "outputs": [],
   "source": [
    "aspecto = espesor/espaciadoX\n",
    "print(\"Relación de aspecto:\",aspecto)\n",
    "fig_1 = plt.figure(1, figsize=(15,15))\n",
    "a1 = fig_1.add_subplot(111)\n",
    "a1.imshow(matriz3D[280, :, :].T, cmap='gray', vmin=ventmin, vmax=ventmax)\n",
    "a1.set_aspect(aspecto)\n",
    "a1.set_title('MPR CORONAL')\n",
    "plt.show()"
   ]
  }
 ],
 "metadata": {
  "kernelspec": {
   "display_name": "Python 3",
   "language": "python",
   "name": "python3"
  },
  "language_info": {
   "codemirror_mode": {
    "name": "ipython",
    "version": 3
   },
   "file_extension": ".py",
   "mimetype": "text/x-python",
   "name": "python",
   "nbconvert_exporter": "python",
   "pygments_lexer": "ipython3",
   "version": "3.9.16"
  }
 },
 "nbformat": 4,
 "nbformat_minor": 2
}