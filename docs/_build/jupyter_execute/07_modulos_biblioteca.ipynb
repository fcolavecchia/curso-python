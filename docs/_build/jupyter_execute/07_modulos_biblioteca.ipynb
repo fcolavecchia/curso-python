{
 "cells": [
  {
   "cell_type": "markdown",
   "metadata": {
    "ein.tags": "worksheet-0",
    "slideshow": {
     "slide_type": "-"
    }
   },
   "source": [
    "## Algunos módulos (biblioteca standard)  <a class=\"tocSkip\">"
   ]
  },
  {
   "cell_type": "markdown",
   "metadata": {
    "ein.tags": "worksheet-0",
    "slideshow": {
     "slide_type": "-"
    }
   },
   "source": [
    "Los módulos pueden pensarse como bibliotecas de objetos (funciones, datos, etc) que pueden usarse según la necesidad. Hay una biblioteca standard con rutinas para muchas operaciones comunes, y además existen muchos paquetes específicos para distintas tareas. Veamos algunos ejemplos:\n",
    "\n",
    "### Módulo sys\n",
    "\n",
    "Este módulo da acceso a variables que usa o mantiene el intérprete Python"
   ]
  },
  {
   "cell_type": "code",
   "execution_count": 1,
   "metadata": {
    "autoscroll": false,
    "ein.hycell": false,
    "ein.tags": "worksheet-0",
    "slideshow": {
     "slide_type": "-"
    }
   },
   "outputs": [],
   "source": [
    "import sys"
   ]
  },
  {
   "cell_type": "code",
   "execution_count": 2,
   "metadata": {
    "autoscroll": false,
    "ein.hycell": false,
    "ein.tags": "worksheet-0",
    "slideshow": {
     "slide_type": "-"
    }
   },
   "outputs": [
    {
     "data": {
      "text/plain": [
       "['/Users/flavioc/Library/Mobile Documents/com~apple~CloudDocs/Documents/cursos/curso-python/book',\n",
       " '/opt/miniconda3/lib/python39.zip',\n",
       " '/opt/miniconda3/lib/python3.9',\n",
       " '/opt/miniconda3/lib/python3.9/lib-dynload',\n",
       " '',\n",
       " '/opt/miniconda3/lib/python3.9/site-packages']"
      ]
     },
     "execution_count": 2,
     "metadata": {},
     "output_type": "execute_result"
    }
   ],
   "source": [
    "sys.path"
   ]
  },
  {
   "cell_type": "code",
   "execution_count": 3,
   "metadata": {
    "autoscroll": false,
    "ein.hycell": false,
    "ein.tags": "worksheet-0",
    "slideshow": {
     "slide_type": "-"
    }
   },
   "outputs": [
    {
     "data": {
      "text/plain": [
       "'utf-8'"
      ]
     },
     "execution_count": 3,
     "metadata": {},
     "output_type": "execute_result"
    }
   ],
   "source": [
    "sys.getfilesystemencoding()"
   ]
  },
  {
   "cell_type": "code",
   "execution_count": 4,
   "metadata": {
    "autoscroll": false,
    "ein.hycell": false,
    "ein.tags": "worksheet-0",
    "slideshow": {
     "slide_type": "-"
    }
   },
   "outputs": [
    {
     "data": {
      "text/plain": [
       "28"
      ]
     },
     "execution_count": 4,
     "metadata": {},
     "output_type": "execute_result"
    }
   ],
   "source": [
    "sys.getsizeof(1)"
   ]
  },
  {
   "cell_type": "code",
   "execution_count": 5,
   "metadata": {
    "autoscroll": false,
    "ein.hycell": false,
    "ein.tags": "worksheet-0",
    "slideshow": {
     "slide_type": "-"
    }
   },
   "outputs": [
    {
     "name": "stdout",
     "output_type": "stream",
     "text": [
      "Help on built-in function getsizeof in module sys:\n",
      "\n",
      "getsizeof(...)\n",
      "    getsizeof(object [, default]) -> int\n",
      "    \n",
      "    Return the size of object in bytes.\n",
      "\n"
     ]
    }
   ],
   "source": [
    "help(sys.getsizeof)"
   ]
  },
  {
   "cell_type": "markdown",
   "metadata": {
    "ein.tags": "worksheet-0",
    "slideshow": {
     "slide_type": "-"
    }
   },
   "source": [
    "Vemos que para utilizar las variables (path) o funciones (getsizeof) debemos referirlo anteponiendo el módulo en el cuál está definido (sys) y separado por un punto.\n",
    "\n",
    "Cuando hacemos un programa, con definición de variables y funciones. Podemos utilizarlo como un módulo, de la misma manera que los que ya vienen definidos en la biblioteca standard o en los paquetes que instalamos."
   ]
  },
  {
   "cell_type": "markdown",
   "metadata": {
    "ein.tags": "worksheet-0",
    "slideshow": {
     "slide_type": "-"
    }
   },
   "source": [
    "### Módulo `os`\n",
    "\n",
    "El módulo `os` tiene utilidades para operar sobre nombres de archivos y directorios de manera segura y portable, de manera que pueda utilizarse en distintos sistemas operativos. Vamos a ver ejemplos de uso de algunas facilidades que brinda:"
   ]
  },
  {
   "cell_type": "code",
   "execution_count": 6,
   "metadata": {
    "autoscroll": false,
    "ein.hycell": false,
    "ein.tags": "worksheet-0",
    "slideshow": {
     "slide_type": "-"
    }
   },
   "outputs": [
    {
     "name": "stdout",
     "output_type": "stream",
     "text": [
      ".\n",
      "..\n",
      "/Users/flavioc/Library/Mobile Documents/com~apple~CloudDocs/Documents/cursos/curso-python/book\n"
     ]
    }
   ],
   "source": [
    "import os\n",
    "\n",
    "print(os.curdir)\n",
    "print(os.pardir)\n",
    "print (os.getcwd())"
   ]
  },
  {
   "cell_type": "code",
   "execution_count": 7,
   "metadata": {
    "autoscroll": false,
    "ein.hycell": false,
    "ein.tags": "worksheet-0",
    "slideshow": {
     "slide_type": "-"
    }
   },
   "outputs": [
    {
     "name": "stdout",
     "output_type": "stream",
     "text": [
      "/Users/flavioc/Library/Mobile Documents/com~apple~CloudDocs/Documents/cursos/curso-python/book\n",
      "/Users/flavioc/Library/Mobile Documents/com~apple~CloudDocs/Documents/cursos/curso-python\n"
     ]
    }
   ],
   "source": [
    "cur = os.getcwd()\n",
    "par = os.path.abspath(\"..\")\n",
    "print(cur)\n",
    "print(par)\n"
   ]
  },
  {
   "cell_type": "code",
   "execution_count": 8,
   "metadata": {
    "autoscroll": false,
    "ein.hycell": false,
    "ein.tags": "worksheet-0",
    "slideshow": {
     "slide_type": "-"
    }
   },
   "outputs": [
    {
     "name": "stdout",
     "output_type": "stream",
     "text": [
      "/Users/flavioc/Library/Mobile Documents/com~apple~CloudDocs/Documents/cursos/curso-python/book\n",
      "/Users/flavioc/Library/Mobile Documents/com~apple~CloudDocs/Documents/cursos/curso-python/book\n"
     ]
    }
   ],
   "source": [
    "print(os.path.abspath(os.curdir))\n",
    "print(os.getcwd())"
   ]
  },
  {
   "cell_type": "code",
   "execution_count": 9,
   "metadata": {
    "autoscroll": false,
    "ein.hycell": false,
    "ein.tags": "worksheet-0",
    "slideshow": {
     "slide_type": "-"
    }
   },
   "outputs": [
    {
     "name": "stdout",
     "output_type": "stream",
     "text": [
      "book\n",
      "('', '/Users/flavioc/Library/Mobile Documents/com~apple~CloudDocs/Documents/cursos/curso-python/book')\n"
     ]
    }
   ],
   "source": [
    "print(os.path.basename(cur))\n",
    "print(os.path.splitdrive(cur))"
   ]
  },
  {
   "cell_type": "code",
   "execution_count": 10,
   "metadata": {
    "autoscroll": false,
    "ein.hycell": false,
    "ein.tags": "worksheet-0",
    "slideshow": {
     "slide_type": "-"
    }
   },
   "outputs": [
    {
     "name": "stdout",
     "output_type": "stream",
     "text": [
      "/Users/flavioc/Library/Mobile Documents/com~apple~CloudDocs/Documents/cursos/curso-python\n",
      "/Users/flavioc/Library/Mobile Documents/com~apple~CloudDocs/Documents/cursos/curso-python/este/otro.dat\n",
      "('/Users/flavioc/Library/Mobile Documents/com~apple~CloudDocs/Documents/cursos/curso-python/este', 'otro.dat')\n",
      "('/Users/flavioc/Library/Mobile Documents/com~apple~CloudDocs/Documents/cursos/curso-python/este/otro', '.dat')\n",
      "False\n",
      "True\n"
     ]
    }
   ],
   "source": [
    "print(os.path.commonprefix((cur, par)))\n",
    "archivo = os.path.join(par,'este' , 'otro.dat')\n",
    "print (archivo)\n",
    "print (os.path.split(archivo))\n",
    "print (os.path.splitext(archivo))\n",
    "print (os.path.exists(archivo))\n",
    "print (os.path.exists(cur))\n"
   ]
  },
  {
   "cell_type": "markdown",
   "metadata": {
    "ein.tags": "worksheet-0",
    "slideshow": {
     "slide_type": "-"
    }
   },
   "source": [
    "Como es aparente de estos ejemplos, se puede acceder a todos los objetos (funciones, variables) de un módulo utilizando simplemente la línea `import <modulo>` pero puede ser tedioso escribir todo con prefijos (como `os.path.abspath`) por lo que existen dos alternativas que pueden ser más convenientes. La primera corresponde a importar todas las definiciones de un módulo en forma implícita:"
   ]
  },
  {
   "cell_type": "code",
   "execution_count": 11,
   "metadata": {
    "autoscroll": false,
    "ein.hycell": false,
    "ein.tags": "worksheet-0",
    "slideshow": {
     "slide_type": "-"
    }
   },
   "outputs": [],
   "source": [
    "from os import *"
   ]
  },
  {
   "cell_type": "markdown",
   "metadata": {
    "ein.tags": "worksheet-0",
    "slideshow": {
     "slide_type": "-"
    }
   },
   "source": [
    "Después de esta declaración usamos los objetos de la misma manera que antes pero obviando la parte de `os.`"
   ]
  },
  {
   "cell_type": "code",
   "execution_count": 12,
   "metadata": {
    "autoscroll": false,
    "ein.hycell": false,
    "ein.tags": "worksheet-0",
    "slideshow": {
     "slide_type": "-"
    }
   },
   "outputs": [
    {
     "data": {
      "text/plain": [
       "'/Users/flavioc/Library/Mobile Documents/com~apple~CloudDocs/Documents/cursos/curso-python/book'"
      ]
     },
     "execution_count": 12,
     "metadata": {},
     "output_type": "execute_result"
    }
   ],
   "source": [
    "path.abspath(curdir)"
   ]
  },
  {
   "cell_type": "markdown",
   "metadata": {
    "ein.tags": "worksheet-0",
    "slideshow": {
     "slide_type": "-"
    }
   },
   "source": [
    "Esto es conveniente en algunos casos pero no suele ser una buena idea en programas largos ya que distintos módulos pueden definir el mismo nombre, y se pierde información sobre su origen. Una alternativa que es conveniente y permite mantener mejor control es importar explícitamente lo que vamos a usar:"
   ]
  },
  {
   "cell_type": "code",
   "execution_count": 13,
   "metadata": {
    "autoscroll": false,
    "ein.hycell": false,
    "ein.tags": "worksheet-0",
    "slideshow": {
     "slide_type": "-"
    }
   },
   "outputs": [
    {
     "name": "stdout",
     "output_type": "stream",
     "text": [
      "/Users/flavioc/Library/Mobile Documents/com~apple~CloudDocs/Documents/cursos/curso-python\n",
      "/Users/flavioc/Library/Mobile Documents/com~apple~CloudDocs/Documents/cursos/curso-python/book\n",
      "/Users/flavioc/Library/Mobile Documents/com~apple~CloudDocs/Documents/cursos/curso-python/book\n"
     ]
    }
   ],
   "source": [
    "from os import curdir, pardir, getcwd\n",
    "from os.path import abspath\n",
    "print(abspath(pardir))\n",
    "print(abspath(curdir))\n",
    "print(abspath(getcwd()))\n"
   ]
  },
  {
   "cell_type": "markdown",
   "metadata": {
    "ein.tags": "worksheet-0",
    "slideshow": {
     "slide_type": "-"
    }
   },
   "source": [
    "Además podemos darle un nombre diferente al importar módulos u objetos"
   ]
  },
  {
   "cell_type": "code",
   "execution_count": 14,
   "metadata": {
    "autoscroll": false,
    "ein.hycell": false,
    "ein.tags": "worksheet-0",
    "slideshow": {
     "slide_type": "-"
    }
   },
   "outputs": [],
   "source": [
    "import os.path as path\n",
    "from os import getenv as ge\n"
   ]
  },
  {
   "cell_type": "code",
   "execution_count": 15,
   "metadata": {
    "autoscroll": false,
    "ein.hycell": false,
    "ein.tags": "worksheet-0",
    "slideshow": {
     "slide_type": "-"
    }
   },
   "outputs": [
    {
     "name": "stdout",
     "output_type": "stream",
     "text": [
      "Help on function getenv in module os:\n",
      "\n",
      "getenv(key, default=None)\n",
      "    Get an environment variable, return None if it doesn't exist.\n",
      "    The optional second argument can specify an alternate default.\n",
      "    key, default and the result are str.\n",
      "\n"
     ]
    }
   ],
   "source": [
    "help(ge)"
   ]
  },
  {
   "cell_type": "code",
   "execution_count": 16,
   "metadata": {
    "autoscroll": false,
    "ein.hycell": false,
    "ein.tags": "worksheet-0",
    "slideshow": {
     "slide_type": "-"
    }
   },
   "outputs": [
    {
     "data": {
      "text/plain": [
       "'/Users/flavioc'"
      ]
     },
     "execution_count": 16,
     "metadata": {},
     "output_type": "execute_result"
    }
   ],
   "source": [
    "ge('HOME')"
   ]
  },
  {
   "cell_type": "code",
   "execution_count": 17,
   "metadata": {
    "autoscroll": false,
    "ein.hycell": false,
    "ein.tags": "worksheet-0",
    "slideshow": {
     "slide_type": "-"
    }
   },
   "outputs": [
    {
     "data": {
      "text/plain": [
       "'/Users/flavioc/Library/Mobile Documents/com~apple~CloudDocs/Documents/cursos/curso-python/book'"
      ]
     },
     "execution_count": 17,
     "metadata": {},
     "output_type": "execute_result"
    }
   ],
   "source": [
    "path.realpath(curdir)"
   ]
  },
  {
   "cell_type": "markdown",
   "metadata": {
    "ein.tags": "worksheet-0",
    "slideshow": {
     "slide_type": "-"
    }
   },
   "source": [
    "Acá hemos importado el módulo `os.path` (es un sub-módulo) como `path` y la función `getenv` del módulo `os` y la hemos renombrado `ge`."
   ]
  },
  {
   "cell_type": "code",
   "execution_count": 18,
   "metadata": {
    "autoscroll": false,
    "collapsed": true,
    "ein.hycell": false,
    "ein.tags": "worksheet-0",
    "slideshow": {
     "slide_type": "-"
    }
   },
   "outputs": [
    {
     "name": "stdout",
     "output_type": "stream",
     "text": [
      "Help on function walk in module os:\n",
      "\n",
      "walk(top, topdown=True, onerror=None, followlinks=False)\n",
      "    Directory tree generator.\n",
      "    \n",
      "    For each directory in the directory tree rooted at top (including top\n",
      "    itself, but excluding '.' and '..'), yields a 3-tuple\n",
      "    \n",
      "        dirpath, dirnames, filenames\n",
      "    \n",
      "    dirpath is a string, the path to the directory.  dirnames is a list of\n",
      "    the names of the subdirectories in dirpath (excluding '.' and '..').\n",
      "    filenames is a list of the names of the non-directory files in dirpath.\n",
      "    Note that the names in the lists are just names, with no path components.\n",
      "    To get a full path (which begins with top) to a file or directory in\n",
      "    dirpath, do os.path.join(dirpath, name).\n",
      "    \n",
      "    If optional arg 'topdown' is true or not specified, the triple for a\n",
      "    directory is generated before the triples for any of its subdirectories\n",
      "    (directories are generated top down).  If topdown is false, the triple\n",
      "    for a directory is generated after the triples for all of its\n",
      "    subdirectories (directories are generated bottom up).\n",
      "    \n",
      "    When topdown is true, the caller can modify the dirnames list in-place\n",
      "    (e.g., via del or slice assignment), and walk will only recurse into the\n",
      "    subdirectories whose names remain in dirnames; this can be used to prune the\n",
      "    search, or to impose a specific order of visiting.  Modifying dirnames when\n",
      "    topdown is false has no effect on the behavior of os.walk(), since the\n",
      "    directories in dirnames have already been generated by the time dirnames\n",
      "    itself is generated. No matter the value of topdown, the list of\n",
      "    subdirectories is retrieved before the tuples for the directory and its\n",
      "    subdirectories are generated.\n",
      "    \n",
      "    By default errors from the os.scandir() call are ignored.  If\n",
      "    optional arg 'onerror' is specified, it should be a function; it\n",
      "    will be called with one argument, an OSError instance.  It can\n",
      "    report the error to continue with the walk, or raise the exception\n",
      "    to abort the walk.  Note that the filename is available as the\n",
      "    filename attribute of the exception object.\n",
      "    \n",
      "    By default, os.walk does not follow symbolic links to subdirectories on\n",
      "    systems that support them.  In order to get this functionality, set the\n",
      "    optional argument 'followlinks' to true.\n",
      "    \n",
      "    Caution:  if you pass a relative pathname for top, don't change the\n",
      "    current working directory between resumptions of walk.  walk never\n",
      "    changes the current directory, and assumes that the client doesn't\n",
      "    either.\n",
      "    \n",
      "    Example:\n",
      "    \n",
      "    import os\n",
      "    from os.path import join, getsize\n",
      "    for root, dirs, files in os.walk('python/Lib/email'):\n",
      "        print(root, \"consumes\", end=\"\")\n",
      "        print(sum(getsize(join(root, name)) for name in files), end=\"\")\n",
      "        print(\"bytes in\", len(files), \"non-directory files\")\n",
      "        if 'CVS' in dirs:\n",
      "            dirs.remove('CVS')  # don't visit CVS directories\n",
      "\n"
     ]
    }
   ],
   "source": [
    "help(os.walk)"
   ]
  },
  {
   "cell_type": "code",
   "execution_count": 19,
   "metadata": {
    "autoscroll": false,
    "collapsed": true,
    "ein.hycell": false,
    "ein.tags": "worksheet-0",
    "slideshow": {
     "slide_type": "-"
    }
   },
   "outputs": [
    {
     "name": "stdout",
     "output_type": "stream",
     "text": [
      "./ consume 6134.8798828125 kbytes en  50 non-directory files\n",
      "./_build consume 0.0 kbytes en  0 non-directory files\n",
      "./_build/html consume 8507.8349609375 kbytes en  49 non-directory files\n",
      "./_build/html/_sources consume 5897.48828125 kbytes en  43 non-directory files\n",
      "./_build/html/_static consume 656.8349609375 kbytes en  29 non-directory files\n",
      "./_build/html/_static/locales consume 0.0 kbytes en  0 non-directory files\n",
      "./_build/html/_static/locales/sl consume 0.0 kbytes en  0 non-directory files\n",
      "./_build/html/_static/locales/sl/LC_MESSAGES consume 2.603515625 kbytes en  2 non-directory files\n",
      "./_build/html/_static/locales/sk consume 0.0 kbytes en  0 non-directory files\n",
      "./_build/html/_static/locales/sk/LC_MESSAGES consume 2.640625 kbytes en  2 non-directory files\n",
      "./_build/html/_static/locales/ur consume 0.0 kbytes en  0 non-directory files\n",
      "./_build/html/_static/locales/ur/LC_MESSAGES consume 2.77734375 kbytes en  2 non-directory files\n",
      "./_build/html/_static/locales/pl consume 0.0 kbytes en  0 non-directory files\n",
      "./_build/html/_static/locales/pl/LC_MESSAGES consume 2.59765625 kbytes en  2 non-directory files\n",
      "./_build/html/_static/locales/vi consume 0.0 kbytes en  0 non-directory files\n",
      "./_build/html/_static/locales/vi/LC_MESSAGES consume 2.71484375 kbytes en  2 non-directory files\n",
      "./_build/html/_static/locales/sv consume 0.0 kbytes en  0 non-directory files\n",
      "./_build/html/_static/locales/sv/LC_MESSAGES consume 2.5546875 kbytes en  2 non-directory files\n",
      "./_build/html/_static/locales/ms consume 0.0 kbytes en  0 non-directory files\n",
      "./_build/html/_static/locales/ms/LC_MESSAGES consume 2.291015625 kbytes en  2 non-directory files\n",
      "./_build/html/_static/locales/da consume 0.0 kbytes en  0 non-directory files\n",
      "./_build/html/_static/locales/da/LC_MESSAGES consume 2.466796875 kbytes en  2 non-directory files\n",
      "./_build/html/_static/locales/mr consume 0.0 kbytes en  0 non-directory files\n",
      "./_build/html/_static/locales/mr/LC_MESSAGES consume 3.19140625 kbytes en  2 non-directory files\n",
      "./_build/html/_static/locales/no consume 0.0 kbytes en  0 non-directory files\n",
      "./_build/html/_static/locales/no/LC_MESSAGES consume 2.4921875 kbytes en  2 non-directory files\n",
      "./_build/html/_static/locales/ja consume 0.0 kbytes en  0 non-directory files\n",
      "./_build/html/_static/locales/ja/LC_MESSAGES consume 2.79296875 kbytes en  2 non-directory files\n",
      "./_build/html/_static/locales/el consume 0.0 kbytes en  0 non-directory files\n",
      "./_build/html/_static/locales/el/LC_MESSAGES consume 3.283203125 kbytes en  2 non-directory files\n",
      "./_build/html/_static/locales/lv consume 0.0 kbytes en  0 non-directory files\n",
      "./_build/html/_static/locales/lv/LC_MESSAGES consume 2.662109375 kbytes en  2 non-directory files\n",
      "./_build/html/_static/locales/it consume 0.0 kbytes en  0 non-directory files\n",
      "./_build/html/_static/locales/it/LC_MESSAGES consume 2.66015625 kbytes en  2 non-directory files\n",
      "./_build/html/_static/locales/ca consume 0.0 kbytes en  0 non-directory files\n",
      "./_build/html/_static/locales/ca/LC_MESSAGES consume 2.35546875 kbytes en  2 non-directory files\n",
      "./_build/html/_static/locales/zh_TW consume 0.0 kbytes en  0 non-directory files\n",
      "./_build/html/_static/locales/zh_TW/LC_MESSAGES consume 2.5390625 kbytes en  2 non-directory files\n",
      "./_build/html/_static/locales/cs consume 0.0 kbytes en  0 non-directory files\n",
      "./_build/html/_static/locales/cs/LC_MESSAGES consume 2.6640625 kbytes en  2 non-directory files\n",
      "./_build/html/_static/locales/te consume 0.0 kbytes en  0 non-directory files\n",
      "./_build/html/_static/locales/te/LC_MESSAGES consume 3.44921875 kbytes en  2 non-directory files\n",
      "./_build/html/_static/locales/ru consume 0.0 kbytes en  0 non-directory files\n",
      "./_build/html/_static/locales/ru/LC_MESSAGES consume 3.283203125 kbytes en  2 non-directory files\n",
      "./_build/html/_static/locales/tl consume 0.0 kbytes en  0 non-directory files\n",
      "./_build/html/_static/locales/tl/LC_MESSAGES consume 2.408203125 kbytes en  2 non-directory files\n",
      "./_build/html/_static/locales/ro consume 0.0 kbytes en  0 non-directory files\n",
      "./_build/html/_static/locales/ro/LC_MESSAGES consume 2.634765625 kbytes en  2 non-directory files\n",
      "./_build/html/_static/locales/zh_CN consume 0.0 kbytes en  0 non-directory files\n",
      "./_build/html/_static/locales/zh_CN/LC_MESSAGES consume 2.478515625 kbytes en  2 non-directory files\n",
      "./_build/html/_static/locales/pt consume 0.0 kbytes en  0 non-directory files\n",
      "./_build/html/_static/locales/pt/LC_MESSAGES consume 2.583984375 kbytes en  2 non-directory files\n",
      "./_build/html/_static/locales/uk consume 0.0 kbytes en  0 non-directory files\n",
      "./_build/html/_static/locales/uk/LC_MESSAGES consume 3.205078125 kbytes en  2 non-directory files\n",
      "./_build/html/_static/locales/sr consume 0.0 kbytes en  0 non-directory files\n",
      "./_build/html/_static/locales/sr/LC_MESSAGES consume 3.19921875 kbytes en  2 non-directory files\n",
      "./_build/html/_static/locales/ml consume 0.0 kbytes en  0 non-directory files\n",
      "./_build/html/_static/locales/ml/LC_MESSAGES consume 3.599609375 kbytes en  2 non-directory files\n",
      "./_build/html/_static/locales/ar consume 0.0 kbytes en  0 non-directory files\n",
      "./_build/html/_static/locales/ar/LC_MESSAGES consume 2.9296875 kbytes en  2 non-directory files\n",
      "./_build/html/_static/locales/hr consume 0.0 kbytes en  0 non-directory files\n",
      "./_build/html/_static/locales/hr/LC_MESSAGES consume 2.658203125 kbytes en  2 non-directory files\n",
      "./_build/html/_static/locales/nl consume 0.0 kbytes en  0 non-directory files\n",
      "./_build/html/_static/locales/nl/LC_MESSAGES consume 2.568359375 kbytes en  2 non-directory files\n",
      "./_build/html/_static/locales/bg consume 0.0 kbytes en  0 non-directory files\n",
      "./_build/html/_static/locales/bg/LC_MESSAGES consume 3.255859375 kbytes en  2 non-directory files\n",
      "./_build/html/_static/locales/bn consume 0.0 kbytes en  0 non-directory files\n",
      "./_build/html/_static/locales/bn/LC_MESSAGES consume 3.134765625 kbytes en  2 non-directory files\n",
      "./_build/html/_static/locales/de consume 0.0 kbytes en  0 non-directory files\n",
      "./_build/html/_static/locales/de/LC_MESSAGES consume 2.630859375 kbytes en  2 non-directory files\n",
      "./_build/html/_static/locales/ko consume 0.0 kbytes en  0 non-directory files\n",
      "./_build/html/_static/locales/ko/LC_MESSAGES consume 2.60546875 kbytes en  2 non-directory files\n",
      "./_build/html/_static/locales/fi consume 0.0 kbytes en  0 non-directory files\n",
      "./_build/html/_static/locales/fi/LC_MESSAGES consume 2.591796875 kbytes en  2 non-directory files\n",
      "./_build/html/_static/locales/eo consume 0.0 kbytes en  0 non-directory files\n",
      "./_build/html/_static/locales/eo/LC_MESSAGES consume 2.53125 kbytes en  2 non-directory files\n",
      "./_build/html/_static/locales/id consume 0.0 kbytes en  0 non-directory files\n",
      "./_build/html/_static/locales/id/LC_MESSAGES consume 2.50390625 kbytes en  2 non-directory files\n",
      "./_build/html/_static/locales/fr consume 0.0 kbytes en  0 non-directory files\n",
      "./_build/html/_static/locales/fr/LC_MESSAGES consume 2.677734375 kbytes en  2 non-directory files\n",
      "./_build/html/_static/locales/es consume 0.0 kbytes en  0 non-directory files\n",
      "./_build/html/_static/locales/es/LC_MESSAGES consume 2.646484375 kbytes en  2 non-directory files\n",
      "./_build/html/_static/locales/et consume 0.0 kbytes en  0 non-directory files\n",
      "./_build/html/_static/locales/et/LC_MESSAGES consume 2.5390625 kbytes en  2 non-directory files\n",
      "./_build/html/_static/locales/lt consume 0.0 kbytes en  0 non-directory files\n",
      "./_build/html/_static/locales/lt/LC_MESSAGES consume 2.6796875 kbytes en  2 non-directory files\n",
      "./_build/html/_static/locales/iw consume 0.0 kbytes en  0 non-directory files\n",
      "./_build/html/_static/locales/iw/LC_MESSAGES consume 2.7421875 kbytes en  2 non-directory files\n",
      "./_build/html/_static/locales/ta consume 0.0 kbytes en  0 non-directory files\n",
      "./_build/html/_static/locales/ta/LC_MESSAGES consume 3.6875 kbytes en  2 non-directory files\n",
      "./_build/html/_static/locales/th consume 0.0 kbytes en  0 non-directory files\n",
      "./_build/html/_static/locales/th/LC_MESSAGES consume 3.369140625 kbytes en  2 non-directory files\n",
      "./_build/html/_static/locales/tr consume 0.0 kbytes en  0 non-directory files\n",
      "./_build/html/_static/locales/tr/LC_MESSAGES consume 2.6015625 kbytes en  2 non-directory files\n",
      "./_build/html/_static/locales/tg consume 0.0 kbytes en  0 non-directory files\n",
      "./_build/html/_static/locales/tg/LC_MESSAGES consume 3.099609375 kbytes en  2 non-directory files\n",
      "./_build/html/_static/images consume 10.962890625 kbytes en  4 non-directory files\n",
      "./_build/html/_static/styles consume 247.990234375 kbytes en  4 non-directory files\n",
      "./_build/html/_static/scripts consume 446.33984375 kbytes en  7 non-directory files\n",
      "./_build/html/_static/vendor consume 0.0 kbytes en  0 non-directory files\n",
      "./_build/html/_static/vendor/fontawesome consume 0.0 kbytes en  0 non-directory files\n",
      "./_build/html/_static/vendor/fontawesome/6.1.2 consume 7.2529296875 kbytes en  1 non-directory files\n",
      "./_build/html/_static/vendor/fontawesome/6.1.2/css consume 99.3076171875 kbytes en  1 non-directory files\n",
      "./_build/html/_static/vendor/fontawesome/6.1.2/webfonts consume 908.484375 kbytes en  8 non-directory files\n",
      "./_build/html/_images consume 4358.7158203125 kbytes en  68 non-directory files\n",
      "./_build/html/_sphinx_design_static consume 48.0341796875 kbytes en  2 non-directory files\n",
      "./_build/html/reports consume 77.6171875 kbytes en  22 non-directory files\n",
      "./_build/jupyter_execute consume 18195.8720703125 kbytes en  109 non-directory files\n",
      "./_build/.doctrees consume 13516.1845703125 kbytes en  44 non-directory files\n"
     ]
    }
   ],
   "source": [
    "import os\n",
    "from os.path import join, getsize\n",
    "for root, dirs, files in os.walk('./'):\n",
    "    print(root, \"consume \", end=\"\")\n",
    "    print(sum([getsize(join(root, name)) for name in files])/1024, end=\"\")\n",
    "    print(\" kbytes en \", len(files), \"non-directory files\")\n",
    "    if '.ipynb_checkpoints' in dirs:\n",
    "        dirs.remove('.ipynb_checkpoints')  # don't visit CVS directories"
   ]
  },
  {
   "cell_type": "markdown",
   "metadata": {
    "ein.tags": "worksheet-0",
    "slideshow": {
     "slide_type": "-"
    }
   },
   "source": [
    "### Módulo `glob`\n",
    "\n",
    "El módulo `glob` encuentra nombres de archivos (o directorios) utilizando patrones similares a los de la consola. La función más utilizada es `glob.glob()`\n",
    "Veamos algunos ejemplos de uso:"
   ]
  },
  {
   "cell_type": "code",
   "execution_count": 20,
   "metadata": {
    "autoscroll": false,
    "ein.hycell": false,
    "ein.tags": "worksheet-0",
    "slideshow": {
     "slide_type": "-"
    }
   },
   "outputs": [],
   "source": [
    "import glob"
   ]
  },
  {
   "cell_type": "code",
   "execution_count": 21,
   "metadata": {
    "autoscroll": false,
    "ein.hycell": false,
    "ein.tags": "worksheet-0",
    "slideshow": {
     "slide_type": "-"
    }
   },
   "outputs": [],
   "source": [
    "nb_clase4= glob.glob('04*.ipynb')"
   ]
  },
  {
   "cell_type": "code",
   "execution_count": 22,
   "metadata": {
    "autoscroll": false,
    "ein.hycell": false,
    "ein.tags": "worksheet-0",
    "slideshow": {
     "slide_type": "-"
    }
   },
   "outputs": [
    {
     "data": {
      "text/plain": [
       "[]"
      ]
     },
     "execution_count": 22,
     "metadata": {},
     "output_type": "execute_result"
    }
   ],
   "source": [
    "nb_clase4"
   ]
  },
  {
   "cell_type": "code",
   "execution_count": 23,
   "metadata": {
    "autoscroll": false,
    "ein.hycell": false,
    "ein.tags": "worksheet-0",
    "slideshow": {
     "slide_type": "-"
    }
   },
   "outputs": [],
   "source": [
    "nb_clase4.sort()"
   ]
  },
  {
   "cell_type": "code",
   "execution_count": 24,
   "metadata": {
    "autoscroll": false,
    "ein.hycell": false,
    "ein.tags": "worksheet-0",
    "slideshow": {
     "slide_type": "-"
    }
   },
   "outputs": [
    {
     "data": {
      "text/plain": [
       "[]"
      ]
     },
     "execution_count": 24,
     "metadata": {},
     "output_type": "execute_result"
    }
   ],
   "source": [
    "nb_clase4"
   ]
  },
  {
   "cell_type": "code",
   "execution_count": 25,
   "metadata": {
    "autoscroll": false,
    "ein.hycell": false,
    "ein.tags": "worksheet-0",
    "slideshow": {
     "slide_type": "-"
    }
   },
   "outputs": [],
   "source": [
    "nb_clases1a4 = glob.glob('0[0-4]*.ipynb')"
   ]
  },
  {
   "cell_type": "code",
   "execution_count": 26,
   "metadata": {
    "autoscroll": false,
    "ein.hycell": false,
    "ein.tags": "worksheet-0",
    "slideshow": {
     "slide_type": "-"
    }
   },
   "outputs": [
    {
     "data": {
      "text/plain": [
       "[]"
      ]
     },
     "execution_count": 26,
     "metadata": {},
     "output_type": "execute_result"
    }
   ],
   "source": [
    "nb_clases1a4"
   ]
  },
  {
   "cell_type": "code",
   "execution_count": 27,
   "metadata": {
    "autoscroll": false,
    "ein.hycell": false,
    "ein.tags": "worksheet-0",
    "slideshow": {
     "slide_type": "-"
    }
   },
   "outputs": [],
   "source": [
    "for f in sorted(nb_clases1a4):\n",
    "  print('Clase en archivo {}'.format(f))"
   ]
  },
  {
   "cell_type": "markdown",
   "metadata": {
    "ein.tags": "worksheet-0",
    "slideshow": {
     "slide_type": "-"
    }
   },
   "source": [
    "### Módulo `re`\n",
    "Este módulo provee la infraestructura para trabajar con *regular expressions*, es decir para encontrar expresiones que verifican \"cierta forma general\". Veamos algunos conceptos básicos y casos más comunes de uso."
   ]
  },
  {
   "cell_type": "markdown",
   "metadata": {
    "ein.tags": "worksheet-0",
    "slideshow": {
     "slide_type": "-"
    }
   },
   "source": [
    "#### Búsqueda de un patrón en un texto\n",
    "\n",
    "Empecemos con un ejemplo bastante común. Para encontrar un patrón en un texto podemos utilizar el método `search()`\n"
   ]
  },
  {
   "cell_type": "code",
   "execution_count": 28,
   "metadata": {
    "autoscroll": false,
    "ein.hycell": false,
    "ein.tags": "worksheet-0",
    "slideshow": {
     "slide_type": "-"
    }
   },
   "outputs": [],
   "source": [
    "import re"
   ]
  },
  {
   "cell_type": "code",
   "execution_count": 29,
   "metadata": {
    "autoscroll": false,
    "ein.hycell": false,
    "ein.tags": "worksheet-0",
    "slideshow": {
     "slide_type": "-"
    }
   },
   "outputs": [
    {
     "name": "stdout",
     "output_type": "stream",
     "text": [
      "Encontré \"un\"\n",
      "en:\n",
      "  \"Otra vez vamos a usar \"Hola Mundo\"\"\n",
      "En las posiciones 29 a 31\n"
     ]
    }
   ],
   "source": [
    "busca = 'un'\n",
    "texto = 'Otra vez vamos a usar \"Hola Mundo\"'\n",
    "\n",
    "match = re.search(busca, texto)\n",
    "\n",
    "print('Encontré \"{}\"\\nen:\\n  \"{}\"'.format(match.re.pattern, match.string))\n",
    "print('En las posiciones {} a {}'.format(match.start(), match.end()))"
   ]
  },
  {
   "cell_type": "markdown",
   "metadata": {
    "ein.tags": "worksheet-0",
    "slideshow": {
     "slide_type": "-"
    }
   },
   "source": [
    "Acá buscamos una expresión (el substring \"un\"). Esto es útil pero no muy diferente a utilizar los métodos de strings. Veamos como se definen los patrones."
   ]
  },
  {
   "attachments": {},
   "cell_type": "markdown",
   "metadata": {
    "ein.tags": "worksheet-0",
    "slideshow": {
     "slide_type": "-"
    }
   },
   "source": [
    "#### Definición de expresiones\n",
    "\n",
    "Vamos a buscar un patrón en un texto. Veamos cómo se definen los patrones a buscar.\n",
    "\n",
    "- La mayoría de los caracteres se identifican consigo mismo (si quiero encontrar \"gato\", uso como patrón \"gato\")\n",
    "\n",
    "- Hay unos pocos caracteres especiales (metacaracteres) que tienen un significado especial, estos son:\n",
    "  ```\n",
    "  . ^ $ * + ? { } [ ] \\ | ( )\n",
    "  ```\n",
    "\n",
    "- Si queremos encontrar uno de los metacaracteres, tenemos que precederlos de `\\`. Por ejemplo si queremos encontrar un corchete usamos `\\[`\n",
    "\n",
    "- Los corchetes \"[\" y \"]\" se usan para definir una clase de caracteres, que es un conjunto de caracteres que uno quiere encontrar.\n",
    "\n",
    "  - Los caracteres a encontrar se pueden dar individualmente. Por ejemplo `[gato]` encontrará cualquiera de `g`, `a`, `t`, `o`.\n",
    "  - Un rango de caracteres se puede dar dando dos caracteres separados por un guión. Por ejemplo `[a-z]` dará cualquier letra entre \"a\" y \"z\". Similarmente `[0-5][0-9]` dará cualquier número entre \"00\" y \"59\".\n",
    "  - Los metacaracteres pierden su significado especial dentro de los corchetes. Por ejemplo `[.*)]` encontrará cualquiera de \".\", \"*\", \")\".\n",
    "\n",
    "- El punto `.` indica *cualquier caracter*\n",
    "\n",
    "- Los símbolos `*`, `+`, `?` indican repetición:\n",
    "\n",
    "  - `?`: Indica 0 o 1 aparición de lo anterior\n",
    "  - `*`: Indica 0 o más apariciones de lo anterior\n",
    "  - `+`: Indica 1 o más apariciones de lo anterior\n",
    "\n",
    "- Para encontrar una cantidad determinada de caracteres, se puede agregar dicha cantidad entre llaves `{}`. Por ejemplo, `[a-z]{3}` resultará en cualquier string de exactamente tres letras minúsculas.  "
   ]
  },
  {
   "cell_type": "code",
   "execution_count": 30,
   "metadata": {
    "autoscroll": false,
    "ein.hycell": false,
    "ein.tags": "worksheet-0",
    "slideshow": {
     "slide_type": "-"
    }
   },
   "outputs": [
    {
     "name": "stdout",
     "output_type": "stream",
     "text": [
      "['nombre@server.com', ' apellido@server1.com', ' nombre1995@server.com', ' UnNombreyApellido', ' nombre.apellido82@servidor.com.ar', ' Nombre.Apellido82@servidor.com.ar'] \n",
      "\n",
      "Para la línea: nombre@server.com\n",
      "   Encontré la dirección de correo: nombre@server.com\n",
      "Para la línea:  apellido@server1.com\n",
      "   No encontré dirección de correo!\n",
      "Para la línea:  nombre1995@server.com\n",
      "   No encontré dirección de correo!\n",
      "Para la línea:  UnNombreyApellido\n",
      "   No encontré dirección de correo!\n",
      "Para la línea:  nombre.apellido82@servidor.com.ar\n",
      "   No encontré dirección de correo!\n",
      "Para la línea:  Nombre.Apellido82@servidor.com.ar\n",
      "   No encontré dirección de correo!\n"
     ]
    }
   ],
   "source": [
    "busca = \"[a-z]+@[a-z]+\\.[a-z]+\" # Un patrón para buscar direcciones de email\n",
    "texto = \"nombre@server.com, apellido@server1.com, nombre1995@server.com, UnNombreyApellido, nombre.apellido82@servidor.com.ar, Nombre.Apellido82@servidor.com.ar\".split(',')\n",
    "print(texto,'\\n')\n",
    "\n",
    "for direc in texto:\n",
    "  m= re.search(busca, direc)\n",
    "  print('Para la línea:', direc)\n",
    "  if m is None:\n",
    "    print('   No encontré dirección de correo!')\n",
    "  else:\n",
    "    print('   Encontré la dirección de correo:', m.string)\n",
    "\n"
   ]
  },
  {
   "cell_type": "markdown",
   "metadata": {
    "ein.tags": "worksheet-0",
    "slideshow": {
     "slide_type": "-"
    }
   },
   "source": [
    "- Acá la expresión `[a-z]` significa todos los caracteres en el rango \"a\" hasta \"z\".\n",
    "- `[a-z]+` significa cualquier secuencia de una letra o más.\n",
    "\n",
    "- Los corchetes también se pueden usar en la forma `[abc]` y entonces encuentra *cualquiera* de `a`, `b`, o `c`.\n",
    "\n",
    "Vemos que no encontró todas las direcciones posibles. Porque el patrón no está bien diseñado. Un poco mejor sería:"
   ]
  },
  {
   "cell_type": "code",
   "execution_count": 31,
   "metadata": {
    "autoscroll": false,
    "ein.hycell": false,
    "ein.tags": "worksheet-0",
    "slideshow": {
     "slide_type": "-"
    }
   },
   "outputs": [
    {
     "name": "stdout",
     "output_type": "stream",
     "text": [
      "['nombre@server.com', ' apellido@server1.com', ' nombre1995@server.com', ' UnNombreyApellido', ' nombre.apellido82@servidor.com.ar', ' Nombre.Apellido82@servidor.com.ar'] \n",
      "\n",
      "Para la línea: nombre@server.com\n",
      "   Encontré la dirección de correo: nombre@server.com\n",
      "Para la línea:  apellido@server1.com\n",
      "   Encontré la dirección de correo: apellido@server\n",
      "Para la línea:  nombre1995@server.com\n",
      "   Encontré la dirección de correo: nombre1995@server.com\n",
      "Para la línea:  UnNombreyApellido\n",
      "   No encontré dirección de correo:\n",
      "Para la línea:  nombre.apellido82@servidor.com.ar\n",
      "   Encontré la dirección de correo: nombre.apellido82@servidor.com.ar\n",
      "Para la línea:  Nombre.Apellido82@servidor.com.ar\n",
      "   Encontré la dirección de correo: Nombre.Apellido82@servidor.com.ar\n"
     ]
    }
   ],
   "source": [
    "busca = \"[a-zA-Z0-9.]+@[a-z.]+\" # Un patrón para buscar direcciones de email\n",
    "\n",
    "print(texto,'\\n')\n",
    "\n",
    "for direc in texto:\n",
    "  m= re.search(busca, direc)\n",
    "  print('Para la línea:', direc)\n",
    "  if m is None:\n",
    "    print('   No encontré dirección de correo:')\n",
    "  else:\n",
    "    print('   Encontré la dirección de correo:', m.group())\n",
    "\n"
   ]
  },
  {
   "cell_type": "markdown",
   "metadata": {
    "ein.tags": "worksheet-0",
    "slideshow": {
     "slide_type": "-"
    }
   },
   "source": [
    "Los metacaracteres no se activan dentro de clases (adentro de corchetes). En el ejemplo anterior el punto `.` actúa como un punto y no como un metacaracter. En este caso, la primera parte: `[a-zA-Z0-9.]+` significa: \"Encontrar cualquier letra minúscula, mayúscula, número o punto, una o más veces cualquiera de ellos\""
   ]
  },
  {
   "cell_type": "markdown",
   "metadata": {
    "ein.tags": "worksheet-0",
    "slideshow": {
     "slide_type": "-"
    }
   },
   "source": [
    "#### Repetición de un patrón\n",
    "\n",
    "Si queremos encontrar strings que presentan la secuencia una o más veces podemos usar `findall()` que devuelve todas las ocurrencias del patrón que no se superponen. Por ejemplo:"
   ]
  },
  {
   "cell_type": "code",
   "execution_count": 32,
   "metadata": {
    "autoscroll": false,
    "ein.hycell": false,
    "ein.tags": "worksheet-0",
    "slideshow": {
     "slide_type": "-"
    }
   },
   "outputs": [
    {
     "name": "stdout",
     "output_type": "stream",
     "text": [
      "['ab', 'ab']\n",
      "<class 'str'>\n",
      "Encontré ab\n",
      "Encontré ab\n"
     ]
    }
   ],
   "source": [
    "texto = 'abbaaabbbbaaaaa'\n",
    "\n",
    "busca = 'ab'\n",
    "\n",
    "mm =  re.findall(busca, texto)\n",
    "print(mm)    \n",
    "print(type(mm[0]))\n",
    "for m in mm:\n",
    "    print('Encontré {}'.format(m))\n"
   ]
  },
  {
   "cell_type": "code",
   "execution_count": 33,
   "metadata": {
    "autoscroll": false,
    "ein.hycell": false,
    "ein.tags": "worksheet-0",
    "slideshow": {
     "slide_type": "-"
    }
   },
   "outputs": [
    {
     "name": "stdout",
     "output_type": "stream",
     "text": [
      "['ab']\n",
      "['abc', 'abccc', 'abc', 'ab', 'abc']\n"
     ]
    }
   ],
   "source": [
    "p = re.compile('abc*')\n",
    "m= p.findall('acholaboy')\n",
    "print(m)\n",
    "m= p.findall('acholabcoynd sabcccs slabc labdc abc')\n",
    "print(m)"
   ]
  },
  {
   "attachments": {},
   "cell_type": "markdown",
   "metadata": {
    "ein.tags": "worksheet-0",
    "slideshow": {
     "slide_type": "-"
    }
   },
   "source": [
    "Si va a utilizar expresiones regulares es recomendable que lea más información en la [biblioteca standard](https://docs.python.org/3.6/library/re.html), en [el HOWTO](https://docs.python.org/3.6/howto/regex.html), en [Python Module of the week](https://pymotw.com/3/re/index.html) o [acá](https://pynative.com/python/regex/).\n",
    "\n",
    "Para practicar RegEx, [ésta es una buena página](https://regexone.com/).\n",
    "\n",
    "Si efectivamente tiene que diseñar una expresión regular, [esta página puede ser útil](https://regex101.com/)."
   ]
  },
  {
   "cell_type": "markdown",
   "metadata": {},
   "source": [
    "### Módulo `Argparse`\n",
    "Este módulo tiene lo necesario para hacer rápidamente un programa para utilizar por línea de comandos, aceptando todo tipo de argumentos y dando información sobre su uso.\n"
   ]
  },
  {
   "cell_type": "markdown",
   "metadata": {},
   "source": [
    "```python\n",
    "import argparse\n",
    "VERSION = 1.0\n",
    "\n",
    "parser = argparse.ArgumentParser(\n",
    "      description='\"Mi programa que acepta argumentos por línea de comandos\"')\n",
    "\n",
    "parser.add_argument('-V', '--version', action='version',\n",
    "                      version='%(prog)s version {}'.format(VERSION))\n",
    "  \n",
    "parser.add_argument('-n', '--entero', action=store, dest='n', default=1)\n",
    "\n",
    "args = parser.parse_args()\n",
    "```"
   ]
  },
  {
   "cell_type": "markdown",
   "metadata": {},
   "source": [
    "Más información en la [biblioteca standard](https://docs.python.org/3.6/library/argparse.html) y en [Argparse en Python Module of the week ](https://pymotw.com/3/argparse/index.html)"
   ]
  },
  {
   "cell_type": "markdown",
   "metadata": {},
   "source": [
    "### Módulo pathlib\n",
    "\n",
    "El módulo pathlib es \"relativamente nuevo\" y tiene funcionalidades para trabajar con rutas de archivos y directorios con una tratamiento de programación orientada a objetos. Este módulo define un objeto `Path` que contiene mucha de la funcionalidad que usualmente se obtenía sólo de los módulos `os` y `glob`. Veamos algunos ejemplos simples de su uso\n"
   ]
  },
  {
   "cell_type": "code",
   "execution_count": 34,
   "metadata": {},
   "outputs": [],
   "source": [
    "from pathlib import Path\n"
   ]
  },
  {
   "cell_type": "code",
   "execution_count": 35,
   "metadata": {},
   "outputs": [
    {
     "name": "stdout",
     "output_type": "stream",
     "text": [
      ".\n"
     ]
    }
   ],
   "source": [
    "direct = Path('.')\n",
    "print(direct)"
   ]
  },
  {
   "cell_type": "markdown",
   "metadata": {},
   "source": [
    "El objeto tiene un iterador que nos permite recorrer todo el directorio. Por ejemplo si queremos listar todos los subdirectorios:"
   ]
  },
  {
   "cell_type": "code",
   "execution_count": 36,
   "metadata": {},
   "outputs": [
    {
     "data": {
      "text/plain": [
       "[PosixPath('_build')]"
      ]
     },
     "execution_count": 36,
     "metadata": {},
     "output_type": "execute_result"
    }
   ],
   "source": [
    "[x for x in direct.iterdir() if x.is_dir()]"
   ]
  },
  {
   "cell_type": "markdown",
   "metadata": {},
   "source": [
    "Trabajo con rutas de archivos"
   ]
  },
  {
   "cell_type": "code",
   "execution_count": 37,
   "metadata": {},
   "outputs": [
    {
     "name": "stdout",
     "output_type": "stream",
     "text": [
      "/Users/flavioc/Library/Mobile Documents/com~apple~CloudDocs/Documents/cursos/curso-python/book\n"
     ]
    }
   ],
   "source": [
    "print(direct.absolute())"
   ]
  },
  {
   "cell_type": "code",
   "execution_count": 38,
   "metadata": {},
   "outputs": [
    {
     "name": "stdout",
     "output_type": "stream",
     "text": [
      "..\n",
      "/Users/flavioc/Library/Mobile Documents/com~apple~CloudDocs/Documents/cursos/curso-python\n"
     ]
    }
   ],
   "source": [
    "p = direct / \"..\"\n",
    "print(p)\n",
    "print(p.resolve())"
   ]
  },
  {
   "cell_type": "markdown",
   "metadata": {},
   "source": [
    "Podemos reemplazar el módulo `glob` utilizando este objeto:"
   ]
  },
  {
   "cell_type": "code",
   "execution_count": 39,
   "metadata": {},
   "outputs": [
    {
     "name": "stdout",
     "output_type": "stream",
     "text": [
      "07_modulos_biblioteca.ipynb\n"
     ]
    }
   ],
   "source": [
    "for fi in sorted(direct.glob(\"0[1-7]*.ipynb\") ):\n",
    "    print(fi)"
   ]
  },
  {
   "cell_type": "code",
   "execution_count": 40,
   "metadata": {},
   "outputs": [
    {
     "ename": "NameError",
     "evalue": "name 's' is not defined",
     "output_type": "error",
     "traceback": [
      "\u001b[0;31m---------------------------------------------------------------------------\u001b[0m",
      "\u001b[0;31mNameError\u001b[0m                                 Traceback (most recent call last)",
      "Cell \u001b[0;32mIn[40], line 4\u001b[0m\n\u001b[1;32m      2\u001b[0m \u001b[38;5;28;01mif\u001b[39;00m fi\u001b[38;5;241m.\u001b[39mexists():\n\u001b[1;32m      3\u001b[0m     s\u001b[38;5;241m=\u001b[39m fi\u001b[38;5;241m.\u001b[39mread_text()\n\u001b[0;32m----> 4\u001b[0m \u001b[38;5;28mprint\u001b[39m(\u001b[43ms\u001b[49m)\n",
      "\u001b[0;31mNameError\u001b[0m: name 's' is not defined"
     ]
    }
   ],
   "source": [
    "fi = direct / \"programa_detalle.rst\"\n",
    "if fi.exists():\n",
    "    s= fi.read_text()\n",
    "print(s)"
   ]
  }
 ],
 "metadata": {
  "kernelspec": {
   "display_name": "base",
   "language": "python",
   "name": "python3"
  },
  "language_info": {
   "codemirror_mode": {
    "name": "ipython",
    "version": 3
   },
   "file_extension": ".py",
   "mimetype": "text/x-python",
   "name": "python",
   "nbconvert_exporter": "python",
   "pygments_lexer": "ipython3",
   "version": "3.9.16"
  },
  "name": "07_modulos_biblioteca.ipynb",
  "toc": {
   "base_numbering": 1,
   "nav_menu": {
    "height": "213.583px",
    "width": "252px"
   },
   "number_sections": false,
   "sideBar": true,
   "skip_h1_title": true,
   "title_cell": "Contenidos",
   "title_sidebar": "Contenidos",
   "toc_cell": false,
   "toc_position": {
    "height": "calc(100% - 180px)",
    "left": "10px",
    "top": "150px",
    "width": "227.667px"
   },
   "toc_section_display": true,
   "toc_window_display": false
  },
  "vscode": {
   "interpreter": {
    "hash": "3d597f4c481aa0f25dceb95d2a0067e73c0966dcbd003d741d821a7208527ecf"
   }
  }
 },
 "nbformat": 4,
 "nbformat_minor": 1
}