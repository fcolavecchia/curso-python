{
 "cells": [
  {
   "cell_type": "markdown",
   "id": "d1eec6b9",
   "metadata": {},
   "source": [
    "### Pangrama\n",
    "\n",
    "Un pangrama es una frase que contiene todas las letras del abecedario. Vamos a usar el inglés, así nos evitamos los acentos y otras cuestiones del castellano. Por ejemplo\n",
    "\n",
    ">>*the quick brown fox jumps over the lazy dog*\n",
    "\n",
    "es un pangrama muy usado en la creación de *fonts*, es decir, fuentes o tipos de letra, justamente porque contiene todas las letras del abecedario.\n",
    "\n",
    "El problema es escribir una función que determine si una frase es un pangrama o no."
   ]
  },
  {
   "cell_type": "code",
   "execution_count": 41,
   "id": "bc2205c8",
   "metadata": {},
   "outputs": [],
   "source": [
    "# Caso positivo\n",
    "s = \"the quick brown fox jumps over the lazy dog\"\n",
    "\n",
    "# Caso negativo \n",
    "hola_mundo = \"hola mundo\"\n",
    "\n",
    "abcdef = 'abcdefghijklmnopqrstuvwxyz'\n",
    "\n",
    "n_abcedf = 26\n",
    "\n",
    "def is_pangram(frase):\n",
    "    \"\"\"\n",
    "        Devuelve verdadero si la frase contiene todas\n",
    "        las letras del abecedario, o falso en otro caso.\n",
    "    \"\"\"\n",
    "    \n",
    "    frase_minusculas = frase.lower()\n",
    "    \n",
    "    cuenta_letras = 0\n",
    "    \n",
    "    # Recorrer todas las letras del abecedario\n",
    "    for letra in abcdef:\n",
    "    \n",
    "        # Loop en las letras de la frase \n",
    "        for c in frase_minusculas:\n",
    "            if letra == c:\n",
    "#                  print(\"letra en la frase:\",c)\n",
    "                cuenta_letras = cuenta_letras + 1\n",
    "                break \n",
    "                \n",
    "    \n",
    "    if (cuenta_letras == 26):\n",
    "        return True\n",
    "    else:\n",
    "        return False\n",
    "    \n"
   ]
  },
  {
   "cell_type": "code",
   "execution_count": 42,
   "id": "dade2701",
   "metadata": {},
   "outputs": [
    {
     "data": {
      "text/plain": [
       "True"
      ]
     },
     "execution_count": 42,
     "metadata": {},
     "output_type": "execute_result"
    }
   ],
   "source": [
    "is_pangram(s)"
   ]
  },
  {
   "cell_type": "code",
   "execution_count": 43,
   "id": "b4bfb9a5",
   "metadata": {},
   "outputs": [
    {
     "data": {
      "text/plain": [
       "False"
      ]
     },
     "execution_count": 43,
     "metadata": {},
     "output_type": "execute_result"
    }
   ],
   "source": [
    "is_pangram(hola_mundo)"
   ]
  },
  {
   "cell_type": "code",
   "execution_count": 44,
   "id": "f7f2f6ae",
   "metadata": {},
   "outputs": [
    {
     "data": {
      "text/plain": [
       "True"
      ]
     },
     "execution_count": 44,
     "metadata": {},
     "output_type": "execute_result"
    }
   ],
   "source": [
    "is_pangram(abcdef)"
   ]
  },
  {
   "cell_type": "code",
   "execution_count": 45,
   "id": "dd0526a5",
   "metadata": {},
   "outputs": [
    {
     "data": {
      "text/plain": [
       "False"
      ]
     },
     "execution_count": 45,
     "metadata": {},
     "output_type": "execute_result"
    }
   ],
   "source": [
    "is_pangram(\"otra frase aca\")"
   ]
  },
  {
   "cell_type": "code",
   "execution_count": 36,
   "id": "efa5a50c",
   "metadata": {},
   "outputs": [
    {
     "data": {
      "text/plain": [
       "False"
      ]
     },
     "execution_count": 36,
     "metadata": {},
     "output_type": "execute_result"
    }
   ],
   "source": [
    "is_pangram(\"another sentence\")"
   ]
  },
  {
   "cell_type": "code",
   "execution_count": 47,
   "id": "18c5fe1f",
   "metadata": {},
   "outputs": [
    {
     "data": {
      "text/plain": [
       "True"
      ]
     },
     "execution_count": 47,
     "metadata": {},
     "output_type": "execute_result"
    }
   ],
   "source": [
    "otro_pangram = \"Grumpy wizards make a toxic brew for the jovial Queen\"\n",
    "is_pangram(otro_pangram)"
   ]
  },
  {
   "cell_type": "code",
   "execution_count": 54,
   "id": "9559313a",
   "metadata": {},
   "outputs": [],
   "source": [
    "# Otra versión de pangram usando la función set\n",
    "\n",
    "def is_pangram_set(frase):\n",
    "    \n",
    "    frase_minusculas = frase.lower()\n",
    "\n",
    "    \n",
    "    # Borrar los espacios de la frase\n",
    "    resultado = frase_minusculas.replace(' ','') \n",
    "#     print(resultado)\n",
    "    \n",
    "    resultado = set(resultado)\n",
    "#     print(resultado)\n",
    "    \n",
    "    if(len(resultado) == 26):\n",
    "        return True\n",
    "    else:\n",
    "        return False \n",
    "    \n",
    "    \n",
    "    "
   ]
  },
  {
   "cell_type": "code",
   "execution_count": 55,
   "id": "c8a78655",
   "metadata": {},
   "outputs": [
    {
     "name": "stdout",
     "output_type": "stream",
     "text": [
      "thequickbrownfoxjumpsoverthelazydog\n",
      "{'h', 'd', 'z', 'l', 'g', 'j', 'a', 'c', 'x', 't', 'q', 'm', 'n', 'o', 'v', 'f', 'y', 'k', 'p', 'e', 'i', 'r', 'u', 'b', 'w', 's'}\n"
     ]
    },
    {
     "data": {
      "text/plain": [
       "True"
      ]
     },
     "execution_count": 55,
     "metadata": {},
     "output_type": "execute_result"
    }
   ],
   "source": [
    "is_pangram_set(s)"
   ]
  },
  {
   "cell_type": "code",
   "execution_count": 56,
   "id": "08bcea69",
   "metadata": {},
   "outputs": [
    {
     "name": "stdout",
     "output_type": "stream",
     "text": [
      "holamundo\n",
      "{'h', 'm', 'd', 'a', 'u', 'n', 'o', 'l'}\n"
     ]
    },
    {
     "data": {
      "text/plain": [
       "False"
      ]
     },
     "execution_count": 56,
     "metadata": {},
     "output_type": "execute_result"
    }
   ],
   "source": [
    "is_pangram_set(hola_mundo)"
   ]
  },
  {
   "cell_type": "code",
   "execution_count": 58,
   "id": "57d91868",
   "metadata": {},
   "outputs": [
    {
     "name": "stdout",
     "output_type": "stream",
     "text": [
      "GrumpywizardsmakeatoxicbrewforthejovialQueen\n",
      "{'h', 'd', 'z', 'Q', 'l', 'j', 'a', 'c', 'x', 't', 'm', 'G', 'n', 'o', 'v', 'f', 'y', 'k', 'p', 'e', 'i', 'r', 'u', 'b', 'w', 's'}\n"
     ]
    },
    {
     "data": {
      "text/plain": [
       "True"
      ]
     },
     "execution_count": 58,
     "metadata": {},
     "output_type": "execute_result"
    }
   ],
   "source": [
    "is_pangram_set(otro_pangram)"
   ]
  },
  {
   "cell_type": "code",
   "execution_count": 59,
   "id": "86ba52a3",
   "metadata": {},
   "outputs": [
    {
     "name": "stdout",
     "output_type": "stream",
     "text": [
      "GrumpywizardsmakeAtoxicbrewforthejovialQueen\n",
      "{'h', 'A', 'd', 'z', 'Q', 'l', 'j', 'a', 'c', 'x', 't', 'm', 'G', 'n', 'o', 'v', 'f', 'y', 'k', 'p', 'e', 'i', 'r', 'u', 'b', 'w', 's'}\n"
     ]
    },
    {
     "data": {
      "text/plain": [
       "False"
      ]
     },
     "execution_count": 59,
     "metadata": {},
     "output_type": "execute_result"
    }
   ],
   "source": [
    "y_otro_pangram_mas = \"Grumpy wizards make A toxic brew for the jovial Queen\"\n",
    "is_pangram_set(y_otro_pangram_mas)\n"
   ]
  }
 ],
 "metadata": {
  "kernelspec": {
   "display_name": "Python 3",
   "language": "python",
   "name": "python3"
  },
  "language_info": {
   "codemirror_mode": {
    "name": "ipython",
    "version": 3
   },
   "file_extension": ".py",
   "mimetype": "text/x-python",
   "name": "python",
   "nbconvert_exporter": "python",
   "pygments_lexer": "ipython3",
   "version": "3.7.10"
  }
 },
 "nbformat": 4,
 "nbformat_minor": 5
}
