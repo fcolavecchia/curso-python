{
 "cells": [
  {
   "cell_type": "markdown",
   "metadata": {},
   "source": [
    "\n",
    "\n",
    "\n",
    "# Integración Numérica\n",
    "\n",
    "## Trabajo práctico B"
   ]
  },
  {
   "cell_type": "code",
   "execution_count": 2,
   "metadata": {},
   "outputs": [],
   "source": [
    "import matplotlib.pyplot as plt\n",
    "import numpy as np"
   ]
  },
  {
   "cell_type": "markdown",
   "metadata": {},
   "source": [
    "### 1 Regla de Simpson\n",
    "\n",
    "Implemente una función que calcule la integral numérica por la regla de Simpson.\n",
    "\n"
   ]
  },
  {
   "cell_type": "markdown",
   "metadata": {},
   "source": [
    "### 2 Calculando $\\pi$\n",
    "\n",
    "Obtenga numéricamente el valor de $\\pi$ a partir de la integral:\n",
    "\n",
    "$$\n",
    "\\pi = \\int_0^1 \\frac{16 x - 16}{x^4 - 2x^3 + 4x -4} dx\n",
    "$$\n",
    "\n",
    "Compare el valor obtenido con los distintos métodos: trapecios, Simpson y cuadraturas (via scipy)."
   ]
  }
 ],
 "metadata": {
  "kernelspec": {
   "display_name": "Python 3 (ipykernel)",
   "language": "python",
   "name": "python3"
  },
  "language_info": {
   "codemirror_mode": {
    "name": "ipython",
    "version": 3
   },
   "file_extension": ".py",
   "mimetype": "text/x-python",
   "name": "python",
   "nbconvert_exporter": "python",
   "pygments_lexer": "ipython3",
   "version": "3.11.5"
  }
 },
 "nbformat": 4,
 "nbformat_minor": 2
}
