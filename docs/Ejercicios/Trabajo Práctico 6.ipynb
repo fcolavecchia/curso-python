{
 "cells": [
  {
   "cell_type": "markdown",
   "metadata": {},
   "source": [
    "\n",
    "\n",
    "\n",
    "# Matplotlib\n",
    "\n",
    "## Trabajo práctico 6"
   ]
  },
  {
   "cell_type": "markdown",
   "metadata": {},
   "source": [
    "Recuerde importar los módulos necesarios antes de empezar a trabajar."
   ]
  },
  {
   "cell_type": "code",
   "execution_count": 48,
   "metadata": {},
   "outputs": [],
   "source": [
    "import numpy as np\n",
    "import matplotlib.pyplot as plt"
   ]
  },
  {
   "cell_type": "markdown",
   "metadata": {},
   "source": [
    "### 1 Dibujando\n",
    "\n",
    "Use `matplotlib.pyplot` para producir un gráfico con las funciones\n",
    "$$\n",
    "\\begin{align}\n",
    "f(x) &= e^{-x/10} \\sin(\\pi x) \\\\\n",
    "g(x) &= x e^{-x/3}\n",
    "\\end{align}\n",
    "$$\n",
    "en el intervalo $[0,10]$. Incluya los nombres de los ejes $x$ y $y$, y una leyenda explicando qué linea corresponde a cada función. Guarde el gráfico como un archivo `jpg`, y entrégelo junto con la resolución del ejercicio. (Consulte la documentación de `matplotlib` que le permite guardar el gráfico como `.jpg`)."
   ]
  },
  {
   "cell_type": "markdown",
   "metadata": {},
   "source": [
    "### 2 Diferencias Finitas\n",
    "\n",
    "La derivada de una función $f(x)$ se define como\n",
    "\n",
    "$$\n",
    "f'(x) = \\frac{df}{dx} = \\lim_{h\\rightarrow0} \\frac{f(x+h) - f(x)}{h}\n",
    "$$\n",
    "\n",
    "A partir de la definición, podemos aproximar la derivada $f'(x)$ para un valor de $h$ pequeño como:\n",
    "$$\n",
    "f'(x) \\approx  \\frac{f(x+h) - f(x)}{h}.\n",
    "$$\n",
    "Esta aproximación se conoce como *diferencias finita adelantada*.\n",
    "\n",
    "Considere la función $f(x) = \\sin x $ en el intervalo $[0,\\pi]$. Queremos estudiar el comportamiento de la aproximación anterior para distintos valores de $h$.\n",
    "\n",
    "- Elija un valor de $h$ pequeño, y adóptelo como paso para subdividir el dominio de $f(x)$ en puntos $[0,h,2h,\\cdots,\\pi]$.\n",
    "- Obtenga la aproximación de diferencias finitas para ese dado $h$ y grafíquela, comparándola con la derivada exacta $f'(x) = \\cos x$.\n",
    "- Escriba una función para calcular el error cuadrático medio (ECM) entre la aproximación de diferencias finitas y la derivada exacta. \n",
    "- Utilizando la función anterior, estime el valor de $h$ para que el ECM se menor al 1%.\n"
   ]
  },
  {
   "cell_type": "markdown",
   "metadata": {},
   "source": [
    "### 3 Tasa de natalidad en Argentina\n",
    "\n",
    "En el archivo adjunto (*'tasa-natalidad.csv'*) se encuentra una tabla con la tasa de natalidad en la Argentina, entre los años 2000 y 2018. El archivo es de tipo `.csv`, *comma separated values*, es decir que los datos están separados por comas. \n",
    "El objetivo de este ejercicio es realizar un gráfico represente estos datos. Para ello\n",
    "\n",
    "- Abra el archivo adjunto y familiarícese con su estructura, para entender qué datos hay que leer.\n",
    "- Utilice el método `loadtxt` de `numpy` para leer el archivo en un array. (Ayuda: lea la documentación del método, dado que necesitará usar alguno de los parámetros opcionales del mismo).\n",
    "- Usando métodos de `numpy`, obtenga las dos provincias de mayor tasa de natalidad, y las dos provincias de menor tasa de natalidad en promedio entre los años 2000-2018.\n",
    "- Haga un gráfico claro y bello representando los datos del punto anterior, comparándolos con  la tasa de natalidad del país. \n",
    "\n",
    "La función que se define más abajo puede resultar de utilidad, ya que lee la primer fila del archivo."
   ]
  },
  {
   "cell_type": "code",
   "execution_count": 47,
   "metadata": {},
   "outputs": [],
   "source": [
    "def lee_header(archivo):\n",
    "    \"\"\"\n",
    "        Esta función lee la primer fila de una tabla escrita en un archivo csv.\n",
    "        Usualmente esta fila contiene los nombres de cada columna de la tabla.\n",
    "    \"\"\"\n",
    "    f = open(archivo,\"r\")\n",
    "    header = f.readline()\n",
    "#     print(header)\n",
    "#     print(type(header))\n",
    "    h = np.array(header.split(','),dtype='S')\n",
    "#     print(h)\n",
    "    return h\n",
    "    \n"
   ]
  }
 ],
 "metadata": {
  "kernelspec": {
   "display_name": "Python 3",
   "language": "python",
   "name": "python3"
  },
  "language_info": {
   "codemirror_mode": {
    "name": "ipython",
    "version": 3
   },
   "file_extension": ".py",
   "mimetype": "text/x-python",
   "name": "python",
   "nbconvert_exporter": "python",
   "pygments_lexer": "ipython3",
   "version": "3.7.10"
  }
 },
 "nbformat": 4,
 "nbformat_minor": 2
}
