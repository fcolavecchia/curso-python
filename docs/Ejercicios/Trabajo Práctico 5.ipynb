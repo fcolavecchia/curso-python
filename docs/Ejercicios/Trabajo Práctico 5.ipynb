{
 "cells": [
  {
   "cell_type": "markdown",
   "metadata": {},
   "source": [
    "\n",
    "\n",
    "\n",
    "# NumPy\n",
    "\n",
    "## Trabajo práctico 5"
   ]
  },
  {
   "cell_type": "markdown",
   "metadata": {},
   "source": [
    "### 1 Creando arrays\n",
    "\n",
    "- Crear un arreglo que represente 64 subdivisiones en el rango -1.3 a 2.5.\n",
    "- Generar un arreglo de largo $3n$ con el patrón cíclico 1, 2, 3, es decir `[1,2,3,1,2,3,1...]`.\n",
    "- Crear un arreglo con los 20 primeros números enteros impares.\n",
    "- Crear un arreglo de 10 x 10 con ceros, y luego modificarlos para que todos sus bordes contengan 1.\n",
    "\n",
    "\n",
    "\n"
   ]
  },
  {
   "cell_type": "code",
   "execution_count": 5,
   "metadata": {},
   "outputs": [
    {
     "data": {
      "text/plain": [
       "array([-1.        , -0.92857143, -0.85714286, -0.78571429, -0.71428571,\n",
       "       -0.64285714, -0.57142857, -0.5       , -0.42857143, -0.35714286,\n",
       "       -0.28571429, -0.21428571, -0.14285714, -0.07142857,  0.        ,\n",
       "        0.07142857,  0.14285714,  0.21428571,  0.28571429,  0.35714286,\n",
       "        0.42857143,  0.5       ,  0.57142857,  0.64285714,  0.71428571,\n",
       "        0.78571429,  0.85714286,  0.92857143,  1.        ,  1.07142857,\n",
       "        1.14285714,  1.21428571,  1.28571429,  1.35714286,  1.42857143,\n",
       "        1.5       ,  1.57142857,  1.64285714,  1.71428571,  1.78571429,\n",
       "        1.85714286,  1.92857143,  2.        ,  2.07142857,  2.14285714,\n",
       "        2.21428571,  2.28571429,  2.35714286,  2.42857143,  2.5       ,\n",
       "        2.57142857,  2.64285714,  2.71428571,  2.78571429,  2.85714286,\n",
       "        2.92857143,  3.        ,  3.07142857,  3.14285714,  3.21428571,\n",
       "        3.28571429,  3.35714286,  3.42857143,  3.5       ])"
      ]
     },
     "execution_count": 5,
     "metadata": {},
     "output_type": "execute_result"
    }
   ],
   "source": [
    "import numpy as np\n",
    "A=np.linspace(-1,3.5,64)\n",
    "A"
   ]
  },
  {
   "cell_type": "code",
   "execution_count": 6,
   "metadata": {},
   "outputs": [
    {
     "data": {
      "text/plain": [
       "array([1, 2, 3, 1, 2, 3, 1, 2, 3, 1, 2, 3])"
      ]
     },
     "execution_count": 6,
     "metadata": {},
     "output_type": "execute_result"
    }
   ],
   "source": [
    "n=4\n",
    "B=np.arange(3 * n) % 3 + 1\n",
    "B"
   ]
  },
  {
   "cell_type": "code",
   "execution_count": 20,
   "metadata": {},
   "outputs": [
    {
     "data": {
      "text/plain": [
       "array([[1., 1., 1., 1., 1., 1., 1., 1., 1., 1.],\n",
       "       [1., 0., 0., 0., 0., 0., 0., 0., 0., 1.],\n",
       "       [1., 0., 0., 0., 0., 0., 0., 0., 0., 1.],\n",
       "       [1., 0., 0., 0., 0., 0., 0., 0., 0., 1.],\n",
       "       [1., 0., 0., 0., 0., 0., 0., 0., 0., 1.],\n",
       "       [1., 0., 0., 0., 0., 0., 0., 0., 0., 1.],\n",
       "       [1., 0., 0., 0., 0., 0., 0., 0., 0., 1.],\n",
       "       [1., 0., 0., 0., 0., 0., 0., 0., 0., 1.],\n",
       "       [1., 0., 0., 0., 0., 0., 0., 0., 0., 1.],\n",
       "       [1., 1., 1., 1., 1., 1., 1., 1., 1., 1.]])"
      ]
     },
     "execution_count": 20,
     "metadata": {},
     "output_type": "execute_result"
    }
   ],
   "source": [
    "B=np.zeros((10,10))\n",
    "B[0,:]=1\n",
    "B[:,0]=1\n",
    "B[9,:]=1\n",
    "B[:,9]=1\n",
    "B"
   ]
  },
  {
   "cell_type": "markdown",
   "metadata": {},
   "source": [
    "### 2 Operando con arrays\n",
    "- Generere un array de 10 x 3 de números aleatorios (en el rango [0,1]). Por cada fila, encuentre el número más cercano a 0.5.\n",
    "- Construya con Numpy la siguiente matriz\n",
    "\\begin{equation*}\n",
    "\\mathbf{A} =  \\begin{pmatrix}\n",
    "0 & 1 & 3 \\\\\n",
    "0 & 0 & -2\\\\\n",
    "0 & 0 & 0\n",
    "\\end{pmatrix}\n",
    "\\end{equation*}\n",
    "y muestre que es *nilpotente de orden 3*, esto es:\n",
    "$$\n",
    "\\mathbf{A}^3 = 0.\n",
    "$$"
   ]
  },
  {
   "cell_type": "code",
   "execution_count": 40,
   "metadata": {},
   "outputs": [
    {
     "name": "stdout",
     "output_type": "stream",
     "text": [
      "[[0.73937734 0.44230264 0.38484487]\n",
      " [0.21830795 0.78670929 0.64557282]\n",
      " [0.75671342 0.46063984 0.68126087]\n",
      " [0.40721372 0.19358449 0.14195706]\n",
      " [0.29086063 0.30222558 0.28180764]\n",
      " [0.9702725  0.24874964 0.2786723 ]\n",
      " [0.82749373 0.77103436 0.60407109]\n",
      " [0.10593497 0.23761905 0.19581206]\n",
      " [0.61323168 0.01958033 0.69514237]\n",
      " [0.63638659 0.67973361 0.98660718]]\n",
      "[[0.5 0.5 0.5]\n",
      " [0.5 0.5 0.5]\n",
      " [0.5 0.5 0.5]\n",
      " [0.5 0.5 0.5]\n",
      " [0.5 0.5 0.5]\n",
      " [0.5 0.5 0.5]\n",
      " [0.5 0.5 0.5]\n",
      " [0.5 0.5 0.5]\n",
      " [0.5 0.5 0.5]\n",
      " [0.5 0.5 0.5]]\n",
      "[[ 0.23937734 -0.05769736 -0.11515513]\n",
      " [-0.28169205  0.28670929  0.14557282]\n",
      " [ 0.25671342 -0.03936016  0.18126087]\n",
      " [-0.09278628 -0.30641551 -0.35804294]\n",
      " [-0.20913937 -0.19777442 -0.21819236]\n",
      " [ 0.4702725  -0.25125036 -0.2213277 ]\n",
      " [ 0.32749373  0.27103436  0.10407109]\n",
      " [-0.39406503 -0.26238095 -0.30418794]\n",
      " [ 0.11323168 -0.48041967  0.19514237]\n",
      " [ 0.13638659  0.17973361  0.48660718]]\n",
      "El minimo es:  0.46063984124944235\n"
     ]
    }
   ],
   "source": [
    "A=np.random.rand(10, 3)\n",
    "print(A)\n",
    "B=np.zeros(A.shape)\n",
    "B[:,:]=0.5\n",
    "print(B)\n",
    "C=A-B\n",
    "print(C)\n",
    "C=np.abs(C)\n",
    "min=C.argmin()\n",
    "A=A.ravel()\n",
    "print('El minimo es: ', A[min])\n"
   ]
  },
  {
   "cell_type": "code",
   "execution_count": 45,
   "metadata": {},
   "outputs": [
    {
     "data": {
      "text/plain": [
       "array([[0, 0, 0],\n",
       "       [0, 0, 0],\n",
       "       [0, 0, 0]])"
      ]
     },
     "execution_count": 45,
     "metadata": {},
     "output_type": "execute_result"
    }
   ],
   "source": [
    "A=np.array([[0,1,3],[0,0,-2],[0,0,0]])\n",
    "B=A @ A @ A\n",
    "B\n"
   ]
  },
  {
   "cell_type": "markdown",
   "metadata": {},
   "source": [
    "### 3 `meshgrid`\n",
    "\n",
    "Suponga que tenemos una grilla de 101x101 puntos en un plano, formando un arreglo cuadrado. Las coordenadas de estos puntos van de -10 a 10 cm en la dirección $x$ y de -10 a 10 cm en la dirección $y$ (esto produce que el punto central de la grilla tenga coordenadas $(x,y)=(0, 0)$). Suponiendo que el plano donde está contenida la grilla posee coordenada $z$ = 100 cm, calcule la distancia de todos los puntos al origen.\n",
    "\n",
    "Ayuda: vea la documentación de la función `meshgrid`."
   ]
  }
 ],
 "metadata": {
  "kernelspec": {
   "display_name": "Python 3 (ipykernel)",
   "language": "python",
   "name": "python3"
  },
  "language_info": {
   "codemirror_mode": {
    "name": "ipython",
    "version": 3
   },
   "file_extension": ".py",
   "mimetype": "text/x-python",
   "name": "python",
   "nbconvert_exporter": "python",
   "pygments_lexer": "ipython3",
   "version": "3.11.5"
  }
 },
 "nbformat": 4,
 "nbformat_minor": 2
}
