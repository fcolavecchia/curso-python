{
 "cells": [
  {
   "cell_type": "markdown",
   "metadata": {},
   "source": [
    "\n",
    "\n",
    "\n",
    "# DICOM\n",
    "\n",
    "## Trabajo práctico 9"
   ]
  },
  {
   "cell_type": "code",
   "execution_count": 1,
   "metadata": {},
   "outputs": [],
   "source": [
    "import matplotlib.pyplot as plt\n",
    "import numpy as np\n",
    "import pydicom"
   ]
  },
  {
   "cell_type": "markdown",
   "metadata": {},
   "source": [
    "### 1 Formato DICOM\n",
    "\n",
    "Encuentre el tag *Patient Position* en la imagen de la clase, y indique los valores de grupo y elemento, y busque el significado del mismo en [https://dicom.innolitics.com/ciods](https://dicom.innolitics.com/ciods). ¿Qué otras posiciones de paciente hay?\n"
   ]
  },
  {
   "cell_type": "markdown",
   "metadata": {},
   "source": [
    "### 2 Window and Level\n",
    "\n",
    "Elija alguno de los cortes de la CT que se usó en la presentación, e investigue el resultado de utilizar distintos valores de Window (w) and Level (c) en la imagen, distintos a los que provee el propio DICOM\n"
   ]
  }
 ],
 "metadata": {
  "kernelspec": {
   "display_name": "Python 3 (ipykernel)",
   "language": "python",
   "name": "python3"
  },
  "language_info": {
   "codemirror_mode": {
    "name": "ipython",
    "version": 3
   },
   "file_extension": ".py",
   "mimetype": "text/x-python",
   "name": "python",
   "nbconvert_exporter": "python",
   "pygments_lexer": "ipython3",
   "version": "3.11.5"
  }
 },
 "nbformat": 4,
 "nbformat_minor": 2
}
