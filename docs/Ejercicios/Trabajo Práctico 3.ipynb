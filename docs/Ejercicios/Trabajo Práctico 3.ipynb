{
 "cells": [
  {
   "cell_type": "markdown",
   "metadata": {},
   "source": [
    "\n",
    "\n",
    "\n",
    "# Más Funciones\n",
    "\n",
    "## Trabajo práctico 3"
   ]
  },
  {
   "cell_type": "markdown",
   "metadata": {},
   "source": [
    "### Tests\n",
    "\n",
    "Como referimos en clase, la forma de probar si un programa funciona es, justamente, ejecutándolo. Dado que uno se encuentra en muchas ocasiones corriendo el mismo programa, es útil definirse alguna que otra función auxiliar que nos permita acelerar la prueba de los códigos. Acá usaremos la función `es_igual`, que nos permite definir test en forma sencilla.\n"
   ]
  },
  {
   "cell_type": "code",
   "execution_count": 4,
   "metadata": {},
   "outputs": [],
   "source": [
    "def es_igual(real,esperado):\n",
    "    if real==esperado:\n",
    "        print(\"Ok\")\n",
    "    else:\n",
    "        print(\"Error :\",real,\" es distinto de \",esperado)"
   ]
  },
  {
   "cell_type": "markdown",
   "metadata": {},
   "source": [
    "Esta función compara el resultado *real* que nos da el código que estamos probando comparado con el resultado *esperado*. \n",
    "\n",
    "Por ejemplo, tenemos la función que convierte grados Celsius a grados Fahrenheit:"
   ]
  },
  {
   "cell_type": "code",
   "execution_count": null,
   "metadata": {},
   "outputs": [],
   "source": [
    "def celsius_to_fahrenheit(t_c):\n",
    "    t_f = 32 + 9/5*t_c\n",
    "    \n",
    "    return t_f"
   ]
  },
  {
   "cell_type": "markdown",
   "metadata": {},
   "source": [
    "Sabemos que la temperatura de ebullición del agua en condiciones normales es 100 grados Celsius y 212 grados Fahrenheit. Podemos definir entonces el siguiente test:"
   ]
  },
  {
   "cell_type": "code",
   "execution_count": null,
   "metadata": {},
   "outputs": [],
   "source": [
    "def test_t_ebullicion():\n",
    "    t_f = celsius_to_fahrenheit(100)\n",
    "    es_igual(t_f,212)"
   ]
  },
  {
   "cell_type": "markdown",
   "metadata": {},
   "source": [
    "Con lo cual, podemos probar:"
   ]
  },
  {
   "cell_type": "code",
   "execution_count": null,
   "metadata": {},
   "outputs": [],
   "source": [
    "test_t_ebullicion()"
   ]
  },
  {
   "cell_type": "markdown",
   "metadata": {},
   "source": [
    "En los ejercicios siguientes hay algunos ejemplos de tests, no es necesario usarlos, pero puede ser una buena práctica para aprender."
   ]
  },
  {
   "cell_type": "markdown",
   "metadata": {},
   "source": [
    "### 1 Palíndromos\n",
    "\n",
    "Un palíndromo es una frase o palabra que se lee igual en un sentido que en el otro, por ejemplo, *ananá*. Construya una función que verifique si una palabra o frase es un palíndromo o no. Haga caso omiso de las tildes, diferencias entre mayúsculas y minúsculas, y los signos de puntuación (incluídos los espacios)."
   ]
  },
  {
   "cell_type": "code",
   "execution_count": 14,
   "metadata": {},
   "outputs": [],
   "source": [
    "def es_palindromo(frase):\n",
    "        \n",
    "    #\n",
    "    #   TO DO: Su código acá\n",
    "    #\n",
    "    \n",
    "    pass # acordarse de borrar una vez escrito el código"
   ]
  },
  {
   "cell_type": "markdown",
   "metadata": {},
   "source": [
    "#### Ayudas\n",
    "Los métodos para manejar `strings` son muy poderosos en Python. Por ejemplo:"
   ]
  },
  {
   "cell_type": "code",
   "execution_count": 28,
   "metadata": {},
   "outputs": [
    {
     "name": "stdout",
     "output_type": "stream",
     "text": [
      "apple\n"
     ]
    }
   ],
   "source": [
    "# Convierte a minúsculas\n",
    "manzana = \"APPLE\"\n",
    "print(manzana.lower())\n"
   ]
  },
  {
   "cell_type": "code",
   "execution_count": 29,
   "metadata": {},
   "outputs": [
    {
     "name": "stdout",
     "output_type": "stream",
     "text": [
      "dos menzenes\n",
      "dosmanzanas\n"
     ]
    }
   ],
   "source": [
    "# Reemplaza caracteres\n",
    "dos_manzanas = \"dos manzanas\"\n",
    "print(dos_manzanas.replace(\"a\",\"e\"))\n",
    "print(dos_manzanas.replace(\" \",\"\"))"
   ]
  },
  {
   "cell_type": "code",
   "execution_count": 31,
   "metadata": {},
   "outputs": [
    {
     "name": "stdout",
     "output_type": "stream",
     "text": [
      "['dos', 'manzanas']\n"
     ]
    },
    {
     "data": {
      "text/plain": [
       "12"
      ]
     },
     "execution_count": 31,
     "metadata": {},
     "output_type": "execute_result"
    }
   ],
   "source": [
    "# Separa palabras\n",
    "dos_manzanas = \"dos manzanas\"\n",
    "print(dos_manzanas.split(\" \"))"
   ]
  },
  {
   "cell_type": "markdown",
   "metadata": {},
   "source": [
    "Pueden consultar otros métodos acá: [https://www.w3schools.com/python/python_ref_string.asp](https://www.w3schools.com/python/python_ref_string.asp)"
   ]
  },
  {
   "cell_type": "markdown",
   "metadata": {},
   "source": [
    "#### Tests"
   ]
  },
  {
   "cell_type": "code",
   "execution_count": 19,
   "metadata": {},
   "outputs": [],
   "source": [
    "def test_yoga():\n",
    "    es_igual(es_palindromo(\"Yo hago yoga hoy\"),True)\n",
    "def test_anana():\n",
    "    es_igual(es_palindromo(\"anana\"),True)\n",
    "def test_manzana():\n",
    "    es_igual(es_palindromo(\"manzana\"),False)    \n",
    "\n",
    "def todos_los_tests_palindromos():\n",
    "    test_yoga()\n",
    "    test_anana()\n",
    "    test_manzana()\n",
    "    "
   ]
  },
  {
   "cell_type": "code",
   "execution_count": 20,
   "metadata": {},
   "outputs": [
    {
     "name": "stdout",
     "output_type": "stream",
     "text": [
      "Error : None  es distinto de  True\n",
      "Error : None  es distinto de  True\n",
      "Error : None  es distinto de  False\n"
     ]
    }
   ],
   "source": [
    "todos_los_tests_palindromos()"
   ]
  },
  {
   "cell_type": "markdown",
   "metadata": {},
   "source": [
    "### 2 Gotas de lluvia \n",
    "\n",
    "Un conocido juego numérico (de cuya popularidad se puede dudar) consiste en reemplazar un número natural por los sonidos de las gotas de lluvia de acuerdo a ciertas reglas.\n",
    "Supongamos que el sonido de las gotas de lluvia cayendo sobre un tejado pueden describirse por tres `strings`: *Pling*, *Plang* y *Plong*. La regla que usaremos es que si el número:\n",
    "\n",
    "- es divisible por 3, agregamos *Pling*\n",
    "- es divisible por 5, agregamos *Plang*\n",
    "- es divisible por 7, agregamos *Plong*\n",
    "- no es divisible ni por 3, ni por 5, ni por 7, el resultado es el mismo número.\n",
    "\n",
    "Por ejemplo:\n",
    "- 28 es divisible por 7, pero no es divisible ni por 3 ni por 5. Entonces, el resultado es *Plong*.\n",
    "- 30 es divisible por 3 y por 5, pero no es divisible por 7. Entonces, el resultado es *PlingPlang*.\n",
    "- 44 no es divisible  ni por 3, ni por 5, ni por 7, por lo tanto, el resultado es *44*.\n",
    "\n",
    "Construya la función `convert` cuyo prototipo se indica más abajo, que represente el juego de las gotas de lluvia. La operación módulo `%` le resultará útil.\n",
    "\n",
    "\n"
   ]
  },
  {
   "cell_type": "code",
   "execution_count": 1,
   "metadata": {},
   "outputs": [],
   "source": [
    "def convert(numero):\n",
    "    \n",
    "    #\n",
    "    #   TO DO: Su código acá\n",
    "    #\n",
    "    \n",
    "    pass # acordarse de borrar una vez escrito el código\n",
    "    "
   ]
  },
  {
   "cell_type": "markdown",
   "metadata": {},
   "source": [
    "#### Tests"
   ]
  },
  {
   "cell_type": "code",
   "execution_count": 11,
   "metadata": {},
   "outputs": [],
   "source": [
    "def test_el_sonido_de_1_es_1():\n",
    "    es_igual(convert(1), \"1\")\n",
    "\n",
    "def test_el_sonido_de_3_es_pling():\n",
    "    es_igual(convert(3), \"Pling\")\n",
    "\n",
    "def test_el_sonido_de_5_es_plang():\n",
    "    es_igual(convert(5), \"Plang\")\n",
    "\n",
    "def test_el_sonido_de_7_es_plong():\n",
    "    es_igual(convert(7), \"Plong\")\n",
    "\n",
    "def test_el_sonido_de_9_es_pling_es_divisible_por_3():\n",
    "    es_igual(convert(9), \"Pling\")\n",
    "\n",
    "def test_el_sonido_de_10_es_plang_es_divisible_por_5():\n",
    "    es_igual(convert(10), \"Plang\")\n",
    "\n",
    "def test_el_sonido_de_14_es_plong_es_divisible_por_7():\n",
    "    es_igual(convert(14), \"Plong\")\n",
    "\n",
    "def test_el_sonido_de_15_es_pling_plang_es_divisible_por_3_y_5():\n",
    "    es_igual(convert(15), \"PlingPlang\")\n",
    "\n",
    "def test_el_sonido_de_21_es_pling_plong_es_divisible_por_3_y_7():\n",
    "    es_igual(convert(21), \"PlingPlong\")\n",
    "\n",
    "def test_el_sonido_de_35_es_plang_plong_es_divisible_por_5_y_7():\n",
    "    es_igual(convert(35), \"PlangPlong\")    \n",
    "    \n",
    "def test_el_sonido_de_52_es_52():\n",
    "    es_igual(convert(52), \"52\")\n",
    "\n",
    "def test_el_sonido_de_105_es_pling_plang_plong_es_divisible_por_3_5_y_7():\n",
    "    es_igual(convert(105), \"PlingPlangPlong\")\n",
    "\n",
    "def test_el_sonido_de_3125_es_plang_es_divisible_por_5():\n",
    "    es_igual(convert(3125), \"Plang\")\n",
    "    \n",
    "def todos_los_tests():\n",
    "    test_el_sonido_de_1_es_1()\n",
    "    test_el_sonido_de_3_es_pling()\n",
    "    test_el_sonido_de_5_es_plang()\n",
    "    test_el_sonido_de_7_es_plong()\n",
    "    test_el_sonido_de_9_es_pling_es_divisible_por_3()\n",
    "    test_el_sonido_de_10_es_plang_es_divisible_por_5()\n",
    "    test_el_sonido_de_14_es_plong_es_divisible_por_7()\n",
    "    test_el_sonido_de_15_es_pling_plang_es_divisible_por_3_y_5()\n",
    "    test_el_sonido_de_21_es_pling_plong_es_divisible_por_3_y_7()\n",
    "    test_el_sonido_de_35_es_plang_plong_es_divisible_por_5_y_7()\n",
    "    test_el_sonido_de_52_es_52()\n",
    "    test_el_sonido_de_105_es_pling_plang_plong_es_divisible_por_3_5_y_7()\n",
    "    test_el_sonido_de_3125_es_plang_es_divisible_por_5()\n",
    "    "
   ]
  },
  {
   "cell_type": "code",
   "execution_count": 12,
   "metadata": {},
   "outputs": [
    {
     "name": "stdout",
     "output_type": "stream",
     "text": [
      "Error : None  es distinto de  1\n",
      "Error : None  es distinto de  Pling\n",
      "Error : None  es distinto de  Plang\n",
      "Error : None  es distinto de  Plong\n",
      "Error : None  es distinto de  Pling\n",
      "Error : None  es distinto de  Plang\n",
      "Error : None  es distinto de  Plong\n",
      "Error : None  es distinto de  PlingPlang\n",
      "Error : None  es distinto de  PlingPlong\n",
      "Error : None  es distinto de  PlangPlong\n",
      "Error : None  es distinto de  52\n",
      "Error : None  es distinto de  PlingPlangPlong\n",
      "Error : None  es distinto de  Plang\n"
     ]
    }
   ],
   "source": [
    "todos_los_tests()"
   ]
  },
  {
   "cell_type": "markdown",
   "metadata": {},
   "source": [
    "### 3 La distancia de Hamming\n",
    "\n",
    "Cuando una célula en el cuerpo se divide, la secuencia de ADN también se divide. Es posible que en esa división se produzcan errores de copiado en las secuencias. La *distancia de Hamming* cuenta el número de diferencias que hay entre dos sequencias de ADN. \n",
    "\n",
    "Vamos a representar una secuencia de ADN por un `string` conteniendo sólo las letras A, C, G y T, correspondientes a cada uno de los aminoácidos del ADN.\n",
    "\n",
    "Por ejemplo, si tenemos las secuencias\n",
    "```\n",
    "GGACGGATTCTG\n",
    "AGGACGGATTCT\n",
    "^ ^^^ ^^ ^^^ \n",
    "```\n",
    "vemos que hay 9 diferencias entre sí, entonces la distancia de Hamming es 9. \n",
    "\n",
    "Construya la función `distancia` que reporta la distancia de Hamming entre dos secuencias. La función debe chequear que el largo de ambas sequencias sea el mismo, y que no haya ninguna de las secuencias vacías.\n",
    "\n",
    "Recuerde que la función `len` devuelve el largo de un `string`."
   ]
  },
  {
   "cell_type": "code",
   "execution_count": 39,
   "metadata": {},
   "outputs": [],
   "source": [
    "def distancia(sec_a,sec_b):\n",
    "        \n",
    "    #\n",
    "    #   TO DO: Su código acá\n",
    "    #\n",
    "    \n",
    "    pass # acordarse de borrar una vez escrito el código"
   ]
  },
  {
   "cell_type": "markdown",
   "metadata": {},
   "source": [
    "#### Tests"
   ]
  },
  {
   "cell_type": "code",
   "execution_count": 40,
   "metadata": {},
   "outputs": [],
   "source": [
    "def test_secuencias_vacias():\n",
    "    es_igual(distancia(\"\", \"\"), 0)\n",
    "\n",
    "def test_secuencias_identicas_un_caracter():\n",
    "    es_igual(distancia(\"A\", \"A\"), 0)\n",
    "\n",
    "def test_secuencias_distintas_un_caracter():\n",
    "    es_igual(distancia(\"G\", \"T\"), 1)\n",
    "\n",
    "def test_secuencias_identicas():\n",
    "    es_igual(distancia(\"GGACTGAAATCTG\", \"GGACTGAAATCTG\"), 0)\n",
    "\n",
    "def test_secuencias_distintas():\n",
    "    es_igual(distancia(\"GGACGGATTCTG\", \"AGGACGGATTCT\"), 9)\n",
    "    \n",
    "def todos_los_tests_hamming():\n",
    "    test_secuencias_vacias()\n",
    "    test_secuencias_identicas_un_caracter()\n",
    "    test_secuencias_distintas_un_caracter()\n",
    "    test_secuencias_identicas()\n",
    "    test_secuencias_distintas()\n",
    "    "
   ]
  },
  {
   "cell_type": "code",
   "execution_count": 41,
   "metadata": {},
   "outputs": [
    {
     "name": "stdout",
     "output_type": "stream",
     "text": [
      "Error : None  es distinto de  0\n",
      "Error : None  es distinto de  0\n",
      "Error : None  es distinto de  1\n",
      "Error : None  es distinto de  0\n",
      "Error : None  es distinto de  9\n"
     ]
    }
   ],
   "source": [
    "todos_los_tests_hamming()"
   ]
  }
 ],
 "metadata": {
  "kernelspec": {
   "display_name": "Python 3 (ipykernel)",
   "language": "python",
   "name": "python3"
  },
  "language_info": {
   "codemirror_mode": {
    "name": "ipython",
    "version": 3
   },
   "file_extension": ".py",
   "mimetype": "text/x-python",
   "name": "python",
   "nbconvert_exporter": "python",
   "pygments_lexer": "ipython3",
   "version": "3.9.5"
  },
  "nbTranslate": {
   "displayLangs": [
    "*"
   ],
   "hotkey": "alt-t",
   "langInMainMenu": true,
   "sourceLang": "en",
   "targetLang": "fr",
   "useGoogleTranslate": true
  }
 },
 "nbformat": 4,
 "nbformat_minor": 2
}
