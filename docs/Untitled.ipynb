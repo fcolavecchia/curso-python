{
 "cells": [
  {
   "cell_type": "code",
   "execution_count": 1,
   "id": "3a4e46ec",
   "metadata": {},
   "outputs": [],
   "source": [
    "def foo(n, s='Tom'):\n",
    "    \"\"\"Repeat a string multiple times.\n",
    "    Args:\n",
    "        n (int): number of times\n",
    "        s (string): target string\n",
    "    Returns:\n",
    "        (string): target string repeated n times.\n",
    "    \"\"\"\n",
    "    return s*n"
   ]
  },
  {
   "cell_type": "code",
   "execution_count": 2,
   "id": "f5d06c0b",
   "metadata": {},
   "outputs": [],
   "source": [
    "def foo2(n: int, s: str='Tom') -> str:\n",
    "    return s*n"
   ]
  },
  {
   "cell_type": "code",
   "execution_count": 3,
   "id": "543f01b1",
   "metadata": {},
   "outputs": [],
   "source": [
    "def intmul0(x,y):\n",
    "    return x*y"
   ]
  },
  {
   "cell_type": "code",
   "execution_count": 4,
   "id": "02159af1",
   "metadata": {},
   "outputs": [],
   "source": [
    "def intmul(x: int, y: int) -> int:\n",
    "    return x*y"
   ]
  },
  {
   "cell_type": "code",
   "execution_count": 5,
   "id": "6d6f87d6",
   "metadata": {},
   "outputs": [
    {
     "name": "stdout",
     "output_type": "stream",
     "text": [
      "6\n",
      "6\n",
      "6.0\n"
     ]
    }
   ],
   "source": [
    "print(intmul0(2,3))\n",
    "print(intmul(2,3))\n",
    "print(intmul(2,3.0))"
   ]
  }
 ],
 "metadata": {
  "kernelspec": {
   "display_name": "base",
   "language": "python",
   "name": "python3"
  },
  "language_info": {
   "codemirror_mode": {
    "name": "ipython",
    "version": 3
   },
   "file_extension": ".py",
   "mimetype": "text/x-python",
   "name": "python",
   "nbconvert_exporter": "python",
   "pygments_lexer": "ipython3",
   "version": "3.9.7"
  },
  "vscode": {
   "interpreter": {
    "hash": "3d597f4c481aa0f25dceb95d2a0067e73c0966dcbd003d741d821a7208527ecf"
   }
  }
 },
 "nbformat": 4,
 "nbformat_minor": 5
}
