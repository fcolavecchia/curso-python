{
 "cells": [
  {
   "attachments": {},
   "cell_type": "markdown",
   "metadata": {},
   "source": [
    "## Instalando Git\n",
    "\n",
    "En Windows, se puede descargar [Git for Windows](https://gitforwindows.org/) desde [este enlace](https://github.com/git-for-windows/git/releases/download/v2.39.2.windows.1/Git-2.39.2-64-bit.exe),  ejecutar el instalador \n",
    "y seguir las instrucciones. Viene con una terminal y una interfaz gráfica.\n",
    "\n",
    "## Buscando la clase\n",
    "\n",
    "- Abrimos la terminal de `GitBash`\n",
    "- Bajamos el repo con `git clone`:\n",
    "\n",
    "```bash\n",
    "git clone git@github.com:fcolavecchia/standard_library_python.git\n",
    "```\n",
    "\n"
   ]
  },
  {
   "attachments": {},
   "cell_type": "markdown",
   "metadata": {},
   "source": [
    "Vamos a usar herramientas de la biblioteca standard de Python para poder buscar la clase. [Busquemos](https://www.google.com/search?q=modulo+python+archivos+y+directorios&oq=modulo+python+archivos+y+directorios&aqs=chrome..69i57j33i160.12296j0j4&sourceid=chrome&ie=UTF-8).\n",
    "\n",
    "\n",
    "Importamos el módulo `os`."
   ]
  },
  {
   "cell_type": "code",
   "execution_count": null,
   "metadata": {},
   "outputs": [],
   "source": [
    "import os"
   ]
  },
  {
   "cell_type": "code",
   "execution_count": null,
   "metadata": {},
   "outputs": [],
   "source": [
    "os.getcwd() #Current working directory"
   ]
  },
  {
   "cell_type": "code",
   "execution_count": null,
   "metadata": {},
   "outputs": [],
   "source": [
    "standard_library_data_dir = '/Users/flavioc/Codes/Languages/Python/standard_library_python/data'\n",
    "\n",
    "os.chdir(standard_library_data_dir)\n",
    "print(os.getcwd())"
   ]
  },
  {
   "attachments": {},
   "cell_type": "markdown",
   "metadata": {},
   "source": [
    "Primer intento, mostramos todos los directorios y los archivos:"
   ]
  },
  {
   "cell_type": "code",
   "execution_count": null,
   "metadata": {},
   "outputs": [],
   "source": [
    "for root, dirs, files in os.walk('./'):\n",
    "    print(root,dirs,files)"
   ]
  },
  {
   "attachments": {},
   "cell_type": "markdown",
   "metadata": {},
   "source": [
    "Segundo intento, imprimo sólo los archivos:"
   ]
  },
  {
   "cell_type": "code",
   "execution_count": null,
   "metadata": {},
   "outputs": [],
   "source": [
    "for root, dirs, files in os.walk('./'):\n",
    "    for file in files: \n",
    "        file = root + \"/\" + file\n",
    "        print(file)"
   ]
  },
  {
   "attachments": {},
   "cell_type": "markdown",
   "metadata": {},
   "source": [
    "Aparecen mal concatenados los directorios y los archivos, falta el `/` correspondiente. Para eso usamos `os.path.join`. "
   ]
  },
  {
   "cell_type": "code",
   "execution_count": null,
   "metadata": {},
   "outputs": [],
   "source": [
    "for root, dirs, files in os.walk('./'):\n",
    "    for file in files: \n",
    "        file = os.path.join(root, file)\n",
    "        print(file)"
   ]
  },
  {
   "attachments": {},
   "cell_type": "markdown",
   "metadata": {},
   "source": [
    "Ahora podemos definir entonces la lista de archivos."
   ]
  },
  {
   "cell_type": "code",
   "execution_count": null,
   "metadata": {},
   "outputs": [],
   "source": [
    "def file_list(directory):\n",
    "    l = []\n",
    "    for root, dirs, files in os.walk('./'):\n",
    "        for file in files: \n",
    "            file = os.path.join(root, file)\n",
    "            l.append(file)\n",
    "    return l"
   ]
  },
  {
   "cell_type": "code",
   "execution_count": null,
   "metadata": {},
   "outputs": [],
   "source": [
    "files = file_list('./')\n",
    "print(len(files))"
   ]
  },
  {
   "attachments": {},
   "cell_type": "markdown",
   "metadata": {},
   "source": [
    "### Módulo `glob`\n",
    "\n",
    "El módulo `glob` encuentra nombres de archivos (o directorios) utilizando patrones similares a los de la consola. La función más utilizada es `glob.glob()`\n",
    "Veamos algunos ejemplos de uso:"
   ]
  },
  {
   "cell_type": "code",
   "execution_count": null,
   "metadata": {},
   "outputs": [],
   "source": [
    "import glob"
   ]
  },
  {
   "cell_type": "code",
   "execution_count": null,
   "metadata": {},
   "outputs": [],
   "source": [
    "help(glob)"
   ]
  },
  {
   "cell_type": "code",
   "execution_count": null,
   "metadata": {},
   "outputs": [],
   "source": [
    "nb_clase7= glob.glob('07*.ipynb')\n",
    "nb_clase7"
   ]
  },
  {
   "attachments": {},
   "cell_type": "markdown",
   "metadata": {},
   "source": [
    "mmm, not recursive. Try recursive:"
   ]
  },
  {
   "cell_type": "code",
   "execution_count": null,
   "metadata": {},
   "outputs": [],
   "source": [
    "nb_clase7= glob.glob('07*.ipynb', recursive=True)\n",
    "nb_clase7"
   ]
  },
  {
   "attachments": {},
   "cell_type": "markdown",
   "metadata": {},
   "source": [
    "Evidentemente el archivo no está con ese nombre. Entonces tendríamos que ver la manera de buscar algo de un archivo `.ipynb` en el directorio.\n",
    "\n",
    "Los notebooks son archivos de texto con una estructura **JSON**, para más detalles, veamos [el formato JSON del notebook](https://nbformat.readthedocs.io/en/latest/format_description.html#notebook-file-format).\n",
    "\n",
    "```json\n",
    "{\n",
    "  \"metadata\" : {\n",
    "    \"kernel_info\": {\n",
    "        # if kernel_info is defined, its name field is required.\n",
    "        \"name\" : \"the name of the kernel\"\n",
    "    },\n",
    "    \"language_info\": {\n",
    "        # if language_info is defined, its name field is required.\n",
    "        \"name\" : \"the programming language of the kernel\",\n",
    "        \"version\": \"the version of the language\",\n",
    "        \"codemirror_mode\": \"The name of the codemirror mode to use [optional]\"\n",
    "    }\n",
    "  },\n",
    "  \"nbformat\": 4,\n",
    "  \"nbformat_minor\": 0,\n",
    "  \"cells\" : [\n",
    "      # list of cell dictionaries, see below\n",
    "  ],\n",
    "}\n",
    "```"
   ]
  },
  {
   "attachments": {},
   "cell_type": "markdown",
   "metadata": {},
   "source": [
    "Ok, entonces ahora tenemos que buscar algún archivo que contenga, por ejemplo, un _string_ típico de estos archivos, por ejemplo `nbformat`."
   ]
  },
  {
   "cell_type": "code",
   "execution_count": null,
   "metadata": {},
   "outputs": [],
   "source": [
    "def find_text_in_file(text,file_name):\n",
    "    with open(file_name, 'r') as fin:\n",
    "        file_content = fin.read()\n",
    "        return (text in file_content)\n"
   ]
  },
  {
   "cell_type": "code",
   "execution_count": null,
   "metadata": {},
   "outputs": [],
   "source": [
    "clave = \"nbformat\""
   ]
  },
  {
   "cell_type": "code",
   "execution_count": null,
   "metadata": {},
   "outputs": [],
   "source": [
    "for f in files:\n",
    "    if (find_text_in_file(clave,f)):\n",
    "        file_found = f\n",
    "        break \n",
    "\n",
    "file_found    "
   ]
  },
  {
   "attachments": {},
   "cell_type": "markdown",
   "metadata": {},
   "source": [
    "### Módulo `shutil`"
   ]
  },
  {
   "attachments": {},
   "cell_type": "markdown",
   "metadata": {},
   "source": [
    "Nice. \n",
    "\n",
    "```python\n",
    "nombre_clase = \"07_modulos_biblioteca_bis.ipynb\"\n",
    "```\n",
    "- Copiarlo al directorio de trabajo con `shutil`.\n",
    "\n",
    "\n",
    "[Python dirname and basename](https://www.pythonpool.com/python-basename/).\n",
    "\n"
   ]
  },
  {
   "cell_type": "code",
   "execution_count": null,
   "metadata": {},
   "outputs": [],
   "source": [
    "import shutil"
   ]
  },
  {
   "cell_type": "code",
   "execution_count": null,
   "metadata": {},
   "outputs": [],
   "source": [
    "help(shutil.copy)"
   ]
  },
  {
   "cell_type": "code",
   "execution_count": null,
   "metadata": {},
   "outputs": [],
   "source": [
    "file_clase = \"07_modulos_biblioteca_bis.ipynb\"\n",
    "shutil.copy(file_found,file_clase)"
   ]
  },
  {
   "attachments": {},
   "cell_type": "markdown",
   "metadata": {},
   "source": [
    "### Ejercicio\n",
    "\n",
    "Además de la clase, puede también que se hayan perdido algunos cuentos de Borges en el directorio. \n",
    "Sus objetivos son\n",
    "- Encontrar alguno de esos cuentos.\n",
    "- Leerlo, si no tuvo la chance alguna vez de hacerlo.\n",
    "- Reportar en el repositorio de GitHub que el nombre del cuento, el personaje principal, y cuál es su opinión sobre el mismo, a través de un _issue_. Para ello tendría que crearse una cuenta en GitHub, ir al buscar el repositorio `fcolavecchia/standard_library_python.git`, seleccionar **Issues** y luego crear un nuevo issue con el botón `New issue`. "
   ]
  },
  {
   "cell_type": "code",
   "execution_count": null,
   "metadata": {},
   "outputs": [],
   "source": [
    "borges = \"Borges\"\n",
    "\n",
    "for f in files:\n",
    "    if (find_text_in_file(borges,f)):\n",
    "        file_found = f\n",
    "        print(file_found)\n",
    "\n",
    "   "
   ]
  },
  {
   "attachments": {},
   "cell_type": "markdown",
   "metadata": {},
   "source": [
    "#### Misc"
   ]
  },
  {
   "cell_type": "code",
   "execution_count": null,
   "metadata": {},
   "outputs": [],
   "source": [
    "import re"
   ]
  },
  {
   "cell_type": "code",
   "execution_count": null,
   "metadata": {},
   "outputs": [],
   "source": [
    "busca = \"[gat].\"\n",
    "texto = \"gato, gata, toga, perro\"\n",
    "\n",
    "for word in texto.split(','):\n",
    "  m= re.search(busca, word)\n",
    "  print('Para la línea:', word)\n",
    "  if m is None:\n",
    "    print('   No encontré nada!')\n",
    "  else:\n",
    "    print('   Encontré :', m.string)"
   ]
  },
  {
   "cell_type": "code",
   "execution_count": null,
   "metadata": {},
   "outputs": [],
   "source": [
    "pol = \"41x^4+3x^3-2222x+1\"\n",
    "busca = \"(-?\\d+)[x^|x]?(\\d?)\"\n",
    "m = re.compile(busca)\n",
    "q = m.findall(pol)\n",
    "q\n"
   ]
  },
  {
   "cell_type": "code",
   "execution_count": null,
   "metadata": {},
   "outputs": [],
   "source": [
    "s = re.findall(busca,pol)\n",
    "\n",
    "s"
   ]
  },
  {
   "attachments": {},
   "cell_type": "markdown",
   "metadata": {},
   "source": [
    "Match los monomios por separado:"
   ]
  },
  {
   "cell_type": "code",
   "execution_count": null,
   "metadata": {},
   "outputs": [],
   "source": [
    "otrobusca = \"([+-]?[^-+]+)\"\n",
    "t = re.findall(otrobusca,pol)\n",
    "t"
   ]
  },
  {
   "attachments": {},
   "cell_type": "markdown",
   "metadata": {},
   "source": [
    "Match cada monomio"
   ]
  },
  {
   "cell_type": "code",
   "execution_count": null,
   "metadata": {},
   "outputs": [],
   "source": [
    "mon = \"([-+]?([0-9]*)?(x\\^([0-9]+)?)?)+\"\n",
    "\n",
    "for m in t :\n",
    "    found = re.findall(mon,m)\n",
    "    print(found)"
   ]
  },
  {
   "cell_type": "markdown",
   "metadata": {},
   "source": []
  }
 ],
 "metadata": {
  "kernelspec": {
   "display_name": "base",
   "language": "python",
   "name": "python3"
  },
  "language_info": {
   "codemirror_mode": {
    "name": "ipython",
    "version": 3
   },
   "file_extension": ".py",
   "mimetype": "text/x-python",
   "name": "python",
   "nbconvert_exporter": "python",
   "pygments_lexer": "ipython3",
   "version": "3.9.5"
  },
  "orig_nbformat": 4,
  "vscode": {
   "interpreter": {
    "hash": "3d597f4c481aa0f25dceb95d2a0067e73c0966dcbd003d741d821a7208527ecf"
   }
  }
 },
 "nbformat": 4,
 "nbformat_minor": 2
}
