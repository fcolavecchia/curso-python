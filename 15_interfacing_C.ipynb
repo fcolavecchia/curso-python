{
 "cells": [
  {
   "cell_type": "markdown",
   "metadata": {
    "ein.tags": "worksheet-0",
    "slideshow": {
     "slide_type": "-"
    }
   },
   "source": [
    "# Interfaces con otros lenguajes: C\n",
    "\n",
    "Existen varias formas de utilizar bibliotecas o códigos hechos en C desde Python. Nosotros veremos el uso de `Ctypes`, sin embargo existen otras alternativas como  [Cython](https://cython.org/), [CFFI](https://cffi.readthedocs.io/en/latest/), [pybind11](https://pybind11.readthedocs.io/en/stable/) y [Boost.Python](https://www.boost.org/doc/libs/1_70_0/libs/python/doc/html/index.html). \n",
    "\n",
    "\n",
    "## Ejemplo 1: Problema a resolver\n",
    "\n",
    "Supongamos que queremos resolver el problema de la rotación de vectores en el espacio usando los tres ángulos de Euler.\n",
    "\n"
   ]
  },
  {
   "cell_type": "code",
   "execution_count": 1,
   "metadata": {
    "autoscroll": false,
    "ein.tags": "worksheet-0",
    "slideshow": {
     "slide_type": "-"
    }
   },
   "outputs": [],
   "source": [
    "import numpy as np"
   ]
  },
  {
   "cell_type": "code",
   "execution_count": 2,
   "metadata": {
    "autoscroll": false,
    "ein.tags": "worksheet-0",
    "slideshow": {
     "slide_type": "-"
    }
   },
   "outputs": [
    {
     "data": {
      "text/plain": [
       "'/Users/flavioc/Library/Mobile Documents/com~apple~CloudDocs/Documents/cursos/curso-python'"
      ]
     },
     "execution_count": 2,
     "metadata": {},
     "output_type": "execute_result"
    }
   ],
   "source": [
    "pwd"
   ]
  },
  {
   "cell_type": "markdown",
   "metadata": {
    "ein.tags": "worksheet-0",
    "slideshow": {
     "slide_type": "-"
    }
   },
   "source": [
    "Si ya tenemos un módulo donde están programadas las funciones necesarias "
   ]
  },
  {
   "cell_type": "code",
   "execution_count": 3,
   "metadata": {
    "autoscroll": false,
    "ein.tags": "worksheet-0",
    "slideshow": {
     "slide_type": "-"
    }
   },
   "outputs": [],
   "source": [
    "# %load rotacion_p.py\n",
    "#! /usr/bin/ipython3\n",
    "import numpy as np\n",
    "\n",
    "\n",
    "def matrix_rotation(angles):\n",
    "  cx, cy, cz = np.cos(angles)\n",
    "  sx, sy, sz = np.sin(angles)\n",
    "  R = np.zeros((3, 3))\n",
    "  R[0, 0] = cx * cz - sx * cy * sz\n",
    "  R[0, 1] = cx * sz + sx * cy * cz\n",
    "  R[0, 2] = sx * sy\n",
    "\n",
    "  R[1, 0] = -sx * cz - cx * cy * sz\n",
    "  R[1, 1] = -sx * sz + cx * cy * cz\n",
    "  R[1, 2] = cx * sy\n",
    "\n",
    "  R[2, 0] = sy * sz\n",
    "  R[2, 1] = -sy * cz\n",
    "  R[2, 2] = cy\n",
    "  return R\n",
    "\n",
    "\n",
    "def rotate(angles, v):\n",
    "  return np.dot(matrix_rotation(angles), v)\n"
   ]
  },
  {
   "cell_type": "markdown",
   "metadata": {
    "ein.tags": "worksheet-0",
    "slideshow": {
     "slide_type": "-"
    }
   },
   "source": [
    "es fácil utilizarlas. Las importamos y utilizamos"
   ]
  },
  {
   "cell_type": "code",
   "execution_count": 4,
   "metadata": {
    "autoscroll": false,
    "ein.tags": "worksheet-0",
    "slideshow": {
     "slide_type": "-"
    }
   },
   "outputs": [],
   "source": [
    "# import rotacion_p as rotp\n",
    "N = 100\n",
    "# Ángulos de Euler\n",
    "angle = np.random.random(3)\n",
    "# Definimos N vectores tridimensionales\n",
    "v = np.random.random((3, N))"
   ]
  },
  {
   "cell_type": "code",
   "execution_count": 5,
   "metadata": {
    "autoscroll": false,
    "ein.tags": "worksheet-0",
    "slideshow": {
     "slide_type": "-"
    }
   },
   "outputs": [],
   "source": [
    "# y= rotp.rotate(angle, v)\n",
    "y = rotate(angle,v)"
   ]
  },
  {
   "cell_type": "code",
   "execution_count": 6,
   "metadata": {
    "autoscroll": false,
    "ein.tags": "worksheet-0",
    "slideshow": {
     "slide_type": "-"
    }
   },
   "outputs": [
    {
     "name": "stdout",
     "output_type": "stream",
     "text": [
      "[0.44275014 0.971053   0.32558307]\n",
      "[[ 0.74833449  0.4028331   0.29166983]\n",
      " [ 0.70050088 -0.05216997 -0.26498235]\n",
      " [ 0.78950523  0.46277252 -0.54908809]\n",
      " [ 1.05508578  0.60657303 -0.10369716]\n",
      " [ 0.33969743  0.29746622  0.26276208]]\n"
     ]
    }
   ],
   "source": [
    "print(angle)\n",
    "print(y[:,0:5].T)"
   ]
  },
  {
   "cell_type": "markdown",
   "metadata": {
    "ein.tags": "worksheet-0",
    "slideshow": {
     "slide_type": "-"
    }
   },
   "source": [
    "## Interfaces con C\n",
    "\n",
    "Veamos cómo trabajar si tenemos el código para realizar las rotaciones en C.\n",
    "\n",
    "### Primer ejemplo: Nuestro código\n",
    "\n",
    "El código en C que tenemos es:\n",
    "\n",
    "```c\n",
    " typedef struct {\n",
    "      float m[3][3];\n",
    "    } m3x3;\n",
    "\n",
    "    typedef struct {\n",
    "      float a[3];\n",
    "    } v3;\n",
    "    \n",
    "...\n",
    "\n",
    "float * rotate(float angles[3], float *v, int N){\n",
    "\n",
    "        m3x3 R = matrix_rotation(angles);\n",
    "        \n",
    "        float* y = (float*)malloc(3*N*sizeof(float));\n",
    "        v3 p;\n",
    "\n",
    "        printf(\"%p\\n\",y);\n",
    "        for(int i=0; i<N; i++){\n",
    "            // p = &y[i*3];\n",
    "            p = matmul3(R,&v[i*3]);\n",
    "            y[i*3+0] = p.a[0];\n",
    "            y[i*3+1] = p.a[1];\n",
    "            y[i*3+2] = p.a[2];\n",
    "            // printf(\"%6.3f %6.3f %6.3f \\n\",y[i*3+0],y[i*3+1],y[i*3+2]);\n",
    "        }\n",
    "        return y;\n",
    "\n",
    "\n",
    "  }\n",
    "\n",
    "```"
   ]
  },
  {
   "cell_type": "code",
   "execution_count": 7,
   "metadata": {},
   "outputs": [
    {
     "name": "stdout",
     "output_type": "stream",
     "text": [
      "/Users/flavioc/Library/Mobile Documents/com~apple~CloudDocs/Documents/cursos/curso-python/interfacing_C\n"
     ]
    }
   ],
   "source": [
    "cd interfacing_C"
   ]
  },
  {
   "cell_type": "code",
   "execution_count": 8,
   "metadata": {},
   "outputs": [
    {
     "name": "stdout",
     "output_type": "stream",
     "text": [
      "#include<stdio.h>\r\n",
      "#include<stdlib.h>\r\n",
      "#include<math.h> \r\n",
      "\r\n",
      "\r\n",
      "    typedef struct {\r\n",
      "      float m[3][3];\r\n",
      "    } m3x3;\r\n",
      "\r\n",
      "    typedef struct {\r\n",
      "      float a[3];\r\n",
      "    } v3;\r\n",
      "\r\n",
      "  // !> matrix_rotation\r\n",
      "  // !! Crea la matriz de rotación correspondiente a los tres ángulos de Euler\r\n",
      "  // !! \r\n",
      "  // !! @param angles \r\n",
      "  // !! @return R\r\n",
      "\r\n",
      "    m3x3 matrix_rotation(float angles[3]){\r\n",
      "\r\n",
      "        m3x3 R;\r\n",
      "\r\n",
      "        float cx = cos(angles[0]); \r\n",
      "        float cy = cos(angles[1]); \r\n",
      "        float cz = cos(angles[2]);\r\n",
      "        float sx = sin(angles[0]); \r\n",
      "        float sy = sin(angles[1]); \r\n",
      "        float sz = sin(angles[2]);\r\n",
      "\r\n",
      "\r\n",
      "        R.m[0][0] = cx*cz - sx*cy*sz;\r\n",
      "        R.m[0][1] = cx*sz + sx*cy*cz;\r\n",
      "        R.m[0][2] = sx*sy;\r\n",
      "\r\n",
      "        R.m[1][0] = -sx*cz - cx*cy*sz;\r\n",
      "        R.m[1][1] = -sx*sz + cx*cy*cz;\r\n",
      "        R.m[1][2] = cx*sy;\r\n",
      "\r\n",
      "        R.m[2][0] = sy*sz;\r\n",
      "        R.m[2][1] = -sy*cz;\r\n",
      "        R.m[2][2] = cy;\r\n",
      "\r\n",
      "        return R;\r\n",
      "  }\r\n",
      "\r\n",
      "  v3 matmul3(m3x3 A, float b[3]){\r\n",
      "\r\n",
      "      static v3 a;\r\n",
      "\r\n",
      "      for(int i=0; i < 3; i++){\r\n",
      "            a.a[0] = A.m[0][0] * b[0] + A.m[0][1] * b[1] + A.m[0][2] * b[2];\r\n",
      "            a.a[1] = A.m[1][0] * b[0] + A.m[1][1] * b[1] + A.m[1][2] * b[2];\r\n",
      "            a.a[2] = A.m[2][0] * b[0] + A.m[2][1] * b[1] + A.m[2][2] * b[2];\r\n",
      "          }\r\n",
      "    //  printf(\"%6.3f %6.3f %6.3f \\n\",a[0],a[1],a[2]);\r\n",
      "\r\n",
      "      return a;\r\n",
      "  }\r\n",
      "\r\n",
      "\r\n",
      "\r\n",
      "    float * rotate(float angles[3], float *v, int N){\r\n",
      "        \r\n",
      "        m3x3 R = matrix_rotation(angles);\r\n",
      "        \r\n",
      "\r\n",
      "        float* y = (float*)malloc(3*N*sizeof(float));\r\n",
      "        v3 p;\r\n",
      "\r\n",
      "        printf(\"%p\\n\",y);\r\n",
      "        for(int i=0; i<N; i++){\r\n",
      "            // p = &y[i*3];\r\n",
      "            p = matmul3(R,&v[i*3]);\r\n",
      "            y[i*3+0] = p.a[0];\r\n",
      "            y[i*3+1] = p.a[1];\r\n",
      "            y[i*3+2] = p.a[2];\r\n",
      "            // printf(\"%6.3f %6.3f %6.3f \\n\",y[i*3+0],y[i*3+1],y[i*3+2]);\r\n",
      "        }\r\n",
      "        return y;\r\n",
      "\r\n",
      "\r\n",
      "  }\r\n",
      "\r\n",
      "\r\n",
      "int main(){\r\n",
      "\r\n",
      "  float angle[3] = { 0.0f, 0.0f, 3.141592f/2.0f};\r\n",
      "\r\n",
      "  m3x3 R;\r\n",
      "\r\n",
      "  int NDIM = 2;\r\n",
      "  float* v = (float*)malloc(3*NDIM*sizeof(float));\r\n",
      "\r\n",
      "  float *y;\r\n",
      "\r\n",
      "  for (size_t j = 0; j < NDIM; j++)\r\n",
      "      {\r\n",
      "            v[j*3+0] = (j*3+0)*1.0f;\r\n",
      "            v[j*3+1] = (j*3+1)*1.0f;\r\n",
      "            v[j*3+2] = (j*3+2)*1.0f;\r\n",
      "      }\r\n",
      "\r\n",
      "  v[0] = (1)*1.0f;\r\n",
      "  v[1] = (0)*1.0f;\r\n",
      "  v[2] = (0)*1.0f;\r\n",
      "  v[3] = (0)*1.0f;\r\n",
      "  v[4] = (1)*1.0f;  \r\n",
      "  v[5] = (0)*1.0f;\r\n",
      "\r\n",
      "\r\n",
      "\r\n",
      "  R = matrix_rotation(angle);\r\n",
      "\r\n",
      "    for(int i = 0; i < 3; i++){\r\n",
      "        for(int j = 0; j < 3; j++){\r\n",
      "            printf(\"%6.3f\",R.m[i][j]);\r\n",
      "            printf(\"   \");\r\n",
      "        }\r\n",
      "        printf(\"\\n\");\r\n",
      "    }\r\n",
      "\r\n",
      "  y = rotate(angle,v,NDIM);\r\n",
      "  printf(\"%6.3f %6.3f %6.3f \\n\",y[0],y[1],y[2]);\r\n",
      "  printf(\"%6.3f %6.3f %6.3f \\n\",y[3],y[4],y[5]);\r\n",
      "  // for (size_t i = 0; i < NDIM; i++)\r\n",
      "  // {\r\n",
      "  //    printf(\"%6.3f %6.3f %6.3f \\n\",y[i*3],y[i*3+1],y[i*3+2]);\r\n",
      "  // }\r\n",
      "  \r\n",
      "\r\n",
      "}  \r\n"
     ]
    }
   ],
   "source": [
    "!cat rotacion.c"
   ]
  },
  {
   "cell_type": "markdown",
   "metadata": {
    "ein.tags": "worksheet-0",
    "slideshow": {
     "slide_type": "-"
    }
   },
   "source": [
    "### CTypes\n",
    "\n",
    "No vamos a usar directamente `Ctypes`, sino a través de `NumPy`, que provee algunas funciones convenientes para acceder al código C."
   ]
  },
  {
   "cell_type": "markdown",
   "metadata": {
    "ein.tags": "worksheet-0",
    "slideshow": {
     "slide_type": "-"
    }
   },
   "source": [
    "El primer paso es compilar nuestro código y generar una biblioteca:\n",
    "```bash\n",
    "$ gcc -fpic -Wall -shared rotacion.c -o librotacion.so\n",
    "```\n",
    "\n",
    "Si uno trabaja en Windows, generará una dll\n",
    "\n",
    "```cmd\n",
    "cl.exe -c rotacion.c\n",
    "link.exe /DLL /OUT:rotacion.dll\n",
    "```\n"
   ]
  },
  {
   "cell_type": "code",
   "execution_count": 9,
   "metadata": {
    "autoscroll": false,
    "ein.tags": "worksheet-0",
    "slideshow": {
     "slide_type": "-"
    }
   },
   "outputs": [],
   "source": [
    "!gcc -fpic -Wall -shared rotacion.c -o librotacion.so"
   ]
  },
  {
   "cell_type": "code",
   "execution_count": 10,
   "metadata": {},
   "outputs": [
    {
     "name": "stdout",
     "output_type": "stream",
     "text": [
      "\u001b[31mlibrotacion.so\u001b[m\u001b[m rotacion.c\r\n"
     ]
    }
   ],
   "source": [
    "!ls"
   ]
  },
  {
   "cell_type": "markdown",
   "metadata": {},
   "source": [
    "En segundo lugar, importamos el módulo `ctypeslib`"
   ]
  },
  {
   "cell_type": "code",
   "execution_count": 11,
   "metadata": {
    "autoscroll": false,
    "ein.tags": "worksheet-0",
    "slideshow": {
     "slide_type": "-"
    }
   },
   "outputs": [],
   "source": [
    "import numpy.ctypeslib as ctl"
   ]
  },
  {
   "cell_type": "markdown",
   "metadata": {},
   "source": [
    "Este módulo nos provee de la función `load_library` para importar la biblioteca"
   ]
  },
  {
   "cell_type": "code",
   "execution_count": 12,
   "metadata": {},
   "outputs": [
    {
     "name": "stdout",
     "output_type": "stream",
     "text": [
      "Help on function load_library in module numpy.ctypeslib:\n",
      "\n",
      "load_library(libname, loader_path)\n",
      "    It is possible to load a library using\n",
      "    >>> lib = ctypes.cdll[<full_path_name>] # doctest: +SKIP\n",
      "    \n",
      "    But there are cross-platform considerations, such as library file extensions,\n",
      "    plus the fact Windows will just load the first library it finds with that name.\n",
      "    NumPy supplies the load_library function as a convenience.\n",
      "    \n",
      "    Parameters\n",
      "    ----------\n",
      "    libname : str\n",
      "        Name of the library, which can have 'lib' as a prefix,\n",
      "        but without an extension.\n",
      "    loader_path : str\n",
      "        Where the library can be found.\n",
      "    \n",
      "    Returns\n",
      "    -------\n",
      "    ctypes.cdll[libpath] : library object\n",
      "       A ctypes library object\n",
      "    \n",
      "    Raises\n",
      "    ------\n",
      "    OSError\n",
      "        If there is no library with the expected extension, or the\n",
      "        library is defective and cannot be loaded.\n",
      "\n"
     ]
    }
   ],
   "source": [
    "help(ctl.load_library)"
   ]
  },
  {
   "cell_type": "code",
   "execution_count": 13,
   "metadata": {},
   "outputs": [],
   "source": [
    "rotc = ctl.load_library('librotacion.so','.')"
   ]
  },
  {
   "cell_type": "markdown",
   "metadata": {},
   "source": [
    "Una vez cargada la biblioteca, tenemos que definir adecuadamente cómo pasar los argumentos a la función `rotate` de C:\n",
    "\n",
    "```C\n",
    "    float * rotate(float angles[3], float *v, int N)\n",
    "```\n",
    "\n",
    "Para eso se utiliza la función `argtypes` que recibe una lista de tipos. Notemos que los dos primeros argumentos son arreglos de C (o sea, punteros), mientras que el último es un entero."
   ]
  },
  {
   "cell_type": "code",
   "execution_count": 14,
   "metadata": {},
   "outputs": [],
   "source": [
    "npflags = ['C_CONTIGUOUS']   # Require a C contiguous array in memory\n",
    "\n",
    "float_1d_type = ctl.ndpointer(dtype=np.float32, ndim=1, flags=npflags) # Puntero a float, 1D\n",
    "float_2d_type = ctl.ndpointer(dtype=np.float32, ndim=2, flags=npflags) # Puntero a float, 2D"
   ]
  },
  {
   "cell_type": "markdown",
   "metadata": {},
   "source": [
    "Con estos tipos de datos, defino los tipos de argumentos, que son tres en total. El último es un dato de tipo entero, para lo cual se usa directamente `c_intp`."
   ]
  },
  {
   "cell_type": "code",
   "execution_count": 15,
   "metadata": {},
   "outputs": [],
   "source": [
    "rotc.rotate.argtypes =  [float_1d_type, float_2d_type, ctl.c_intp]"
   ]
  },
  {
   "cell_type": "markdown",
   "metadata": {},
   "source": [
    "Hagamos un ejemplo sencillo con N=2"
   ]
  },
  {
   "cell_type": "code",
   "execution_count": 16,
   "metadata": {
    "autoscroll": false,
    "ein.tags": "worksheet-0",
    "slideshow": {
     "slide_type": "-"
    }
   },
   "outputs": [],
   "source": [
    "# import rotacion_p as rotp\n",
    "N = 2\n",
    "# Ángulos de Euler\n",
    "angle = np.random.random(3).astype(np.float32)\n",
    "# Definimos N vectores tridimensionales\n",
    "v = np.random.random((3, N)).astype(np.float32)"
   ]
  },
  {
   "cell_type": "markdown",
   "metadata": {},
   "source": [
    "Las funciones que dispongo en C reciben tipos `float`, es decir que me tengo que asegurar esto a través del método `astype`."
   ]
  },
  {
   "cell_type": "markdown",
   "metadata": {},
   "source": [
    "Ahora tenemos que definir el tipo de dato de salida, que retorna C a través de un puntero a float, `float*`. Para esto usamos el método `restype`. Como a priori no sé qué tipo de rango tiene mi arreglo de salida, tengo que definirlo explícitamente. "
   ]
  },
  {
   "cell_type": "code",
   "execution_count": 17,
   "metadata": {},
   "outputs": [],
   "source": [
    "rotc.rotate.restype = ctl.ndpointer(dtype=np.float32, shape=(N,3)) "
   ]
  },
  {
   "cell_type": "markdown",
   "metadata": {},
   "source": [
    "Hay que tener precaución con el manejo de arreglos, que es muy distinto en C y Python. En Python son objetos, de los cuales yo puedo tener distintas vistas, slices, etc. Hay que recordar que en principio estas son formas de acceder al mismo objeto, pero no se pueden traducir directamente a C, que necesita un arreglo contiguo de datos."
   ]
  },
  {
   "cell_type": "code",
   "execution_count": 33,
   "metadata": {},
   "outputs": [
    {
     "name": "stdout",
     "output_type": "stream",
     "text": [
      "(3, 2)\n",
      "(2, 3)\n"
     ]
    }
   ],
   "source": [
    "v = np.array([[1,0], [0,1], [0,0]]).astype(np.float32) \n",
    "vt = v.T.copy()\n",
    "\n",
    "print(np.shape(v))\n",
    "print(np.shape(v.T))"
   ]
  },
  {
   "cell_type": "markdown",
   "metadata": {},
   "source": [
    "Veamos, v es un arreglo de 3 filas y 2 columnas, que contiene *dos* vectores de tres dimensiones que se desean rotar, organizados como columnas. Esto *no* es lo que necesita mi arreglo en C, que es tiene los vectores organizados contiguamente en un solo arreglo unidimensional. Entonces, tengo que transformarlo. Para eso usamos el `.T`. Ojo que además, hay que crear un objeto nuevo con `copy()`, sino es una vista del mismo objeto `v`."
   ]
  },
  {
   "cell_type": "code",
   "execution_count": 34,
   "metadata": {},
   "outputs": [],
   "source": [
    "angle90 = np.array([0,0,np.pi/2],dtype = np.float32)"
   ]
  },
  {
   "cell_type": "code",
   "execution_count": 35,
   "metadata": {
    "autoscroll": false,
    "ein.tags": "worksheet-0",
    "slideshow": {
     "slide_type": "-"
    }
   },
   "outputs": [],
   "source": [
    "yf = rotc.rotate(angle90,\n",
    "                      vt,\n",
    "                      N) \n",
    "y = rotate(angle90,v)"
   ]
  },
  {
   "cell_type": "code",
   "execution_count": 36,
   "metadata": {
    "autoscroll": false,
    "ein.tags": "worksheet-0",
    "slideshow": {
     "slide_type": "-"
    }
   },
   "outputs": [
    {
     "name": "stdout",
     "output_type": "stream",
     "text": [
      "[[-0.00000004  1.        ]\n",
      " [-1.         -0.00000004]\n",
      " [ 0.          0.        ]]\n",
      "[[-0.00000004  1.        ]\n",
      " [-1.         -0.00000004]\n",
      " [ 0.          0.        ]]\n"
     ]
    },
    {
     "data": {
      "text/plain": [
       "True"
      ]
     },
     "execution_count": 36,
     "metadata": {},
     "output_type": "execute_result"
    }
   ],
   "source": [
    "np.set_printoptions(suppress=True)\n",
    "\n",
    "print(y)\n",
    "print(yf.T)\n",
    "np.allclose(y,yf.T)"
   ]
  }
 ],
 "metadata": {
  "kernelspec": {
   "display_name": "Python 3 (ipykernel)",
   "language": "python",
   "name": "python3"
  },
  "language_info": {
   "codemirror_mode": {
    "name": "ipython",
    "version": 3
   },
   "file_extension": ".py",
   "mimetype": "text/x-python",
   "name": "python",
   "nbconvert_exporter": "python",
   "pygments_lexer": "ipython3",
   "version": "3.9.5"
  },
  "name": "Untitled.ipynb",
  "toc": {
   "base_numbering": 1,
   "nav_menu": {},
   "number_sections": true,
   "sideBar": true,
   "skip_h1_title": false,
   "title_cell": "Contenidos",
   "title_sidebar": "Contenidos",
   "toc_cell": false,
   "toc_position": {},
   "toc_section_display": true,
   "toc_window_display": true
  }
 },
 "nbformat": 4,
 "nbformat_minor": 1
}
