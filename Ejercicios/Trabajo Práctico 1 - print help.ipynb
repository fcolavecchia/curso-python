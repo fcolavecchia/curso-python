{
 "cells": [
  {
   "cell_type": "markdown",
   "metadata": {},
   "source": [
    "\n",
    "\n",
    "\n",
    "# Introducción a Python\n",
    "\n",
    "## Trabajo práctico 1"
   ]
  },
  {
   "cell_type": "markdown",
   "metadata": {},
   "source": [
    "### *Ayuda con `print`*\n",
    "\n",
    "Supongamos que tenemos una lista de números, y queremos imprimirlos tal como indica el ejercicio 2:\n",
    "\n"
   ]
  },
  {
   "cell_type": "markdown",
   "metadata": {},
   "source": [
    ">> ### 2 Loops\n",
    "Encuentre todos los números enteros, entre 2000 y 3000 (incluídos), que sean divisibles por 7, pero que no sean múltiplos de 5. La función debe imprimir los números encontrados en una sola línea, separados por comas."
   ]
  },
  {
   "cell_type": "code",
   "execution_count": 2,
   "metadata": {},
   "outputs": [],
   "source": [
    "lista = [2,3,5,8,13]"
   ]
  },
  {
   "cell_type": "code",
   "execution_count": 20,
   "metadata": {},
   "outputs": [
    {
     "name": "stdout",
     "output_type": "stream",
     "text": [
      "lista:  [2, 3, 5, 8, 13]\n",
      "235813\n",
      "2,3,5,8,13,\n"
     ]
    }
   ],
   "source": [
    "print('lista: ',lista)\n",
    "\n",
    "for n in lista:\n",
    "    print(n, end='')  # Imprime en una sola línea\n",
    "    \n",
    "print()               # Imprime el 'retorno de carro', permitiendo imprimir en una nueva línea\n",
    "for n in lista:\n",
    "    print(n, end=',') # Imprime en una sola línea, separado por comas, pero deja una coma al final.\n",
    "\n"
   ]
  },
  {
   "cell_type": "markdown",
   "metadata": {},
   "source": [
    "¿Cómo podría entonces dejar de imprimir la última coma? Lo que quiero es que en el último elemento de la lista **no** imprima la coma después del número, pero todos los otros sí. \n",
    "¿Quizás usando un `if...else`? ¿Qué tendría que comparar?"
   ]
  }
 ],
 "metadata": {
  "kernelspec": {
   "display_name": "Python 3",
   "language": "python",
   "name": "python3"
  },
  "language_info": {
   "codemirror_mode": {
    "name": "ipython",
    "version": 3
   },
   "file_extension": ".py",
   "mimetype": "text/x-python",
   "name": "python",
   "nbconvert_exporter": "python",
   "pygments_lexer": "ipython3",
   "version": "3.7.2"
  }
 },
 "nbformat": 4,
 "nbformat_minor": 2
}
