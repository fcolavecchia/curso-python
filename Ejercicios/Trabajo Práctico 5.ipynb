{
 "cells": [
  {
   "cell_type": "markdown",
   "metadata": {},
   "source": [
    "# Maestría en Física Médica - Taller de Informática\n",
    "\n",
    "\n",
    "# NumPy\n",
    "\n",
    "## Trabajo práctico 5"
   ]
  },
  {
   "cell_type": "markdown",
   "metadata": {},
   "source": [
    "### 1 Creando arrays\n",
    "\n",
    "- Crear un arreglo que represente 64 subdivisiones en el rango -1.3 a 2.5.\n",
    "- Generar un arreglo de largo $3n$ con el patrón cíclico 1, 2, 3, es decir `[1,2,3,1,2,3,1...]`.\n",
    "- Crear un arreglo con los 20 primeros números enteros impares.\n",
    "- Crear un arreglo de 10 x 10 con ceros, y luego modificarlos para que todos sus bordes contengan 1.\n",
    "\n",
    "\n",
    "\n"
   ]
  },
  {
   "cell_type": "markdown",
   "metadata": {},
   "source": [
    "### 2 Operando con arrays\n",
    "- Generere un array de 10 x 3 de números aleatorios (en el rango [0,1]). Por cada fila, encuentre el número más cercano a 0.5.\n",
    "- Construya con Numpy la siguiente matriz\n",
    "\\begin{equation*}\n",
    "\\mathbf{A} =  \\begin{pmatrix}\n",
    "0 & 1 & 3 \\\\\n",
    "0 & 0 & -2\\\\\n",
    "0 & 0 & 0\n",
    "\\end{pmatrix}\n",
    "\\end{equation*}\n",
    "y muestre que es *nilpotente de orden 3*, esto es:\n",
    "$$\n",
    "\\mathbf{A}^3 = 0.\n",
    "$$"
   ]
  },
  {
   "cell_type": "markdown",
   "metadata": {},
   "source": [
    "### 3 `meshgrid`\n",
    "\n",
    "Suponga que tenemos una grilla de 101x101 puntos en un plano, formando un arreglo cuadrado. Las coordenadas de estos puntos van de -10 a 10 cm en la dirección $x$ y de -10 a 10 cm en la dirección $y$ (esto produce que el punto central de la grilla tenga coordenadas $(x,y)=(0, 0)$). Suponiendo que el plano donde está contenida la grilla posee coordenada $z$ = 100 cm, calcule la distancia de todos los puntos al origen.\n",
    "\n",
    "Ayuda: vea la documentación de la función `meshgrid`."
   ]
  }
 ],
 "metadata": {
  "kernelspec": {
   "display_name": "Python 3",
   "language": "python",
   "name": "python3"
  },
  "language_info": {
   "codemirror_mode": {
    "name": "ipython",
    "version": 3
   },
   "file_extension": ".py",
   "mimetype": "text/x-python",
   "name": "python",
   "nbconvert_exporter": "python",
   "pygments_lexer": "ipython3",
   "version": "3.7.10"
  }
 },
 "nbformat": 4,
 "nbformat_minor": 2
}
