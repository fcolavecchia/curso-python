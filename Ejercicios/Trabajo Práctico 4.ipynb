{
 "cells": [
  {
   "cell_type": "markdown",
   "metadata": {},
   "source": [
    "# Maestría en Física Médica - Taller de Informática\n",
    "\n",
    "\n",
    "# Módulos\n",
    "\n",
    "## Trabajo práctico 4"
   ]
  },
  {
   "cell_type": "markdown",
   "metadata": {},
   "source": [
    "### 1 Un poco de estadística\n",
    "\n",
    "Utilice el módulo `random` para simular las tiradas de un dado. Para ver si el generador de números aleatorios que utiliza dicho módulo es bueno, obtenga el promedio del valor obtenido en un número grande de tiradas. Para ello use el prototipo de función que se indica a continuación.\n"
   ]
  },
  {
   "cell_type": "code",
   "execution_count": 1,
   "metadata": {},
   "outputs": [],
   "source": [
    "def dado(n_tiradas):\n",
    "    \"\"\"\n",
    "        función que simula un número de tiradas `n_tiradas` \n",
    "        de un dado de 6 caras, retornando el promedio del valor \n",
    "        obtenido en las mismas.\n",
    "    \"\"\"\n",
    "    promedio = 0.0\n",
    "    #\n",
    "    #   TO DO: \n",
    "    #\n",
    "    \n",
    "    return promedio\n",
    "    "
   ]
  },
  {
   "cell_type": "code",
   "execution_count": 2,
   "metadata": {},
   "outputs": [
    {
     "name": "stdout",
     "output_type": "stream",
     "text": [
      "Help on function dado in module __main__:\n",
      "\n",
      "dado(n_tiradas)\n",
      "    función que simula un número de tiradas `n_tiradas` \n",
      "    de un dado de 6 caras, retornando el promedio del valor \n",
      "    obtenido en las mismas.\n",
      "\n"
     ]
    }
   ],
   "source": [
    "help(dado)"
   ]
  },
  {
   "cell_type": "markdown",
   "metadata": {},
   "source": [
    "#### Esperanza de una variable aleatoria\n",
    "\n",
    "Consideremos una variable aleatoria $x$ que puede tomar los valores $x_1, x_2, \\cdots, x_n$, con probabilidades $p_1, p_2, \\cdots, p_n$, respectivamente. Por ejemplo, en el caso de la tirada de un dado de 6 caras:\n",
    "$$ x_1,x_2,\\cdots,x_6 = 1,2,\\cdots,6 $$\n",
    "mientras que si el dado está balanceado, $p_i=\\frac16$.\n",
    "\n",
    "El promedio se obtiene como:\n",
    "$$\\bar{x} = \\sum_{i=1}^n p_i x_i.$$\n"
   ]
  },
  {
   "cell_type": "code",
   "execution_count": null,
   "metadata": {},
   "outputs": [],
   "source": []
  },
  {
   "cell_type": "markdown",
   "metadata": {},
   "source": [
    "### 2 ¿Falta mucho?\n",
    "\n",
    "Usando las funciones del módulo `datetime`, construya la función"
   ]
  },
  {
   "cell_type": "code",
   "execution_count": null,
   "metadata": {},
   "outputs": [],
   "source": [
    "def falta_mucho():\n",
    "    \n",
    "    pass"
   ]
  },
  {
   "cell_type": "markdown",
   "metadata": {},
   "source": [
    "que devuelve cuántos días faltan para que termine el semestre de cursada de la maestría. Para conocer ese dato, consulte el calendario académico en www.ib.edu.ar. Observe que el número de días va a depender del día en que se ejecuta la función..."
   ]
  },
  {
   "cell_type": "markdown",
   "metadata": {},
   "source": [
    "### 3  Sistema operativo\n",
    "\n",
    "Utilice el módulo `platform` para encontrar el nombre de la máquina en la cual está trabajando, y la versión de Python que se encuentra corriendo. Consulte la documentación pertinente en los [docs de la biblioteca standard de Python](https://docs.python.org/3/library/)."
   ]
  },
  {
   "cell_type": "markdown",
   "metadata": {},
   "source": [
    "### 4 Calculando $\\pi$\n",
    "\n",
    "Estimar el valor de  $\\pi$  por Monte Carlo. Cree una función para calcular el valor de  $\\pi$ usando el \"método de cociente de áreas\". Para ello:\n",
    "\n",
    "- Generar  *N*  puntos aleatorios en el plano dentro del cuadrado de lado unidad cuyo lado inferior va de  $x=0$  a  $x=1$. \n",
    "- Contar cuantos puntos caen dentro del (cuarto de) círculo unidad. Este número tiende a ser proporcional al área del círculo.\n",
    "\n",
    "La estimación de  $\\pi$ será igual a cuatro veces el cociente de números dentro del círculo dividido por el número total de puntos. El argumento de su función, debe ser la cantidad  N  de puntos generados.\n",
    "\n",
    "Utilizar la función con diferentes valores de  N . En particular, hacerlo para 20 valores de  N  equiespaciados logarítmicamente entre 100 y 10000. Para cada valor de  N  calcular la estimación de  $\\pi$, imprimiendo una tabla que muestre dichos resultados."
   ]
  },
  {
   "cell_type": "code",
   "execution_count": 3,
   "metadata": {},
   "outputs": [],
   "source": [
    "from math import *               # modulo para tener log\n",
    "\n",
    "def puntos_en_el_circulo(n):\n",
    "    \"\"\"Dados n números aleatorios, esta función\n",
    "       cuenta cuántos puntos caen en el círculo\n",
    "       de radio unidad.\n",
    "       \"\"\"\n",
    "    pass\n"
   ]
  }
 ],
 "metadata": {
  "kernelspec": {
   "display_name": "Python 3",
   "language": "python",
   "name": "python3"
  },
  "language_info": {
   "codemirror_mode": {
    "name": "ipython",
    "version": 3
   },
   "file_extension": ".py",
   "mimetype": "text/x-python",
   "name": "python",
   "nbconvert_exporter": "python",
   "pygments_lexer": "ipython3",
   "version": "3.7.10"
  }
 },
 "nbformat": 4,
 "nbformat_minor": 2
}
