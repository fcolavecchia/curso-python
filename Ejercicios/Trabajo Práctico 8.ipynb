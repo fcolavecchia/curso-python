{
 "cells": [
  {
   "cell_type": "markdown",
   "metadata": {},
   "source": [
    "\n",
    "\n",
    "\n",
    "# Interpolación\n",
    "\n",
    "## Trabajo práctico 8"
   ]
  },
  {
   "cell_type": "code",
   "execution_count": 4,
   "metadata": {},
   "outputs": [],
   "source": [
    "import matplotlib.pyplot as plt\n",
    "import numpy as np"
   ]
  },
  {
   "cell_type": "markdown",
   "metadata": {},
   "source": [
    "### 1 Lookup\n",
    "\n",
    "El propósito de este ejercicio es programar la función lookup que se definió en clase: dado un array `xData` de valores distintos ordenados en forma creciente $x_0, x_1,\\cdots,x_{n-1}$ y una variable `x`=$x$, tal que $x_0\\le x < x_{n-1}$, la función `lookup(x,xData,n)` devuelve\n",
    "\n",
    "- el índice $i$ del intervalo $[x_i,x_{i+1}]$ si $x_i\\le x < x_{i+1}$.\n",
    "- $0$ si $x < x_0$\n",
    "- $n-1$ si $x \\ge x_{n-1}$\n"
   ]
  },
  {
   "cell_type": "code",
   "execution_count": 12,
   "metadata": {},
   "outputs": [],
   "source": [
    "def lookup(x,xData,n):\n",
    "    '''\n",
    "    dado un array xData de n  valores distintos ordenados en forma creciente \n",
    "    y un valor x, devuelve\n",
    "\n",
    "        - el índice i del intervalo [x_i,x_{i+1}] si x_i <= x < x_{i+1}.\n",
    "        - 0 si x < x_0\n",
    "        - n-1 si x \\ge x_n-1\n",
    "    '''\n",
    "    pass\n",
    "    \n",
    "    "
   ]
  },
  {
   "cell_type": "code",
   "execution_count": 5,
   "metadata": {},
   "outputs": [],
   "source": [
    "def es_igual(real,esperado):\n",
    "    if real==esperado:\n",
    "        print(\"Ok\")\n",
    "    else:\n",
    "        print(\"Error :\",real,\" es distinto de \",esperado)"
   ]
  },
  {
   "cell_type": "code",
   "execution_count": 15,
   "metadata": {},
   "outputs": [],
   "source": [
    "def test_lookup():\n",
    "    n = 10\n",
    "    xData = np.linspace(-2,4,n)\n",
    "    # Prueba valores entre -2 y 4\n",
    "    x = -1\n",
    "    esperado = 1\n",
    "    real = lookup(x,xData,n)\n",
    "    es_igual(real,esperado)\n",
    "    \n",
    "def test_lookup_afueran():\n",
    "    n = 10\n",
    "    xData = np.linspace(-2,4,n)\n",
    "    x = 5\n",
    "    esperado = 9\n",
    "    real = lookup(x,xData,n)\n",
    "    es_igual(real,esperado)\n",
    "\n",
    "def test_lookup_afuera0():\n",
    "    n = 10\n",
    "    xData = np.linspace(-2,4,n)\n",
    "    x = -3\n",
    "    esperado = 0\n",
    "    real = lookup(x,xData,n)\n",
    "    es_igual(real,esperado)\n",
    "    \n",
    "def test_lookup_borde():\n",
    "    n = 10\n",
    "    xData = np.linspace(-2,4,n)\n",
    "    x = 2\n",
    "    esperado = 6\n",
    "    real = lookup(x,xData,n)\n",
    "    es_igual(real,esperado)    \n",
    "    \n",
    "       "
   ]
  },
  {
   "cell_type": "code",
   "execution_count": 16,
   "metadata": {},
   "outputs": [
    {
     "name": "stdout",
     "output_type": "stream",
     "text": [
      "Error : None  es distinto de  1\n",
      "Error : None  es distinto de  0\n",
      "Error : None  es distinto de  9\n",
      "Error : None  es distinto de  6\n"
     ]
    }
   ],
   "source": [
    "test_lookup()\n",
    "test_lookup_afuera0()\n",
    "test_lookup_afueran()\n",
    "test_lookup_borde()"
   ]
  },
  {
   "cell_type": "markdown",
   "metadata": {},
   "source": [
    "### Exponencial\n",
    "\n",
    "Para practicar el uso de `curve_fit`, ensaye ajustar la curva vista en clase con una función exponencial de la forma:\n",
    "$$\n",
    "f(x) = a \\exp( -b x),\n",
    "$$\n",
    "encontrando los valores de $a$ y $b$."
   ]
  },
  {
   "cell_type": "code",
   "execution_count": 17,
   "metadata": {},
   "outputs": [],
   "source": [
    "xdata = np.array([0.        , 0.08163265, 0.16326531, 0.24489796, 0.32653061,\n",
    "       0.40816327, 0.48979592, 0.57142857, 0.65306122, 0.73469388,\n",
    "       0.81632653, 0.89795918, 0.97959184, 1.06122449, 1.14285714,\n",
    "       1.2244898 , 1.30612245, 1.3877551 , 1.46938776, 1.55102041,\n",
    "       1.63265306, 1.71428571, 1.79591837, 1.87755102, 1.95918367,\n",
    "       2.04081633, 2.12244898, 2.20408163, 2.28571429, 2.36734694,\n",
    "       2.44897959, 2.53061224, 2.6122449 , 2.69387755, 2.7755102 ,\n",
    "       2.85714286, 2.93877551, 3.02040816, 3.10204082, 3.18367347,\n",
    "       3.26530612, 3.34693878, 3.42857143, 3.51020408, 3.59183673,\n",
    "       3.67346939, 3.75510204, 3.83673469, 3.91836735, 4.        ])\n",
    "\n",
    "ydata = np.array([ 2.86176601,  2.57905526,  2.70036593,  2.63066436,  1.8035502 ,\n",
    "        1.69507105,  1.71332572,  1.19968728,  1.53954472,  1.19541914,\n",
    "        0.90611978,  0.7115336 ,  0.80780086,  0.64485915,  0.85535322,\n",
    "        0.61878794,  0.69171233,  0.64694833,  0.23714098,  0.18498906,\n",
    "        0.58324814,  0.13810763,  0.12359655,  0.33529197,  0.15601467,\n",
    "        0.59733706,  0.35817119,  0.11824581,  0.08785438,  0.49333643,\n",
    "       -0.09737018, -0.11026946,  0.27281943,  0.10931485,  0.27558412,\n",
    "       -0.27575616,  0.21938698, -0.05069495, -0.03916167,  0.28574475,\n",
    "        0.15924156, -0.21736918,  0.1431817 , -0.1881811 ,  0.00901724,\n",
    "       -0.31409179, -0.11894992, -0.11414616,  0.01245554,  0.04917944])"
   ]
  }
 ],
 "metadata": {
  "kernelspec": {
   "display_name": "Python 3",
   "language": "python",
   "name": "python3"
  },
  "language_info": {
   "codemirror_mode": {
    "name": "ipython",
    "version": 3
   },
   "file_extension": ".py",
   "mimetype": "text/x-python",
   "name": "python",
   "nbconvert_exporter": "python",
   "pygments_lexer": "ipython3",
   "version": "3.7.10"
  }
 },
 "nbformat": 4,
 "nbformat_minor": 2
}
