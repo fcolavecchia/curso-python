{
 "cells": [
  {
   "cell_type": "markdown",
   "metadata": {},
   "source": [
    "# Maestría en Física Médica - Taller de Informática\n",
    "\n",
    "\n",
    "# Intermedio\n",
    "\n",
    "## Trabajo práctico 7"
   ]
  },
  {
   "cell_type": "markdown",
   "metadata": {},
   "source": [
    "### 1 Otra vez con el CBU\n",
    "\n",
    "Tome **su** ejercicio resuelto sobre la validación de CBU, y transfórmelo en un archivo `cbu.py`, que se pueda correr desde la línea de comando de Windows como\n",
    "```cmd\n",
    "python cbu.py\n",
    "```"
   ]
  },
  {
   "cell_type": "markdown",
   "metadata": {},
   "source": [
    "### 2 Hágalo usted mismo (parte 1 de 3)\n",
    "\n",
    "Muchas veces las dificultades al resolver un problema con un programa no se tratan del lenguaje de programación en sí, sino en cómo fue formulado el problema. Esto es típico en la producción de software, donde el 'problema' es planteado por un cliente, para quien el programador o desarrollador trabaja para proveer una 'solución' de software. \n",
    "\n",
    "Existen áreas enteras del conocimiento dentro de la ciencia informática que se ocupan de destilar un problema expuesto en términos de un lenguaje humano y trasladarlo a algo que pueda concebirse en términos de algoritmos y datos.\n",
    "\n",
    "Este ejercicio apunta a **enunciar** un problema, para que pueda ser resuelto con los conocimientos de Python que trabajaron hasta ahora. Es decir, el ejercicio es escribir el **enunciado de un problema**, no la resolución. Las condiciones son:\n",
    "\n",
    "- Pensar en un problema que sea posible de resolver, equivalente a los que hemos venido trabajando.\n",
    "- Utilizar algún módulo de Python. Si el módulo no está dentro de los que vimos en clase, agregue las ayudas necesarias para guiar la resolución del ejercicio.\n",
    "\n",
    "No es necesario que la temática del problema sea de la materia, piense en algo que quiera resolver y que sea de su interés.\n",
    "\n",
    "Las siguientes partes del ejercicio las plantearemos en clases sucesivas.\n",
    "\n",
    "\n",
    "\n",
    "\n"
   ]
  }
 ],
 "metadata": {
  "kernelspec": {
   "display_name": "Python 3",
   "language": "python",
   "name": "python3"
  },
  "language_info": {
   "codemirror_mode": {
    "name": "ipython",
    "version": 3
   },
   "file_extension": ".py",
   "mimetype": "text/x-python",
   "name": "python",
   "nbconvert_exporter": "python",
   "pygments_lexer": "ipython3",
   "version": "3.7.10"
  }
 },
 "nbformat": 4,
 "nbformat_minor": 2
}
