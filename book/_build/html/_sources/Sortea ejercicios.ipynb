{
 "cells": [
  {
   "cell_type": "markdown",
   "id": "0bd90682",
   "metadata": {},
   "source": [
    "## Sortea ejercicios\n",
    "\n",
    "Con algunas cosas interesantes de manejo de listas, y el aporte de `numpy.random.choice` para resolver la segunda parte del problema."
   ]
  },
  {
   "cell_type": "code",
   "execution_count": 10,
   "id": "7cbad05c",
   "metadata": {},
   "outputs": [],
   "source": [
    "import random\n",
    "import numpy as np"
   ]
  },
  {
   "cell_type": "code",
   "execution_count": 6,
   "id": "7fc509a8",
   "metadata": {},
   "outputs": [],
   "source": [
    "ejercicioxAlumno = [\"Luisa\", \"Gerardo\", \"Agustina\", \"Sharon\", \"Juana\", \"Luis\", \"Gonzalo\"]"
   ]
  },
  {
   "cell_type": "markdown",
   "id": "db93bfb1",
   "metadata": {},
   "source": [
    "Dada la lista `ejercicioxAlumno`, y un nombre de alumno, generar una lista `alumnosmenosuno` sin ese nombre de alumno."
   ]
  },
  {
   "cell_type": "code",
   "execution_count": 3,
   "id": "cb70d437",
   "metadata": {},
   "outputs": [
    {
     "name": "stdout",
     "output_type": "stream",
     "text": [
      "['Gerardo', 'Agustina', 'Sharon', 'Juana', 'Luis', 'Gonzalo']\n"
     ]
    }
   ],
   "source": [
    "# OJO!! Remove borra el elemento de la lista\n",
    "ejercicioxAlumno.remove(\"Luisa\")\n",
    "print(ejercicioxAlumno)"
   ]
  },
  {
   "cell_type": "code",
   "execution_count": 4,
   "id": "1cfd6e19",
   "metadata": {},
   "outputs": [],
   "source": [
    "def sacaAlumno(nombre,todos):\n",
    "    todos  = todos.copy()  # 'deep copy', copio la lista en todos\n",
    "    todos.remove(nombre)\n",
    "    return todos"
   ]
  },
  {
   "cell_type": "code",
   "execution_count": 7,
   "id": "72f5f59b",
   "metadata": {},
   "outputs": [
    {
     "name": "stdout",
     "output_type": "stream",
     "text": [
      "['Luisa', 'Gerardo', 'Agustina', 'Juana', 'Luis', 'Gonzalo']\n"
     ]
    }
   ],
   "source": [
    "alumnosmenosuno = sacaAlumno(\"Sharon\",ejercicioxAlumno)\n",
    "print(alumnosmenosuno)"
   ]
  },
  {
   "cell_type": "code",
   "execution_count": 8,
   "id": "e15fd068",
   "metadata": {},
   "outputs": [
    {
     "name": "stdout",
     "output_type": "stream",
     "text": [
      "['Luisa', 'Gerardo', 'Agustina', 'Sharon', 'Juana', 'Gonzalo']\n"
     ]
    }
   ],
   "source": [
    "alumnosmenosuno = sacaAlumno(\"Luis\",ejercicioxAlumno)\n",
    "print(alumnosmenosuno)"
   ]
  },
  {
   "cell_type": "markdown",
   "id": "799b9e51",
   "metadata": {},
   "source": [
    "Dado un alumno de la lista `ejercicioxAlumno`, obtener dos nombres al azar de la lista `alumnosmenosuno`."
   ]
  },
  {
   "cell_type": "code",
   "execution_count": 21,
   "id": "34866eba",
   "metadata": {},
   "outputs": [
    {
     "name": "stdout",
     "output_type": "stream",
     "text": [
      "Luisa: 2 6\n",
      "Gerardo: 7 1\n",
      "Agustina: 5 2\n",
      "Sharon: 7 5\n",
      "Juana: 7 2\n",
      "Luis: 3 5\n",
      "Gonzalo: 4 3\n"
     ]
    }
   ],
   "source": [
    "for a in ejercicioxAlumno:\n",
    "    alumnosmenosuno = sacaAlumno(a,ejercicioxAlumno)\n",
    "    ej1 = random.choice(alumnosmenosuno)\n",
    "    \n",
    "    alumnosmenosdos = sacaAlumno(ej1,alumnosmenosuno)\n",
    "    ej2 = random.choice(alumnosmenosdos)\n",
    "#     print(a,alumnosmenosuno)\n",
    "#     print(a,alumnosmenosdos)\n",
    "    print(a + \":\",ejercicioxAlumno.index(ej1)+1,ejercicioxAlumno.index(ej2)+1)    "
   ]
  },
  {
   "cell_type": "code",
   "execution_count": 20,
   "id": "3a7ec8ab",
   "metadata": {},
   "outputs": [
    {
     "name": "stdout",
     "output_type": "stream",
     "text": [
      "['Juana' 'Gonzalo']\n"
     ]
    }
   ],
   "source": [
    "ej12 = np.random.choice(ejercicioxAlumno, size=2, replace=False)\n",
    "print(ej12)"
   ]
  }
 ],
 "metadata": {
  "kernelspec": {
   "display_name": "Python 3",
   "language": "python",
   "name": "python3"
  },
  "language_info": {
   "codemirror_mode": {
    "name": "ipython",
    "version": 3
   },
   "file_extension": ".py",
   "mimetype": "text/x-python",
   "name": "python",
   "nbconvert_exporter": "python",
   "pygments_lexer": "ipython3",
   "version": "3.7.10"
  }
 },
 "nbformat": 4,
 "nbformat_minor": 5
}
