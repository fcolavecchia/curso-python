{
 "cells": [
  {
   "cell_type": "markdown",
   "metadata": {},
   "source": [
    "# Más sobre Funciones"
   ]
  },
  {
   "cell_type": "markdown",
   "metadata": {},
   "source": [
    "En la clase de hoy veremos algunos temas pendientes de la clase pasada.\n",
    "\n",
    "\n"
   ]
  },
  {
   "cell_type": "markdown",
   "metadata": {},
   "source": [
    "Para definir funciones, usamos la palabra reservada `def`. Por ejemplo, podemos definir la función que verifica si un año es o no bisiesto:"
   ]
  },
  {
   "cell_type": "code",
   "execution_count": 3,
   "metadata": {},
   "outputs": [
    {
     "name": "stdout",
     "output_type": "stream",
     "text": [
      "Ingrese anio :mil novecientos veinte\n",
      "<class 'str'>\n"
     ]
    },
    {
     "ename": "ValueError",
     "evalue": "invalid literal for int() with base 10: 'mil novecientos veinte'",
     "output_type": "error",
     "traceback": [
      "\u001b[0;31m---------------------------------------------------------------------------\u001b[0m",
      "\u001b[0;31mValueError\u001b[0m                                Traceback (most recent call last)",
      "\u001b[0;32m<ipython-input-3-7be9f3f5aec4>\u001b[0m in \u001b[0;36m<module>\u001b[0;34m\u001b[0m\n\u001b[1;32m     11\u001b[0m \u001b[0mprint\u001b[0m\u001b[0;34m(\u001b[0m\u001b[0mtype\u001b[0m\u001b[0;34m(\u001b[0m\u001b[0manio\u001b[0m\u001b[0;34m)\u001b[0m\u001b[0;34m)\u001b[0m\u001b[0;34m\u001b[0m\u001b[0;34m\u001b[0m\u001b[0m\n\u001b[1;32m     12\u001b[0m \u001b[0;31m# Esto está bien:\u001b[0m\u001b[0;34m\u001b[0m\u001b[0;34m\u001b[0m\u001b[0;34m\u001b[0m\u001b[0m\n\u001b[0;32m---> 13\u001b[0;31m \u001b[0mprint\u001b[0m\u001b[0;34m(\u001b[0m\u001b[0mes_bisiesto\u001b[0m\u001b[0;34m(\u001b[0m\u001b[0mint\u001b[0m\u001b[0;34m(\u001b[0m\u001b[0manio\u001b[0m\u001b[0;34m)\u001b[0m\u001b[0;34m)\u001b[0m\u001b[0;34m)\u001b[0m\u001b[0;34m\u001b[0m\u001b[0;34m\u001b[0m\u001b[0m\n\u001b[0m\u001b[1;32m     14\u001b[0m \u001b[0;31m# Esto no va a andar:\u001b[0m\u001b[0;34m\u001b[0m\u001b[0;34m\u001b[0m\u001b[0;34m\u001b[0m\u001b[0m\n\u001b[1;32m     15\u001b[0m \u001b[0mprint\u001b[0m\u001b[0;34m(\u001b[0m\u001b[0mes_bisiesto\u001b[0m\u001b[0;34m(\u001b[0m\u001b[0manio\u001b[0m\u001b[0;34m)\u001b[0m\u001b[0;34m)\u001b[0m\u001b[0;34m\u001b[0m\u001b[0;34m\u001b[0m\u001b[0m\n",
      "\u001b[0;31mValueError\u001b[0m: invalid literal for int() with base 10: 'mil novecientos veinte'"
     ]
    }
   ],
   "source": [
    "def es_bisiesto(anio):\n",
    "    \"\"\" Esta función determina si\n",
    "        un año es bisiesto\"\"\"\n",
    "    \n",
    "    if(anio%4 == 0 and not anio%100==0 or anio%400==0):\n",
    "        return True\n",
    "    else:\n",
    "        return False\n",
    "        \n",
    "anio = input('Ingrese anio :')    \n",
    "print(type(anio))\n",
    "# Esto está bien:\n",
    "print(es_bisiesto(int(anio)))    \n",
    "# Esto no va a andar:\n",
    "print(es_bisiesto(anio)) "
   ]
  },
  {
   "cell_type": "markdown",
   "metadata": {},
   "source": [
    "## Ejemplo"
   ]
  },
  {
   "cell_type": "markdown",
   "metadata": {},
   "source": [
    "### Pangrama\n",
    "\n",
    "Un pangrama es una frase que contiene todas las letras del abecedario. Vamos a usar el inglés, así nos evitamos los acentos y otras cuestiones del castellano. Por ejemplo\n",
    "\n",
    ">>*the quick brown fox jumps over the lazy dog*\n",
    "\n",
    "es un pangrama muy usado en la creación de *fonts*, es decir, fuentes o tipos de letra, justamente porque contiene todas las letras del abecedario.\n",
    "\n",
    "El problema es escribir una función que determine si una frase es un pangrama o no."
   ]
  },
  {
   "cell_type": "code",
   "execution_count": 29,
   "metadata": {},
   "outputs": [],
   "source": [
    "s = \"the quick brown fox jumps over the lazy dog\"\n",
    "\n",
    "\n",
    "def is_pangram(frase):\n",
    "    \n",
    "    pass\n"
   ]
  },
  {
   "cell_type": "markdown",
   "metadata": {},
   "source": [
    "## Múltiples argumentos de entrada y salida"
   ]
  },
  {
   "cell_type": "code",
   "execution_count": null,
   "metadata": {},
   "outputs": [],
   "source": [
    "def divide_seguro(x,y):\n",
    "    if(y==0):\n",
    "        return None,\"Error: y vale 0\"\n",
    "    else:\n",
    "        return x/y, \"Ok\"\n",
    "\n",
    "a = 8.2\n",
    "b = 0\n",
    "    \n",
    "cociente, result = divide_seguro(a,b)\n",
    "print(\"cociente: \",cociente,\", result:\",result)\n",
    "\n",
    "c = 2.5\n",
    "cociente, result = divide_seguro(a,c)\n",
    "print(\"cociente: \",cociente,\", result:\",result)\n",
    "    "
   ]
  },
  {
   "cell_type": "markdown",
   "metadata": {},
   "source": [
    "#### Un poco de ayuda de mis amigos\n",
    "\n",
    "La función `help` nos da ayuda sobre las funciones, ya sean del lenguaje o las que programamos, si es que tienen el `docstring` adecuado."
   ]
  },
  {
   "cell_type": "code",
   "execution_count": null,
   "metadata": {},
   "outputs": [],
   "source": [
    "help(sum)"
   ]
  },
  {
   "cell_type": "code",
   "execution_count": null,
   "metadata": {},
   "outputs": [],
   "source": [
    "help(fib)"
   ]
  },
  {
   "cell_type": "code",
   "execution_count": null,
   "metadata": {},
   "outputs": [],
   "source": [
    "help(al_cuadrado)"
   ]
  },
  {
   "cell_type": "markdown",
   "metadata": {},
   "source": [
    "## Argumentos opcionales"
   ]
  },
  {
   "cell_type": "code",
   "execution_count": 2,
   "metadata": {},
   "outputs": [
    {
     "name": "stdout",
     "output_type": "stream",
     "text": [
      "-98.0\n",
      "509.99999999999994\n",
      "-120.0\n",
      "400.0\n"
     ]
    }
   ],
   "source": [
    "def caida_libre(t, h0, v0 = 0., g=9.8):\n",
    "    \"\"\"\n",
    "    Devuelve la velocidad y la posición de una partícula en\n",
    "    caída libre para condiciones iniciales dadas\n",
    "    \n",
    "    \"\"\"\n",
    "    v = v0 - g*t\n",
    "    h = h0 - v0*t - g*t**2/2.\n",
    "  \n",
    "    return v, h\n",
    "\n",
    "v1, h1 = caida_libre(10, 1000)\n",
    "\n",
    "print(v1)\n",
    "print(h1)\n",
    "\n",
    "v1, h1 = caida_libre(10, 1000, g = 12)\n",
    "\n",
    "print(v1)\n",
    "print(h1)"
   ]
  },
  {
   "cell_type": "markdown",
   "metadata": {},
   "source": [
    "## Ámbito de las variables"
   ]
  },
  {
   "cell_type": "code",
   "execution_count": 4,
   "metadata": {},
   "outputs": [
    {
     "name": "stdout",
     "output_type": "stream",
     "text": [
      "Originalmente x vale 50\n",
      "x entró a la función con el valor 50\n",
      "El nuevo valor de x es 2\n",
      "Ahora y vale 50\n"
     ]
    }
   ],
   "source": [
    "def func1(x):\n",
    "    print('x entró a la función con el valor', x)\n",
    "    x = 2\n",
    "    print('El nuevo valor de x es', x)\n",
    "\n",
    "y = 50\n",
    "print('Originalmente x vale',y)\n",
    "func1(y)\n",
    "print('Ahora y vale',y)  "
   ]
  },
  {
   "cell_type": "code",
   "execution_count": 6,
   "metadata": {},
   "outputs": [
    {
     "name": "stdout",
     "output_type": "stream",
     "text": [
      "Originalmente x vale [50]\n",
      "x entró a la función con el valor [50]\n",
      "El nuevo valor de x es [2]\n",
      "Ahora x vale [50]\n"
     ]
    }
   ],
   "source": [
    "x = [50]\n",
    "print('Originalmente x vale',x)\n",
    "\n",
    "def func2(x):\n",
    "    print('x entró a la función con el valor', x)\n",
    "    x = [2]\n",
    "    print('El nuevo valor de x es', x)\n",
    "\n",
    "func2(x)\n",
    "print('Ahora x vale',x) "
   ]
  },
  {
   "cell_type": "code",
   "execution_count": 7,
   "metadata": {},
   "outputs": [
    {
     "name": "stdout",
     "output_type": "stream",
     "text": [
      "Originalmente x vale [50]\n",
      "x entró a la función con el valor [50]\n",
      "El nuevo valor de x es [2]\n",
      "Ahora x vale [2]\n"
     ]
    }
   ],
   "source": [
    "x = [50]\n",
    "print('Originalmente x vale',x)\n",
    "\n",
    "def func3(x):\n",
    "    print('x entró a la función con el valor', x)\n",
    "    x[0] = 2\n",
    "    print('El nuevo valor de x es', x)\n",
    "\n",
    "func3(x)\n",
    "print('Ahora x vale',x)  "
   ]
  },
  {
   "cell_type": "code",
   "execution_count": 8,
   "metadata": {},
   "outputs": [
    {
     "name": "stdout",
     "output_type": "stream",
     "text": [
      "Originalmente x vale [50]\n",
      "x entró a la función con el valor [50]\n",
      "El nuevo valor de x es lala\n",
      "Ahora x vale [50]\n"
     ]
    }
   ],
   "source": [
    "x = [50]\n",
    "print('Originalmente x vale',x)\n",
    "\n",
    "def func3(x):\n",
    "    print('x entró a la función con el valor', x)\n",
    "    x = 'lala'\n",
    "    print('El nuevo valor de x es', x)\n",
    "\n",
    "func3(x)\n",
    "print('Ahora x vale',x)  "
   ]
  },
  {
   "cell_type": "code",
   "execution_count": 9,
   "metadata": {},
   "outputs": [
    {
     "name": "stdout",
     "output_type": "stream",
     "text": [
      "Originalmente x vale [1, 2, 3, 4, 5]\n",
      "x entró a la función con el valor [1, 2, 3, 4, 5]\n",
      "El nuevo valor de x es [1, 2, 108, 4, 5]\n",
      "Ahora x vale [1, 2, 108, 4, 5]\n"
     ]
    }
   ],
   "source": [
    "x = [1,2,3,4,5]\n",
    "print('Originalmente x vale',x)\n",
    "\n",
    "def func3(x):\n",
    "    print('x entró a la función con el valor', x)\n",
    "    x[2] = 108\n",
    "    print('El nuevo valor de x es', x)\n",
    "\n",
    "func3(x)\n",
    "print('Ahora x vale',x)  "
   ]
  },
  {
   "cell_type": "markdown",
   "metadata": {},
   "source": [
    "## Algo de I/O"
   ]
  },
  {
   "cell_type": "markdown",
   "metadata": {},
   "source": [
    "Con las siglas *I/O* se hace referencia usualmente a los procedimientos de entrada y salida (del inglés, Input/Output). Esto se refiere la mayor parte de las veces a leer o escribir datos, ya sea de pantalla, archivo, etc.\n",
    "\n",
    "Ya vimos la función `print` que escribe en la pantalla. Su contrapartida es la función `input`, que permite leer datos por pantalla:"
   ]
  },
  {
   "cell_type": "code",
   "execution_count": 13,
   "metadata": {},
   "outputs": [
    {
     "name": "stdout",
     "output_type": "stream",
     "text": [
      "Ingrese algo: True\n",
      "True\n",
      "El tipo de dato ingresado es: <class 'str'>\n"
     ]
    }
   ],
   "source": [
    "algo_ingresado = input('Ingrese algo: ')\n",
    "\n",
    "print(algo_ingresado)\n",
    "print(\"El tipo de dato ingresado es:\",type(algo_ingresado))"
   ]
  },
  {
   "cell_type": "markdown",
   "metadata": {},
   "source": [
    "Al igual que la función `print`, que siempre escribe un tipo `string`, `input` siempre recibe el tipo `string`."
   ]
  },
  {
   "cell_type": "markdown",
   "metadata": {},
   "source": [
    "### Cargar y escribir archivos de texto\n",
    "\n",
    "Otra operación fundamental de I/O es la carga de datos desde archivos, y su escritura:"
   ]
  },
  {
   "cell_type": "code",
   "execution_count": 14,
   "metadata": {},
   "outputs": [
    {
     "name": "stdout",
     "output_type": "stream",
     "text": [
      "writeme es de tipo : <class '_io.TextIOWrapper'>\n"
     ]
    }
   ],
   "source": [
    "writeme = open('ejemplo.txt','w') \n",
    "# print('writeme es de tipo :',type(writeme))\n",
    "\n",
    "texto = 'Esta es la primer línea,\\nesta es la segunda\\ny esta es la tercera.'\n",
    "\n",
    "writeme.write(texto)\n",
    "\n",
    "writeme.close()"
   ]
  },
  {
   "cell_type": "code",
   "execution_count": 16,
   "metadata": {},
   "outputs": [
    {
     "name": "stdout",
     "output_type": "stream",
     "text": [
      "Esta es la primer línea,\n",
      "esta es la segunda\n",
      "y esta es la tercera.\n",
      "Esta es la cuarta línea.\n"
     ]
    }
   ],
   "source": [
    "readme = open('ejemplo.txt') \n",
    "\n",
    "texto_leido = readme.read()\n",
    "\n",
    "print(texto_leido)\n",
    "\n",
    "readme.close()"
   ]
  },
  {
   "cell_type": "code",
   "execution_count": 19,
   "metadata": {},
   "outputs": [
    {
     "name": "stdout",
     "output_type": "stream",
     "text": [
      "texto_leido: Esta es la prime\n",
      "mas_texto_leido: r línea,\n",
      "esta es la segunda\n",
      "y esta es la tercera.\n",
      "Esta es la cuarta línea.\n"
     ]
    }
   ],
   "source": [
    "readme = open('ejemplo.txt') \n",
    "\n",
    "texto_leido = readme.read(16)\n",
    "\n",
    "print('texto_leido:',texto_leido)\n",
    "\n",
    "mas_texto_leido = readme.read()\n",
    "\n",
    "print('mas_texto_leido:',mas_texto_leido)\n",
    "\n",
    "readme.close()"
   ]
  },
  {
   "cell_type": "code",
   "execution_count": 20,
   "metadata": {},
   "outputs": [
    {
     "name": "stdout",
     "output_type": "stream",
     "text": [
      "Esta es la primer línea,\n",
      "\n",
      "esta es la segunda\n",
      "\n",
      "y esta es la tercera.\n",
      "\n",
      "Esta es la cuarta línea.\n"
     ]
    }
   ],
   "source": [
    "readme = open('ejemplo.txt')\n",
    "\n",
    "for linea in readme:\n",
    "    print(linea)\n",
    "    \n",
    "readme.close() "
   ]
  },
  {
   "cell_type": "code",
   "execution_count": 22,
   "metadata": {},
   "outputs": [
    {
     "name": "stdout",
     "output_type": "stream",
     "text": [
      "<class 'list'>\n",
      "4\n",
      "['Esta es la primer línea,\\n', 'esta es la segunda\\n', 'y esta es la tercera.\\n', 'Esta es la cuarta línea.']\n",
      "Esta es la primer línea,\n",
      "\n"
     ]
    }
   ],
   "source": [
    "readme = open('ejemplo.txt')\n",
    "lineas = readme.readlines()\n",
    "\n",
    "print(type(lineas))\n",
    "print(len(lineas))\n",
    "print(lineas)\n",
    "print(lineas[0])"
   ]
  }
 ],
 "metadata": {
  "kernelspec": {
   "display_name": "Python 3",
   "language": "python",
   "name": "python3"
  },
  "language_info": {
   "codemirror_mode": {
    "name": "ipython",
    "version": 3
   },
   "file_extension": ".py",
   "mimetype": "text/x-python",
   "name": "python",
   "nbconvert_exporter": "python",
   "pygments_lexer": "ipython3",
   "version": "3.7.10"
  }
 },
 "nbformat": 4,
 "nbformat_minor": 2
}
