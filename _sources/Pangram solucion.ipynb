{
 "cells": [
  {
   "cell_type": "code",
   "execution_count": null,
   "metadata": {},
   "outputs": [],
   "source": [
    "ABCD = \"ABCDEFGHIJKLMNOPQRSTUVWXYZ\"\n",
    "abcd = ABCD.lower()\n",
    "\n",
    "s = \"the quick brown fox jumps over the lazy dog\"\n",
    "\n",
    "\n",
    "def conjunto(s):\n",
    "    output = []\n",
    "    for x in s:\n",
    "        if x not in output:\n",
    "            output.append(x)\n",
    "\n",
    "    return output\n",
    "    \n",
    "\n",
    "def is_pangram(frase):\n",
    "    s = frase.replace(\" \",\"\")\n",
    "    s = conjunto(s)\n",
    "    return s\n",
    "\n",
    "\n",
    "# Function to convert   \n",
    "def listToString(s):  \n",
    "    \n",
    "    # initialize an empty string \n",
    "    str1 = \"\" \n",
    "    \n",
    "    # return string   \n",
    "    return (str1.join(s)) \n",
    "        "
   ]
  },
  {
   "cell_type": "code",
   "execution_count": null,
   "metadata": {},
   "outputs": [],
   "source": [
    "q = conjunto(s)"
   ]
  },
  {
   "cell_type": "code",
   "execution_count": null,
   "metadata": {},
   "outputs": [],
   "source": [
    "s"
   ]
  },
  {
   "cell_type": "code",
   "execution_count": null,
   "metadata": {},
   "outputs": [],
   "source": [
    "a = is_pangram(s)\n",
    "print(a.sort())\n",
    "listToString(a)"
   ]
  },
  {
   "cell_type": "code",
   "execution_count": null,
   "metadata": {},
   "outputs": [],
   "source": [
    "set(s)"
   ]
  },
  {
   "cell_type": "code",
   "execution_count": null,
   "metadata": {},
   "outputs": [],
   "source": [
    "range('a','z')"
   ]
  }
 ],
 "metadata": {
  "kernelspec": {
   "display_name": "Python 3",
   "language": "python",
   "name": "python3"
  },
  "language_info": {
   "codemirror_mode": {
    "name": "ipython",
    "version": 3
   },
   "file_extension": ".py",
   "mimetype": "text/x-python",
   "name": "python",
   "nbconvert_exporter": "python",
   "pygments_lexer": "ipython3",
   "version": "3.7.10"
  }
 },
 "nbformat": 4,
 "nbformat_minor": 2
}
