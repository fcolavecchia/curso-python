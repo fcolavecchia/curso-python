{
 "cells": [
  {
   "cell_type": "markdown",
   "metadata": {},
   "source": [
    "\n",
    "\n",
    "\n",
    "# Funciones\n",
    "\n",
    "## Trabajo práctico 2"
   ]
  },
  {
   "cell_type": "markdown",
   "metadata": {},
   "source": [
    "### 1 Conversión de temperaturas\n",
    "\n",
    "Considere el ejercicio 1 del Trabajo Práctico 1, y escriba una función que convierta la temperatura de grados Celsius a grados Fahrenheit.\n"
   ]
  },
  {
   "cell_type": "code",
   "execution_count": null,
   "metadata": {},
   "outputs": [],
   "source": [
    "def celsius_to_fahrenheit(t_c):\n",
    "    \n",
    "    #\n",
    "    #   TO DO: Su código acá\n",
    "    #\n",
    "    \n",
    "    return t_f\n",
    "    "
   ]
  },
  {
   "cell_type": "markdown",
   "metadata": {},
   "source": [
    "### 2 El número de oro\n",
    "\n",
    "Una de las secuencias más importantes en matemática (y en el arte!) es la secuencia de Fibonacci:\n",
    "$$ f_0 = 0$$\n",
    "$$ f_1 = 1$$\n",
    "$$ f_n = f_{n-1} + f_{n-2}$$\n",
    "\n",
    "La secuencia de Fibonacci es responsable del *número de oro*:\n",
    "\n",
    "\\begin{equation}\n",
    "\\phi_n = \\frac{f_n}{f_{n-1}} \n",
    "\\label{oron} \\tag{1}\n",
    "\\end{equation}\n",
    "\n",
    "\\begin{equation}\n",
    "\\phi = \\lim_{n\\rightarrow \\infty} \\phi_n = \\frac{1 + \\sqrt{5}}{2} \n",
    "\\label{oro} \\tag{2}\n",
    "\\end{equation}\n",
    "\n",
    "Escriba otra función que calcule el número de oro, con precisión de 5 decimales. Para ello:\n",
    "\n",
    "1. Transforme la función `fib(n)` para que retorne sólo el valor de la serie de Fibonacci $f_n$, en lugar de una lista de valores.\n",
    "2. Escriba la función `golden_ratio_aprox(n)` que calcula la aproximación del número de oro de orden $n$ dada por la ecuación $\\eqref{oron}$\n",
    "3. Analice qué condición matemática tiene que cumplir $\\phi_n$ para obtener una aproximación de $\\phi$ con 5 decimales.\n",
    "4. Escriba la función `golden_ratio()` que, usando las funciones anteriores, obtiene el número de oro con precisión de 5 decimales. "
   ]
  },
  {
   "cell_type": "markdown",
   "metadata": {},
   "source": [
    "La siguente función devuelve la secuencia de Fibonacci de orden `n`:"
   ]
  },
  {
   "cell_type": "code",
   "execution_count": 1,
   "metadata": {},
   "outputs": [],
   "source": [
    "from math import *               # magia para tener sqrt\n",
    "\n",
    "golden_ratio_exacto = (1 + sqrt(5))/2\n",
    "\n",
    "def fib(n):\n",
    "    \"\"\"Devuelve una lista con los términos\n",
    "    de la serie de Fibonacci hasta n.\"\"\"\n",
    "    \n",
    "    result = [0,1]\n",
    "    i = 2\n",
    "    \n",
    "    while i < n:\n",
    "        fn = result[i-1] + result[i-2]\n",
    "        result.append(fn)\n",
    "        i = i + 1\n",
    "    \n",
    "    return result\n"
   ]
  },
  {
   "cell_type": "markdown",
   "metadata": {},
   "source": [
    "Puede usar las siguentes celdas para escribir sus funciones, reemplazando los comentarios `#` por su código. Recuerde devolver el valor con `return`, reemplazando `None` por lo que corresponda."
   ]
  },
  {
   "cell_type": "code",
   "execution_count": 2,
   "metadata": {},
   "outputs": [],
   "source": [
    "def golden_ratio_aprox(n):    \n",
    "    #\n",
    "    #   TO DO: Su código aquí\n",
    "    #\n",
    "    return None   # reemplace el valor de retorno por lo que corresponda\n"
   ]
  },
  {
   "cell_type": "code",
   "execution_count": 3,
   "metadata": {},
   "outputs": [],
   "source": [
    "def golden_ratio():    \n",
    "    #\n",
    "    #   TO DO: Su código aquí\n",
    "    #\n",
    "    return None   # reemplace el valor de retorno por lo que corresponda\n"
   ]
  },
  {
   "cell_type": "code",
   "execution_count": 5,
   "metadata": {},
   "outputs": [
    {
     "name": "stdout",
     "output_type": "stream",
     "text": [
      "Golden ratio:                1.618033988749895\n",
      "Golden ratio: (5 decimales): 1.618034 \n",
      "Aproximación de orden  1  : None\n"
     ]
    }
   ],
   "source": [
    "n = 1\n",
    "print(\"Golden ratio:               \",golden_ratio_exacto)\n",
    "print(\"Golden ratio: (5 decimales): {:5f} \".format(golden_ratio_exacto))\n",
    "\n",
    "print(\"Aproximación de orden \",n,\" :\",golden_ratio_aprox(n))\n",
    "\n",
    "\n"
   ]
  },
  {
   "cell_type": "markdown",
   "metadata": {},
   "source": [
    "### 3 Forma polar de un punto\n",
    "Consideremos un punto en un plano definido por las coordenadas cartesianas $x,y$. La forma polar del punto está definida por las ecuaciones\n",
    "\\begin{eqnarray}\n",
    "r = \\sqrt{x^2 + y^2} \\\\\n",
    "\\theta = \\arctan \\frac{y}{x}\n",
    "\\end{eqnarray}\n",
    "\n",
    "Construya la función `polar` que recibe las coordenadas cartesianas `x` e `y` de un punto, y devuelve las coordenadas polares `r` y `theta`."
   ]
  },
  {
   "attachments": {
    "Estructura_de_la_CBU.png": {
     "image/png": "[encoded data removed]"
    }
   },
   "cell_type": "markdown",
   "metadata": {},
   "source": [
    "### 4 CBU\n",
    "\n",
    "La Clave Bancaria Uniforme (CBU) es un número de 22 dígitos que se utiliza para identificar cuentas bancarias. La estructura de la clave es la siguiente:![Estructura_de_la_CBU.png](attachment:Estructura_de_la_CBU.png).\n",
    "\n",
    "El propósito de este ejercicio es construir algunas funciones para manejar CBUs. Vamos a considerar el CBU como un `string` de 22 caracteres numéricos."
   ]
  },
  {
   "cell_type": "code",
   "execution_count": 1,
   "metadata": {},
   "outputs": [],
   "source": [
    "miCBU = \"2850590940090418135201\""
   ]
  },
  {
   "cell_type": "markdown",
   "metadata": {},
   "source": [
    "#### Funciones para obtener los números de entidad, sucursal y cuenta\n",
    "\n",
    "Usando las técnicas de manejo de strings como listas de caracteres, complete las siguientes funciones:"
   ]
  },
  {
   "cell_type": "code",
   "execution_count": 2,
   "metadata": {},
   "outputs": [
    {
     "name": "stdout",
     "output_type": "stream",
     "text": [
      "2850590940090418135201\n"
     ]
    }
   ],
   "source": [
    "def entidad(cbu):\n",
    "    \"\"\" Dado un CBU como string de 22 caracteres, devuelve el string \n",
    "        correspondiente a la entidad\"\"\"\n",
    "    #\n",
    "    #   TO DO: Su código aquí\n",
    "    #\n",
    "    return None   # reemplace el valor de retorno por lo que corresponda\n"
   ]
  },
  {
   "cell_type": "code",
   "execution_count": null,
   "metadata": {},
   "outputs": [],
   "source": [
    "def sucursal(cbu):\n",
    "    \"\"\" Dado un CBU como string de 22 caracteres, devuelve el string \n",
    "        correspondiente a la sucursal\"\"\"\n",
    "    #\n",
    "    #   TO DO: Su código aquí\n",
    "    #\n",
    "    return None   # reemplace el valor de retorno por lo que corresponda\n"
   ]
  },
  {
   "cell_type": "code",
   "execution_count": null,
   "metadata": {},
   "outputs": [],
   "source": [
    "def cuenta(cbu):\n",
    "    \"\"\" Dado un CBU como string de 22 caracteres, devuelve el string \n",
    "        correspondiente a la cuenta\"\"\"\n",
    "    #\n",
    "    #   TO DO: Su código aquí\n",
    "    #\n",
    "    return None   # reemplace el valor de retorno por lo que corresponda"
   ]
  },
  {
   "cell_type": "markdown",
   "metadata": {},
   "source": [
    "#### Validación del primer bloque\n",
    "\n",
    "Los dígitos verificadores se utilizan para validar el CBU. Existen dos dígitos verificadores, como se ve en la figura anterior, cada uno correspondiente a un bloque de datos. El primer bloque lo constituyen los números de entidad y sucursal, junto con el dígito verificador:\n",
    " \n",
    " - primer bloque **28505909**\n",
    " - dígito verificador **9** (último dígito del primer bloque)\n",
    " \n",
    "La verificación se realiza a partir de un algoritmo definido por el Banco Central. El algoritmo es el siguiente: se multiplican **dígito a dígito** los dígitos del primer bloque (sin tener en cuenta el dígito verificador) por la secuencia **7139713**, y luego se suman. Siguiendo el ejemplo, tendríamos:\n",
    "\n",
    "$$ s = 2 \\times 7 + 8 \\times 1 + 5\\times3 + 0\\times9 + 5\\times7 + 9\\times1 + 0\\times3 = 81$$\n",
    "\n",
    "Luego, se toma el último dígito de dicha suma,  ( 1 en este caso), y se lo resta de **10**:\n",
    "$$ d = 10 - 1 = 9$$\n",
    "Que es justamente el dígito verificador. \n",
    "\n",
    "Si el último dígito de $s$ resultara 0, es decir $d = 10$, el CBU también es válido. El ejemplo paso a paso se encuentra en [esta página](https://es.wikipedia.org/wiki/Clave_Bancaria_Uniforme).\n",
    "\n",
    "Escriba una función `cbu_primer_bloque_es_valido` que recibe un cbu como string de 22 caracteres, y devuelve `True` si es un cbu válido, y `False` si no lo es.\n",
    "\n",
    "\n"
   ]
  },
  {
   "cell_type": "code",
   "execution_count": null,
   "metadata": {},
   "outputs": [],
   "source": [
    "def cbu_primer_bloque_es_valido(cbu):\n",
    "    \"\"\" Dado un CBU como string de 22 caracteres, devuelve \n",
    "        True: si el primer bloque del CBU es válido\n",
    "        False: si no lo es\n",
    "    \"\"\"\n",
    "    #\n",
    "    #   TO DO: Su código aquí\n",
    "    #\n",
    "    return None   # reemplace el valor de retorno por lo que corresponda"
   ]
  },
  {
   "cell_type": "markdown",
   "metadata": {},
   "source": [
    "#### Punto Bonus\n",
    "\n",
    "Resuelva la validación del segundo bloque del CBU, tal como se describe  [acá](https://es.wikipedia.org/wiki/Clave_Bancaria_Uniforme)."
   ]
  },
  {
   "cell_type": "code",
   "execution_count": 2,
   "metadata": {},
   "outputs": [
    {
     "name": "stdout",
     "output_type": "stream",
     "text": [
      "1\n"
     ]
    }
   ],
   "source": [
    "numero = \"81\"\n",
    "print(numero[-1])"
   ]
  }
 ],
 "metadata": {
  "kernelspec": {
   "display_name": "Python 3",
   "language": "python",
   "name": "python3"
  },
  "language_info": {
   "codemirror_mode": {
    "name": "ipython",
    "version": 3
   },
   "file_extension": ".py",
   "mimetype": "text/x-python",
   "name": "python",
   "nbconvert_exporter": "python",
   "pygments_lexer": "ipython3",
   "version": "3.7.10"
  }
 },
 "nbformat": 4,
 "nbformat_minor": 2
}
