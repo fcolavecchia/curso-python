{
 "cells": [
  {
   "cell_type": "markdown",
   "metadata": {},
   "source": [
    "\n",
    "\n",
    "\n",
    "# Introducción a Python\n",
    "\n",
    "## Trabajo práctico 1"
   ]
  },
  {
   "cell_type": "markdown",
   "metadata": {},
   "source": [
    "### 1 Conversión de temperaturas\n",
    "Considerar las conversiones de temperaturas de grados Celsius $T_C$  a grados Fahrenheit $T_F$:\n",
    "$$T_F = 32 + \\frac{9}{5} T_C$$\n",
    "\n",
    "a. Obtenga la temperatura de ebullición del agua en grados Fahrenheit \n",
    "\n",
    "b. Imprima una lista de la conversión de grados Celsius a Fahrenheit entre 0 y 200 grados, a intervalos de 10 grados \n",
    "\n"
   ]
  },
  {
   "cell_type": "markdown",
   "metadata": {},
   "source": [
    "### 2 Loops\n",
    "Encuentre todos los números enteros, entre 2000 y 3000 (incluídos), que sean divisibles por 7, pero que no sean múltiplos de 5. La función debe imprimir los números encontrados en una sola línea, separados por comas."
   ]
  },
  {
   "cell_type": "markdown",
   "metadata": {},
   "source": [
    "### 3 Años bisiestos\n",
    "Los años bisiestos son aquellos años que son múltiplos de 4, excepto que sea un *año secular*, es decir, que termine con `00`. En este caso, también el año debe ser divisible por 400.\n",
    "\n",
    "Escriba un algoritmo que dada la variable `anio` conteniendo un año, informe si dicho año es o no bisiesto."
   ]
  },
  {
   "cell_type": "code",
   "execution_count": null,
   "metadata": {},
   "outputs": [],
   "source": []
  }
 ],
 "metadata": {
  "kernelspec": {
   "display_name": "Python 3",
   "language": "python",
   "name": "python3"
  },
  "language_info": {
   "codemirror_mode": {
    "name": "ipython",
    "version": 3
   },
   "file_extension": ".py",
   "mimetype": "text/x-python",
   "name": "python",
   "nbconvert_exporter": "python",
   "pygments_lexer": "ipython3",
   "version": "3.7.2"
  }
 },
 "nbformat": 4,
 "nbformat_minor": 2
}
