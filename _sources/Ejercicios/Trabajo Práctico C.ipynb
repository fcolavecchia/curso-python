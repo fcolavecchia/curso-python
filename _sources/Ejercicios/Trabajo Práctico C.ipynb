{
 "cells": [
  {
   "cell_type": "markdown",
   "metadata": {},
   "source": [
    "\n",
    "\n",
    "\n",
    "# Ejercicios varios\n",
    "\n",
    "## Trabajo práctico C"
   ]
  },
  {
   "cell_type": "markdown",
   "metadata": {},
   "source": [
    "En cada ejercicio se indica qué lenguajes se pueden utilizar para resolverlo."
   ]
  },
  {
   "cell_type": "markdown",
   "metadata": {},
   "source": [
    "### 1 Préstamo\n",
    "\n",
    " *Python, C*\n",
    "\n",
    "Considere que solicita un préstamo de un capital de $C$ pesos a una tasa nominal anual (TNA) de $t$\\% por un período de $m$ meses. Escriba funciones para calcular el valor mensual de la cuota, la tasa efectiva anual (TEA) y el costo financiero total, suponiendo que cada cuota tiene un cargo extra del 21% de IVA.\n"
   ]
  },
  {
   "cell_type": "markdown",
   "metadata": {},
   "source": [
    "### 2 Números naturales arbitrarios\n",
    "\n",
    " *Python, C*\n",
    "\n",
    "Considere la representación de números naturales de longitud arbitraria en una lista, de manera tal que cada elemento de la lista es sólo un dígito del 0 al 9. Por ejemplo:\n",
    "\n"
   ]
  },
  {
   "cell_type": "code",
   "execution_count": null,
   "metadata": {},
   "outputs": [],
   "source": [
    "### Representación del número 2345938\n",
    "a = [2,3,4,5,9,3,8]"
   ]
  },
  {
   "cell_type": "markdown",
   "metadata": {},
   "source": [
    "Escriba funciones que permitan\n",
    "- Traducir un número entero en una variable a su representación como lista\n",
    "- La inversa de la función anterior, traducir la representación de lista a número\n",
    "- una función que permita sumar dos números representados como listas (Ayuda: posiblemente resulte conveniente hacer una función que sume números de un dígito representados como listas. Tenga en cuenta el acarreo: [2] + [9] = [1,1]"
   ]
  },
  {
   "cell_type": "markdown",
   "metadata": {},
   "source": [
    "### 3 Conjetura de Goldbach\n",
    "\n",
    " *Python, C*\n",
    "\n",
    "La conjetura de Goldbach establece que todo número natural par (mayor a 4) puede escribirse como la suma de dos números primos. La partición de Goldbach es el conjunto de todos los pares de números primos en los que se puede descomponer un número natural par. Por ejemplo\n",
    "\n",
    "$$10 = 3 + 7 = 5 + 5$$\n",
    "\n",
    "con lo cual, la partición de Goldbach es el conjunto de pares:\n",
    "\n",
    "$$G = \\{ (3,7) , (5,5) \\}$$\n",
    "\n",
    "Dado un número par mayor a cuatro $n$, escriba\n",
    "- Una función que determine los números primos menores a dicho $n$.\n",
    "- Una función que devuelva una lista de pares de números que constituyan la partición de Goldbach.\n",
    "\n"
   ]
  },
  {
   "cell_type": "markdown",
   "metadata": {},
   "source": [
    "### 4 Ganancias en la bolsa\n",
    "\n",
    " *Python, C*\n",
    "\n",
    "Considere una lista de valores que corresponden al precio de una acción en la Bolsa de valores a lo largo de una semana, por ejemplo:\n",
    "\n",
    "[7.91, 8.26, 8.37, 8.61, 8.19, 8.33]\n",
    "\n",
    "Encuentre la ganancia máxima que se puede obtener en una sola transacción, comprando la acción y luego vendiéndola.\n"
   ]
  },
  {
   "cell_type": "markdown",
   "metadata": {},
   "source": [
    "### 5 Centigrados a Fahrenheit, `numpy` style\n",
    "\n",
    "*Python*\n",
    "\n",
    "Transforme el código que convierte grados centígrados a Fahrenheit, utilizando arrays de `numpy`.\n",
    "\n"
   ]
  },
  {
   "cell_type": "markdown",
   "metadata": {},
   "source": [
    "### 6 Rotar un array\n",
    "\n",
    "*C*\n",
    "\n",
    "Considere un arreglo de números enteros. Escriba un programa que rote el arreglo hacia la izquierda. Esto es, si el arreglo es\n",
    "\n",
    "$$3,4,8,7$$\n",
    "\n",
    "el arreglo rotado a izquierda es\n",
    "\n",
    "$$4,8,7,3.$$\n",
    "\n",
    "Haga lo mismo para una rotación a derecha. Y otro programa para invertir el orden del arreglo.\n",
    "\n"
   ]
  },
  {
   "cell_type": "markdown",
   "metadata": {},
   "source": [
    "### 7 Números perfectos\n",
    "\n",
    "*Python, C*\n",
    "\n",
    "Un número es perfecto si es igual a la suma de sus divisores. Escriba funciones para \n",
    "\n",
    "- obtener los divisores de un número, y \n",
    "- determinar si un número es perfecto o no.\n",
    "\n",
    "Ejemplos de números perfectos: 6, 28, 496, 8128."
   ]
  },
  {
   "cell_type": "markdown",
   "metadata": {},
   "source": [
    "### 8 Punteros \n",
    "\n",
    "*C* \n",
    "\n",
    "Escriba funciones en C que:\n",
    "- sume dos números enteros, pasados por valor.\n",
    "- sume dos números enteros, pasados por referencia.\n",
    "- sume dos números enteros, pasados como punteros.\n"
   ]
  },
  {
   "cell_type": "markdown",
   "metadata": {},
   "source": [
    "### 9 Punteros y arrays\n",
    "\n",
    "*C*\n",
    "\n",
    "Escriba funciones que realicen las operaciones sobre arrays del ejercicio 6, usando punteros."
   ]
  },
  {
   "attachments": {
    "knight%20moves.gif": {
     "image/gif": "[encoded data removed]"
    }
   },
   "cell_type": "markdown",
   "metadata": {},
   "source": [
    "### 10 El tour del caballo\n",
    "\n",
    "*Python,C*\n",
    "\n",
    "Realice un programa que resuelva el *Tour del caballo*, que consiste en el recorrido que realiza el caballo de ajedrez por un tablero vacío, visitando una y sólo una vez cada casilla.\n",
    "\n",
    "Para ello tenga en cuenta cómo se mueve el caballo:\n",
    "\n",
    "![knight%20moves.gif](attachment:knight%20moves.gif)\n",
    "\n",
    "En la figura, el caballo en la posición 4e puede moverse a las posiciones señaladas en rojo:\n",
    "\n",
    "6d,6f,5c,5g,3c,3g,2d,2f\n",
    "\n",
    "El objetivo del código es obtener al menos una secuencia que resuelva el problema (el número de secuencias para el tablero de 8x8 es de 19.591.828.170.979.904, basta que encuentre UNA!). \n",
    "\n",
    "Empiece por pensar cómo va a representar el tablero y sus posiciones, qué funciones conviene escribir para describir el movimiento del caballo, y qué estructura de datos usar para guardar el recorrido que va haciendo el caballo por el tablero.\n",
    "\n",
    "Ayuda: Se recomienda utilizar un tablero de 6x6 para realizar las pruebas del código.\n",
    "\n",
    "\n",
    "\n"
   ]
  }
 ],
 "metadata": {
  "kernelspec": {
   "display_name": "Python 3",
   "language": "python",
   "name": "python3"
  },
  "language_info": {
   "codemirror_mode": {
    "name": "ipython",
    "version": 3
   },
   "file_extension": ".py",
   "mimetype": "text/x-python",
   "name": "python",
   "nbconvert_exporter": "python",
   "pygments_lexer": "ipython3",
   "version": "3.7.10"
  }
 },
 "nbformat": 4,
 "nbformat_minor": 4
}
